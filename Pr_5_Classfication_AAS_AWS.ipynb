{
 "cells": [
  {
   "cell_type": "code",
   "execution_count": null,
   "metadata": {
    "collapsed": true
   },
   "outputs": [],
   "source": [
    "Classification"
   ]
  },
  {
   "cell_type": "code",
   "execution_count": 3,
   "metadata": {
    "collapsed": false,
    "scrolled": false
   },
   "outputs": [
    {
     "data": {
      "text/plain": [
       "'Code'"
      ]
     },
     "execution_count": 3,
     "metadata": {},
     "output_type": "execute_result"
    }
   ],
   "source": [
    "# set product key\n",
    "import graphlab\n",
    "#graphlab.product_key.set_product_key\n",
    "\n",
    "# output active product key\n",
    "graphlab.product_key.get_product_key()"
   ]
  },
  {
   "cell_type": "code",
   "execution_count": 30,
   "metadata": {
    "collapsed": false
   },
   "outputs": [
    {
     "data": {
      "text/html": [
       "<pre>Finished parsing file /home/ubuntu/coursera-notebooks/course-1/Industrial_&_Scientific.csv</pre>"
      ],
      "text/plain": [
       "Finished parsing file /home/ubuntu/coursera-notebooks/course-1/Industrial_&_Scientific.csv"
      ]
     },
     "metadata": {},
     "output_type": "display_data"
    },
    {
     "data": {
      "text/html": [
       "<pre>Parsing completed. Parsed 100 lines in 0.02744 secs.</pre>"
      ],
      "text/plain": [
       "Parsing completed. Parsed 100 lines in 0.02744 secs."
      ]
     },
     "metadata": {},
     "output_type": "display_data"
    },
    {
     "data": {
      "text/html": [
       "<pre>Finished parsing file /home/ubuntu/coursera-notebooks/course-1/Industrial_&_Scientific.csv</pre>"
      ],
      "text/plain": [
       "Finished parsing file /home/ubuntu/coursera-notebooks/course-1/Industrial_&_Scientific.csv"
      ]
     },
     "metadata": {},
     "output_type": "display_data"
    },
    {
     "data": {
      "text/html": [
       "<pre>Parsing completed. Parsed 572 lines in 0.022297 secs.</pre>"
      ],
      "text/plain": [
       "Parsing completed. Parsed 572 lines in 0.022297 secs."
      ]
     },
     "metadata": {},
     "output_type": "display_data"
    },
    {
     "name": "stdout",
     "output_type": "stream",
     "text": [
      "------------------------------------------------------\n",
      "Inferred types from first 100 line(s) of file as \n",
      "column_type_hints=[str,str,str,str,str,str,float,int,str,str]\n",
      "If parsing fails due to incorrect types, you can correct\n",
      "the inferred type list above and pass it to read_csv in\n",
      "the column_type_hints argument\n",
      "------------------------------------------------------\n"
     ]
    }
   ],
   "source": [
    "products = graphlab.SFrame('Industrial_&_Scientific.csv')"
   ]
  },
  {
   "cell_type": "code",
   "execution_count": 5,
   "metadata": {
    "collapsed": false
   },
   "outputs": [
    {
     "data": {
      "text/html": [
       "<div style=\"max-height:1000px;max-width:1500px;overflow:auto;\"><table frame=\"box\" rules=\"cols\">\n",
       "    <tr>\n",
       "        <th style=\"padding-left: 1em; padding-right: 1em; text-align: center\">﻿productId</th>\n",
       "        <th style=\"padding-left: 1em; padding-right: 1em; text-align: center\">title</th>\n",
       "        <th style=\"padding-left: 1em; padding-right: 1em; text-align: center\">price</th>\n",
       "        <th style=\"padding-left: 1em; padding-right: 1em; text-align: center\">userId</th>\n",
       "        <th style=\"padding-left: 1em; padding-right: 1em; text-align: center\">profileName</th>\n",
       "        <th style=\"padding-left: 1em; padding-right: 1em; text-align: center\">helpfulness</th>\n",
       "        <th style=\"padding-left: 1em; padding-right: 1em; text-align: center\">score</th>\n",
       "    </tr>\n",
       "    <tr>\n",
       "        <td style=\"padding-left: 1em; padding-right: 1em; text-align: center; vertical-align: top\">B000H9LE4U</td>\n",
       "        <td style=\"padding-left: 1em; padding-right: 1em; text-align: center; vertical-align: top\">Copper 122-H04 Hard Drawn<br>Round Tubing, ASTM B75, ...</td>\n",
       "        <td style=\"padding-left: 1em; padding-right: 1em; text-align: center; vertical-align: top\">22.14</td>\n",
       "        <td style=\"padding-left: 1em; padding-right: 1em; text-align: center; vertical-align: top\">ABWHUEYK6JTPP</td>\n",
       "        <td style=\"padding-left: 1em; padding-right: 1em; text-align: center; vertical-align: top\">Robert Campbell</td>\n",
       "        <td style=\"padding-left: 1em; padding-right: 1em; text-align: center; vertical-align: top\">0/0</td>\n",
       "        <td style=\"padding-left: 1em; padding-right: 1em; text-align: center; vertical-align: top\">1.0</td>\n",
       "    </tr>\n",
       "    <tr>\n",
       "        <td style=\"padding-left: 1em; padding-right: 1em; text-align: center; vertical-align: top\">B000LDNH8I</td>\n",
       "        <td style=\"padding-left: 1em; padding-right: 1em; text-align: center; vertical-align: top\">Bacharach 0012-7012 Sling<br>Psychrometer, 25?F to ...</td>\n",
       "        <td style=\"padding-left: 1em; padding-right: 1em; text-align: center; vertical-align: top\">84.99</td>\n",
       "        <td style=\"padding-left: 1em; padding-right: 1em; text-align: center; vertical-align: top\">A19Y7ZIICAKM48</td>\n",
       "        <td style=\"padding-left: 1em; padding-right: 1em; text-align: center; vertical-align: top\">T Foley \"computer guy\"</td>\n",
       "        <td style=\"padding-left: 1em; padding-right: 1em; text-align: center; vertical-align: top\">3/3</td>\n",
       "        <td style=\"padding-left: 1em; padding-right: 1em; text-align: center; vertical-align: top\">5.0</td>\n",
       "    </tr>\n",
       "    <tr>\n",
       "        <td style=\"padding-left: 1em; padding-right: 1em; text-align: center; vertical-align: top\">B000LDNH8I</td>\n",
       "        <td style=\"padding-left: 1em; padding-right: 1em; text-align: center; vertical-align: top\">Bacharach 0012-7012 Sling<br>Psychrometer, 25?F to ...</td>\n",
       "        <td style=\"padding-left: 1em; padding-right: 1em; text-align: center; vertical-align: top\">84.99</td>\n",
       "        <td style=\"padding-left: 1em; padding-right: 1em; text-align: center; vertical-align: top\">A3683PMJPFMAAS</td>\n",
       "        <td style=\"padding-left: 1em; padding-right: 1em; text-align: center; vertical-align: top\">Spencer L. Cullen</td>\n",
       "        <td style=\"padding-left: 1em; padding-right: 1em; text-align: center; vertical-align: top\">1/1</td>\n",
       "        <td style=\"padding-left: 1em; padding-right: 1em; text-align: center; vertical-align: top\">5.0</td>\n",
       "    </tr>\n",
       "    <tr>\n",
       "        <td style=\"padding-left: 1em; padding-right: 1em; text-align: center; vertical-align: top\">B000H9LE5Y</td>\n",
       "        <td style=\"padding-left: 1em; padding-right: 1em; text-align: center; vertical-align: top\">316 Stainless Steel<br>Angle, Meets ASTM A276 ...</td>\n",
       "        <td style=\"padding-left: 1em; padding-right: 1em; text-align: center; vertical-align: top\">108.90</td>\n",
       "        <td style=\"padding-left: 1em; padding-right: 1em; text-align: center; vertical-align: top\">A10LMOKUO57BUJ</td>\n",
       "        <td style=\"padding-left: 1em; padding-right: 1em; text-align: center; vertical-align: top\">Kenneth W. Rohla \"Fresh<br>And Alive\" ...</td>\n",
       "        <td style=\"padding-left: 1em; padding-right: 1em; text-align: center; vertical-align: top\">0/0</td>\n",
       "        <td style=\"padding-left: 1em; padding-right: 1em; text-align: center; vertical-align: top\">4.0</td>\n",
       "    </tr>\n",
       "    <tr>\n",
       "        <td style=\"padding-left: 1em; padding-right: 1em; text-align: center; vertical-align: top\">B000F9ANQW</td>\n",
       "        <td style=\"padding-left: 1em; padding-right: 1em; text-align: center; vertical-align: top\">Neiko 10-Piece Alloy<br>Screw Extractor Solid ...</td>\n",
       "        <td style=\"padding-left: 1em; padding-right: 1em; text-align: center; vertical-align: top\">12.39</td>\n",
       "        <td style=\"padding-left: 1em; padding-right: 1em; text-align: center; vertical-align: top\">AT7NTUUE9BSML</td>\n",
       "        <td style=\"padding-left: 1em; padding-right: 1em; text-align: center; vertical-align: top\">S. Zuercher \"just your<br>average college dude\" ...</td>\n",
       "        <td style=\"padding-left: 1em; padding-right: 1em; text-align: center; vertical-align: top\">5/5</td>\n",
       "        <td style=\"padding-left: 1em; padding-right: 1em; text-align: center; vertical-align: top\">1.0</td>\n",
       "    </tr>\n",
       "    <tr>\n",
       "        <td style=\"padding-left: 1em; padding-right: 1em; text-align: center; vertical-align: top\">B000F9ANQW</td>\n",
       "        <td style=\"padding-left: 1em; padding-right: 1em; text-align: center; vertical-align: top\">Neiko 10-Piece Alloy<br>Screw Extractor Solid ...</td>\n",
       "        <td style=\"padding-left: 1em; padding-right: 1em; text-align: center; vertical-align: top\">12.39</td>\n",
       "        <td style=\"padding-left: 1em; padding-right: 1em; text-align: center; vertical-align: top\">A2JR8LS8OIXHV3</td>\n",
       "        <td style=\"padding-left: 1em; padding-right: 1em; text-align: center; vertical-align: top\">Robert O. Harris \"Chrome<br>Industry\" ...</td>\n",
       "        <td style=\"padding-left: 1em; padding-right: 1em; text-align: center; vertical-align: top\">3/3</td>\n",
       "        <td style=\"padding-left: 1em; padding-right: 1em; text-align: center; vertical-align: top\">4.0</td>\n",
       "    </tr>\n",
       "    <tr>\n",
       "        <td style=\"padding-left: 1em; padding-right: 1em; text-align: center; vertical-align: top\">B000F9ANQW</td>\n",
       "        <td style=\"padding-left: 1em; padding-right: 1em; text-align: center; vertical-align: top\">Neiko 10-Piece Alloy<br>Screw Extractor Solid ...</td>\n",
       "        <td style=\"padding-left: 1em; padding-right: 1em; text-align: center; vertical-align: top\">12.39</td>\n",
       "        <td style=\"padding-left: 1em; padding-right: 1em; text-align: center; vertical-align: top\">A5PZBUBIB0KZ</td>\n",
       "        <td style=\"padding-left: 1em; padding-right: 1em; text-align: center; vertical-align: top\">Semaj</td>\n",
       "        <td style=\"padding-left: 1em; padding-right: 1em; text-align: center; vertical-align: top\">2/2</td>\n",
       "        <td style=\"padding-left: 1em; padding-right: 1em; text-align: center; vertical-align: top\">3.0</td>\n",
       "    </tr>\n",
       "    <tr>\n",
       "        <td style=\"padding-left: 1em; padding-right: 1em; text-align: center; vertical-align: top\">B000F9ANQW</td>\n",
       "        <td style=\"padding-left: 1em; padding-right: 1em; text-align: center; vertical-align: top\">Neiko 10-Piece Alloy<br>Screw Extractor Solid ...</td>\n",
       "        <td style=\"padding-left: 1em; padding-right: 1em; text-align: center; vertical-align: top\">12.39</td>\n",
       "        <td style=\"padding-left: 1em; padding-right: 1em; text-align: center; vertical-align: top\">A3PLL5ODHZAU4A</td>\n",
       "        <td style=\"padding-left: 1em; padding-right: 1em; text-align: center; vertical-align: top\">M. Kodama</td>\n",
       "        <td style=\"padding-left: 1em; padding-right: 1em; text-align: center; vertical-align: top\">1/1</td>\n",
       "        <td style=\"padding-left: 1em; padding-right: 1em; text-align: center; vertical-align: top\">3.0</td>\n",
       "    </tr>\n",
       "    <tr>\n",
       "        <td style=\"padding-left: 1em; padding-right: 1em; text-align: center; vertical-align: top\">B000F9ANQW</td>\n",
       "        <td style=\"padding-left: 1em; padding-right: 1em; text-align: center; vertical-align: top\">Neiko 10-Piece Alloy<br>Screw Extractor Solid ...</td>\n",
       "        <td style=\"padding-left: 1em; padding-right: 1em; text-align: center; vertical-align: top\">12.39</td>\n",
       "        <td style=\"padding-left: 1em; padding-right: 1em; text-align: center; vertical-align: top\">A7CRJ48JQZGVY</td>\n",
       "        <td style=\"padding-left: 1em; padding-right: 1em; text-align: center; vertical-align: top\">Scott X. Nguyen \"ocman\"</td>\n",
       "        <td style=\"padding-left: 1em; padding-right: 1em; text-align: center; vertical-align: top\">0/0</td>\n",
       "        <td style=\"padding-left: 1em; padding-right: 1em; text-align: center; vertical-align: top\">1.0</td>\n",
       "    </tr>\n",
       "    <tr>\n",
       "        <td style=\"padding-left: 1em; padding-right: 1em; text-align: center; vertical-align: top\">B000F9ANQW</td>\n",
       "        <td style=\"padding-left: 1em; padding-right: 1em; text-align: center; vertical-align: top\">Neiko 10-Piece Alloy<br>Screw Extractor Solid ...</td>\n",
       "        <td style=\"padding-left: 1em; padding-right: 1em; text-align: center; vertical-align: top\">12.39</td>\n",
       "        <td style=\"padding-left: 1em; padding-right: 1em; text-align: center; vertical-align: top\">A32X2KPT5D33WZ</td>\n",
       "        <td style=\"padding-left: 1em; padding-right: 1em; text-align: center; vertical-align: top\">trev</td>\n",
       "        <td style=\"padding-left: 1em; padding-right: 1em; text-align: center; vertical-align: top\">0/0</td>\n",
       "        <td style=\"padding-left: 1em; padding-right: 1em; text-align: center; vertical-align: top\">4.0</td>\n",
       "    </tr>\n",
       "</table>\n",
       "<table frame=\"box\" rules=\"cols\">\n",
       "    <tr>\n",
       "        <th style=\"padding-left: 1em; padding-right: 1em; text-align: center\">time</th>\n",
       "        <th style=\"padding-left: 1em; padding-right: 1em; text-align: center\">summary</th>\n",
       "        <th style=\"padding-left: 1em; padding-right: 1em; text-align: center\">text</th>\n",
       "    </tr>\n",
       "    <tr>\n",
       "        <td style=\"padding-left: 1em; padding-right: 1em; text-align: center; vertical-align: top\">1339113600</td>\n",
       "        <td style=\"padding-left: 1em; padding-right: 1em; text-align: center; vertical-align: top\">Either 1 or 5 Stars.<br>Depends on how you look ...</td>\n",
       "        <td style=\"padding-left: 1em; padding-right: 1em; text-align: center; vertical-align: top\">Either 1 or 5 Stars.<br>Depends on how you look ...</td>\n",
       "    </tr>\n",
       "    <tr>\n",
       "        <td style=\"padding-left: 1em; padding-right: 1em; text-align: center; vertical-align: top\">1248307200</td>\n",
       "        <td style=\"padding-left: 1em; padding-right: 1em; text-align: center; vertical-align: top\">I recommend this Sling<br>Psychrometer ...</td>\n",
       "        <td style=\"padding-left: 1em; padding-right: 1em; text-align: center; vertical-align: top\">Not too much to say. This<br>instrument is well bu ...</td>\n",
       "    </tr>\n",
       "    <tr>\n",
       "        <td style=\"padding-left: 1em; padding-right: 1em; text-align: center; vertical-align: top\">1335398400</td>\n",
       "        <td style=\"padding-left: 1em; padding-right: 1em; text-align: center; vertical-align: top\">A very useful tool</td>\n",
       "        <td style=\"padding-left: 1em; padding-right: 1em; text-align: center; vertical-align: top\">Very good product. Got my<br>as a gift a few years ...</td>\n",
       "    </tr>\n",
       "    <tr>\n",
       "        <td style=\"padding-left: 1em; padding-right: 1em; text-align: center; vertical-align: top\">1357776000</td>\n",
       "        <td style=\"padding-left: 1em; padding-right: 1em; text-align: center; vertical-align: top\">Good Price, Fast<br>Shipping, Rusts If It ...</td>\n",
       "        <td style=\"padding-left: 1em; padding-right: 1em; text-align: center; vertical-align: top\">I ordered this angle iron<br>for an outdoor ...</td>\n",
       "    </tr>\n",
       "    <tr>\n",
       "        <td style=\"padding-left: 1em; padding-right: 1em; text-align: center; vertical-align: top\">1218672000</td>\n",
       "        <td style=\"padding-left: 1em; padding-right: 1em; text-align: center; vertical-align: top\">Cheaply made</td>\n",
       "        <td style=\"padding-left: 1em; padding-right: 1em; text-align: center; vertical-align: top\">First time I tried the<br>extractor, it busted off ...</td>\n",
       "    </tr>\n",
       "    <tr>\n",
       "        <td style=\"padding-left: 1em; padding-right: 1em; text-align: center; vertical-align: top\">1285286400</td>\n",
       "        <td style=\"padding-left: 1em; padding-right: 1em; text-align: center; vertical-align: top\">Don't move, vibrate, tilt<br>or press too hard... ...</td>\n",
       "        <td style=\"padding-left: 1em; padding-right: 1em; text-align: center; vertical-align: top\">I use these at my<br>automotive school, ...</td>\n",
       "    </tr>\n",
       "    <tr>\n",
       "        <td style=\"padding-left: 1em; padding-right: 1em; text-align: center; vertical-align: top\">1281571200</td>\n",
       "        <td style=\"padding-left: 1em; padding-right: 1em; text-align: center; vertical-align: top\">Mediocre product</td>\n",
       "        <td style=\"padding-left: 1em; padding-right: 1em; text-align: center; vertical-align: top\">I ordered these with high<br>hopes that they would do ...</td>\n",
       "    </tr>\n",
       "    <tr>\n",
       "        <td style=\"padding-left: 1em; padding-right: 1em; text-align: center; vertical-align: top\">1311724800</td>\n",
       "        <td style=\"padding-left: 1em; padding-right: 1em; text-align: center; vertical-align: top\">Great value, does the<br>job, marginal quality. ...</td>\n",
       "        <td style=\"padding-left: 1em; padding-right: 1em; text-align: center; vertical-align: top\">I think I'm very good<br>about preventing rounded ...</td>\n",
       "    </tr>\n",
       "    <tr>\n",
       "        <td style=\"padding-left: 1em; padding-right: 1em; text-align: center; vertical-align: top\">1356566400</td>\n",
       "        <td style=\"padding-left: 1em; padding-right: 1em; text-align: center; vertical-align: top\">Cheap material</td>\n",
       "        <td style=\"padding-left: 1em; padding-right: 1em; text-align: center; vertical-align: top\">This tool is made of<br>cheap material and never ...</td>\n",
       "    </tr>\n",
       "    <tr>\n",
       "        <td style=\"padding-left: 1em; padding-right: 1em; text-align: center; vertical-align: top\">1353283200</td>\n",
       "        <td style=\"padding-left: 1em; padding-right: 1em; text-align: center; vertical-align: top\">These are cobalt bits for<br>a great price. ...</td>\n",
       "        <td style=\"padding-left: 1em; padding-right: 1em; text-align: center; vertical-align: top\">The true test for The<br>bits was drilling ...</td>\n",
       "    </tr>\n",
       "</table>\n",
       "[10 rows x 10 columns]<br/>\n",
       "</div>"
      ],
      "text/plain": [
       "Columns:\n",
       "\t﻿productId\tstr\n",
       "\ttitle\tstr\n",
       "\tprice\tstr\n",
       "\tuserId\tstr\n",
       "\tprofileName\tstr\n",
       "\thelpfulness\tstr\n",
       "\tscore\tfloat\n",
       "\ttime\tint\n",
       "\tsummary\tstr\n",
       "\ttext\tstr\n",
       "\n",
       "Rows: 10\n",
       "\n",
       "Data:\n",
       "+------------+-------------------------------+--------+----------------+\n",
       "| ﻿productId |             title             | price  |     userId     |\n",
       "+------------+-------------------------------+--------+----------------+\n",
       "| B000H9LE4U | Copper 122-H04 Hard Drawn ... | 22.14  | ABWHUEYK6JTPP  |\n",
       "| B000LDNH8I | Bacharach 0012-7012 Sling ... | 84.99  | A19Y7ZIICAKM48 |\n",
       "| B000LDNH8I | Bacharach 0012-7012 Sling ... | 84.99  | A3683PMJPFMAAS |\n",
       "| B000H9LE5Y | 316 Stainless Steel Angle,... | 108.90 | A10LMOKUO57BUJ |\n",
       "| B000F9ANQW | Neiko 10-Piece Alloy Screw... | 12.39  | AT7NTUUE9BSML  |\n",
       "| B000F9ANQW | Neiko 10-Piece Alloy Screw... | 12.39  | A2JR8LS8OIXHV3 |\n",
       "| B000F9ANQW | Neiko 10-Piece Alloy Screw... | 12.39  |  A5PZBUBIB0KZ  |\n",
       "| B000F9ANQW | Neiko 10-Piece Alloy Screw... | 12.39  | A3PLL5ODHZAU4A |\n",
       "| B000F9ANQW | Neiko 10-Piece Alloy Screw... | 12.39  | A7CRJ48JQZGVY  |\n",
       "| B000F9ANQW | Neiko 10-Piece Alloy Screw... | 12.39  | A32X2KPT5D33WZ |\n",
       "+------------+-------------------------------+--------+----------------+\n",
       "+-------------------------------+-------------+-------+------------+\n",
       "|          profileName          | helpfulness | score |    time    |\n",
       "+-------------------------------+-------------+-------+------------+\n",
       "|        Robert Campbell        |     0/0     |  1.0  | 1339113600 |\n",
       "|     T Foley \"computer guy\"    |     3/3     |  5.0  | 1248307200 |\n",
       "|       Spencer L. Cullen       |     1/1     |  5.0  | 1335398400 |\n",
       "| Kenneth W. Rohla \"Fresh An... |     0/0     |  4.0  | 1357776000 |\n",
       "| S. Zuercher \"just your ave... |     5/5     |  1.0  | 1218672000 |\n",
       "| Robert O. Harris \"Chrome I... |     3/3     |  4.0  | 1285286400 |\n",
       "|             Semaj             |     2/2     |  3.0  | 1281571200 |\n",
       "|           M. Kodama           |     1/1     |  3.0  | 1311724800 |\n",
       "|    Scott X. Nguyen \"ocman\"    |     0/0     |  1.0  | 1356566400 |\n",
       "|              trev             |     0/0     |  4.0  | 1353283200 |\n",
       "+-------------------------------+-------------+-------+------------+\n",
       "+-------------------------------+-------------------------------+\n",
       "|            summary            |              text             |\n",
       "+-------------------------------+-------------------------------+\n",
       "| Either 1 or 5 Stars. Depen... | Either 1 or 5 Stars. Depen... |\n",
       "| I recommend this Sling Psy... | Not too much to say. This ... |\n",
       "|       A very useful tool      | Very good product. Got my ... |\n",
       "| Good Price, Fast Shipping,... | I ordered this angle iron ... |\n",
       "|          Cheaply made         | First time I tried the ext... |\n",
       "| Don't move, vibrate, tilt ... | I use these at my automoti... |\n",
       "|        Mediocre product       | I ordered these with high ... |\n",
       "| Great value, does the job,... | I think I'm very good abou... |\n",
       "|         Cheap material        | This tool is made of cheap... |\n",
       "| These are cobalt bits for ... | The true test for The bits... |\n",
       "+-------------------------------+-------------------------------+\n",
       "[10 rows x 10 columns]"
      ]
     },
     "execution_count": 5,
     "metadata": {},
     "output_type": "execute_result"
    }
   ],
   "source": [
    "products.head()"
   ]
  },
  {
   "cell_type": "code",
   "execution_count": 31,
   "metadata": {
    "collapsed": false
   },
   "outputs": [
    {
     "data": {
      "text/html": [
       "<div style=\"max-height:1000px;max-width:1500px;overflow:auto;\"><table frame=\"box\" rules=\"cols\">\n",
       "    <tr>\n",
       "        <th style=\"padding-left: 1em; padding-right: 1em; text-align: center\">﻿productId</th>\n",
       "        <th style=\"padding-left: 1em; padding-right: 1em; text-align: center\">title</th>\n",
       "        <th style=\"padding-left: 1em; padding-right: 1em; text-align: center\">price</th>\n",
       "        <th style=\"padding-left: 1em; padding-right: 1em; text-align: center\">userId</th>\n",
       "        <th style=\"padding-left: 1em; padding-right: 1em; text-align: center\">profileName</th>\n",
       "        <th style=\"padding-left: 1em; padding-right: 1em; text-align: center\">helpfulness</th>\n",
       "        <th style=\"padding-left: 1em; padding-right: 1em; text-align: center\">score</th>\n",
       "    </tr>\n",
       "    <tr>\n",
       "        <td style=\"padding-left: 1em; padding-right: 1em; text-align: center; vertical-align: top\">B000H9LE4U</td>\n",
       "        <td style=\"padding-left: 1em; padding-right: 1em; text-align: center; vertical-align: top\">Copper 122-H04 Hard Drawn<br>Round Tubing, ASTM B75, ...</td>\n",
       "        <td style=\"padding-left: 1em; padding-right: 1em; text-align: center; vertical-align: top\">22.14</td>\n",
       "        <td style=\"padding-left: 1em; padding-right: 1em; text-align: center; vertical-align: top\">ABWHUEYK6JTPP</td>\n",
       "        <td style=\"padding-left: 1em; padding-right: 1em; text-align: center; vertical-align: top\">Robert Campbell</td>\n",
       "        <td style=\"padding-left: 1em; padding-right: 1em; text-align: center; vertical-align: top\">0/0</td>\n",
       "        <td style=\"padding-left: 1em; padding-right: 1em; text-align: center; vertical-align: top\">1.0</td>\n",
       "    </tr>\n",
       "    <tr>\n",
       "        <td style=\"padding-left: 1em; padding-right: 1em; text-align: center; vertical-align: top\">B000LDNH8I</td>\n",
       "        <td style=\"padding-left: 1em; padding-right: 1em; text-align: center; vertical-align: top\">Bacharach 0012-7012 Sling<br>Psychrometer, 25?F to ...</td>\n",
       "        <td style=\"padding-left: 1em; padding-right: 1em; text-align: center; vertical-align: top\">84.99</td>\n",
       "        <td style=\"padding-left: 1em; padding-right: 1em; text-align: center; vertical-align: top\">A19Y7ZIICAKM48</td>\n",
       "        <td style=\"padding-left: 1em; padding-right: 1em; text-align: center; vertical-align: top\">T Foley \"computer guy\"</td>\n",
       "        <td style=\"padding-left: 1em; padding-right: 1em; text-align: center; vertical-align: top\">3/3</td>\n",
       "        <td style=\"padding-left: 1em; padding-right: 1em; text-align: center; vertical-align: top\">5.0</td>\n",
       "    </tr>\n",
       "    <tr>\n",
       "        <td style=\"padding-left: 1em; padding-right: 1em; text-align: center; vertical-align: top\">B000LDNH8I</td>\n",
       "        <td style=\"padding-left: 1em; padding-right: 1em; text-align: center; vertical-align: top\">Bacharach 0012-7012 Sling<br>Psychrometer, 25?F to ...</td>\n",
       "        <td style=\"padding-left: 1em; padding-right: 1em; text-align: center; vertical-align: top\">84.99</td>\n",
       "        <td style=\"padding-left: 1em; padding-right: 1em; text-align: center; vertical-align: top\">A3683PMJPFMAAS</td>\n",
       "        <td style=\"padding-left: 1em; padding-right: 1em; text-align: center; vertical-align: top\">Spencer L. Cullen</td>\n",
       "        <td style=\"padding-left: 1em; padding-right: 1em; text-align: center; vertical-align: top\">1/1</td>\n",
       "        <td style=\"padding-left: 1em; padding-right: 1em; text-align: center; vertical-align: top\">5.0</td>\n",
       "    </tr>\n",
       "    <tr>\n",
       "        <td style=\"padding-left: 1em; padding-right: 1em; text-align: center; vertical-align: top\">B000H9LE5Y</td>\n",
       "        <td style=\"padding-left: 1em; padding-right: 1em; text-align: center; vertical-align: top\">316 Stainless Steel<br>Angle, Meets ASTM A276 ...</td>\n",
       "        <td style=\"padding-left: 1em; padding-right: 1em; text-align: center; vertical-align: top\">108.90</td>\n",
       "        <td style=\"padding-left: 1em; padding-right: 1em; text-align: center; vertical-align: top\">A10LMOKUO57BUJ</td>\n",
       "        <td style=\"padding-left: 1em; padding-right: 1em; text-align: center; vertical-align: top\">Kenneth W. Rohla \"Fresh<br>And Alive\" ...</td>\n",
       "        <td style=\"padding-left: 1em; padding-right: 1em; text-align: center; vertical-align: top\">0/0</td>\n",
       "        <td style=\"padding-left: 1em; padding-right: 1em; text-align: center; vertical-align: top\">4.0</td>\n",
       "    </tr>\n",
       "    <tr>\n",
       "        <td style=\"padding-left: 1em; padding-right: 1em; text-align: center; vertical-align: top\">B000F9ANQW</td>\n",
       "        <td style=\"padding-left: 1em; padding-right: 1em; text-align: center; vertical-align: top\">Neiko 10-Piece Alloy<br>Screw Extractor Solid ...</td>\n",
       "        <td style=\"padding-left: 1em; padding-right: 1em; text-align: center; vertical-align: top\">12.39</td>\n",
       "        <td style=\"padding-left: 1em; padding-right: 1em; text-align: center; vertical-align: top\">AT7NTUUE9BSML</td>\n",
       "        <td style=\"padding-left: 1em; padding-right: 1em; text-align: center; vertical-align: top\">S. Zuercher \"just your<br>average college dude\" ...</td>\n",
       "        <td style=\"padding-left: 1em; padding-right: 1em; text-align: center; vertical-align: top\">5/5</td>\n",
       "        <td style=\"padding-left: 1em; padding-right: 1em; text-align: center; vertical-align: top\">1.0</td>\n",
       "    </tr>\n",
       "    <tr>\n",
       "        <td style=\"padding-left: 1em; padding-right: 1em; text-align: center; vertical-align: top\">B000F9ANQW</td>\n",
       "        <td style=\"padding-left: 1em; padding-right: 1em; text-align: center; vertical-align: top\">Neiko 10-Piece Alloy<br>Screw Extractor Solid ...</td>\n",
       "        <td style=\"padding-left: 1em; padding-right: 1em; text-align: center; vertical-align: top\">12.39</td>\n",
       "        <td style=\"padding-left: 1em; padding-right: 1em; text-align: center; vertical-align: top\">A2JR8LS8OIXHV3</td>\n",
       "        <td style=\"padding-left: 1em; padding-right: 1em; text-align: center; vertical-align: top\">Robert O. Harris \"Chrome<br>Industry\" ...</td>\n",
       "        <td style=\"padding-left: 1em; padding-right: 1em; text-align: center; vertical-align: top\">3/3</td>\n",
       "        <td style=\"padding-left: 1em; padding-right: 1em; text-align: center; vertical-align: top\">4.0</td>\n",
       "    </tr>\n",
       "    <tr>\n",
       "        <td style=\"padding-left: 1em; padding-right: 1em; text-align: center; vertical-align: top\">B000F9ANQW</td>\n",
       "        <td style=\"padding-left: 1em; padding-right: 1em; text-align: center; vertical-align: top\">Neiko 10-Piece Alloy<br>Screw Extractor Solid ...</td>\n",
       "        <td style=\"padding-left: 1em; padding-right: 1em; text-align: center; vertical-align: top\">12.39</td>\n",
       "        <td style=\"padding-left: 1em; padding-right: 1em; text-align: center; vertical-align: top\">A5PZBUBIB0KZ</td>\n",
       "        <td style=\"padding-left: 1em; padding-right: 1em; text-align: center; vertical-align: top\">Semaj</td>\n",
       "        <td style=\"padding-left: 1em; padding-right: 1em; text-align: center; vertical-align: top\">2/2</td>\n",
       "        <td style=\"padding-left: 1em; padding-right: 1em; text-align: center; vertical-align: top\">3.0</td>\n",
       "    </tr>\n",
       "    <tr>\n",
       "        <td style=\"padding-left: 1em; padding-right: 1em; text-align: center; vertical-align: top\">B000F9ANQW</td>\n",
       "        <td style=\"padding-left: 1em; padding-right: 1em; text-align: center; vertical-align: top\">Neiko 10-Piece Alloy<br>Screw Extractor Solid ...</td>\n",
       "        <td style=\"padding-left: 1em; padding-right: 1em; text-align: center; vertical-align: top\">12.39</td>\n",
       "        <td style=\"padding-left: 1em; padding-right: 1em; text-align: center; vertical-align: top\">A3PLL5ODHZAU4A</td>\n",
       "        <td style=\"padding-left: 1em; padding-right: 1em; text-align: center; vertical-align: top\">M. Kodama</td>\n",
       "        <td style=\"padding-left: 1em; padding-right: 1em; text-align: center; vertical-align: top\">1/1</td>\n",
       "        <td style=\"padding-left: 1em; padding-right: 1em; text-align: center; vertical-align: top\">3.0</td>\n",
       "    </tr>\n",
       "    <tr>\n",
       "        <td style=\"padding-left: 1em; padding-right: 1em; text-align: center; vertical-align: top\">B000F9ANQW</td>\n",
       "        <td style=\"padding-left: 1em; padding-right: 1em; text-align: center; vertical-align: top\">Neiko 10-Piece Alloy<br>Screw Extractor Solid ...</td>\n",
       "        <td style=\"padding-left: 1em; padding-right: 1em; text-align: center; vertical-align: top\">12.39</td>\n",
       "        <td style=\"padding-left: 1em; padding-right: 1em; text-align: center; vertical-align: top\">A7CRJ48JQZGVY</td>\n",
       "        <td style=\"padding-left: 1em; padding-right: 1em; text-align: center; vertical-align: top\">Scott X. Nguyen \"ocman\"</td>\n",
       "        <td style=\"padding-left: 1em; padding-right: 1em; text-align: center; vertical-align: top\">0/0</td>\n",
       "        <td style=\"padding-left: 1em; padding-right: 1em; text-align: center; vertical-align: top\">1.0</td>\n",
       "    </tr>\n",
       "    <tr>\n",
       "        <td style=\"padding-left: 1em; padding-right: 1em; text-align: center; vertical-align: top\">B000F9ANQW</td>\n",
       "        <td style=\"padding-left: 1em; padding-right: 1em; text-align: center; vertical-align: top\">Neiko 10-Piece Alloy<br>Screw Extractor Solid ...</td>\n",
       "        <td style=\"padding-left: 1em; padding-right: 1em; text-align: center; vertical-align: top\">12.39</td>\n",
       "        <td style=\"padding-left: 1em; padding-right: 1em; text-align: center; vertical-align: top\">A32X2KPT5D33WZ</td>\n",
       "        <td style=\"padding-left: 1em; padding-right: 1em; text-align: center; vertical-align: top\">trev</td>\n",
       "        <td style=\"padding-left: 1em; padding-right: 1em; text-align: center; vertical-align: top\">0/0</td>\n",
       "        <td style=\"padding-left: 1em; padding-right: 1em; text-align: center; vertical-align: top\">4.0</td>\n",
       "    </tr>\n",
       "</table>\n",
       "<table frame=\"box\" rules=\"cols\">\n",
       "    <tr>\n",
       "        <th style=\"padding-left: 1em; padding-right: 1em; text-align: center\">time</th>\n",
       "        <th style=\"padding-left: 1em; padding-right: 1em; text-align: center\">summary</th>\n",
       "        <th style=\"padding-left: 1em; padding-right: 1em; text-align: center\">text</th>\n",
       "        <th style=\"padding-left: 1em; padding-right: 1em; text-align: center\">word_count</th>\n",
       "    </tr>\n",
       "    <tr>\n",
       "        <td style=\"padding-left: 1em; padding-right: 1em; text-align: center; vertical-align: top\">1339113600</td>\n",
       "        <td style=\"padding-left: 1em; padding-right: 1em; text-align: center; vertical-align: top\">Either 1 or 5 Stars.<br>Depends on how you look ...</td>\n",
       "        <td style=\"padding-left: 1em; padding-right: 1em; text-align: center; vertical-align: top\">Either 1 or 5 Stars.<br>Depends on how you look ...</td>\n",
       "        <td style=\"padding-left: 1em; padding-right: 1em; text-align: center; vertical-align: top\">{'and': 2, 'copper': 1,<br>'because': 3, 'figure': ...</td>\n",
       "    </tr>\n",
       "    <tr>\n",
       "        <td style=\"padding-left: 1em; padding-right: 1em; text-align: center; vertical-align: top\">1248307200</td>\n",
       "        <td style=\"padding-left: 1em; padding-right: 1em; text-align: center; vertical-align: top\">I recommend this Sling<br>Psychrometer ...</td>\n",
       "        <td style=\"padding-left: 1em; padding-right: 1em; text-align: center; vertical-align: top\">Not too much to say. This<br>instrument is well bu ...</td>\n",
       "        <td style=\"padding-left: 1em; padding-right: 1em; text-align: center; vertical-align: top\">{'and': 2, 'stores': 1,<br>'accurate': 1, 'use,' ...</td>\n",
       "    </tr>\n",
       "    <tr>\n",
       "        <td style=\"padding-left: 1em; padding-right: 1em; text-align: center; vertical-align: top\">1335398400</td>\n",
       "        <td style=\"padding-left: 1em; padding-right: 1em; text-align: center; vertical-align: top\">A very useful tool</td>\n",
       "        <td style=\"padding-left: 1em; padding-right: 1em; text-align: center; vertical-align: top\">Very good product. Got my<br>as a gift a few years ...</td>\n",
       "        <td style=\"padding-left: 1em; padding-right: 1em; text-align: center; vertical-align: top\">{'and': 4, 'summer': 1,<br>'all': 1, 'all,': 1, ...</td>\n",
       "    </tr>\n",
       "    <tr>\n",
       "        <td style=\"padding-left: 1em; padding-right: 1em; text-align: center; vertical-align: top\">1357776000</td>\n",
       "        <td style=\"padding-left: 1em; padding-right: 1em; text-align: center; vertical-align: top\">Good Price, Fast<br>Shipping, Rusts If It ...</td>\n",
       "        <td style=\"padding-left: 1em; padding-right: 1em; text-align: center; vertical-align: top\">I ordered this angle iron<br>for an outdoor ...</td>\n",
       "        <td style=\"padding-left: 1em; padding-right: 1em; text-align: center; vertical-align: top\">{'heavy': 1, 'and': 2,<br>'outdoor': 1, 'ordered': ...</td>\n",
       "    </tr>\n",
       "    <tr>\n",
       "        <td style=\"padding-left: 1em; padding-right: 1em; text-align: center; vertical-align: top\">1218672000</td>\n",
       "        <td style=\"padding-left: 1em; padding-right: 1em; text-align: center; vertical-align: top\">Cheaply made</td>\n",
       "        <td style=\"padding-left: 1em; padding-right: 1em; text-align: center; vertical-align: top\">First time I tried the<br>extractor, it busted off ...</td>\n",
       "        <td style=\"padding-left: 1em; padding-right: 1em; text-align: center; vertical-align: top\">{'and': 2, 'because': 1,<br>'tap': 1, 'forget': 1, ...</td>\n",
       "    </tr>\n",
       "    <tr>\n",
       "        <td style=\"padding-left: 1em; padding-right: 1em; text-align: center; vertical-align: top\">1285286400</td>\n",
       "        <td style=\"padding-left: 1em; padding-right: 1em; text-align: center; vertical-align: top\">Don't move, vibrate, tilt<br>or press too hard... ...</td>\n",
       "        <td style=\"padding-left: 1em; padding-right: 1em; text-align: center; vertical-align: top\">I use these at my<br>automotive school, ...</td>\n",
       "        <td style=\"padding-left: 1em; padding-right: 1em; text-align: center; vertical-align: top\">{'rusted': 1, 'consider':<br>1, 'school,': 1, 'over': ...</td>\n",
       "    </tr>\n",
       "    <tr>\n",
       "        <td style=\"padding-left: 1em; padding-right: 1em; text-align: center; vertical-align: top\">1281571200</td>\n",
       "        <td style=\"padding-left: 1em; padding-right: 1em; text-align: center; vertical-align: top\">Mediocre product</td>\n",
       "        <td style=\"padding-left: 1em; padding-right: 1em; text-align: center; vertical-align: top\">I ordered these with high<br>hopes that they would do ...</td>\n",
       "        <td style=\"padding-left: 1em; padding-right: 1em; text-align: center; vertical-align: top\">{'and': 2, 'all': 1,<br>'ordered': 1, 'be': 2, ...</td>\n",
       "    </tr>\n",
       "    <tr>\n",
       "        <td style=\"padding-left: 1em; padding-right: 1em; text-align: center; vertical-align: top\">1311724800</td>\n",
       "        <td style=\"padding-left: 1em; padding-right: 1em; text-align: center; vertical-align: top\">Great value, does the<br>job, marginal quality. ...</td>\n",
       "        <td style=\"padding-left: 1em; padding-right: 1em; text-align: center; vertical-align: top\">I think I'm very good<br>about preventing rounded ...</td>\n",
       "        <td style=\"padding-left: 1em; padding-right: 1em; text-align: center; vertical-align: top\">{'extractor': 5, 'lube':<br>1, 'rounded': 1, 'han ...</td>\n",
       "    </tr>\n",
       "    <tr>\n",
       "        <td style=\"padding-left: 1em; padding-right: 1em; text-align: center; vertical-align: top\">1356566400</td>\n",
       "        <td style=\"padding-left: 1em; padding-right: 1em; text-align: center; vertical-align: top\">Cheap material</td>\n",
       "        <td style=\"padding-left: 1em; padding-right: 1em; text-align: center; vertical-align: top\">This tool is made of<br>cheap material and never ...</td>\n",
       "        <td style=\"padding-left: 1em; padding-right: 1em; text-align: center; vertical-align: top\">{'and': 2, 'material': 1,<br>'is': 1, 'cheap': 1, ...</td>\n",
       "    </tr>\n",
       "    <tr>\n",
       "        <td style=\"padding-left: 1em; padding-right: 1em; text-align: center; vertical-align: top\">1353283200</td>\n",
       "        <td style=\"padding-left: 1em; padding-right: 1em; text-align: center; vertical-align: top\">These are cobalt bits for<br>a great price. ...</td>\n",
       "        <td style=\"padding-left: 1em; padding-right: 1em; text-align: center; vertical-align: top\">The true test for The<br>bits was drilling ...</td>\n",
       "        <td style=\"padding-left: 1em; padding-right: 1em; text-align: center; vertical-align: top\">{'and': 1, 'right': 1,<br>'thru.': 1, 'do': 1, ...</td>\n",
       "    </tr>\n",
       "</table>\n",
       "[10 rows x 11 columns]<br/>\n",
       "</div>"
      ],
      "text/plain": [
       "Columns:\n",
       "\t﻿productId\tstr\n",
       "\ttitle\tstr\n",
       "\tprice\tstr\n",
       "\tuserId\tstr\n",
       "\tprofileName\tstr\n",
       "\thelpfulness\tstr\n",
       "\tscore\tfloat\n",
       "\ttime\tint\n",
       "\tsummary\tstr\n",
       "\ttext\tstr\n",
       "\tword_count\tdict\n",
       "\n",
       "Rows: 10\n",
       "\n",
       "Data:\n",
       "+------------+-------------------------------+--------+----------------+\n",
       "| ﻿productId |             title             | price  |     userId     |\n",
       "+------------+-------------------------------+--------+----------------+\n",
       "| B000H9LE4U | Copper 122-H04 Hard Drawn ... | 22.14  | ABWHUEYK6JTPP  |\n",
       "| B000LDNH8I | Bacharach 0012-7012 Sling ... | 84.99  | A19Y7ZIICAKM48 |\n",
       "| B000LDNH8I | Bacharach 0012-7012 Sling ... | 84.99  | A3683PMJPFMAAS |\n",
       "| B000H9LE5Y | 316 Stainless Steel Angle,... | 108.90 | A10LMOKUO57BUJ |\n",
       "| B000F9ANQW | Neiko 10-Piece Alloy Screw... | 12.39  | AT7NTUUE9BSML  |\n",
       "| B000F9ANQW | Neiko 10-Piece Alloy Screw... | 12.39  | A2JR8LS8OIXHV3 |\n",
       "| B000F9ANQW | Neiko 10-Piece Alloy Screw... | 12.39  |  A5PZBUBIB0KZ  |\n",
       "| B000F9ANQW | Neiko 10-Piece Alloy Screw... | 12.39  | A3PLL5ODHZAU4A |\n",
       "| B000F9ANQW | Neiko 10-Piece Alloy Screw... | 12.39  | A7CRJ48JQZGVY  |\n",
       "| B000F9ANQW | Neiko 10-Piece Alloy Screw... | 12.39  | A32X2KPT5D33WZ |\n",
       "+------------+-------------------------------+--------+----------------+\n",
       "+-------------------------------+-------------+-------+------------+\n",
       "|          profileName          | helpfulness | score |    time    |\n",
       "+-------------------------------+-------------+-------+------------+\n",
       "|        Robert Campbell        |     0/0     |  1.0  | 1339113600 |\n",
       "|     T Foley \"computer guy\"    |     3/3     |  5.0  | 1248307200 |\n",
       "|       Spencer L. Cullen       |     1/1     |  5.0  | 1335398400 |\n",
       "| Kenneth W. Rohla \"Fresh An... |     0/0     |  4.0  | 1357776000 |\n",
       "| S. Zuercher \"just your ave... |     5/5     |  1.0  | 1218672000 |\n",
       "| Robert O. Harris \"Chrome I... |     3/3     |  4.0  | 1285286400 |\n",
       "|             Semaj             |     2/2     |  3.0  | 1281571200 |\n",
       "|           M. Kodama           |     1/1     |  3.0  | 1311724800 |\n",
       "|    Scott X. Nguyen \"ocman\"    |     0/0     |  1.0  | 1356566400 |\n",
       "|              trev             |     0/0     |  4.0  | 1353283200 |\n",
       "+-------------------------------+-------------+-------+------------+\n",
       "+-------------------------------+-------------------------------+\n",
       "|            summary            |              text             |\n",
       "+-------------------------------+-------------------------------+\n",
       "| Either 1 or 5 Stars. Depen... | Either 1 or 5 Stars. Depen... |\n",
       "| I recommend this Sling Psy... | Not too much to say. This ... |\n",
       "|       A very useful tool      | Very good product. Got my ... |\n",
       "| Good Price, Fast Shipping,... | I ordered this angle iron ... |\n",
       "|          Cheaply made         | First time I tried the ext... |\n",
       "| Don't move, vibrate, tilt ... | I use these at my automoti... |\n",
       "|        Mediocre product       | I ordered these with high ... |\n",
       "| Great value, does the job,... | I think I'm very good abou... |\n",
       "|         Cheap material        | This tool is made of cheap... |\n",
       "| These are cobalt bits for ... | The true test for The bits... |\n",
       "+-------------------------------+-------------------------------+\n",
       "+-------------------------------+\n",
       "|           word_count          |\n",
       "+-------------------------------+\n",
       "| {'and': 2, 'copper': 1, 'b... |\n",
       "| {'and': 2, 'stores': 1, 'a... |\n",
       "| {'and': 4, 'summer': 1, 'a... |\n",
       "| {'heavy': 1, 'and': 2, 'ou... |\n",
       "| {'and': 2, 'because': 1, '... |\n",
       "| {'rusted': 1, 'consider': ... |\n",
       "| {'and': 2, 'all': 1, 'orde... |\n",
       "| {'extractor': 5, 'lube': 1... |\n",
       "| {'and': 2, 'material': 1, ... |\n",
       "| {'and': 1, 'right': 1, 'th... |\n",
       "+-------------------------------+\n",
       "[10 rows x 11 columns]"
      ]
     },
     "execution_count": 31,
     "metadata": {},
     "output_type": "execute_result"
    }
   ],
   "source": [
    "products['word_count'] = graphlab.text_analytics.count_words(products['text'])\n",
    "products.head()"
   ]
  },
  {
   "cell_type": "code",
   "execution_count": 32,
   "metadata": {
    "collapsed": false
   },
   "outputs": [
    {
     "data": {
      "text/html": [
       "<div style=\"max-height:1000px;max-width:1500px;overflow:auto;\"><table frame=\"box\" rules=\"cols\">\n",
       "    <tr>\n",
       "        <th style=\"padding-left: 1em; padding-right: 1em; text-align: center\">﻿productId</th>\n",
       "        <th style=\"padding-left: 1em; padding-right: 1em; text-align: center\">title</th>\n",
       "        <th style=\"padding-left: 1em; padding-right: 1em; text-align: center\">price</th>\n",
       "        <th style=\"padding-left: 1em; padding-right: 1em; text-align: center\">userId</th>\n",
       "        <th style=\"padding-left: 1em; padding-right: 1em; text-align: center\">profileName</th>\n",
       "        <th style=\"padding-left: 1em; padding-right: 1em; text-align: center\">helpfulness</th>\n",
       "        <th style=\"padding-left: 1em; padding-right: 1em; text-align: center\">score</th>\n",
       "        <th style=\"padding-left: 1em; padding-right: 1em; text-align: center\">time</th>\n",
       "        <th style=\"padding-left: 1em; padding-right: 1em; text-align: center\">summary</th>\n",
       "        <th style=\"padding-left: 1em; padding-right: 1em; text-align: center\">text</th>\n",
       "    </tr>\n",
       "</table>\n",
       "<table frame=\"box\" rules=\"cols\">\n",
       "    <tr>\n",
       "        <th style=\"padding-left: 1em; padding-right: 1em; text-align: center\">word_count</th>\n",
       "    </tr>\n",
       "</table>\n",
       "[? rows x 11 columns]<br/>Note: Only the head of the SFrame is printed. This SFrame is lazily evaluated.<br/>You can use sf.materialize() to force materialization.\n",
       "</div>"
      ],
      "text/plain": [
       "Columns:\n",
       "\t﻿productId\tstr\n",
       "\ttitle\tstr\n",
       "\tprice\tstr\n",
       "\tuserId\tstr\n",
       "\tprofileName\tstr\n",
       "\thelpfulness\tstr\n",
       "\tscore\tfloat\n",
       "\ttime\tint\n",
       "\tsummary\tstr\n",
       "\ttext\tstr\n",
       "\tword_count\tdict\n",
       "\n",
       "Rows: Unknown\n",
       "\n",
       "Data:\n",
       "\t[]"
      ]
     },
     "execution_count": 32,
     "metadata": {},
     "output_type": "execute_result"
    }
   ],
   "source": [
    "products[products['word_count'].dict_has_any_keys(['bomb'])]"
   ]
  },
  {
   "cell_type": "code",
   "execution_count": 33,
   "metadata": {
    "collapsed": false
   },
   "outputs": [
    {
     "data": {
      "application/javascript": [
       "$(\"head\").append($(\"<link/>\").attr({\n",
       "  rel:  \"stylesheet\",\n",
       "  type: \"text/css\",\n",
       "  href: \"//cdnjs.cloudflare.com/ajax/libs/font-awesome/4.1.0/css/font-awesome.min.css\"\n",
       "}));\n",
       "$(\"head\").append($(\"<link/>\").attr({\n",
       "  rel:  \"stylesheet\",\n",
       "  type: \"text/css\",\n",
       "  href: \"https://static.turi.com/products/graphlab-create/2.1/canvas/css/canvas.css\"\n",
       "}));\n",
       "\n",
       "            (function(){\n",
       "\n",
       "                var e = null;\n",
       "                if (typeof element == 'undefined') {\n",
       "                    var scripts = document.getElementsByTagName('script');\n",
       "                    var thisScriptTag = scripts[scripts.length-1];\n",
       "                    var parentDiv = thisScriptTag.parentNode;\n",
       "                    e = document.createElement('div');\n",
       "                    parentDiv.appendChild(e);\n",
       "                } else {\n",
       "                    e = element[0];\n",
       "                }\n",
       "\n",
       "                if (typeof requirejs !== 'undefined') {\n",
       "                    // disable load timeout; ipython_app.js is large and can take a while to load.\n",
       "                    requirejs.config({waitSeconds: 0});\n",
       "                }\n",
       "\n",
       "                require(['https://static.turi.com/products/graphlab-create/2.1/canvas/js/ipython_app.js'], function(IPythonApp){\n",
       "                    var app = new IPythonApp();\n",
       "                    app.attachView('sarray','Categorical', {\"ipython\": true, \"sketch\": {\"complete\": true, \"numeric\": false, \"num_unique\": 12, \"num_undefined\": 0, \"progress\": 1.0, \"frequent_items\": {\"A36 Steel Solid Sheet, Meets ASTM A1011 Specifications, 0.135&#034; Thick, 12&#034; Width, 36&#034; Length\": {\"frequency\": 1, \"value\": \"A36 Steel Solid ...\"}, \"Magna Cart Personal Hand Truck\": {\"frequency\": 548, \"value\": \"Magna Cart ...\"}, \"Copper 122-H04 Hard Drawn Round Tubing, ASTM B75, 7/8&#034; OD, 0.745&#034; ID, 0.065&#034; Wall, 84&#034; Length\": {\"frequency\": 1, \"value\": \"Copper 122-H04 ...\"}, \"Copper 122-H04 Hard Drawn Round Tubing, ASTM B75, 1/4&#034; OD, 0.186&#034; ID, 0.032&#034; Wall, 60&#034; Length\": {\"frequency\": 1, \"value\": \"Copper 122-H04 ...\"}, \"Bacharach 0012-7012 Sling Psychrometer, 25?F to 120?F, red spirit filled\": {\"frequency\": 2, \"value\": \"Bacharach ...\"}, \"Copper 122-H04 Hard Drawn Round Tubing, ASTM B75, 1/2&#034; OD, 0.436&#034; ID, 0.032&#034; Wall, 96&#034; Length\": {\"frequency\": 1, \"value\": \"Copper 122-H04 ...\"}, \"Neiko 10-Piece Alloy Screw Extractor Solid Cobalt Left Hand Drill Bits Set\": {\"frequency\": 9, \"value\": \"Neiko 10-Piece ...\"}, \"A36 Steel Solid Sheet, Meets ASTM A1011 Specifications, 0.075&#034; Thick, 12&#034; Width, 24&#034; Length\": {\"frequency\": 1, \"value\": \"A36 Steel Solid ...\"}, \"316 Stainless Steel Angle, Meets ASTM A276 Specifications, 2-1/2&#034; x 2-1/2&#034; Leg Lengths, 0.375&#034; Wall Thickness, 24&#034; Length\": {\"frequency\": 1, \"value\": \"316 Stainless ...\"}, \"-040 Silicone O-Ring, 70A Durometer, Red, 2-7/8&#034; ID, 3&#034; OD, 1/16&#034; Width (Pack of 100)\": {\"frequency\": 5, \"value\": \"-040 Silicone ...\"}, \"A36 Steel Solid Sheet, Meets ASTM A1011 Specifications, 0.135&#034; Thick, 12&#034; Width, 24&#034; Length\": {\"frequency\": 1, \"value\": \"A36 Steel Solid ...\"}, \"Glass Shelf Spoon Rests Brass Package 10\": {\"frequency\": 1, \"value\": \"Glass Shelf Spoon ...\"}}, \"size\": 572}, \"selected_variable\": {\"name\": [\"<SArray>\"], \"dtype\": \"str\", \"view_component\": \"Categorical\", \"view_file\": \"sarray\", \"descriptives\": {\"rows\": 572}, \"type\": \"SArray\", \"view_components\": [\"Categorical\"]}, \"histogram\": null}, e);\n",
       "                });\n",
       "            })();\n",
       "        "
      ]
     },
     "metadata": {},
     "output_type": "display_data"
    }
   ],
   "source": [
    "graphlab.canvas.set_target('ipynb')\n",
    "products['title'].show()"
   ]
  },
  {
   "cell_type": "code",
   "execution_count": 34,
   "metadata": {
    "collapsed": false
   },
   "outputs": [
    {
     "data": {
      "text/plain": [
       "548"
      ]
     },
     "execution_count": 34,
     "metadata": {},
     "output_type": "execute_result"
    }
   ],
   "source": [
    "Magna_reviews = products[products['title'] == 'Magna Cart Personal Hand Truck']\n",
    "len(Magna_reviews)"
   ]
  },
  {
   "cell_type": "code",
   "execution_count": 35,
   "metadata": {
    "collapsed": false
   },
   "outputs": [
    {
     "data": {
      "application/javascript": [
       "$(\"head\").append($(\"<link/>\").attr({\n",
       "  rel:  \"stylesheet\",\n",
       "  type: \"text/css\",\n",
       "  href: \"//cdnjs.cloudflare.com/ajax/libs/font-awesome/4.1.0/css/font-awesome.min.css\"\n",
       "}));\n",
       "$(\"head\").append($(\"<link/>\").attr({\n",
       "  rel:  \"stylesheet\",\n",
       "  type: \"text/css\",\n",
       "  href: \"https://static.turi.com/products/graphlab-create/2.1/canvas/css/canvas.css\"\n",
       "}));\n",
       "\n",
       "            (function(){\n",
       "\n",
       "                var e = null;\n",
       "                if (typeof element == 'undefined') {\n",
       "                    var scripts = document.getElementsByTagName('script');\n",
       "                    var thisScriptTag = scripts[scripts.length-1];\n",
       "                    var parentDiv = thisScriptTag.parentNode;\n",
       "                    e = document.createElement('div');\n",
       "                    parentDiv.appendChild(e);\n",
       "                } else {\n",
       "                    e = element[0];\n",
       "                }\n",
       "\n",
       "                if (typeof requirejs !== 'undefined') {\n",
       "                    // disable load timeout; ipython_app.js is large and can take a while to load.\n",
       "                    requirejs.config({waitSeconds: 0});\n",
       "                }\n",
       "\n",
       "                require(['https://static.turi.com/products/graphlab-create/2.1/canvas/js/ipython_app.js'], function(IPythonApp){\n",
       "                    var app = new IPythonApp();\n",
       "                    app.attachView('sarray','Categorical', {\"ipython\": true, \"sketch\": {\"std\": 0.7542547190106057, \"complete\": true, \"min\": 1.0, \"max\": 5.0, \"quantile\": [1.0, 1.0, 2.0, 3.0, 3.0, 3.0, 3.0, 3.0, 4.0, 4.0, 4.0, 4.0, 4.0, 4.0, 4.0, 4.0, 4.0, 4.0, 4.0, 4.0, 4.0, 4.0, 4.0, 4.0, 4.0, 4.0, 4.0, 4.0, 5.0, 5.0, 5.0, 5.0, 5.0, 5.0, 5.0, 5.0, 5.0, 5.0, 5.0, 5.0, 5.0, 5.0, 5.0, 5.0, 5.0, 5.0, 5.0, 5.0, 5.0, 5.0, 5.0, 5.0, 5.0, 5.0, 5.0, 5.0, 5.0, 5.0, 5.0, 5.0, 5.0, 5.0, 5.0, 5.0, 5.0, 5.0, 5.0, 5.0, 5.0, 5.0, 5.0, 5.0, 5.0, 5.0, 5.0, 5.0, 5.0, 5.0, 5.0, 5.0, 5.0, 5.0, 5.0, 5.0, 5.0, 5.0, 5.0, 5.0, 5.0, 5.0, 5.0, 5.0, 5.0, 5.0, 5.0, 5.0, 5.0, 5.0, 5.0, 5.0, 5.0], \"median\": 5.0, \"numeric\": true, \"num_unique\": 5, \"num_undefined\": 0, \"var\": 0.5689001811497678, \"progress\": 1.0, \"size\": 548, \"frequent_items\": {\"1.0\": {\"frequency\": 7, \"value\": 1.0}, \"2.0\": {\"frequency\": 8, \"value\": 2.0}, \"3.0\": {\"frequency\": 25, \"value\": 3.0}, \"4.0\": {\"frequency\": 109, \"value\": 4.0}, \"5.0\": {\"frequency\": 399, \"value\": 5.0}}, \"mean\": 4.614963503649641}, \"selected_variable\": {\"name\": [\"<SArray>\"], \"dtype\": \"float\", \"view_component\": \"Categorical\", \"view_file\": \"sarray\", \"descriptives\": {\"rows\": 548}, \"type\": \"SArray\", \"view_components\": [\"Numeric\", \"Categorical\"]}, \"histogram\": {\"progress\": 1.0, \"histogram\": {\"max\": 5.02, \"bins\": [7, 0, 0, 8, 0, 25, 0, 0, 109, 0, 0, 399], \"min\": 0.988}, \"min\": 1.0, \"complete\": 1, \"max\": 5.0}}, e);\n",
       "                });\n",
       "            })();\n",
       "        "
      ]
     },
     "metadata": {},
     "output_type": "display_data"
    }
   ],
   "source": [
    "Magna_reviews['score'].show(view='Categorical')"
   ]
  },
  {
   "cell_type": "code",
   "execution_count": 36,
   "metadata": {
    "collapsed": false
   },
   "outputs": [
    {
     "data": {
      "application/javascript": [
       "$(\"head\").append($(\"<link/>\").attr({\n",
       "  rel:  \"stylesheet\",\n",
       "  type: \"text/css\",\n",
       "  href: \"//cdnjs.cloudflare.com/ajax/libs/font-awesome/4.1.0/css/font-awesome.min.css\"\n",
       "}));\n",
       "$(\"head\").append($(\"<link/>\").attr({\n",
       "  rel:  \"stylesheet\",\n",
       "  type: \"text/css\",\n",
       "  href: \"https://static.turi.com/products/graphlab-create/2.1/canvas/css/canvas.css\"\n",
       "}));\n",
       "\n",
       "            (function(){\n",
       "\n",
       "                var e = null;\n",
       "                if (typeof element == 'undefined') {\n",
       "                    var scripts = document.getElementsByTagName('script');\n",
       "                    var thisScriptTag = scripts[scripts.length-1];\n",
       "                    var parentDiv = thisScriptTag.parentNode;\n",
       "                    e = document.createElement('div');\n",
       "                    parentDiv.appendChild(e);\n",
       "                } else {\n",
       "                    e = element[0];\n",
       "                }\n",
       "\n",
       "                if (typeof requirejs !== 'undefined') {\n",
       "                    // disable load timeout; ipython_app.js is large and can take a while to load.\n",
       "                    requirejs.config({waitSeconds: 0});\n",
       "                }\n",
       "\n",
       "                require(['https://static.turi.com/products/graphlab-create/2.1/canvas/js/ipython_app.js'], function(IPythonApp){\n",
       "                    var app = new IPythonApp();\n",
       "                    app.attachView('sarray','Categorical', {\"ipython\": true, \"sketch\": {\"std\": 0.8493175410813891, \"complete\": true, \"min\": 1.0, \"max\": 5.0, \"quantile\": [1.0, 1.0, 1.0, 2.0, 3.0, 3.0, 3.0, 3.0, 3.0, 4.0, 4.0, 4.0, 4.0, 4.0, 4.0, 4.0, 4.0, 4.0, 4.0, 4.0, 4.0, 4.0, 4.0, 4.0, 4.0, 4.0, 4.0, 4.0, 4.0, 5.0, 5.0, 5.0, 5.0, 5.0, 5.0, 5.0, 5.0, 5.0, 5.0, 5.0, 5.0, 5.0, 5.0, 5.0, 5.0, 5.0, 5.0, 5.0, 5.0, 5.0, 5.0, 5.0, 5.0, 5.0, 5.0, 5.0, 5.0, 5.0, 5.0, 5.0, 5.0, 5.0, 5.0, 5.0, 5.0, 5.0, 5.0, 5.0, 5.0, 5.0, 5.0, 5.0, 5.0, 5.0, 5.0, 5.0, 5.0, 5.0, 5.0, 5.0, 5.0, 5.0, 5.0, 5.0, 5.0, 5.0, 5.0, 5.0, 5.0, 5.0, 5.0, 5.0, 5.0, 5.0, 5.0, 5.0, 5.0, 5.0, 5.0, 5.0, 5.0], \"median\": 5.0, \"numeric\": true, \"num_unique\": 5, \"num_undefined\": 0, \"var\": 0.721340285588537, \"progress\": 1.0, \"size\": 572, \"frequent_items\": {\"1.0\": {\"frequency\": 14, \"value\": 1.0}, \"2.0\": {\"frequency\": 8, \"value\": 2.0}, \"3.0\": {\"frequency\": 28, \"value\": 3.0}, \"4.0\": {\"frequency\": 113, \"value\": 4.0}, \"5.0\": {\"frequency\": 409, \"value\": 5.0}}, \"mean\": 4.564685314685312}, \"selected_variable\": {\"name\": [\"<SArray>\"], \"dtype\": \"float\", \"view_component\": \"Categorical\", \"view_file\": \"sarray\", \"descriptives\": {\"rows\": 572}, \"type\": \"SArray\", \"view_components\": [\"Numeric\", \"Categorical\"]}, \"histogram\": {\"progress\": 1.0, \"histogram\": {\"max\": 5.0, \"bins\": [14, 0, 0, 8, 0, 0, 28, 0, 113, 0, 0, 409], \"min\": 1.0}, \"min\": 1.0, \"complete\": 1, \"max\": 5.0}}, e);\n",
       "                });\n",
       "            })();\n",
       "        "
      ]
     },
     "metadata": {},
     "output_type": "display_data"
    }
   ],
   "source": [
    "products['score'].show(view='Categorical')"
   ]
  },
  {
   "cell_type": "code",
   "execution_count": 37,
   "metadata": {
    "collapsed": false
   },
   "outputs": [
    {
     "data": {
      "text/html": [
       "<div style=\"max-height:1000px;max-width:1500px;overflow:auto;\"><table frame=\"box\" rules=\"cols\">\n",
       "    <tr>\n",
       "        <th style=\"padding-left: 1em; padding-right: 1em; text-align: center\">﻿productId</th>\n",
       "        <th style=\"padding-left: 1em; padding-right: 1em; text-align: center\">title</th>\n",
       "        <th style=\"padding-left: 1em; padding-right: 1em; text-align: center\">price</th>\n",
       "        <th style=\"padding-left: 1em; padding-right: 1em; text-align: center\">userId</th>\n",
       "        <th style=\"padding-left: 1em; padding-right: 1em; text-align: center\">profileName</th>\n",
       "        <th style=\"padding-left: 1em; padding-right: 1em; text-align: center\">helpfulness</th>\n",
       "        <th style=\"padding-left: 1em; padding-right: 1em; text-align: center\">score</th>\n",
       "    </tr>\n",
       "    <tr>\n",
       "        <td style=\"padding-left: 1em; padding-right: 1em; text-align: center; vertical-align: top\">B000H9LE4U</td>\n",
       "        <td style=\"padding-left: 1em; padding-right: 1em; text-align: center; vertical-align: top\">Copper 122-H04 Hard Drawn<br>Round Tubing, ASTM B75, ...</td>\n",
       "        <td style=\"padding-left: 1em; padding-right: 1em; text-align: center; vertical-align: top\">22.14</td>\n",
       "        <td style=\"padding-left: 1em; padding-right: 1em; text-align: center; vertical-align: top\">ABWHUEYK6JTPP</td>\n",
       "        <td style=\"padding-left: 1em; padding-right: 1em; text-align: center; vertical-align: top\">Robert Campbell</td>\n",
       "        <td style=\"padding-left: 1em; padding-right: 1em; text-align: center; vertical-align: top\">0/0</td>\n",
       "        <td style=\"padding-left: 1em; padding-right: 1em; text-align: center; vertical-align: top\">1.0</td>\n",
       "    </tr>\n",
       "    <tr>\n",
       "        <td style=\"padding-left: 1em; padding-right: 1em; text-align: center; vertical-align: top\">B000LDNH8I</td>\n",
       "        <td style=\"padding-left: 1em; padding-right: 1em; text-align: center; vertical-align: top\">Bacharach 0012-7012 Sling<br>Psychrometer, 25?F to ...</td>\n",
       "        <td style=\"padding-left: 1em; padding-right: 1em; text-align: center; vertical-align: top\">84.99</td>\n",
       "        <td style=\"padding-left: 1em; padding-right: 1em; text-align: center; vertical-align: top\">A19Y7ZIICAKM48</td>\n",
       "        <td style=\"padding-left: 1em; padding-right: 1em; text-align: center; vertical-align: top\">T Foley \"computer guy\"</td>\n",
       "        <td style=\"padding-left: 1em; padding-right: 1em; text-align: center; vertical-align: top\">3/3</td>\n",
       "        <td style=\"padding-left: 1em; padding-right: 1em; text-align: center; vertical-align: top\">5.0</td>\n",
       "    </tr>\n",
       "    <tr>\n",
       "        <td style=\"padding-left: 1em; padding-right: 1em; text-align: center; vertical-align: top\">B000LDNH8I</td>\n",
       "        <td style=\"padding-left: 1em; padding-right: 1em; text-align: center; vertical-align: top\">Bacharach 0012-7012 Sling<br>Psychrometer, 25?F to ...</td>\n",
       "        <td style=\"padding-left: 1em; padding-right: 1em; text-align: center; vertical-align: top\">84.99</td>\n",
       "        <td style=\"padding-left: 1em; padding-right: 1em; text-align: center; vertical-align: top\">A3683PMJPFMAAS</td>\n",
       "        <td style=\"padding-left: 1em; padding-right: 1em; text-align: center; vertical-align: top\">Spencer L. Cullen</td>\n",
       "        <td style=\"padding-left: 1em; padding-right: 1em; text-align: center; vertical-align: top\">1/1</td>\n",
       "        <td style=\"padding-left: 1em; padding-right: 1em; text-align: center; vertical-align: top\">5.0</td>\n",
       "    </tr>\n",
       "    <tr>\n",
       "        <td style=\"padding-left: 1em; padding-right: 1em; text-align: center; vertical-align: top\">B000H9LE5Y</td>\n",
       "        <td style=\"padding-left: 1em; padding-right: 1em; text-align: center; vertical-align: top\">316 Stainless Steel<br>Angle, Meets ASTM A276 ...</td>\n",
       "        <td style=\"padding-left: 1em; padding-right: 1em; text-align: center; vertical-align: top\">108.90</td>\n",
       "        <td style=\"padding-left: 1em; padding-right: 1em; text-align: center; vertical-align: top\">A10LMOKUO57BUJ</td>\n",
       "        <td style=\"padding-left: 1em; padding-right: 1em; text-align: center; vertical-align: top\">Kenneth W. Rohla \"Fresh<br>And Alive\" ...</td>\n",
       "        <td style=\"padding-left: 1em; padding-right: 1em; text-align: center; vertical-align: top\">0/0</td>\n",
       "        <td style=\"padding-left: 1em; padding-right: 1em; text-align: center; vertical-align: top\">4.0</td>\n",
       "    </tr>\n",
       "    <tr>\n",
       "        <td style=\"padding-left: 1em; padding-right: 1em; text-align: center; vertical-align: top\">B000F9ANQW</td>\n",
       "        <td style=\"padding-left: 1em; padding-right: 1em; text-align: center; vertical-align: top\">Neiko 10-Piece Alloy<br>Screw Extractor Solid ...</td>\n",
       "        <td style=\"padding-left: 1em; padding-right: 1em; text-align: center; vertical-align: top\">12.39</td>\n",
       "        <td style=\"padding-left: 1em; padding-right: 1em; text-align: center; vertical-align: top\">AT7NTUUE9BSML</td>\n",
       "        <td style=\"padding-left: 1em; padding-right: 1em; text-align: center; vertical-align: top\">S. Zuercher \"just your<br>average college dude\" ...</td>\n",
       "        <td style=\"padding-left: 1em; padding-right: 1em; text-align: center; vertical-align: top\">5/5</td>\n",
       "        <td style=\"padding-left: 1em; padding-right: 1em; text-align: center; vertical-align: top\">1.0</td>\n",
       "    </tr>\n",
       "    <tr>\n",
       "        <td style=\"padding-left: 1em; padding-right: 1em; text-align: center; vertical-align: top\">B000F9ANQW</td>\n",
       "        <td style=\"padding-left: 1em; padding-right: 1em; text-align: center; vertical-align: top\">Neiko 10-Piece Alloy<br>Screw Extractor Solid ...</td>\n",
       "        <td style=\"padding-left: 1em; padding-right: 1em; text-align: center; vertical-align: top\">12.39</td>\n",
       "        <td style=\"padding-left: 1em; padding-right: 1em; text-align: center; vertical-align: top\">A2JR8LS8OIXHV3</td>\n",
       "        <td style=\"padding-left: 1em; padding-right: 1em; text-align: center; vertical-align: top\">Robert O. Harris \"Chrome<br>Industry\" ...</td>\n",
       "        <td style=\"padding-left: 1em; padding-right: 1em; text-align: center; vertical-align: top\">3/3</td>\n",
       "        <td style=\"padding-left: 1em; padding-right: 1em; text-align: center; vertical-align: top\">4.0</td>\n",
       "    </tr>\n",
       "    <tr>\n",
       "        <td style=\"padding-left: 1em; padding-right: 1em; text-align: center; vertical-align: top\">B000F9ANQW</td>\n",
       "        <td style=\"padding-left: 1em; padding-right: 1em; text-align: center; vertical-align: top\">Neiko 10-Piece Alloy<br>Screw Extractor Solid ...</td>\n",
       "        <td style=\"padding-left: 1em; padding-right: 1em; text-align: center; vertical-align: top\">12.39</td>\n",
       "        <td style=\"padding-left: 1em; padding-right: 1em; text-align: center; vertical-align: top\">A7CRJ48JQZGVY</td>\n",
       "        <td style=\"padding-left: 1em; padding-right: 1em; text-align: center; vertical-align: top\">Scott X. Nguyen \"ocman\"</td>\n",
       "        <td style=\"padding-left: 1em; padding-right: 1em; text-align: center; vertical-align: top\">0/0</td>\n",
       "        <td style=\"padding-left: 1em; padding-right: 1em; text-align: center; vertical-align: top\">1.0</td>\n",
       "    </tr>\n",
       "    <tr>\n",
       "        <td style=\"padding-left: 1em; padding-right: 1em; text-align: center; vertical-align: top\">B000F9ANQW</td>\n",
       "        <td style=\"padding-left: 1em; padding-right: 1em; text-align: center; vertical-align: top\">Neiko 10-Piece Alloy<br>Screw Extractor Solid ...</td>\n",
       "        <td style=\"padding-left: 1em; padding-right: 1em; text-align: center; vertical-align: top\">12.39</td>\n",
       "        <td style=\"padding-left: 1em; padding-right: 1em; text-align: center; vertical-align: top\">A32X2KPT5D33WZ</td>\n",
       "        <td style=\"padding-left: 1em; padding-right: 1em; text-align: center; vertical-align: top\">trev</td>\n",
       "        <td style=\"padding-left: 1em; padding-right: 1em; text-align: center; vertical-align: top\">0/0</td>\n",
       "        <td style=\"padding-left: 1em; padding-right: 1em; text-align: center; vertical-align: top\">4.0</td>\n",
       "    </tr>\n",
       "    <tr>\n",
       "        <td style=\"padding-left: 1em; padding-right: 1em; text-align: center; vertical-align: top\">B000F9ANQW</td>\n",
       "        <td style=\"padding-left: 1em; padding-right: 1em; text-align: center; vertical-align: top\">Neiko 10-Piece Alloy<br>Screw Extractor Solid ...</td>\n",
       "        <td style=\"padding-left: 1em; padding-right: 1em; text-align: center; vertical-align: top\">12.39</td>\n",
       "        <td style=\"padding-left: 1em; padding-right: 1em; text-align: center; vertical-align: top\">A29I9ZOKKI515D</td>\n",
       "        <td style=\"padding-left: 1em; padding-right: 1em; text-align: center; vertical-align: top\">Joseph \"JRJ\"</td>\n",
       "        <td style=\"padding-left: 1em; padding-right: 1em; text-align: center; vertical-align: top\">0/0</td>\n",
       "        <td style=\"padding-left: 1em; padding-right: 1em; text-align: center; vertical-align: top\">5.0</td>\n",
       "    </tr>\n",
       "    <tr>\n",
       "        <td style=\"padding-left: 1em; padding-right: 1em; text-align: center; vertical-align: top\">B000F9ANQW</td>\n",
       "        <td style=\"padding-left: 1em; padding-right: 1em; text-align: center; vertical-align: top\">Neiko 10-Piece Alloy<br>Screw Extractor Solid ...</td>\n",
       "        <td style=\"padding-left: 1em; padding-right: 1em; text-align: center; vertical-align: top\">12.39</td>\n",
       "        <td style=\"padding-left: 1em; padding-right: 1em; text-align: center; vertical-align: top\">A31C2SWK541AQH</td>\n",
       "        <td style=\"padding-left: 1em; padding-right: 1em; text-align: center; vertical-align: top\">L. E. Eismann \"Computer<br>Maven\" ...</td>\n",
       "        <td style=\"padding-left: 1em; padding-right: 1em; text-align: center; vertical-align: top\">0/0</td>\n",
       "        <td style=\"padding-left: 1em; padding-right: 1em; text-align: center; vertical-align: top\">4.0</td>\n",
       "    </tr>\n",
       "</table>\n",
       "<table frame=\"box\" rules=\"cols\">\n",
       "    <tr>\n",
       "        <th style=\"padding-left: 1em; padding-right: 1em; text-align: center\">time</th>\n",
       "        <th style=\"padding-left: 1em; padding-right: 1em; text-align: center\">summary</th>\n",
       "        <th style=\"padding-left: 1em; padding-right: 1em; text-align: center\">text</th>\n",
       "        <th style=\"padding-left: 1em; padding-right: 1em; text-align: center\">word_count</th>\n",
       "        <th style=\"padding-left: 1em; padding-right: 1em; text-align: center\">sentiment</th>\n",
       "    </tr>\n",
       "    <tr>\n",
       "        <td style=\"padding-left: 1em; padding-right: 1em; text-align: center; vertical-align: top\">1339113600</td>\n",
       "        <td style=\"padding-left: 1em; padding-right: 1em; text-align: center; vertical-align: top\">Either 1 or 5 Stars.<br>Depends on how you look ...</td>\n",
       "        <td style=\"padding-left: 1em; padding-right: 1em; text-align: center; vertical-align: top\">Either 1 or 5 Stars.<br>Depends on how you look ...</td>\n",
       "        <td style=\"padding-left: 1em; padding-right: 1em; text-align: center; vertical-align: top\">{'and': 2, 'copper': 1,<br>'because': 3, 'figure': ...</td>\n",
       "        <td style=\"padding-left: 1em; padding-right: 1em; text-align: center; vertical-align: top\">0</td>\n",
       "    </tr>\n",
       "    <tr>\n",
       "        <td style=\"padding-left: 1em; padding-right: 1em; text-align: center; vertical-align: top\">1248307200</td>\n",
       "        <td style=\"padding-left: 1em; padding-right: 1em; text-align: center; vertical-align: top\">I recommend this Sling<br>Psychrometer ...</td>\n",
       "        <td style=\"padding-left: 1em; padding-right: 1em; text-align: center; vertical-align: top\">Not too much to say. This<br>instrument is well bu ...</td>\n",
       "        <td style=\"padding-left: 1em; padding-right: 1em; text-align: center; vertical-align: top\">{'and': 2, 'stores': 1,<br>'accurate': 1, 'use,' ...</td>\n",
       "        <td style=\"padding-left: 1em; padding-right: 1em; text-align: center; vertical-align: top\">1</td>\n",
       "    </tr>\n",
       "    <tr>\n",
       "        <td style=\"padding-left: 1em; padding-right: 1em; text-align: center; vertical-align: top\">1335398400</td>\n",
       "        <td style=\"padding-left: 1em; padding-right: 1em; text-align: center; vertical-align: top\">A very useful tool</td>\n",
       "        <td style=\"padding-left: 1em; padding-right: 1em; text-align: center; vertical-align: top\">Very good product. Got my<br>as a gift a few years ...</td>\n",
       "        <td style=\"padding-left: 1em; padding-right: 1em; text-align: center; vertical-align: top\">{'and': 4, 'summer': 1,<br>'all': 1, 'all,': 1, ...</td>\n",
       "        <td style=\"padding-left: 1em; padding-right: 1em; text-align: center; vertical-align: top\">1</td>\n",
       "    </tr>\n",
       "    <tr>\n",
       "        <td style=\"padding-left: 1em; padding-right: 1em; text-align: center; vertical-align: top\">1357776000</td>\n",
       "        <td style=\"padding-left: 1em; padding-right: 1em; text-align: center; vertical-align: top\">Good Price, Fast<br>Shipping, Rusts If It ...</td>\n",
       "        <td style=\"padding-left: 1em; padding-right: 1em; text-align: center; vertical-align: top\">I ordered this angle iron<br>for an outdoor ...</td>\n",
       "        <td style=\"padding-left: 1em; padding-right: 1em; text-align: center; vertical-align: top\">{'heavy': 1, 'and': 2,<br>'outdoor': 1, 'ordered': ...</td>\n",
       "        <td style=\"padding-left: 1em; padding-right: 1em; text-align: center; vertical-align: top\">1</td>\n",
       "    </tr>\n",
       "    <tr>\n",
       "        <td style=\"padding-left: 1em; padding-right: 1em; text-align: center; vertical-align: top\">1218672000</td>\n",
       "        <td style=\"padding-left: 1em; padding-right: 1em; text-align: center; vertical-align: top\">Cheaply made</td>\n",
       "        <td style=\"padding-left: 1em; padding-right: 1em; text-align: center; vertical-align: top\">First time I tried the<br>extractor, it busted off ...</td>\n",
       "        <td style=\"padding-left: 1em; padding-right: 1em; text-align: center; vertical-align: top\">{'and': 2, 'because': 1,<br>'tap': 1, 'forget': 1, ...</td>\n",
       "        <td style=\"padding-left: 1em; padding-right: 1em; text-align: center; vertical-align: top\">0</td>\n",
       "    </tr>\n",
       "    <tr>\n",
       "        <td style=\"padding-left: 1em; padding-right: 1em; text-align: center; vertical-align: top\">1285286400</td>\n",
       "        <td style=\"padding-left: 1em; padding-right: 1em; text-align: center; vertical-align: top\">Don't move, vibrate, tilt<br>or press too hard... ...</td>\n",
       "        <td style=\"padding-left: 1em; padding-right: 1em; text-align: center; vertical-align: top\">I use these at my<br>automotive school, ...</td>\n",
       "        <td style=\"padding-left: 1em; padding-right: 1em; text-align: center; vertical-align: top\">{'rusted': 1, 'consider':<br>1, 'school,': 1, 'over': ...</td>\n",
       "        <td style=\"padding-left: 1em; padding-right: 1em; text-align: center; vertical-align: top\">1</td>\n",
       "    </tr>\n",
       "    <tr>\n",
       "        <td style=\"padding-left: 1em; padding-right: 1em; text-align: center; vertical-align: top\">1356566400</td>\n",
       "        <td style=\"padding-left: 1em; padding-right: 1em; text-align: center; vertical-align: top\">Cheap material</td>\n",
       "        <td style=\"padding-left: 1em; padding-right: 1em; text-align: center; vertical-align: top\">This tool is made of<br>cheap material and never ...</td>\n",
       "        <td style=\"padding-left: 1em; padding-right: 1em; text-align: center; vertical-align: top\">{'and': 2, 'material': 1,<br>'is': 1, 'cheap': 1, ...</td>\n",
       "        <td style=\"padding-left: 1em; padding-right: 1em; text-align: center; vertical-align: top\">0</td>\n",
       "    </tr>\n",
       "    <tr>\n",
       "        <td style=\"padding-left: 1em; padding-right: 1em; text-align: center; vertical-align: top\">1353283200</td>\n",
       "        <td style=\"padding-left: 1em; padding-right: 1em; text-align: center; vertical-align: top\">These are cobalt bits for<br>a great price. ...</td>\n",
       "        <td style=\"padding-left: 1em; padding-right: 1em; text-align: center; vertical-align: top\">The true test for The<br>bits was drilling ...</td>\n",
       "        <td style=\"padding-left: 1em; padding-right: 1em; text-align: center; vertical-align: top\">{'and': 1, 'right': 1,<br>'thru.': 1, 'do': 1, ...</td>\n",
       "        <td style=\"padding-left: 1em; padding-right: 1em; text-align: center; vertical-align: top\">1</td>\n",
       "    </tr>\n",
       "    <tr>\n",
       "        <td style=\"padding-left: 1em; padding-right: 1em; text-align: center; vertical-align: top\">1345420800</td>\n",
       "        <td style=\"padding-left: 1em; padding-right: 1em; text-align: center; vertical-align: top\">Worked perfectly.<br>Carrying case is sturdy ...</td>\n",
       "        <td style=\"padding-left: 1em; padding-right: 1em; text-align: center; vertical-align: top\">I had managed to strip<br>the torx screws on the ...</td>\n",
       "        <td style=\"padding-left: 1em; padding-right: 1em; text-align: center; vertical-align: top\">{'managed': 1, '(counter-<br>sunk': 1, 'less': 1, ...</td>\n",
       "        <td style=\"padding-left: 1em; padding-right: 1em; text-align: center; vertical-align: top\">1</td>\n",
       "    </tr>\n",
       "    <tr>\n",
       "        <td style=\"padding-left: 1em; padding-right: 1em; text-align: center; vertical-align: top\">1249603200</td>\n",
       "        <td style=\"padding-left: 1em; padding-right: 1em; text-align: center; vertical-align: top\">Quality reverse drill<br>bits &amp; EZ Outs at a good ...</td>\n",
       "        <td style=\"padding-left: 1em; padding-right: 1em; text-align: center; vertical-align: top\">Good little set of<br>reverse drill bits and ...</td>\n",
       "        <td style=\"padding-left: 1em; padding-right: 1em; text-align: center; vertical-align: top\">{'and': 2, 'set': 1,<br>'case,': 1, 'case.': 1, ...</td>\n",
       "        <td style=\"padding-left: 1em; padding-right: 1em; text-align: center; vertical-align: top\">1</td>\n",
       "    </tr>\n",
       "</table>\n",
       "[10 rows x 12 columns]<br/>\n",
       "</div>"
      ],
      "text/plain": [
       "Columns:\n",
       "\t﻿productId\tstr\n",
       "\ttitle\tstr\n",
       "\tprice\tstr\n",
       "\tuserId\tstr\n",
       "\tprofileName\tstr\n",
       "\thelpfulness\tstr\n",
       "\tscore\tfloat\n",
       "\ttime\tint\n",
       "\tsummary\tstr\n",
       "\ttext\tstr\n",
       "\tword_count\tdict\n",
       "\tsentiment\tint\n",
       "\n",
       "Rows: 10\n",
       "\n",
       "Data:\n",
       "+------------+-------------------------------+--------+----------------+\n",
       "| ﻿productId |             title             | price  |     userId     |\n",
       "+------------+-------------------------------+--------+----------------+\n",
       "| B000H9LE4U | Copper 122-H04 Hard Drawn ... | 22.14  | ABWHUEYK6JTPP  |\n",
       "| B000LDNH8I | Bacharach 0012-7012 Sling ... | 84.99  | A19Y7ZIICAKM48 |\n",
       "| B000LDNH8I | Bacharach 0012-7012 Sling ... | 84.99  | A3683PMJPFMAAS |\n",
       "| B000H9LE5Y | 316 Stainless Steel Angle,... | 108.90 | A10LMOKUO57BUJ |\n",
       "| B000F9ANQW | Neiko 10-Piece Alloy Screw... | 12.39  | AT7NTUUE9BSML  |\n",
       "| B000F9ANQW | Neiko 10-Piece Alloy Screw... | 12.39  | A2JR8LS8OIXHV3 |\n",
       "| B000F9ANQW | Neiko 10-Piece Alloy Screw... | 12.39  | A7CRJ48JQZGVY  |\n",
       "| B000F9ANQW | Neiko 10-Piece Alloy Screw... | 12.39  | A32X2KPT5D33WZ |\n",
       "| B000F9ANQW | Neiko 10-Piece Alloy Screw... | 12.39  | A29I9ZOKKI515D |\n",
       "| B000F9ANQW | Neiko 10-Piece Alloy Screw... | 12.39  | A31C2SWK541AQH |\n",
       "+------------+-------------------------------+--------+----------------+\n",
       "+--------------------------------+-------------+-------+------------+\n",
       "|          profileName           | helpfulness | score |    time    |\n",
       "+--------------------------------+-------------+-------+------------+\n",
       "|        Robert Campbell         |     0/0     |  1.0  | 1339113600 |\n",
       "|     T Foley \"computer guy\"     |     3/3     |  5.0  | 1248307200 |\n",
       "|       Spencer L. Cullen        |     1/1     |  5.0  | 1335398400 |\n",
       "| Kenneth W. Rohla \"Fresh An...  |     0/0     |  4.0  | 1357776000 |\n",
       "| S. Zuercher \"just your ave...  |     5/5     |  1.0  | 1218672000 |\n",
       "| Robert O. Harris \"Chrome I...  |     3/3     |  4.0  | 1285286400 |\n",
       "|    Scott X. Nguyen \"ocman\"     |     0/0     |  1.0  | 1356566400 |\n",
       "|              trev              |     0/0     |  4.0  | 1353283200 |\n",
       "|          Joseph \"JRJ\"          |     0/0     |  5.0  | 1345420800 |\n",
       "| L. E. Eismann \"Computer Maven\" |     0/0     |  4.0  | 1249603200 |\n",
       "+--------------------------------+-------------+-------+------------+\n",
       "+-------------------------------+-------------------------------+\n",
       "|            summary            |              text             |\n",
       "+-------------------------------+-------------------------------+\n",
       "| Either 1 or 5 Stars. Depen... | Either 1 or 5 Stars. Depen... |\n",
       "| I recommend this Sling Psy... | Not too much to say. This ... |\n",
       "|       A very useful tool      | Very good product. Got my ... |\n",
       "| Good Price, Fast Shipping,... | I ordered this angle iron ... |\n",
       "|          Cheaply made         | First time I tried the ext... |\n",
       "| Don't move, vibrate, tilt ... | I use these at my automoti... |\n",
       "|         Cheap material        | This tool is made of cheap... |\n",
       "| These are cobalt bits for ... | The true test for The bits... |\n",
       "| Worked perfectly. Carrying... | I had managed to strip the... |\n",
       "| Quality reverse drill bits... | Good little set of reverse... |\n",
       "+-------------------------------+-------------------------------+\n",
       "+-------------------------------+-----------+\n",
       "|           word_count          | sentiment |\n",
       "+-------------------------------+-----------+\n",
       "| {'and': 2, 'copper': 1, 'b... |     0     |\n",
       "| {'and': 2, 'stores': 1, 'a... |     1     |\n",
       "| {'and': 4, 'summer': 1, 'a... |     1     |\n",
       "| {'heavy': 1, 'and': 2, 'ou... |     1     |\n",
       "| {'and': 2, 'because': 1, '... |     0     |\n",
       "| {'rusted': 1, 'consider': ... |     1     |\n",
       "| {'and': 2, 'material': 1, ... |     0     |\n",
       "| {'and': 1, 'right': 1, 'th... |     1     |\n",
       "| {'managed': 1, '(counter-s... |     1     |\n",
       "| {'and': 2, 'set': 1, 'case... |     1     |\n",
       "+-------------------------------+-----------+\n",
       "[10 rows x 12 columns]"
      ]
     },
     "execution_count": 37,
     "metadata": {},
     "output_type": "execute_result"
    }
   ],
   "source": [
    "products = products[products['score'] != 3]\n",
    "products['sentiment'] = products['score'] >=4\n",
    "products.head()"
   ]
  },
  {
   "cell_type": "code",
   "execution_count": 38,
   "metadata": {
    "collapsed": true
   },
   "outputs": [],
   "source": [
    "train_data,test_data = products.random_split(.8, seed=0)"
   ]
  },
  {
   "cell_type": "code",
   "execution_count": 39,
   "metadata": {
    "collapsed": false
   },
   "outputs": [
    {
     "data": {
      "text/html": [
       "<pre>WARNING: The number of feature dimensions in this problem is very large in comparison with the number of examples. Unless an appropriate regularization value is set, this model may not provide accurate predictions for a validation/test set.</pre>"
      ],
      "text/plain": [
       "WARNING: The number of feature dimensions in this problem is very large in comparison with the number of examples. Unless an appropriate regularization value is set, this model may not provide accurate predictions for a validation/test set."
      ]
     },
     "metadata": {},
     "output_type": "display_data"
    },
    {
     "data": {
      "text/html": [
       "<pre>Logistic regression:</pre>"
      ],
      "text/plain": [
       "Logistic regression:"
      ]
     },
     "metadata": {},
     "output_type": "display_data"
    },
    {
     "data": {
      "text/html": [
       "<pre>--------------------------------------------------------</pre>"
      ],
      "text/plain": [
       "--------------------------------------------------------"
      ]
     },
     "metadata": {},
     "output_type": "display_data"
    },
    {
     "data": {
      "text/html": [
       "<pre>Number of examples          : 428</pre>"
      ],
      "text/plain": [
       "Number of examples          : 428"
      ]
     },
     "metadata": {},
     "output_type": "display_data"
    },
    {
     "data": {
      "text/html": [
       "<pre>Number of classes           : 2</pre>"
      ],
      "text/plain": [
       "Number of classes           : 2"
      ]
     },
     "metadata": {},
     "output_type": "display_data"
    },
    {
     "data": {
      "text/html": [
       "<pre>Number of feature columns   : 1</pre>"
      ],
      "text/plain": [
       "Number of feature columns   : 1"
      ]
     },
     "metadata": {},
     "output_type": "display_data"
    },
    {
     "data": {
      "text/html": [
       "<pre>Number of unpacked features : 4566</pre>"
      ],
      "text/plain": [
       "Number of unpacked features : 4566"
      ]
     },
     "metadata": {},
     "output_type": "display_data"
    },
    {
     "data": {
      "text/html": [
       "<pre>Number of coefficients    : 4567</pre>"
      ],
      "text/plain": [
       "Number of coefficients    : 4567"
      ]
     },
     "metadata": {},
     "output_type": "display_data"
    },
    {
     "data": {
      "text/html": [
       "<pre>Starting L-BFGS</pre>"
      ],
      "text/plain": [
       "Starting L-BFGS"
      ]
     },
     "metadata": {},
     "output_type": "display_data"
    },
    {
     "data": {
      "text/html": [
       "<pre>--------------------------------------------------------</pre>"
      ],
      "text/plain": [
       "--------------------------------------------------------"
      ]
     },
     "metadata": {},
     "output_type": "display_data"
    },
    {
     "data": {
      "text/html": [
       "<pre>+-----------+----------+-----------+--------------+-------------------+---------------------+</pre>"
      ],
      "text/plain": [
       "+-----------+----------+-----------+--------------+-------------------+---------------------+"
      ]
     },
     "metadata": {},
     "output_type": "display_data"
    },
    {
     "data": {
      "text/html": [
       "<pre>| Iteration | Passes   | Step size | Elapsed Time | Training-accuracy | Validation-accuracy |</pre>"
      ],
      "text/plain": [
       "| Iteration | Passes   | Step size | Elapsed Time | Training-accuracy | Validation-accuracy |"
      ]
     },
     "metadata": {},
     "output_type": "display_data"
    },
    {
     "data": {
      "text/html": [
       "<pre>+-----------+----------+-----------+--------------+-------------------+---------------------+</pre>"
      ],
      "text/plain": [
       "+-----------+----------+-----------+--------------+-------------------+---------------------+"
      ]
     },
     "metadata": {},
     "output_type": "display_data"
    },
    {
     "data": {
      "text/html": [
       "<pre>| 1         | 3        | 0.002336  | 1.009792     | 0.962617          | 0.948276            |</pre>"
      ],
      "text/plain": [
       "| 1         | 3        | 0.002336  | 1.009792     | 0.962617          | 0.948276            |"
      ]
     },
     "metadata": {},
     "output_type": "display_data"
    },
    {
     "data": {
      "text/html": [
       "<pre>| 2         | 5        | 1.000000  | 1.017150     | 0.990654          | 0.965517            |</pre>"
      ],
      "text/plain": [
       "| 2         | 5        | 1.000000  | 1.017150     | 0.990654          | 0.965517            |"
      ]
     },
     "metadata": {},
     "output_type": "display_data"
    },
    {
     "data": {
      "text/html": [
       "<pre>| 3         | 6        | 1.000000  | 1.021870     | 1.000000          | 0.965517            |</pre>"
      ],
      "text/plain": [
       "| 3         | 6        | 1.000000  | 1.021870     | 1.000000          | 0.965517            |"
      ]
     },
     "metadata": {},
     "output_type": "display_data"
    },
    {
     "data": {
      "text/html": [
       "<pre>| 4         | 7        | 1.000000  | 1.026554     | 1.000000          | 0.965517            |</pre>"
      ],
      "text/plain": [
       "| 4         | 7        | 1.000000  | 1.026554     | 1.000000          | 0.965517            |"
      ]
     },
     "metadata": {},
     "output_type": "display_data"
    },
    {
     "data": {
      "text/html": [
       "<pre>| 5         | 8        | 1.000000  | 1.031226     | 1.000000          | 0.965517            |</pre>"
      ],
      "text/plain": [
       "| 5         | 8        | 1.000000  | 1.031226     | 1.000000          | 0.965517            |"
      ]
     },
     "metadata": {},
     "output_type": "display_data"
    },
    {
     "data": {
      "text/html": [
       "<pre>| 6         | 9        | 1.000000  | 1.036062     | 1.000000          | 0.965517            |</pre>"
      ],
      "text/plain": [
       "| 6         | 9        | 1.000000  | 1.036062     | 1.000000          | 0.965517            |"
      ]
     },
     "metadata": {},
     "output_type": "display_data"
    },
    {
     "data": {
      "text/html": [
       "<pre>+-----------+----------+-----------+--------------+-------------------+---------------------+</pre>"
      ],
      "text/plain": [
       "+-----------+----------+-----------+--------------+-------------------+---------------------+"
      ]
     },
     "metadata": {},
     "output_type": "display_data"
    },
    {
     "data": {
      "text/html": [
       "<pre>SUCCESS: Optimal solution found.</pre>"
      ],
      "text/plain": [
       "SUCCESS: Optimal solution found."
      ]
     },
     "metadata": {},
     "output_type": "display_data"
    },
    {
     "data": {
      "text/html": [
       "<pre></pre>"
      ],
      "text/plain": []
     },
     "metadata": {},
     "output_type": "display_data"
    }
   ],
   "source": [
    "sentiment_model = graphlab.logistic_classifier.create(train_data,\n",
    "                                                     target='sentiment',\n",
    "                                                     features=['word_count'],\n",
    "                                                     validation_set=test_data)"
   ]
  },
  {
   "cell_type": "code",
   "execution_count": 40,
   "metadata": {
    "collapsed": false
   },
   "outputs": [
    {
     "data": {
      "text/plain": [
       "{'roc_curve': Columns:\n",
       " \tthreshold\tfloat\n",
       " \tfpr\tfloat\n",
       " \ttpr\tfloat\n",
       " \tp\tint\n",
       " \tn\tint\n",
       " \n",
       " Rows: 100001\n",
       " \n",
       " Data:\n",
       " +-----------+----------------+-----+-----+---+\n",
       " | threshold |      fpr       | tpr |  p  | n |\n",
       " +-----------+----------------+-----+-----+---+\n",
       " |    0.0    |      1.0       | 1.0 | 110 | 6 |\n",
       " |   1e-05   | 0.666666666667 | 1.0 | 110 | 6 |\n",
       " |   2e-05   | 0.666666666667 | 1.0 | 110 | 6 |\n",
       " |   3e-05   | 0.666666666667 | 1.0 | 110 | 6 |\n",
       " |   4e-05   | 0.666666666667 | 1.0 | 110 | 6 |\n",
       " |   5e-05   | 0.666666666667 | 1.0 | 110 | 6 |\n",
       " |   6e-05   | 0.666666666667 | 1.0 | 110 | 6 |\n",
       " |   7e-05   | 0.666666666667 | 1.0 | 110 | 6 |\n",
       " |   8e-05   | 0.666666666667 | 1.0 | 110 | 6 |\n",
       " |   9e-05   | 0.666666666667 | 1.0 | 110 | 6 |\n",
       " +-----------+----------------+-----+-----+---+\n",
       " [100001 rows x 5 columns]\n",
       " Note: Only the head of the SFrame is printed.\n",
       " You can use print_rows(num_rows=m, num_columns=n) to print more rows and columns.}"
      ]
     },
     "execution_count": 40,
     "metadata": {},
     "output_type": "execute_result"
    }
   ],
   "source": [
    "sentiment_model.evaluate(test_data, metric='roc_curve')"
   ]
  },
  {
   "cell_type": "code",
   "execution_count": 41,
   "metadata": {
    "collapsed": false
   },
   "outputs": [
    {
     "data": {
      "application/javascript": [
       "$(\"head\").append($(\"<link/>\").attr({\n",
       "  rel:  \"stylesheet\",\n",
       "  type: \"text/css\",\n",
       "  href: \"//cdnjs.cloudflare.com/ajax/libs/font-awesome/4.1.0/css/font-awesome.min.css\"\n",
       "}));\n",
       "$(\"head\").append($(\"<link/>\").attr({\n",
       "  rel:  \"stylesheet\",\n",
       "  type: \"text/css\",\n",
       "  href: \"https://static.turi.com/products/graphlab-create/2.1/canvas/css/canvas.css\"\n",
       "}));\n",
       "\n",
       "            (function(){\n",
       "\n",
       "                var e = null;\n",
       "                if (typeof element == 'undefined') {\n",
       "                    var scripts = document.getElementsByTagName('script');\n",
       "                    var thisScriptTag = scripts[scripts.length-1];\n",
       "                    var parentDiv = thisScriptTag.parentNode;\n",
       "                    e = document.createElement('div');\n",
       "                    parentDiv.appendChild(e);\n",
       "                } else {\n",
       "                    e = element[0];\n",
       "                }\n",
       "\n",
       "                if (typeof requirejs !== 'undefined') {\n",
       "                    // disable load timeout; ipython_app.js is large and can take a while to load.\n",
       "                    requirejs.config({waitSeconds: 0});\n",
       "                }\n",
       "\n",
       "                require(['https://static.turi.com/products/graphlab-create/2.1/canvas/js/ipython_app.js'], function(IPythonApp){\n",
       "                    var app = new IPythonApp();\n",
       "                    app.attachView('model','Evaluation', {\"comparison\": null, \"selected_variable\": {\"comparison\": null, \"name\": [\"sentiment_model\"], \"view_file\": \"model\", \"view_component\": \"Evaluation\", \"view_params\": {\"model_type\": \"regression\", \"view\": \"Evaluation\"}, \"view_components\": [\"Summary\", \"Evaluation\", \"Comparison\"], \"model_type\": \"regression\", \"attributes\": {\"section_titles\": [\"Schema\", \"Hyperparameters\", \"Training Summary\", \"Settings\", \"Highest Positive Coefficients\", \"Lowest Negative Coefficients\"], \"sections\": [[[\"Number of coefficients\", 4567], [\"Number of examples\", 428], [\"Number of classes\", 2], [\"Number of feature columns\", 1], [\"Number of unpacked features\", 4566]], [[\"L1 penalty\", 0.0], [\"L2 penalty\", 0.01]], [[\"Solver\", \"lbfgs\"], [\"Solver iterations\", 9], [\"Solver status\", \"SUCCESS: Optimal solution found.\"], [\"Training time (sec)\", 1.0516]], [[\"Log-likelihood\", 0.0113]], [[\"word_count[travelling]\", 2.647], [\"word_count[kid.]\", 2.1648], [\"word_count[slight]\", 1.8996], [\"word_count[wanted.]\", 1.8606], [\"word_count[meets]\", 1.6025]], [[\"word_count[n't]\", -3.2608], [\"word_count[doubt]\", -3.2608], [\"word_count[can,]\", -3.2608], [\"word_count[walk.i]\", -2.7917], [\"word_count[thin).]\", -2.7917]]]}, \"evaluations\": [[\"test_data\", {\"roc_curve\": [{\"threshold\": 0.0, \"p\": 110, \"fpr\": 1.0, \"tpr\": 1.0, \"n\": 6}, {\"threshold\": 0.001, \"p\": 110, \"fpr\": 0.6666666666666666, \"tpr\": 1.0, \"n\": 6}, {\"threshold\": 0.002, \"p\": 110, \"fpr\": 0.6666666666666666, \"tpr\": 1.0, \"n\": 6}, {\"threshold\": 0.003, \"p\": 110, \"fpr\": 0.6666666666666666, \"tpr\": 1.0, \"n\": 6}, {\"threshold\": 0.004, \"p\": 110, \"fpr\": 0.6666666666666666, \"tpr\": 1.0, \"n\": 6}, {\"threshold\": 0.005, \"p\": 110, \"fpr\": 0.6666666666666666, \"tpr\": 1.0, \"n\": 6}, {\"threshold\": 0.006, \"p\": 110, \"fpr\": 0.6666666666666666, \"tpr\": 1.0, \"n\": 6}, {\"threshold\": 0.007, \"p\": 110, \"fpr\": 0.6666666666666666, \"tpr\": 1.0, \"n\": 6}, {\"threshold\": 0.008, \"p\": 110, \"fpr\": 0.6666666666666666, \"tpr\": 1.0, \"n\": 6}, {\"threshold\": 0.009, \"p\": 110, \"fpr\": 0.6666666666666666, \"tpr\": 1.0, \"n\": 6}, {\"threshold\": 0.01, \"p\": 110, \"fpr\": 0.6666666666666666, \"tpr\": 1.0, \"n\": 6}, {\"threshold\": 0.011, \"p\": 110, \"fpr\": 0.6666666666666666, \"tpr\": 1.0, \"n\": 6}, {\"threshold\": 0.012, \"p\": 110, \"fpr\": 0.6666666666666666, \"tpr\": 1.0, \"n\": 6}, {\"threshold\": 0.013, \"p\": 110, \"fpr\": 0.6666666666666666, \"tpr\": 1.0, \"n\": 6}, {\"threshold\": 0.014, \"p\": 110, \"fpr\": 0.6666666666666666, \"tpr\": 1.0, \"n\": 6}, {\"threshold\": 0.015, \"p\": 110, \"fpr\": 0.6666666666666666, \"tpr\": 1.0, \"n\": 6}, {\"threshold\": 0.016, \"p\": 110, \"fpr\": 0.6666666666666666, \"tpr\": 1.0, \"n\": 6}, {\"threshold\": 0.017, \"p\": 110, \"fpr\": 0.6666666666666666, \"tpr\": 1.0, \"n\": 6}, {\"threshold\": 0.018, \"p\": 110, \"fpr\": 0.6666666666666666, \"tpr\": 1.0, \"n\": 6}, {\"threshold\": 0.019, \"p\": 110, \"fpr\": 0.6666666666666666, \"tpr\": 1.0, \"n\": 6}, {\"threshold\": 0.02, \"p\": 110, \"fpr\": 0.6666666666666666, \"tpr\": 1.0, \"n\": 6}, {\"threshold\": 0.021, \"p\": 110, \"fpr\": 0.6666666666666666, \"tpr\": 1.0, \"n\": 6}, {\"threshold\": 0.022, \"p\": 110, \"fpr\": 0.6666666666666666, \"tpr\": 1.0, \"n\": 6}, {\"threshold\": 0.023, \"p\": 110, \"fpr\": 0.6666666666666666, \"tpr\": 1.0, \"n\": 6}, {\"threshold\": 0.024, \"p\": 110, \"fpr\": 0.6666666666666666, \"tpr\": 1.0, \"n\": 6}, {\"threshold\": 0.025, \"p\": 110, \"fpr\": 0.6666666666666666, \"tpr\": 1.0, \"n\": 6}, {\"threshold\": 0.026, \"p\": 110, \"fpr\": 0.6666666666666666, \"tpr\": 1.0, \"n\": 6}, {\"threshold\": 0.027, \"p\": 110, \"fpr\": 0.6666666666666666, \"tpr\": 1.0, \"n\": 6}, {\"threshold\": 0.028, \"p\": 110, \"fpr\": 0.6666666666666666, \"tpr\": 1.0, \"n\": 6}, {\"threshold\": 0.029, \"p\": 110, \"fpr\": 0.6666666666666666, \"tpr\": 1.0, \"n\": 6}, {\"threshold\": 0.03, \"p\": 110, \"fpr\": 0.6666666666666666, \"tpr\": 1.0, \"n\": 6}, {\"threshold\": 0.031, \"p\": 110, \"fpr\": 0.6666666666666666, \"tpr\": 1.0, \"n\": 6}, {\"threshold\": 0.032, \"p\": 110, \"fpr\": 0.6666666666666666, \"tpr\": 1.0, \"n\": 6}, {\"threshold\": 0.033, \"p\": 110, \"fpr\": 0.6666666666666666, \"tpr\": 1.0, \"n\": 6}, {\"threshold\": 0.034, \"p\": 110, \"fpr\": 0.6666666666666666, \"tpr\": 1.0, \"n\": 6}, {\"threshold\": 0.035, \"p\": 110, \"fpr\": 0.6666666666666666, \"tpr\": 1.0, \"n\": 6}, {\"threshold\": 0.036, \"p\": 110, \"fpr\": 0.6666666666666666, \"tpr\": 1.0, \"n\": 6}, {\"threshold\": 0.037, \"p\": 110, \"fpr\": 0.6666666666666666, \"tpr\": 1.0, \"n\": 6}, {\"threshold\": 0.038, \"p\": 110, \"fpr\": 0.6666666666666666, \"tpr\": 1.0, \"n\": 6}, {\"threshold\": 0.039, \"p\": 110, \"fpr\": 0.6666666666666666, \"tpr\": 1.0, \"n\": 6}, {\"threshold\": 0.04, \"p\": 110, \"fpr\": 0.6666666666666666, \"tpr\": 1.0, \"n\": 6}, {\"threshold\": 0.041, \"p\": 110, \"fpr\": 0.6666666666666666, \"tpr\": 1.0, \"n\": 6}, {\"threshold\": 0.042, \"p\": 110, \"fpr\": 0.6666666666666666, \"tpr\": 1.0, \"n\": 6}, {\"threshold\": 0.043, \"p\": 110, \"fpr\": 0.6666666666666666, \"tpr\": 1.0, \"n\": 6}, {\"threshold\": 0.044, \"p\": 110, \"fpr\": 0.6666666666666666, \"tpr\": 1.0, \"n\": 6}, {\"threshold\": 0.045, \"p\": 110, \"fpr\": 0.6666666666666666, \"tpr\": 1.0, \"n\": 6}, {\"threshold\": 0.046, \"p\": 110, \"fpr\": 0.6666666666666666, \"tpr\": 1.0, \"n\": 6}, {\"threshold\": 0.047, \"p\": 110, \"fpr\": 0.6666666666666666, \"tpr\": 1.0, \"n\": 6}, {\"threshold\": 0.048, \"p\": 110, \"fpr\": 0.6666666666666666, \"tpr\": 1.0, \"n\": 6}, {\"threshold\": 0.049, \"p\": 110, \"fpr\": 0.6666666666666666, \"tpr\": 1.0, \"n\": 6}, {\"threshold\": 0.05, \"p\": 110, \"fpr\": 0.6666666666666666, \"tpr\": 1.0, \"n\": 6}, {\"threshold\": 0.051, \"p\": 110, \"fpr\": 0.6666666666666666, \"tpr\": 1.0, \"n\": 6}, {\"threshold\": 0.052, \"p\": 110, \"fpr\": 0.6666666666666666, \"tpr\": 1.0, \"n\": 6}, {\"threshold\": 0.053, \"p\": 110, \"fpr\": 0.6666666666666666, \"tpr\": 1.0, \"n\": 6}, {\"threshold\": 0.054, \"p\": 110, \"fpr\": 0.6666666666666666, \"tpr\": 1.0, \"n\": 6}, {\"threshold\": 0.055, \"p\": 110, \"fpr\": 0.6666666666666666, \"tpr\": 1.0, \"n\": 6}, {\"threshold\": 0.056, \"p\": 110, \"fpr\": 0.6666666666666666, \"tpr\": 1.0, \"n\": 6}, {\"threshold\": 0.057, \"p\": 110, \"fpr\": 0.6666666666666666, \"tpr\": 1.0, \"n\": 6}, {\"threshold\": 0.058, \"p\": 110, \"fpr\": 0.6666666666666666, \"tpr\": 1.0, \"n\": 6}, {\"threshold\": 0.059, \"p\": 110, \"fpr\": 0.6666666666666666, \"tpr\": 1.0, \"n\": 6}, {\"threshold\": 0.06, \"p\": 110, \"fpr\": 0.6666666666666666, \"tpr\": 1.0, \"n\": 6}, {\"threshold\": 0.061, \"p\": 110, \"fpr\": 0.6666666666666666, \"tpr\": 1.0, \"n\": 6}, {\"threshold\": 0.062, \"p\": 110, \"fpr\": 0.6666666666666666, \"tpr\": 1.0, \"n\": 6}, {\"threshold\": 0.063, \"p\": 110, \"fpr\": 0.6666666666666666, \"tpr\": 1.0, \"n\": 6}, {\"threshold\": 0.064, \"p\": 110, \"fpr\": 0.6666666666666666, \"tpr\": 1.0, \"n\": 6}, {\"threshold\": 0.065, \"p\": 110, \"fpr\": 0.6666666666666666, \"tpr\": 1.0, \"n\": 6}, {\"threshold\": 0.066, \"p\": 110, \"fpr\": 0.6666666666666666, \"tpr\": 1.0, \"n\": 6}, {\"threshold\": 0.067, \"p\": 110, \"fpr\": 0.6666666666666666, \"tpr\": 1.0, \"n\": 6}, {\"threshold\": 0.068, \"p\": 110, \"fpr\": 0.6666666666666666, \"tpr\": 1.0, \"n\": 6}, {\"threshold\": 0.069, \"p\": 110, \"fpr\": 0.6666666666666666, \"tpr\": 1.0, \"n\": 6}, {\"threshold\": 0.07, \"p\": 110, \"fpr\": 0.6666666666666666, \"tpr\": 1.0, \"n\": 6}, {\"threshold\": 0.071, \"p\": 110, \"fpr\": 0.6666666666666666, \"tpr\": 1.0, \"n\": 6}, {\"threshold\": 0.072, \"p\": 110, \"fpr\": 0.6666666666666666, \"tpr\": 1.0, \"n\": 6}, {\"threshold\": 0.073, \"p\": 110, \"fpr\": 0.6666666666666666, \"tpr\": 1.0, \"n\": 6}, {\"threshold\": 0.074, \"p\": 110, \"fpr\": 0.6666666666666666, \"tpr\": 1.0, \"n\": 6}, {\"threshold\": 0.075, \"p\": 110, \"fpr\": 0.6666666666666666, \"tpr\": 1.0, \"n\": 6}, {\"threshold\": 0.076, \"p\": 110, \"fpr\": 0.6666666666666666, \"tpr\": 1.0, \"n\": 6}, {\"threshold\": 0.077, \"p\": 110, \"fpr\": 0.6666666666666666, \"tpr\": 1.0, \"n\": 6}, {\"threshold\": 0.078, \"p\": 110, \"fpr\": 0.6666666666666666, \"tpr\": 1.0, \"n\": 6}, {\"threshold\": 0.079, \"p\": 110, \"fpr\": 0.6666666666666666, \"tpr\": 1.0, \"n\": 6}, {\"threshold\": 0.08, \"p\": 110, \"fpr\": 0.6666666666666666, \"tpr\": 1.0, \"n\": 6}, {\"threshold\": 0.081, \"p\": 110, \"fpr\": 0.6666666666666666, \"tpr\": 1.0, \"n\": 6}, {\"threshold\": 0.082, \"p\": 110, \"fpr\": 0.6666666666666666, \"tpr\": 1.0, \"n\": 6}, {\"threshold\": 0.083, \"p\": 110, \"fpr\": 0.6666666666666666, \"tpr\": 1.0, \"n\": 6}, {\"threshold\": 0.084, \"p\": 110, \"fpr\": 0.6666666666666666, \"tpr\": 1.0, \"n\": 6}, {\"threshold\": 0.085, \"p\": 110, \"fpr\": 0.6666666666666666, \"tpr\": 1.0, \"n\": 6}, {\"threshold\": 0.086, \"p\": 110, \"fpr\": 0.6666666666666666, \"tpr\": 1.0, \"n\": 6}, {\"threshold\": 0.087, \"p\": 110, \"fpr\": 0.6666666666666666, \"tpr\": 1.0, \"n\": 6}, {\"threshold\": 0.088, \"p\": 110, \"fpr\": 0.6666666666666666, \"tpr\": 1.0, \"n\": 6}, {\"threshold\": 0.089, \"p\": 110, \"fpr\": 0.6666666666666666, \"tpr\": 1.0, \"n\": 6}, {\"threshold\": 0.09, \"p\": 110, \"fpr\": 0.6666666666666666, \"tpr\": 1.0, \"n\": 6}, {\"threshold\": 0.091, \"p\": 110, \"fpr\": 0.6666666666666666, \"tpr\": 1.0, \"n\": 6}, {\"threshold\": 0.092, \"p\": 110, \"fpr\": 0.6666666666666666, \"tpr\": 1.0, \"n\": 6}, {\"threshold\": 0.093, \"p\": 110, \"fpr\": 0.6666666666666666, \"tpr\": 1.0, \"n\": 6}, {\"threshold\": 0.094, \"p\": 110, \"fpr\": 0.6666666666666666, \"tpr\": 1.0, \"n\": 6}, {\"threshold\": 0.095, \"p\": 110, \"fpr\": 0.6666666666666666, \"tpr\": 1.0, \"n\": 6}, {\"threshold\": 0.096, \"p\": 110, \"fpr\": 0.6666666666666666, \"tpr\": 1.0, \"n\": 6}, {\"threshold\": 0.097, \"p\": 110, \"fpr\": 0.6666666666666666, \"tpr\": 1.0, \"n\": 6}, {\"threshold\": 0.098, \"p\": 110, \"fpr\": 0.6666666666666666, \"tpr\": 1.0, \"n\": 6}, {\"threshold\": 0.099, \"p\": 110, \"fpr\": 0.6666666666666666, \"tpr\": 1.0, \"n\": 6}, {\"threshold\": 0.1, \"p\": 110, \"fpr\": 0.6666666666666666, \"tpr\": 1.0, \"n\": 6}, {\"threshold\": 0.101, \"p\": 110, \"fpr\": 0.6666666666666666, \"tpr\": 1.0, \"n\": 6}, {\"threshold\": 0.102, \"p\": 110, \"fpr\": 0.6666666666666666, \"tpr\": 1.0, \"n\": 6}, {\"threshold\": 0.103, \"p\": 110, \"fpr\": 0.6666666666666666, \"tpr\": 1.0, \"n\": 6}, {\"threshold\": 0.104, \"p\": 110, \"fpr\": 0.6666666666666666, \"tpr\": 1.0, \"n\": 6}, {\"threshold\": 0.105, \"p\": 110, \"fpr\": 0.6666666666666666, \"tpr\": 1.0, \"n\": 6}, {\"threshold\": 0.106, \"p\": 110, \"fpr\": 0.6666666666666666, \"tpr\": 1.0, \"n\": 6}, {\"threshold\": 0.107, \"p\": 110, \"fpr\": 0.6666666666666666, \"tpr\": 1.0, \"n\": 6}, {\"threshold\": 0.108, \"p\": 110, \"fpr\": 0.6666666666666666, \"tpr\": 1.0, \"n\": 6}, {\"threshold\": 0.109, \"p\": 110, \"fpr\": 0.6666666666666666, \"tpr\": 1.0, \"n\": 6}, {\"threshold\": 0.11, \"p\": 110, \"fpr\": 0.6666666666666666, \"tpr\": 1.0, \"n\": 6}, {\"threshold\": 0.111, \"p\": 110, \"fpr\": 0.6666666666666666, \"tpr\": 1.0, \"n\": 6}, {\"threshold\": 0.112, \"p\": 110, \"fpr\": 0.6666666666666666, \"tpr\": 1.0, \"n\": 6}, {\"threshold\": 0.113, \"p\": 110, \"fpr\": 0.6666666666666666, \"tpr\": 1.0, \"n\": 6}, {\"threshold\": 0.114, \"p\": 110, \"fpr\": 0.6666666666666666, \"tpr\": 1.0, \"n\": 6}, {\"threshold\": 0.115, \"p\": 110, \"fpr\": 0.6666666666666666, \"tpr\": 1.0, \"n\": 6}, {\"threshold\": 0.116, \"p\": 110, \"fpr\": 0.6666666666666666, \"tpr\": 1.0, \"n\": 6}, {\"threshold\": 0.117, \"p\": 110, \"fpr\": 0.6666666666666666, \"tpr\": 1.0, \"n\": 6}, {\"threshold\": 0.118, \"p\": 110, \"fpr\": 0.6666666666666666, \"tpr\": 1.0, \"n\": 6}, {\"threshold\": 0.119, \"p\": 110, \"fpr\": 0.6666666666666666, \"tpr\": 1.0, \"n\": 6}, {\"threshold\": 0.12, \"p\": 110, \"fpr\": 0.6666666666666666, \"tpr\": 1.0, \"n\": 6}, {\"threshold\": 0.121, \"p\": 110, \"fpr\": 0.6666666666666666, \"tpr\": 1.0, \"n\": 6}, {\"threshold\": 0.122, \"p\": 110, \"fpr\": 0.6666666666666666, \"tpr\": 1.0, \"n\": 6}, {\"threshold\": 0.123, \"p\": 110, \"fpr\": 0.6666666666666666, \"tpr\": 1.0, \"n\": 6}, {\"threshold\": 0.124, \"p\": 110, \"fpr\": 0.6666666666666666, \"tpr\": 1.0, \"n\": 6}, {\"threshold\": 0.125, \"p\": 110, \"fpr\": 0.6666666666666666, \"tpr\": 1.0, \"n\": 6}, {\"threshold\": 0.126, \"p\": 110, \"fpr\": 0.6666666666666666, \"tpr\": 1.0, \"n\": 6}, {\"threshold\": 0.127, \"p\": 110, \"fpr\": 0.6666666666666666, \"tpr\": 1.0, \"n\": 6}, {\"threshold\": 0.128, \"p\": 110, \"fpr\": 0.6666666666666666, \"tpr\": 1.0, \"n\": 6}, {\"threshold\": 0.129, \"p\": 110, \"fpr\": 0.6666666666666666, \"tpr\": 1.0, \"n\": 6}, {\"threshold\": 0.13, \"p\": 110, \"fpr\": 0.6666666666666666, \"tpr\": 1.0, \"n\": 6}, {\"threshold\": 0.131, \"p\": 110, \"fpr\": 0.6666666666666666, \"tpr\": 1.0, \"n\": 6}, {\"threshold\": 0.132, \"p\": 110, \"fpr\": 0.6666666666666666, \"tpr\": 1.0, \"n\": 6}, {\"threshold\": 0.133, \"p\": 110, \"fpr\": 0.6666666666666666, \"tpr\": 1.0, \"n\": 6}, {\"threshold\": 0.134, \"p\": 110, \"fpr\": 0.6666666666666666, \"tpr\": 1.0, \"n\": 6}, {\"threshold\": 0.135, \"p\": 110, \"fpr\": 0.6666666666666666, \"tpr\": 1.0, \"n\": 6}, {\"threshold\": 0.136, \"p\": 110, \"fpr\": 0.6666666666666666, \"tpr\": 1.0, \"n\": 6}, {\"threshold\": 0.137, \"p\": 110, \"fpr\": 0.6666666666666666, \"tpr\": 1.0, \"n\": 6}, {\"threshold\": 0.138, \"p\": 110, \"fpr\": 0.6666666666666666, \"tpr\": 1.0, \"n\": 6}, {\"threshold\": 0.139, \"p\": 110, \"fpr\": 0.6666666666666666, \"tpr\": 1.0, \"n\": 6}, {\"threshold\": 0.14, \"p\": 110, \"fpr\": 0.6666666666666666, \"tpr\": 1.0, \"n\": 6}, {\"threshold\": 0.141, \"p\": 110, \"fpr\": 0.6666666666666666, \"tpr\": 1.0, \"n\": 6}, {\"threshold\": 0.142, \"p\": 110, \"fpr\": 0.6666666666666666, \"tpr\": 1.0, \"n\": 6}, {\"threshold\": 0.143, \"p\": 110, \"fpr\": 0.6666666666666666, \"tpr\": 1.0, \"n\": 6}, {\"threshold\": 0.144, \"p\": 110, \"fpr\": 0.6666666666666666, \"tpr\": 1.0, \"n\": 6}, {\"threshold\": 0.145, \"p\": 110, \"fpr\": 0.6666666666666666, \"tpr\": 1.0, \"n\": 6}, {\"threshold\": 0.146, \"p\": 110, \"fpr\": 0.6666666666666666, \"tpr\": 1.0, \"n\": 6}, {\"threshold\": 0.147, \"p\": 110, \"fpr\": 0.6666666666666666, \"tpr\": 1.0, \"n\": 6}, {\"threshold\": 0.148, \"p\": 110, \"fpr\": 0.6666666666666666, \"tpr\": 1.0, \"n\": 6}, {\"threshold\": 0.149, \"p\": 110, \"fpr\": 0.6666666666666666, \"tpr\": 1.0, \"n\": 6}, {\"threshold\": 0.15, \"p\": 110, \"fpr\": 0.6666666666666666, \"tpr\": 1.0, \"n\": 6}, {\"threshold\": 0.151, \"p\": 110, \"fpr\": 0.6666666666666666, \"tpr\": 1.0, \"n\": 6}, {\"threshold\": 0.152, \"p\": 110, \"fpr\": 0.6666666666666666, \"tpr\": 1.0, \"n\": 6}, {\"threshold\": 0.153, \"p\": 110, \"fpr\": 0.6666666666666666, \"tpr\": 1.0, \"n\": 6}, {\"threshold\": 0.154, \"p\": 110, \"fpr\": 0.6666666666666666, \"tpr\": 1.0, \"n\": 6}, {\"threshold\": 0.155, \"p\": 110, \"fpr\": 0.6666666666666666, \"tpr\": 1.0, \"n\": 6}, {\"threshold\": 0.156, \"p\": 110, \"fpr\": 0.6666666666666666, \"tpr\": 1.0, \"n\": 6}, {\"threshold\": 0.157, \"p\": 110, \"fpr\": 0.6666666666666666, \"tpr\": 1.0, \"n\": 6}, {\"threshold\": 0.158, \"p\": 110, \"fpr\": 0.6666666666666666, \"tpr\": 1.0, \"n\": 6}, {\"threshold\": 0.159, \"p\": 110, \"fpr\": 0.6666666666666666, \"tpr\": 1.0, \"n\": 6}, {\"threshold\": 0.16, \"p\": 110, \"fpr\": 0.6666666666666666, \"tpr\": 1.0, \"n\": 6}, {\"threshold\": 0.161, \"p\": 110, \"fpr\": 0.6666666666666666, \"tpr\": 1.0, \"n\": 6}, {\"threshold\": 0.162, \"p\": 110, \"fpr\": 0.6666666666666666, \"tpr\": 1.0, \"n\": 6}, {\"threshold\": 0.163, \"p\": 110, \"fpr\": 0.6666666666666666, \"tpr\": 1.0, \"n\": 6}, {\"threshold\": 0.164, \"p\": 110, \"fpr\": 0.6666666666666666, \"tpr\": 1.0, \"n\": 6}, {\"threshold\": 0.165, \"p\": 110, \"fpr\": 0.6666666666666666, \"tpr\": 1.0, \"n\": 6}, {\"threshold\": 0.166, \"p\": 110, \"fpr\": 0.6666666666666666, \"tpr\": 1.0, \"n\": 6}, {\"threshold\": 0.167, \"p\": 110, \"fpr\": 0.6666666666666666, \"tpr\": 1.0, \"n\": 6}, {\"threshold\": 0.168, \"p\": 110, \"fpr\": 0.6666666666666666, \"tpr\": 1.0, \"n\": 6}, {\"threshold\": 0.169, \"p\": 110, \"fpr\": 0.6666666666666666, \"tpr\": 1.0, \"n\": 6}, {\"threshold\": 0.17, \"p\": 110, \"fpr\": 0.6666666666666666, \"tpr\": 1.0, \"n\": 6}, {\"threshold\": 0.171, \"p\": 110, \"fpr\": 0.6666666666666666, \"tpr\": 1.0, \"n\": 6}, {\"threshold\": 0.172, \"p\": 110, \"fpr\": 0.6666666666666666, \"tpr\": 1.0, \"n\": 6}, {\"threshold\": 0.173, \"p\": 110, \"fpr\": 0.6666666666666666, \"tpr\": 1.0, \"n\": 6}, {\"threshold\": 0.174, \"p\": 110, \"fpr\": 0.6666666666666666, \"tpr\": 1.0, \"n\": 6}, {\"threshold\": 0.175, \"p\": 110, \"fpr\": 0.6666666666666666, \"tpr\": 1.0, \"n\": 6}, {\"threshold\": 0.176, \"p\": 110, \"fpr\": 0.6666666666666666, \"tpr\": 1.0, \"n\": 6}, {\"threshold\": 0.177, \"p\": 110, \"fpr\": 0.6666666666666666, \"tpr\": 1.0, \"n\": 6}, {\"threshold\": 0.178, \"p\": 110, \"fpr\": 0.6666666666666666, \"tpr\": 1.0, \"n\": 6}, {\"threshold\": 0.179, \"p\": 110, \"fpr\": 0.6666666666666666, \"tpr\": 1.0, \"n\": 6}, {\"threshold\": 0.18, \"p\": 110, \"fpr\": 0.6666666666666666, \"tpr\": 1.0, \"n\": 6}, {\"threshold\": 0.181, \"p\": 110, \"fpr\": 0.6666666666666666, \"tpr\": 1.0, \"n\": 6}, {\"threshold\": 0.182, \"p\": 110, \"fpr\": 0.6666666666666666, \"tpr\": 1.0, \"n\": 6}, {\"threshold\": 0.183, \"p\": 110, \"fpr\": 0.6666666666666666, \"tpr\": 1.0, \"n\": 6}, {\"threshold\": 0.184, \"p\": 110, \"fpr\": 0.6666666666666666, \"tpr\": 1.0, \"n\": 6}, {\"threshold\": 0.185, \"p\": 110, \"fpr\": 0.6666666666666666, \"tpr\": 1.0, \"n\": 6}, {\"threshold\": 0.186, \"p\": 110, \"fpr\": 0.6666666666666666, \"tpr\": 1.0, \"n\": 6}, {\"threshold\": 0.187, \"p\": 110, \"fpr\": 0.6666666666666666, \"tpr\": 1.0, \"n\": 6}, {\"threshold\": 0.188, \"p\": 110, \"fpr\": 0.6666666666666666, \"tpr\": 1.0, \"n\": 6}, {\"threshold\": 0.189, \"p\": 110, \"fpr\": 0.6666666666666666, \"tpr\": 1.0, \"n\": 6}, {\"threshold\": 0.19, \"p\": 110, \"fpr\": 0.6666666666666666, \"tpr\": 1.0, \"n\": 6}, {\"threshold\": 0.191, \"p\": 110, \"fpr\": 0.6666666666666666, \"tpr\": 1.0, \"n\": 6}, {\"threshold\": 0.192, \"p\": 110, \"fpr\": 0.6666666666666666, \"tpr\": 1.0, \"n\": 6}, {\"threshold\": 0.193, \"p\": 110, \"fpr\": 0.6666666666666666, \"tpr\": 1.0, \"n\": 6}, {\"threshold\": 0.194, \"p\": 110, \"fpr\": 0.6666666666666666, \"tpr\": 1.0, \"n\": 6}, {\"threshold\": 0.195, \"p\": 110, \"fpr\": 0.6666666666666666, \"tpr\": 1.0, \"n\": 6}, {\"threshold\": 0.196, \"p\": 110, \"fpr\": 0.6666666666666666, \"tpr\": 1.0, \"n\": 6}, {\"threshold\": 0.197, \"p\": 110, \"fpr\": 0.6666666666666666, \"tpr\": 1.0, \"n\": 6}, {\"threshold\": 0.198, \"p\": 110, \"fpr\": 0.6666666666666666, \"tpr\": 1.0, \"n\": 6}, {\"threshold\": 0.199, \"p\": 110, \"fpr\": 0.6666666666666666, \"tpr\": 1.0, \"n\": 6}, {\"threshold\": 0.2, \"p\": 110, \"fpr\": 0.6666666666666666, \"tpr\": 1.0, \"n\": 6}, {\"threshold\": 0.201, \"p\": 110, \"fpr\": 0.6666666666666666, \"tpr\": 1.0, \"n\": 6}, {\"threshold\": 0.202, \"p\": 110, \"fpr\": 0.6666666666666666, \"tpr\": 1.0, \"n\": 6}, {\"threshold\": 0.203, \"p\": 110, \"fpr\": 0.6666666666666666, \"tpr\": 1.0, \"n\": 6}, {\"threshold\": 0.204, \"p\": 110, \"fpr\": 0.6666666666666666, \"tpr\": 1.0, \"n\": 6}, {\"threshold\": 0.205, \"p\": 110, \"fpr\": 0.6666666666666666, \"tpr\": 1.0, \"n\": 6}, {\"threshold\": 0.206, \"p\": 110, \"fpr\": 0.6666666666666666, \"tpr\": 1.0, \"n\": 6}, {\"threshold\": 0.207, \"p\": 110, \"fpr\": 0.6666666666666666, \"tpr\": 1.0, \"n\": 6}, {\"threshold\": 0.208, \"p\": 110, \"fpr\": 0.6666666666666666, \"tpr\": 1.0, \"n\": 6}, {\"threshold\": 0.209, \"p\": 110, \"fpr\": 0.6666666666666666, \"tpr\": 1.0, \"n\": 6}, {\"threshold\": 0.21, \"p\": 110, \"fpr\": 0.6666666666666666, \"tpr\": 1.0, \"n\": 6}, {\"threshold\": 0.211, \"p\": 110, \"fpr\": 0.6666666666666666, \"tpr\": 1.0, \"n\": 6}, {\"threshold\": 0.212, \"p\": 110, \"fpr\": 0.6666666666666666, \"tpr\": 1.0, \"n\": 6}, {\"threshold\": 0.213, \"p\": 110, \"fpr\": 0.6666666666666666, \"tpr\": 1.0, \"n\": 6}, {\"threshold\": 0.214, \"p\": 110, \"fpr\": 0.6666666666666666, \"tpr\": 1.0, \"n\": 6}, {\"threshold\": 0.215, \"p\": 110, \"fpr\": 0.6666666666666666, \"tpr\": 1.0, \"n\": 6}, {\"threshold\": 0.216, \"p\": 110, \"fpr\": 0.6666666666666666, \"tpr\": 1.0, \"n\": 6}, {\"threshold\": 0.217, \"p\": 110, \"fpr\": 0.6666666666666666, \"tpr\": 1.0, \"n\": 6}, {\"threshold\": 0.218, \"p\": 110, \"fpr\": 0.6666666666666666, \"tpr\": 1.0, \"n\": 6}, {\"threshold\": 0.219, \"p\": 110, \"fpr\": 0.6666666666666666, \"tpr\": 1.0, \"n\": 6}, {\"threshold\": 0.22, \"p\": 110, \"fpr\": 0.6666666666666666, \"tpr\": 1.0, \"n\": 6}, {\"threshold\": 0.221, \"p\": 110, \"fpr\": 0.6666666666666666, \"tpr\": 1.0, \"n\": 6}, {\"threshold\": 0.222, \"p\": 110, \"fpr\": 0.6666666666666666, \"tpr\": 1.0, \"n\": 6}, {\"threshold\": 0.223, \"p\": 110, \"fpr\": 0.6666666666666666, \"tpr\": 1.0, \"n\": 6}, {\"threshold\": 0.224, \"p\": 110, \"fpr\": 0.6666666666666666, \"tpr\": 1.0, \"n\": 6}, {\"threshold\": 0.225, \"p\": 110, \"fpr\": 0.6666666666666666, \"tpr\": 1.0, \"n\": 6}, {\"threshold\": 0.226, \"p\": 110, \"fpr\": 0.6666666666666666, \"tpr\": 1.0, \"n\": 6}, {\"threshold\": 0.227, \"p\": 110, \"fpr\": 0.6666666666666666, \"tpr\": 1.0, \"n\": 6}, {\"threshold\": 0.228, \"p\": 110, \"fpr\": 0.6666666666666666, \"tpr\": 1.0, \"n\": 6}, {\"threshold\": 0.229, \"p\": 110, \"fpr\": 0.6666666666666666, \"tpr\": 1.0, \"n\": 6}, {\"threshold\": 0.23, \"p\": 110, \"fpr\": 0.6666666666666666, \"tpr\": 1.0, \"n\": 6}, {\"threshold\": 0.231, \"p\": 110, \"fpr\": 0.6666666666666666, \"tpr\": 1.0, \"n\": 6}, {\"threshold\": 0.232, \"p\": 110, \"fpr\": 0.6666666666666666, \"tpr\": 1.0, \"n\": 6}, {\"threshold\": 0.233, \"p\": 110, \"fpr\": 0.6666666666666666, \"tpr\": 1.0, \"n\": 6}, {\"threshold\": 0.234, \"p\": 110, \"fpr\": 0.6666666666666666, \"tpr\": 1.0, \"n\": 6}, {\"threshold\": 0.235, \"p\": 110, \"fpr\": 0.6666666666666666, \"tpr\": 1.0, \"n\": 6}, {\"threshold\": 0.236, \"p\": 110, \"fpr\": 0.6666666666666666, \"tpr\": 1.0, \"n\": 6}, {\"threshold\": 0.237, \"p\": 110, \"fpr\": 0.6666666666666666, \"tpr\": 1.0, \"n\": 6}, {\"threshold\": 0.238, \"p\": 110, \"fpr\": 0.6666666666666666, \"tpr\": 1.0, \"n\": 6}, {\"threshold\": 0.239, \"p\": 110, \"fpr\": 0.6666666666666666, \"tpr\": 1.0, \"n\": 6}, {\"threshold\": 0.24, \"p\": 110, \"fpr\": 0.6666666666666666, \"tpr\": 1.0, \"n\": 6}, {\"threshold\": 0.241, \"p\": 110, \"fpr\": 0.6666666666666666, \"tpr\": 1.0, \"n\": 6}, {\"threshold\": 0.242, \"p\": 110, \"fpr\": 0.6666666666666666, \"tpr\": 1.0, \"n\": 6}, {\"threshold\": 0.243, \"p\": 110, \"fpr\": 0.6666666666666666, \"tpr\": 1.0, \"n\": 6}, {\"threshold\": 0.244, \"p\": 110, \"fpr\": 0.6666666666666666, \"tpr\": 1.0, \"n\": 6}, {\"threshold\": 0.245, \"p\": 110, \"fpr\": 0.6666666666666666, \"tpr\": 1.0, \"n\": 6}, {\"threshold\": 0.246, \"p\": 110, \"fpr\": 0.6666666666666666, \"tpr\": 1.0, \"n\": 6}, {\"threshold\": 0.247, \"p\": 110, \"fpr\": 0.6666666666666666, \"tpr\": 1.0, \"n\": 6}, {\"threshold\": 0.248, \"p\": 110, \"fpr\": 0.6666666666666666, \"tpr\": 1.0, \"n\": 6}, {\"threshold\": 0.249, \"p\": 110, \"fpr\": 0.6666666666666666, \"tpr\": 1.0, \"n\": 6}, {\"threshold\": 0.25, \"p\": 110, \"fpr\": 0.6666666666666666, \"tpr\": 1.0, \"n\": 6}, {\"threshold\": 0.251, \"p\": 110, \"fpr\": 0.6666666666666666, \"tpr\": 1.0, \"n\": 6}, {\"threshold\": 0.252, \"p\": 110, \"fpr\": 0.6666666666666666, \"tpr\": 1.0, \"n\": 6}, {\"threshold\": 0.253, \"p\": 110, \"fpr\": 0.6666666666666666, \"tpr\": 1.0, \"n\": 6}, {\"threshold\": 0.254, \"p\": 110, \"fpr\": 0.6666666666666666, \"tpr\": 1.0, \"n\": 6}, {\"threshold\": 0.255, \"p\": 110, \"fpr\": 0.6666666666666666, \"tpr\": 1.0, \"n\": 6}, {\"threshold\": 0.256, \"p\": 110, \"fpr\": 0.6666666666666666, \"tpr\": 1.0, \"n\": 6}, {\"threshold\": 0.257, \"p\": 110, \"fpr\": 0.6666666666666666, \"tpr\": 1.0, \"n\": 6}, {\"threshold\": 0.258, \"p\": 110, \"fpr\": 0.6666666666666666, \"tpr\": 1.0, \"n\": 6}, {\"threshold\": 0.259, \"p\": 110, \"fpr\": 0.6666666666666666, \"tpr\": 1.0, \"n\": 6}, {\"threshold\": 0.26, \"p\": 110, \"fpr\": 0.6666666666666666, \"tpr\": 1.0, \"n\": 6}, {\"threshold\": 0.261, \"p\": 110, \"fpr\": 0.6666666666666666, \"tpr\": 1.0, \"n\": 6}, {\"threshold\": 0.262, \"p\": 110, \"fpr\": 0.6666666666666666, \"tpr\": 1.0, \"n\": 6}, {\"threshold\": 0.263, \"p\": 110, \"fpr\": 0.6666666666666666, \"tpr\": 1.0, \"n\": 6}, {\"threshold\": 0.264, \"p\": 110, \"fpr\": 0.6666666666666666, \"tpr\": 1.0, \"n\": 6}, {\"threshold\": 0.265, \"p\": 110, \"fpr\": 0.6666666666666666, \"tpr\": 1.0, \"n\": 6}, {\"threshold\": 0.266, \"p\": 110, \"fpr\": 0.6666666666666666, \"tpr\": 1.0, \"n\": 6}, {\"threshold\": 0.267, \"p\": 110, \"fpr\": 0.6666666666666666, \"tpr\": 1.0, \"n\": 6}, {\"threshold\": 0.268, \"p\": 110, \"fpr\": 0.6666666666666666, \"tpr\": 1.0, \"n\": 6}, {\"threshold\": 0.269, \"p\": 110, \"fpr\": 0.6666666666666666, \"tpr\": 1.0, \"n\": 6}, {\"threshold\": 0.27, \"p\": 110, \"fpr\": 0.6666666666666666, \"tpr\": 1.0, \"n\": 6}, {\"threshold\": 0.271, \"p\": 110, \"fpr\": 0.6666666666666666, \"tpr\": 1.0, \"n\": 6}, {\"threshold\": 0.272, \"p\": 110, \"fpr\": 0.6666666666666666, \"tpr\": 1.0, \"n\": 6}, {\"threshold\": 0.273, \"p\": 110, \"fpr\": 0.6666666666666666, \"tpr\": 1.0, \"n\": 6}, {\"threshold\": 0.274, \"p\": 110, \"fpr\": 0.6666666666666666, \"tpr\": 1.0, \"n\": 6}, {\"threshold\": 0.275, \"p\": 110, \"fpr\": 0.6666666666666666, \"tpr\": 1.0, \"n\": 6}, {\"threshold\": 0.276, \"p\": 110, \"fpr\": 0.6666666666666666, \"tpr\": 1.0, \"n\": 6}, {\"threshold\": 0.277, \"p\": 110, \"fpr\": 0.6666666666666666, \"tpr\": 1.0, \"n\": 6}, {\"threshold\": 0.278, \"p\": 110, \"fpr\": 0.6666666666666666, \"tpr\": 1.0, \"n\": 6}, {\"threshold\": 0.279, \"p\": 110, \"fpr\": 0.6666666666666666, \"tpr\": 1.0, \"n\": 6}, {\"threshold\": 0.28, \"p\": 110, \"fpr\": 0.6666666666666666, \"tpr\": 1.0, \"n\": 6}, {\"threshold\": 0.281, \"p\": 110, \"fpr\": 0.6666666666666666, \"tpr\": 1.0, \"n\": 6}, {\"threshold\": 0.282, \"p\": 110, \"fpr\": 0.6666666666666666, \"tpr\": 1.0, \"n\": 6}, {\"threshold\": 0.283, \"p\": 110, \"fpr\": 0.6666666666666666, \"tpr\": 1.0, \"n\": 6}, {\"threshold\": 0.284, \"p\": 110, \"fpr\": 0.6666666666666666, \"tpr\": 1.0, \"n\": 6}, {\"threshold\": 0.285, \"p\": 110, \"fpr\": 0.6666666666666666, \"tpr\": 1.0, \"n\": 6}, {\"threshold\": 0.286, \"p\": 110, \"fpr\": 0.6666666666666666, \"tpr\": 1.0, \"n\": 6}, {\"threshold\": 0.287, \"p\": 110, \"fpr\": 0.6666666666666666, \"tpr\": 1.0, \"n\": 6}, {\"threshold\": 0.288, \"p\": 110, \"fpr\": 0.6666666666666666, \"tpr\": 1.0, \"n\": 6}, {\"threshold\": 0.289, \"p\": 110, \"fpr\": 0.6666666666666666, \"tpr\": 1.0, \"n\": 6}, {\"threshold\": 0.29, \"p\": 110, \"fpr\": 0.6666666666666666, \"tpr\": 1.0, \"n\": 6}, {\"threshold\": 0.291, \"p\": 110, \"fpr\": 0.6666666666666666, \"tpr\": 1.0, \"n\": 6}, {\"threshold\": 0.292, \"p\": 110, \"fpr\": 0.6666666666666666, \"tpr\": 1.0, \"n\": 6}, {\"threshold\": 0.293, \"p\": 110, \"fpr\": 0.6666666666666666, \"tpr\": 1.0, \"n\": 6}, {\"threshold\": 0.294, \"p\": 110, \"fpr\": 0.6666666666666666, \"tpr\": 1.0, \"n\": 6}, {\"threshold\": 0.295, \"p\": 110, \"fpr\": 0.6666666666666666, \"tpr\": 1.0, \"n\": 6}, {\"threshold\": 0.296, \"p\": 110, \"fpr\": 0.6666666666666666, \"tpr\": 1.0, \"n\": 6}, {\"threshold\": 0.297, \"p\": 110, \"fpr\": 0.6666666666666666, \"tpr\": 1.0, \"n\": 6}, {\"threshold\": 0.298, \"p\": 110, \"fpr\": 0.6666666666666666, \"tpr\": 1.0, \"n\": 6}, {\"threshold\": 0.299, \"p\": 110, \"fpr\": 0.6666666666666666, \"tpr\": 1.0, \"n\": 6}, {\"threshold\": 0.3, \"p\": 110, \"fpr\": 0.6666666666666666, \"tpr\": 1.0, \"n\": 6}, {\"threshold\": 0.301, \"p\": 110, \"fpr\": 0.6666666666666666, \"tpr\": 1.0, \"n\": 6}, {\"threshold\": 0.302, \"p\": 110, \"fpr\": 0.6666666666666666, \"tpr\": 1.0, \"n\": 6}, {\"threshold\": 0.303, \"p\": 110, \"fpr\": 0.6666666666666666, \"tpr\": 1.0, \"n\": 6}, {\"threshold\": 0.304, \"p\": 110, \"fpr\": 0.6666666666666666, \"tpr\": 1.0, \"n\": 6}, {\"threshold\": 0.305, \"p\": 110, \"fpr\": 0.6666666666666666, \"tpr\": 1.0, \"n\": 6}, {\"threshold\": 0.306, \"p\": 110, \"fpr\": 0.6666666666666666, \"tpr\": 1.0, \"n\": 6}, {\"threshold\": 0.307, \"p\": 110, \"fpr\": 0.6666666666666666, \"tpr\": 1.0, \"n\": 6}, {\"threshold\": 0.308, \"p\": 110, \"fpr\": 0.6666666666666666, \"tpr\": 1.0, \"n\": 6}, {\"threshold\": 0.309, \"p\": 110, \"fpr\": 0.6666666666666666, \"tpr\": 1.0, \"n\": 6}, {\"threshold\": 0.31, \"p\": 110, \"fpr\": 0.6666666666666666, \"tpr\": 1.0, \"n\": 6}, {\"threshold\": 0.311, \"p\": 110, \"fpr\": 0.6666666666666666, \"tpr\": 1.0, \"n\": 6}, {\"threshold\": 0.312, \"p\": 110, \"fpr\": 0.6666666666666666, \"tpr\": 1.0, \"n\": 6}, {\"threshold\": 0.313, \"p\": 110, \"fpr\": 0.6666666666666666, \"tpr\": 1.0, \"n\": 6}, {\"threshold\": 0.314, \"p\": 110, \"fpr\": 0.6666666666666666, \"tpr\": 1.0, \"n\": 6}, {\"threshold\": 0.315, \"p\": 110, \"fpr\": 0.6666666666666666, \"tpr\": 1.0, \"n\": 6}, {\"threshold\": 0.316, \"p\": 110, \"fpr\": 0.6666666666666666, \"tpr\": 1.0, \"n\": 6}, {\"threshold\": 0.317, \"p\": 110, \"fpr\": 0.6666666666666666, \"tpr\": 1.0, \"n\": 6}, {\"threshold\": 0.318, \"p\": 110, \"fpr\": 0.6666666666666666, \"tpr\": 1.0, \"n\": 6}, {\"threshold\": 0.319, \"p\": 110, \"fpr\": 0.6666666666666666, \"tpr\": 1.0, \"n\": 6}, {\"threshold\": 0.32, \"p\": 110, \"fpr\": 0.6666666666666666, \"tpr\": 1.0, \"n\": 6}, {\"threshold\": 0.321, \"p\": 110, \"fpr\": 0.6666666666666666, \"tpr\": 1.0, \"n\": 6}, {\"threshold\": 0.322, \"p\": 110, \"fpr\": 0.6666666666666666, \"tpr\": 1.0, \"n\": 6}, {\"threshold\": 0.323, \"p\": 110, \"fpr\": 0.6666666666666666, \"tpr\": 1.0, \"n\": 6}, {\"threshold\": 0.324, \"p\": 110, \"fpr\": 0.6666666666666666, \"tpr\": 1.0, \"n\": 6}, {\"threshold\": 0.325, \"p\": 110, \"fpr\": 0.6666666666666666, \"tpr\": 1.0, \"n\": 6}, {\"threshold\": 0.326, \"p\": 110, \"fpr\": 0.6666666666666666, \"tpr\": 1.0, \"n\": 6}, {\"threshold\": 0.327, \"p\": 110, \"fpr\": 0.6666666666666666, \"tpr\": 1.0, \"n\": 6}, {\"threshold\": 0.328, \"p\": 110, \"fpr\": 0.6666666666666666, \"tpr\": 1.0, \"n\": 6}, {\"threshold\": 0.329, \"p\": 110, \"fpr\": 0.6666666666666666, \"tpr\": 1.0, \"n\": 6}, {\"threshold\": 0.33, \"p\": 110, \"fpr\": 0.6666666666666666, \"tpr\": 1.0, \"n\": 6}, {\"threshold\": 0.331, \"p\": 110, \"fpr\": 0.6666666666666666, \"tpr\": 1.0, \"n\": 6}, {\"threshold\": 0.332, \"p\": 110, \"fpr\": 0.6666666666666666, \"tpr\": 1.0, \"n\": 6}, {\"threshold\": 0.333, \"p\": 110, \"fpr\": 0.6666666666666666, \"tpr\": 1.0, \"n\": 6}, {\"threshold\": 0.334, \"p\": 110, \"fpr\": 0.6666666666666666, \"tpr\": 1.0, \"n\": 6}, {\"threshold\": 0.335, \"p\": 110, \"fpr\": 0.6666666666666666, \"tpr\": 1.0, \"n\": 6}, {\"threshold\": 0.336, \"p\": 110, \"fpr\": 0.6666666666666666, \"tpr\": 1.0, \"n\": 6}, {\"threshold\": 0.337, \"p\": 110, \"fpr\": 0.6666666666666666, \"tpr\": 1.0, \"n\": 6}, {\"threshold\": 0.338, \"p\": 110, \"fpr\": 0.6666666666666666, \"tpr\": 1.0, \"n\": 6}, {\"threshold\": 0.339, \"p\": 110, \"fpr\": 0.6666666666666666, \"tpr\": 1.0, \"n\": 6}, {\"threshold\": 0.34, \"p\": 110, \"fpr\": 0.6666666666666666, \"tpr\": 1.0, \"n\": 6}, {\"threshold\": 0.341, \"p\": 110, \"fpr\": 0.6666666666666666, \"tpr\": 1.0, \"n\": 6}, {\"threshold\": 0.342, \"p\": 110, \"fpr\": 0.6666666666666666, \"tpr\": 1.0, \"n\": 6}, {\"threshold\": 0.343, \"p\": 110, \"fpr\": 0.6666666666666666, \"tpr\": 1.0, \"n\": 6}, {\"threshold\": 0.344, \"p\": 110, \"fpr\": 0.6666666666666666, \"tpr\": 1.0, \"n\": 6}, {\"threshold\": 0.345, \"p\": 110, \"fpr\": 0.6666666666666666, \"tpr\": 1.0, \"n\": 6}, {\"threshold\": 0.346, \"p\": 110, \"fpr\": 0.6666666666666666, \"tpr\": 1.0, \"n\": 6}, {\"threshold\": 0.347, \"p\": 110, \"fpr\": 0.6666666666666666, \"tpr\": 1.0, \"n\": 6}, {\"threshold\": 0.348, \"p\": 110, \"fpr\": 0.6666666666666666, \"tpr\": 1.0, \"n\": 6}, {\"threshold\": 0.349, \"p\": 110, \"fpr\": 0.6666666666666666, \"tpr\": 1.0, \"n\": 6}, {\"threshold\": 0.35, \"p\": 110, \"fpr\": 0.6666666666666666, \"tpr\": 1.0, \"n\": 6}, {\"threshold\": 0.351, \"p\": 110, \"fpr\": 0.6666666666666666, \"tpr\": 1.0, \"n\": 6}, {\"threshold\": 0.352, \"p\": 110, \"fpr\": 0.6666666666666666, \"tpr\": 1.0, \"n\": 6}, {\"threshold\": 0.353, \"p\": 110, \"fpr\": 0.6666666666666666, \"tpr\": 1.0, \"n\": 6}, {\"threshold\": 0.354, \"p\": 110, \"fpr\": 0.6666666666666666, \"tpr\": 1.0, \"n\": 6}, {\"threshold\": 0.355, \"p\": 110, \"fpr\": 0.6666666666666666, \"tpr\": 1.0, \"n\": 6}, {\"threshold\": 0.356, \"p\": 110, \"fpr\": 0.6666666666666666, \"tpr\": 1.0, \"n\": 6}, {\"threshold\": 0.357, \"p\": 110, \"fpr\": 0.6666666666666666, \"tpr\": 1.0, \"n\": 6}, {\"threshold\": 0.358, \"p\": 110, \"fpr\": 0.6666666666666666, \"tpr\": 1.0, \"n\": 6}, {\"threshold\": 0.359, \"p\": 110, \"fpr\": 0.6666666666666666, \"tpr\": 1.0, \"n\": 6}, {\"threshold\": 0.36, \"p\": 110, \"fpr\": 0.6666666666666666, \"tpr\": 1.0, \"n\": 6}, {\"threshold\": 0.361, \"p\": 110, \"fpr\": 0.6666666666666666, \"tpr\": 1.0, \"n\": 6}, {\"threshold\": 0.362, \"p\": 110, \"fpr\": 0.6666666666666666, \"tpr\": 1.0, \"n\": 6}, {\"threshold\": 0.363, \"p\": 110, \"fpr\": 0.6666666666666666, \"tpr\": 1.0, \"n\": 6}, {\"threshold\": 0.364, \"p\": 110, \"fpr\": 0.6666666666666666, \"tpr\": 1.0, \"n\": 6}, {\"threshold\": 0.365, \"p\": 110, \"fpr\": 0.6666666666666666, \"tpr\": 1.0, \"n\": 6}, {\"threshold\": 0.366, \"p\": 110, \"fpr\": 0.6666666666666666, \"tpr\": 1.0, \"n\": 6}, {\"threshold\": 0.367, \"p\": 110, \"fpr\": 0.6666666666666666, \"tpr\": 1.0, \"n\": 6}, {\"threshold\": 0.368, \"p\": 110, \"fpr\": 0.6666666666666666, \"tpr\": 1.0, \"n\": 6}, {\"threshold\": 0.369, \"p\": 110, \"fpr\": 0.6666666666666666, \"tpr\": 1.0, \"n\": 6}, {\"threshold\": 0.37, \"p\": 110, \"fpr\": 0.6666666666666666, \"tpr\": 1.0, \"n\": 6}, {\"threshold\": 0.371, \"p\": 110, \"fpr\": 0.6666666666666666, \"tpr\": 1.0, \"n\": 6}, {\"threshold\": 0.372, \"p\": 110, \"fpr\": 0.6666666666666666, \"tpr\": 1.0, \"n\": 6}, {\"threshold\": 0.373, \"p\": 110, \"fpr\": 0.6666666666666666, \"tpr\": 1.0, \"n\": 6}, {\"threshold\": 0.374, \"p\": 110, \"fpr\": 0.6666666666666666, \"tpr\": 1.0, \"n\": 6}, {\"threshold\": 0.375, \"p\": 110, \"fpr\": 0.6666666666666666, \"tpr\": 1.0, \"n\": 6}, {\"threshold\": 0.376, \"p\": 110, \"fpr\": 0.6666666666666666, \"tpr\": 1.0, \"n\": 6}, {\"threshold\": 0.377, \"p\": 110, \"fpr\": 0.6666666666666666, \"tpr\": 1.0, \"n\": 6}, {\"threshold\": 0.378, \"p\": 110, \"fpr\": 0.6666666666666666, \"tpr\": 1.0, \"n\": 6}, {\"threshold\": 0.379, \"p\": 110, \"fpr\": 0.6666666666666666, \"tpr\": 1.0, \"n\": 6}, {\"threshold\": 0.38, \"p\": 110, \"fpr\": 0.6666666666666666, \"tpr\": 1.0, \"n\": 6}, {\"threshold\": 0.381, \"p\": 110, \"fpr\": 0.6666666666666666, \"tpr\": 1.0, \"n\": 6}, {\"threshold\": 0.382, \"p\": 110, \"fpr\": 0.6666666666666666, \"tpr\": 1.0, \"n\": 6}, {\"threshold\": 0.383, \"p\": 110, \"fpr\": 0.6666666666666666, \"tpr\": 1.0, \"n\": 6}, {\"threshold\": 0.384, \"p\": 110, \"fpr\": 0.6666666666666666, \"tpr\": 1.0, \"n\": 6}, {\"threshold\": 0.385, \"p\": 110, \"fpr\": 0.6666666666666666, \"tpr\": 1.0, \"n\": 6}, {\"threshold\": 0.386, \"p\": 110, \"fpr\": 0.6666666666666666, \"tpr\": 1.0, \"n\": 6}, {\"threshold\": 0.387, \"p\": 110, \"fpr\": 0.6666666666666666, \"tpr\": 1.0, \"n\": 6}, {\"threshold\": 0.388, \"p\": 110, \"fpr\": 0.6666666666666666, \"tpr\": 1.0, \"n\": 6}, {\"threshold\": 0.389, \"p\": 110, \"fpr\": 0.6666666666666666, \"tpr\": 1.0, \"n\": 6}, {\"threshold\": 0.39, \"p\": 110, \"fpr\": 0.6666666666666666, \"tpr\": 1.0, \"n\": 6}, {\"threshold\": 0.391, \"p\": 110, \"fpr\": 0.6666666666666666, \"tpr\": 1.0, \"n\": 6}, {\"threshold\": 0.392, \"p\": 110, \"fpr\": 0.6666666666666666, \"tpr\": 1.0, \"n\": 6}, {\"threshold\": 0.393, \"p\": 110, \"fpr\": 0.6666666666666666, \"tpr\": 1.0, \"n\": 6}, {\"threshold\": 0.394, \"p\": 110, \"fpr\": 0.6666666666666666, \"tpr\": 1.0, \"n\": 6}, {\"threshold\": 0.395, \"p\": 110, \"fpr\": 0.6666666666666666, \"tpr\": 1.0, \"n\": 6}, {\"threshold\": 0.396, \"p\": 110, \"fpr\": 0.6666666666666666, \"tpr\": 1.0, \"n\": 6}, {\"threshold\": 0.397, \"p\": 110, \"fpr\": 0.6666666666666666, \"tpr\": 1.0, \"n\": 6}, {\"threshold\": 0.398, \"p\": 110, \"fpr\": 0.6666666666666666, \"tpr\": 1.0, \"n\": 6}, {\"threshold\": 0.399, \"p\": 110, \"fpr\": 0.6666666666666666, \"tpr\": 1.0, \"n\": 6}, {\"threshold\": 0.4, \"p\": 110, \"fpr\": 0.6666666666666666, \"tpr\": 1.0, \"n\": 6}, {\"threshold\": 0.401, \"p\": 110, \"fpr\": 0.6666666666666666, \"tpr\": 1.0, \"n\": 6}, {\"threshold\": 0.402, \"p\": 110, \"fpr\": 0.6666666666666666, \"tpr\": 1.0, \"n\": 6}, {\"threshold\": 0.403, \"p\": 110, \"fpr\": 0.6666666666666666, \"tpr\": 1.0, \"n\": 6}, {\"threshold\": 0.404, \"p\": 110, \"fpr\": 0.6666666666666666, \"tpr\": 1.0, \"n\": 6}, {\"threshold\": 0.405, \"p\": 110, \"fpr\": 0.6666666666666666, \"tpr\": 1.0, \"n\": 6}, {\"threshold\": 0.406, \"p\": 110, \"fpr\": 0.6666666666666666, \"tpr\": 1.0, \"n\": 6}, {\"threshold\": 0.407, \"p\": 110, \"fpr\": 0.6666666666666666, \"tpr\": 1.0, \"n\": 6}, {\"threshold\": 0.408, \"p\": 110, \"fpr\": 0.6666666666666666, \"tpr\": 1.0, \"n\": 6}, {\"threshold\": 0.409, \"p\": 110, \"fpr\": 0.6666666666666666, \"tpr\": 1.0, \"n\": 6}, {\"threshold\": 0.41, \"p\": 110, \"fpr\": 0.6666666666666666, \"tpr\": 1.0, \"n\": 6}, {\"threshold\": 0.411, \"p\": 110, \"fpr\": 0.6666666666666666, \"tpr\": 1.0, \"n\": 6}, {\"threshold\": 0.412, \"p\": 110, \"fpr\": 0.6666666666666666, \"tpr\": 1.0, \"n\": 6}, {\"threshold\": 0.413, \"p\": 110, \"fpr\": 0.6666666666666666, \"tpr\": 1.0, \"n\": 6}, {\"threshold\": 0.414, \"p\": 110, \"fpr\": 0.6666666666666666, \"tpr\": 1.0, \"n\": 6}, {\"threshold\": 0.415, \"p\": 110, \"fpr\": 0.6666666666666666, \"tpr\": 1.0, \"n\": 6}, {\"threshold\": 0.416, \"p\": 110, \"fpr\": 0.6666666666666666, \"tpr\": 1.0, \"n\": 6}, {\"threshold\": 0.417, \"p\": 110, \"fpr\": 0.6666666666666666, \"tpr\": 1.0, \"n\": 6}, {\"threshold\": 0.418, \"p\": 110, \"fpr\": 0.6666666666666666, \"tpr\": 1.0, \"n\": 6}, {\"threshold\": 0.419, \"p\": 110, \"fpr\": 0.6666666666666666, \"tpr\": 1.0, \"n\": 6}, {\"threshold\": 0.42, \"p\": 110, \"fpr\": 0.6666666666666666, \"tpr\": 1.0, \"n\": 6}, {\"threshold\": 0.421, \"p\": 110, \"fpr\": 0.6666666666666666, \"tpr\": 1.0, \"n\": 6}, {\"threshold\": 0.422, \"p\": 110, \"fpr\": 0.6666666666666666, \"tpr\": 1.0, \"n\": 6}, {\"threshold\": 0.423, \"p\": 110, \"fpr\": 0.6666666666666666, \"tpr\": 1.0, \"n\": 6}, {\"threshold\": 0.424, \"p\": 110, \"fpr\": 0.6666666666666666, \"tpr\": 1.0, \"n\": 6}, {\"threshold\": 0.425, \"p\": 110, \"fpr\": 0.6666666666666666, \"tpr\": 1.0, \"n\": 6}, {\"threshold\": 0.426, \"p\": 110, \"fpr\": 0.6666666666666666, \"tpr\": 1.0, \"n\": 6}, {\"threshold\": 0.427, \"p\": 110, \"fpr\": 0.6666666666666666, \"tpr\": 1.0, \"n\": 6}, {\"threshold\": 0.428, \"p\": 110, \"fpr\": 0.6666666666666666, \"tpr\": 1.0, \"n\": 6}, {\"threshold\": 0.429, \"p\": 110, \"fpr\": 0.6666666666666666, \"tpr\": 1.0, \"n\": 6}, {\"threshold\": 0.43, \"p\": 110, \"fpr\": 0.6666666666666666, \"tpr\": 1.0, \"n\": 6}, {\"threshold\": 0.431, \"p\": 110, \"fpr\": 0.6666666666666666, \"tpr\": 1.0, \"n\": 6}, {\"threshold\": 0.432, \"p\": 110, \"fpr\": 0.6666666666666666, \"tpr\": 1.0, \"n\": 6}, {\"threshold\": 0.433, \"p\": 110, \"fpr\": 0.6666666666666666, \"tpr\": 1.0, \"n\": 6}, {\"threshold\": 0.434, \"p\": 110, \"fpr\": 0.6666666666666666, \"tpr\": 1.0, \"n\": 6}, {\"threshold\": 0.435, \"p\": 110, \"fpr\": 0.6666666666666666, \"tpr\": 1.0, \"n\": 6}, {\"threshold\": 0.436, \"p\": 110, \"fpr\": 0.6666666666666666, \"tpr\": 1.0, \"n\": 6}, {\"threshold\": 0.437, \"p\": 110, \"fpr\": 0.6666666666666666, \"tpr\": 1.0, \"n\": 6}, {\"threshold\": 0.438, \"p\": 110, \"fpr\": 0.6666666666666666, \"tpr\": 1.0, \"n\": 6}, {\"threshold\": 0.439, \"p\": 110, \"fpr\": 0.6666666666666666, \"tpr\": 1.0, \"n\": 6}, {\"threshold\": 0.44, \"p\": 110, \"fpr\": 0.6666666666666666, \"tpr\": 1.0, \"n\": 6}, {\"threshold\": 0.441, \"p\": 110, \"fpr\": 0.6666666666666666, \"tpr\": 1.0, \"n\": 6}, {\"threshold\": 0.442, \"p\": 110, \"fpr\": 0.6666666666666666, \"tpr\": 1.0, \"n\": 6}, {\"threshold\": 0.443, \"p\": 110, \"fpr\": 0.6666666666666666, \"tpr\": 1.0, \"n\": 6}, {\"threshold\": 0.444, \"p\": 110, \"fpr\": 0.6666666666666666, \"tpr\": 1.0, \"n\": 6}, {\"threshold\": 0.445, \"p\": 110, \"fpr\": 0.6666666666666666, \"tpr\": 1.0, \"n\": 6}, {\"threshold\": 0.446, \"p\": 110, \"fpr\": 0.6666666666666666, \"tpr\": 1.0, \"n\": 6}, {\"threshold\": 0.447, \"p\": 110, \"fpr\": 0.6666666666666666, \"tpr\": 1.0, \"n\": 6}, {\"threshold\": 0.448, \"p\": 110, \"fpr\": 0.6666666666666666, \"tpr\": 1.0, \"n\": 6}, {\"threshold\": 0.449, \"p\": 110, \"fpr\": 0.6666666666666666, \"tpr\": 1.0, \"n\": 6}, {\"threshold\": 0.45, \"p\": 110, \"fpr\": 0.6666666666666666, \"tpr\": 1.0, \"n\": 6}, {\"threshold\": 0.451, \"p\": 110, \"fpr\": 0.6666666666666666, \"tpr\": 1.0, \"n\": 6}, {\"threshold\": 0.452, \"p\": 110, \"fpr\": 0.6666666666666666, \"tpr\": 1.0, \"n\": 6}, {\"threshold\": 0.453, \"p\": 110, \"fpr\": 0.6666666666666666, \"tpr\": 1.0, \"n\": 6}, {\"threshold\": 0.454, \"p\": 110, \"fpr\": 0.6666666666666666, \"tpr\": 1.0, \"n\": 6}, {\"threshold\": 0.455, \"p\": 110, \"fpr\": 0.6666666666666666, \"tpr\": 1.0, \"n\": 6}, {\"threshold\": 0.456, \"p\": 110, \"fpr\": 0.6666666666666666, \"tpr\": 1.0, \"n\": 6}, {\"threshold\": 0.457, \"p\": 110, \"fpr\": 0.6666666666666666, \"tpr\": 1.0, \"n\": 6}, {\"threshold\": 0.458, \"p\": 110, \"fpr\": 0.6666666666666666, \"tpr\": 1.0, \"n\": 6}, {\"threshold\": 0.459, \"p\": 110, \"fpr\": 0.6666666666666666, \"tpr\": 1.0, \"n\": 6}, {\"threshold\": 0.46, \"p\": 110, \"fpr\": 0.6666666666666666, \"tpr\": 1.0, \"n\": 6}, {\"threshold\": 0.461, \"p\": 110, \"fpr\": 0.6666666666666666, \"tpr\": 1.0, \"n\": 6}, {\"threshold\": 0.462, \"p\": 110, \"fpr\": 0.6666666666666666, \"tpr\": 1.0, \"n\": 6}, {\"threshold\": 0.463, \"p\": 110, \"fpr\": 0.6666666666666666, \"tpr\": 1.0, \"n\": 6}, {\"threshold\": 0.464, \"p\": 110, \"fpr\": 0.6666666666666666, \"tpr\": 1.0, \"n\": 6}, {\"threshold\": 0.465, \"p\": 110, \"fpr\": 0.6666666666666666, \"tpr\": 1.0, \"n\": 6}, {\"threshold\": 0.466, \"p\": 110, \"fpr\": 0.6666666666666666, \"tpr\": 1.0, \"n\": 6}, {\"threshold\": 0.467, \"p\": 110, \"fpr\": 0.6666666666666666, \"tpr\": 1.0, \"n\": 6}, {\"threshold\": 0.468, \"p\": 110, \"fpr\": 0.6666666666666666, \"tpr\": 1.0, \"n\": 6}, {\"threshold\": 0.469, \"p\": 110, \"fpr\": 0.6666666666666666, \"tpr\": 1.0, \"n\": 6}, {\"threshold\": 0.47, \"p\": 110, \"fpr\": 0.6666666666666666, \"tpr\": 1.0, \"n\": 6}, {\"threshold\": 0.471, \"p\": 110, \"fpr\": 0.6666666666666666, \"tpr\": 1.0, \"n\": 6}, {\"threshold\": 0.472, \"p\": 110, \"fpr\": 0.6666666666666666, \"tpr\": 1.0, \"n\": 6}, {\"threshold\": 0.473, \"p\": 110, \"fpr\": 0.6666666666666666, \"tpr\": 1.0, \"n\": 6}, {\"threshold\": 0.474, \"p\": 110, \"fpr\": 0.6666666666666666, \"tpr\": 1.0, \"n\": 6}, {\"threshold\": 0.475, \"p\": 110, \"fpr\": 0.6666666666666666, \"tpr\": 1.0, \"n\": 6}, {\"threshold\": 0.476, \"p\": 110, \"fpr\": 0.6666666666666666, \"tpr\": 1.0, \"n\": 6}, {\"threshold\": 0.477, \"p\": 110, \"fpr\": 0.6666666666666666, \"tpr\": 1.0, \"n\": 6}, {\"threshold\": 0.478, \"p\": 110, \"fpr\": 0.6666666666666666, \"tpr\": 1.0, \"n\": 6}, {\"threshold\": 0.479, \"p\": 110, \"fpr\": 0.6666666666666666, \"tpr\": 1.0, \"n\": 6}, {\"threshold\": 0.48, \"p\": 110, \"fpr\": 0.6666666666666666, \"tpr\": 1.0, \"n\": 6}, {\"threshold\": 0.481, \"p\": 110, \"fpr\": 0.6666666666666666, \"tpr\": 1.0, \"n\": 6}, {\"threshold\": 0.482, \"p\": 110, \"fpr\": 0.6666666666666666, \"tpr\": 1.0, \"n\": 6}, {\"threshold\": 0.483, \"p\": 110, \"fpr\": 0.6666666666666666, \"tpr\": 1.0, \"n\": 6}, {\"threshold\": 0.484, \"p\": 110, \"fpr\": 0.6666666666666666, \"tpr\": 1.0, \"n\": 6}, {\"threshold\": 0.485, \"p\": 110, \"fpr\": 0.6666666666666666, \"tpr\": 1.0, \"n\": 6}, {\"threshold\": 0.486, \"p\": 110, \"fpr\": 0.6666666666666666, \"tpr\": 1.0, \"n\": 6}, {\"threshold\": 0.487, \"p\": 110, \"fpr\": 0.6666666666666666, \"tpr\": 1.0, \"n\": 6}, {\"threshold\": 0.488, \"p\": 110, \"fpr\": 0.6666666666666666, \"tpr\": 1.0, \"n\": 6}, {\"threshold\": 0.489, \"p\": 110, \"fpr\": 0.6666666666666666, \"tpr\": 1.0, \"n\": 6}, {\"threshold\": 0.49, \"p\": 110, \"fpr\": 0.6666666666666666, \"tpr\": 1.0, \"n\": 6}, {\"threshold\": 0.491, \"p\": 110, \"fpr\": 0.6666666666666666, \"tpr\": 1.0, \"n\": 6}, {\"threshold\": 0.492, \"p\": 110, \"fpr\": 0.6666666666666666, \"tpr\": 1.0, \"n\": 6}, {\"threshold\": 0.493, \"p\": 110, \"fpr\": 0.6666666666666666, \"tpr\": 1.0, \"n\": 6}, {\"threshold\": 0.494, \"p\": 110, \"fpr\": 0.6666666666666666, \"tpr\": 1.0, \"n\": 6}, {\"threshold\": 0.495, \"p\": 110, \"fpr\": 0.6666666666666666, \"tpr\": 1.0, \"n\": 6}, {\"threshold\": 0.496, \"p\": 110, \"fpr\": 0.6666666666666666, \"tpr\": 1.0, \"n\": 6}, {\"threshold\": 0.497, \"p\": 110, \"fpr\": 0.6666666666666666, \"tpr\": 1.0, \"n\": 6}, {\"threshold\": 0.498, \"p\": 110, \"fpr\": 0.6666666666666666, \"tpr\": 1.0, \"n\": 6}, {\"threshold\": 0.499, \"p\": 110, \"fpr\": 0.6666666666666666, \"tpr\": 1.0, \"n\": 6}, {\"threshold\": 0.5, \"p\": 110, \"fpr\": 0.6666666666666666, \"tpr\": 1.0, \"n\": 6}, {\"threshold\": 0.501, \"p\": 110, \"fpr\": 0.6666666666666666, \"tpr\": 1.0, \"n\": 6}, {\"threshold\": 0.502, \"p\": 110, \"fpr\": 0.6666666666666666, \"tpr\": 1.0, \"n\": 6}, {\"threshold\": 0.503, \"p\": 110, \"fpr\": 0.6666666666666666, \"tpr\": 1.0, \"n\": 6}, {\"threshold\": 0.504, \"p\": 110, \"fpr\": 0.6666666666666666, \"tpr\": 1.0, \"n\": 6}, {\"threshold\": 0.505, \"p\": 110, \"fpr\": 0.6666666666666666, \"tpr\": 1.0, \"n\": 6}, {\"threshold\": 0.506, \"p\": 110, \"fpr\": 0.6666666666666666, \"tpr\": 1.0, \"n\": 6}, {\"threshold\": 0.507, \"p\": 110, \"fpr\": 0.6666666666666666, \"tpr\": 1.0, \"n\": 6}, {\"threshold\": 0.508, \"p\": 110, \"fpr\": 0.6666666666666666, \"tpr\": 1.0, \"n\": 6}, {\"threshold\": 0.509, \"p\": 110, \"fpr\": 0.6666666666666666, \"tpr\": 1.0, \"n\": 6}, {\"threshold\": 0.51, \"p\": 110, \"fpr\": 0.6666666666666666, \"tpr\": 1.0, \"n\": 6}, {\"threshold\": 0.511, \"p\": 110, \"fpr\": 0.6666666666666666, \"tpr\": 1.0, \"n\": 6}, {\"threshold\": 0.512, \"p\": 110, \"fpr\": 0.6666666666666666, \"tpr\": 1.0, \"n\": 6}, {\"threshold\": 0.513, \"p\": 110, \"fpr\": 0.6666666666666666, \"tpr\": 1.0, \"n\": 6}, {\"threshold\": 0.514, \"p\": 110, \"fpr\": 0.6666666666666666, \"tpr\": 1.0, \"n\": 6}, {\"threshold\": 0.515, \"p\": 110, \"fpr\": 0.6666666666666666, \"tpr\": 1.0, \"n\": 6}, {\"threshold\": 0.516, \"p\": 110, \"fpr\": 0.6666666666666666, \"tpr\": 1.0, \"n\": 6}, {\"threshold\": 0.517, \"p\": 110, \"fpr\": 0.6666666666666666, \"tpr\": 1.0, \"n\": 6}, {\"threshold\": 0.518, \"p\": 110, \"fpr\": 0.6666666666666666, \"tpr\": 1.0, \"n\": 6}, {\"threshold\": 0.519, \"p\": 110, \"fpr\": 0.6666666666666666, \"tpr\": 1.0, \"n\": 6}, {\"threshold\": 0.52, \"p\": 110, \"fpr\": 0.6666666666666666, \"tpr\": 1.0, \"n\": 6}, {\"threshold\": 0.521, \"p\": 110, \"fpr\": 0.6666666666666666, \"tpr\": 1.0, \"n\": 6}, {\"threshold\": 0.522, \"p\": 110, \"fpr\": 0.6666666666666666, \"tpr\": 1.0, \"n\": 6}, {\"threshold\": 0.523, \"p\": 110, \"fpr\": 0.6666666666666666, \"tpr\": 1.0, \"n\": 6}, {\"threshold\": 0.524, \"p\": 110, \"fpr\": 0.6666666666666666, \"tpr\": 1.0, \"n\": 6}, {\"threshold\": 0.525, \"p\": 110, \"fpr\": 0.6666666666666666, \"tpr\": 1.0, \"n\": 6}, {\"threshold\": 0.526, \"p\": 110, \"fpr\": 0.6666666666666666, \"tpr\": 1.0, \"n\": 6}, {\"threshold\": 0.527, \"p\": 110, \"fpr\": 0.6666666666666666, \"tpr\": 1.0, \"n\": 6}, {\"threshold\": 0.528, \"p\": 110, \"fpr\": 0.6666666666666666, \"tpr\": 1.0, \"n\": 6}, {\"threshold\": 0.529, \"p\": 110, \"fpr\": 0.6666666666666666, \"tpr\": 1.0, \"n\": 6}, {\"threshold\": 0.53, \"p\": 110, \"fpr\": 0.6666666666666666, \"tpr\": 1.0, \"n\": 6}, {\"threshold\": 0.531, \"p\": 110, \"fpr\": 0.6666666666666666, \"tpr\": 1.0, \"n\": 6}, {\"threshold\": 0.532, \"p\": 110, \"fpr\": 0.6666666666666666, \"tpr\": 1.0, \"n\": 6}, {\"threshold\": 0.533, \"p\": 110, \"fpr\": 0.6666666666666666, \"tpr\": 1.0, \"n\": 6}, {\"threshold\": 0.534, \"p\": 110, \"fpr\": 0.6666666666666666, \"tpr\": 1.0, \"n\": 6}, {\"threshold\": 0.535, \"p\": 110, \"fpr\": 0.6666666666666666, \"tpr\": 1.0, \"n\": 6}, {\"threshold\": 0.536, \"p\": 110, \"fpr\": 0.6666666666666666, \"tpr\": 1.0, \"n\": 6}, {\"threshold\": 0.537, \"p\": 110, \"fpr\": 0.6666666666666666, \"tpr\": 1.0, \"n\": 6}, {\"threshold\": 0.538, \"p\": 110, \"fpr\": 0.6666666666666666, \"tpr\": 1.0, \"n\": 6}, {\"threshold\": 0.539, \"p\": 110, \"fpr\": 0.6666666666666666, \"tpr\": 1.0, \"n\": 6}, {\"threshold\": 0.54, \"p\": 110, \"fpr\": 0.6666666666666666, \"tpr\": 1.0, \"n\": 6}, {\"threshold\": 0.541, \"p\": 110, \"fpr\": 0.6666666666666666, \"tpr\": 1.0, \"n\": 6}, {\"threshold\": 0.542, \"p\": 110, \"fpr\": 0.6666666666666666, \"tpr\": 1.0, \"n\": 6}, {\"threshold\": 0.543, \"p\": 110, \"fpr\": 0.6666666666666666, \"tpr\": 1.0, \"n\": 6}, {\"threshold\": 0.544, \"p\": 110, \"fpr\": 0.6666666666666666, \"tpr\": 1.0, \"n\": 6}, {\"threshold\": 0.545, \"p\": 110, \"fpr\": 0.6666666666666666, \"tpr\": 1.0, \"n\": 6}, {\"threshold\": 0.546, \"p\": 110, \"fpr\": 0.6666666666666666, \"tpr\": 1.0, \"n\": 6}, {\"threshold\": 0.547, \"p\": 110, \"fpr\": 0.6666666666666666, \"tpr\": 1.0, \"n\": 6}, {\"threshold\": 0.548, \"p\": 110, \"fpr\": 0.6666666666666666, \"tpr\": 1.0, \"n\": 6}, {\"threshold\": 0.549, \"p\": 110, \"fpr\": 0.6666666666666666, \"tpr\": 1.0, \"n\": 6}, {\"threshold\": 0.55, \"p\": 110, \"fpr\": 0.6666666666666666, \"tpr\": 1.0, \"n\": 6}, {\"threshold\": 0.551, \"p\": 110, \"fpr\": 0.6666666666666666, \"tpr\": 1.0, \"n\": 6}, {\"threshold\": 0.552, \"p\": 110, \"fpr\": 0.6666666666666666, \"tpr\": 1.0, \"n\": 6}, {\"threshold\": 0.553, \"p\": 110, \"fpr\": 0.6666666666666666, \"tpr\": 1.0, \"n\": 6}, {\"threshold\": 0.554, \"p\": 110, \"fpr\": 0.6666666666666666, \"tpr\": 1.0, \"n\": 6}, {\"threshold\": 0.555, \"p\": 110, \"fpr\": 0.6666666666666666, \"tpr\": 1.0, \"n\": 6}, {\"threshold\": 0.556, \"p\": 110, \"fpr\": 0.6666666666666666, \"tpr\": 1.0, \"n\": 6}, {\"threshold\": 0.557, \"p\": 110, \"fpr\": 0.6666666666666666, \"tpr\": 1.0, \"n\": 6}, {\"threshold\": 0.558, \"p\": 110, \"fpr\": 0.6666666666666666, \"tpr\": 1.0, \"n\": 6}, {\"threshold\": 0.559, \"p\": 110, \"fpr\": 0.6666666666666666, \"tpr\": 1.0, \"n\": 6}, {\"threshold\": 0.56, \"p\": 110, \"fpr\": 0.6666666666666666, \"tpr\": 1.0, \"n\": 6}, {\"threshold\": 0.561, \"p\": 110, \"fpr\": 0.6666666666666666, \"tpr\": 1.0, \"n\": 6}, {\"threshold\": 0.562, \"p\": 110, \"fpr\": 0.6666666666666666, \"tpr\": 1.0, \"n\": 6}, {\"threshold\": 0.563, \"p\": 110, \"fpr\": 0.6666666666666666, \"tpr\": 1.0, \"n\": 6}, {\"threshold\": 0.564, \"p\": 110, \"fpr\": 0.6666666666666666, \"tpr\": 1.0, \"n\": 6}, {\"threshold\": 0.565, \"p\": 110, \"fpr\": 0.6666666666666666, \"tpr\": 1.0, \"n\": 6}, {\"threshold\": 0.566, \"p\": 110, \"fpr\": 0.6666666666666666, \"tpr\": 1.0, \"n\": 6}, {\"threshold\": 0.567, \"p\": 110, \"fpr\": 0.6666666666666666, \"tpr\": 1.0, \"n\": 6}, {\"threshold\": 0.568, \"p\": 110, \"fpr\": 0.6666666666666666, \"tpr\": 1.0, \"n\": 6}, {\"threshold\": 0.569, \"p\": 110, \"fpr\": 0.6666666666666666, \"tpr\": 1.0, \"n\": 6}, {\"threshold\": 0.57, \"p\": 110, \"fpr\": 0.6666666666666666, \"tpr\": 1.0, \"n\": 6}, {\"threshold\": 0.571, \"p\": 110, \"fpr\": 0.6666666666666666, \"tpr\": 1.0, \"n\": 6}, {\"threshold\": 0.572, \"p\": 110, \"fpr\": 0.6666666666666666, \"tpr\": 1.0, \"n\": 6}, {\"threshold\": 0.573, \"p\": 110, \"fpr\": 0.6666666666666666, \"tpr\": 1.0, \"n\": 6}, {\"threshold\": 0.574, \"p\": 110, \"fpr\": 0.6666666666666666, \"tpr\": 1.0, \"n\": 6}, {\"threshold\": 0.575, \"p\": 110, \"fpr\": 0.6666666666666666, \"tpr\": 1.0, \"n\": 6}, {\"threshold\": 0.576, \"p\": 110, \"fpr\": 0.6666666666666666, \"tpr\": 1.0, \"n\": 6}, {\"threshold\": 0.577, \"p\": 110, \"fpr\": 0.6666666666666666, \"tpr\": 1.0, \"n\": 6}, {\"threshold\": 0.578, \"p\": 110, \"fpr\": 0.6666666666666666, \"tpr\": 1.0, \"n\": 6}, {\"threshold\": 0.579, \"p\": 110, \"fpr\": 0.6666666666666666, \"tpr\": 1.0, \"n\": 6}, {\"threshold\": 0.58, \"p\": 110, \"fpr\": 0.6666666666666666, \"tpr\": 1.0, \"n\": 6}, {\"threshold\": 0.581, \"p\": 110, \"fpr\": 0.6666666666666666, \"tpr\": 1.0, \"n\": 6}, {\"threshold\": 0.582, \"p\": 110, \"fpr\": 0.6666666666666666, \"tpr\": 1.0, \"n\": 6}, {\"threshold\": 0.583, \"p\": 110, \"fpr\": 0.6666666666666666, \"tpr\": 1.0, \"n\": 6}, {\"threshold\": 0.584, \"p\": 110, \"fpr\": 0.6666666666666666, \"tpr\": 1.0, \"n\": 6}, {\"threshold\": 0.585, \"p\": 110, \"fpr\": 0.6666666666666666, \"tpr\": 1.0, \"n\": 6}, {\"threshold\": 0.586, \"p\": 110, \"fpr\": 0.6666666666666666, \"tpr\": 1.0, \"n\": 6}, {\"threshold\": 0.587, \"p\": 110, \"fpr\": 0.6666666666666666, \"tpr\": 1.0, \"n\": 6}, {\"threshold\": 0.588, \"p\": 110, \"fpr\": 0.6666666666666666, \"tpr\": 1.0, \"n\": 6}, {\"threshold\": 0.589, \"p\": 110, \"fpr\": 0.6666666666666666, \"tpr\": 1.0, \"n\": 6}, {\"threshold\": 0.59, \"p\": 110, \"fpr\": 0.6666666666666666, \"tpr\": 1.0, \"n\": 6}, {\"threshold\": 0.591, \"p\": 110, \"fpr\": 0.6666666666666666, \"tpr\": 1.0, \"n\": 6}, {\"threshold\": 0.592, \"p\": 110, \"fpr\": 0.6666666666666666, \"tpr\": 1.0, \"n\": 6}, {\"threshold\": 0.593, \"p\": 110, \"fpr\": 0.6666666666666666, \"tpr\": 1.0, \"n\": 6}, {\"threshold\": 0.594, \"p\": 110, \"fpr\": 0.6666666666666666, \"tpr\": 1.0, \"n\": 6}, {\"threshold\": 0.595, \"p\": 110, \"fpr\": 0.6666666666666666, \"tpr\": 1.0, \"n\": 6}, {\"threshold\": 0.596, \"p\": 110, \"fpr\": 0.6666666666666666, \"tpr\": 1.0, \"n\": 6}, {\"threshold\": 0.597, \"p\": 110, \"fpr\": 0.6666666666666666, \"tpr\": 1.0, \"n\": 6}, {\"threshold\": 0.598, \"p\": 110, \"fpr\": 0.6666666666666666, \"tpr\": 1.0, \"n\": 6}, {\"threshold\": 0.599, \"p\": 110, \"fpr\": 0.6666666666666666, \"tpr\": 1.0, \"n\": 6}, {\"threshold\": 0.6, \"p\": 110, \"fpr\": 0.6666666666666666, \"tpr\": 1.0, \"n\": 6}, {\"threshold\": 0.601, \"p\": 110, \"fpr\": 0.6666666666666666, \"tpr\": 1.0, \"n\": 6}, {\"threshold\": 0.602, \"p\": 110, \"fpr\": 0.6666666666666666, \"tpr\": 1.0, \"n\": 6}, {\"threshold\": 0.603, \"p\": 110, \"fpr\": 0.6666666666666666, \"tpr\": 1.0, \"n\": 6}, {\"threshold\": 0.604, \"p\": 110, \"fpr\": 0.6666666666666666, \"tpr\": 1.0, \"n\": 6}, {\"threshold\": 0.605, \"p\": 110, \"fpr\": 0.6666666666666666, \"tpr\": 1.0, \"n\": 6}, {\"threshold\": 0.606, \"p\": 110, \"fpr\": 0.6666666666666666, \"tpr\": 1.0, \"n\": 6}, {\"threshold\": 0.607, \"p\": 110, \"fpr\": 0.6666666666666666, \"tpr\": 1.0, \"n\": 6}, {\"threshold\": 0.608, \"p\": 110, \"fpr\": 0.6666666666666666, \"tpr\": 1.0, \"n\": 6}, {\"threshold\": 0.609, \"p\": 110, \"fpr\": 0.6666666666666666, \"tpr\": 1.0, \"n\": 6}, {\"threshold\": 0.61, \"p\": 110, \"fpr\": 0.6666666666666666, \"tpr\": 1.0, \"n\": 6}, {\"threshold\": 0.611, \"p\": 110, \"fpr\": 0.6666666666666666, \"tpr\": 1.0, \"n\": 6}, {\"threshold\": 0.612, \"p\": 110, \"fpr\": 0.6666666666666666, \"tpr\": 1.0, \"n\": 6}, {\"threshold\": 0.613, \"p\": 110, \"fpr\": 0.6666666666666666, \"tpr\": 1.0, \"n\": 6}, {\"threshold\": 0.614, \"p\": 110, \"fpr\": 0.6666666666666666, \"tpr\": 1.0, \"n\": 6}, {\"threshold\": 0.615, \"p\": 110, \"fpr\": 0.6666666666666666, \"tpr\": 1.0, \"n\": 6}, {\"threshold\": 0.616, \"p\": 110, \"fpr\": 0.6666666666666666, \"tpr\": 1.0, \"n\": 6}, {\"threshold\": 0.617, \"p\": 110, \"fpr\": 0.6666666666666666, \"tpr\": 1.0, \"n\": 6}, {\"threshold\": 0.618, \"p\": 110, \"fpr\": 0.6666666666666666, \"tpr\": 1.0, \"n\": 6}, {\"threshold\": 0.619, \"p\": 110, \"fpr\": 0.6666666666666666, \"tpr\": 1.0, \"n\": 6}, {\"threshold\": 0.62, \"p\": 110, \"fpr\": 0.6666666666666666, \"tpr\": 1.0, \"n\": 6}, {\"threshold\": 0.621, \"p\": 110, \"fpr\": 0.6666666666666666, \"tpr\": 1.0, \"n\": 6}, {\"threshold\": 0.622, \"p\": 110, \"fpr\": 0.6666666666666666, \"tpr\": 1.0, \"n\": 6}, {\"threshold\": 0.623, \"p\": 110, \"fpr\": 0.6666666666666666, \"tpr\": 1.0, \"n\": 6}, {\"threshold\": 0.624, \"p\": 110, \"fpr\": 0.6666666666666666, \"tpr\": 1.0, \"n\": 6}, {\"threshold\": 0.625, \"p\": 110, \"fpr\": 0.6666666666666666, \"tpr\": 1.0, \"n\": 6}, {\"threshold\": 0.626, \"p\": 110, \"fpr\": 0.6666666666666666, \"tpr\": 1.0, \"n\": 6}, {\"threshold\": 0.627, \"p\": 110, \"fpr\": 0.6666666666666666, \"tpr\": 1.0, \"n\": 6}, {\"threshold\": 0.628, \"p\": 110, \"fpr\": 0.6666666666666666, \"tpr\": 1.0, \"n\": 6}, {\"threshold\": 0.629, \"p\": 110, \"fpr\": 0.6666666666666666, \"tpr\": 1.0, \"n\": 6}, {\"threshold\": 0.63, \"p\": 110, \"fpr\": 0.6666666666666666, \"tpr\": 1.0, \"n\": 6}, {\"threshold\": 0.631, \"p\": 110, \"fpr\": 0.6666666666666666, \"tpr\": 1.0, \"n\": 6}, {\"threshold\": 0.632, \"p\": 110, \"fpr\": 0.6666666666666666, \"tpr\": 1.0, \"n\": 6}, {\"threshold\": 0.633, \"p\": 110, \"fpr\": 0.6666666666666666, \"tpr\": 1.0, \"n\": 6}, {\"threshold\": 0.634, \"p\": 110, \"fpr\": 0.6666666666666666, \"tpr\": 1.0, \"n\": 6}, {\"threshold\": 0.635, \"p\": 110, \"fpr\": 0.6666666666666666, \"tpr\": 1.0, \"n\": 6}, {\"threshold\": 0.636, \"p\": 110, \"fpr\": 0.6666666666666666, \"tpr\": 1.0, \"n\": 6}, {\"threshold\": 0.637, \"p\": 110, \"fpr\": 0.6666666666666666, \"tpr\": 1.0, \"n\": 6}, {\"threshold\": 0.638, \"p\": 110, \"fpr\": 0.6666666666666666, \"tpr\": 1.0, \"n\": 6}, {\"threshold\": 0.639, \"p\": 110, \"fpr\": 0.6666666666666666, \"tpr\": 1.0, \"n\": 6}, {\"threshold\": 0.64, \"p\": 110, \"fpr\": 0.6666666666666666, \"tpr\": 1.0, \"n\": 6}, {\"threshold\": 0.641, \"p\": 110, \"fpr\": 0.6666666666666666, \"tpr\": 1.0, \"n\": 6}, {\"threshold\": 0.642, \"p\": 110, \"fpr\": 0.6666666666666666, \"tpr\": 1.0, \"n\": 6}, {\"threshold\": 0.643, \"p\": 110, \"fpr\": 0.6666666666666666, \"tpr\": 1.0, \"n\": 6}, {\"threshold\": 0.644, \"p\": 110, \"fpr\": 0.6666666666666666, \"tpr\": 1.0, \"n\": 6}, {\"threshold\": 0.645, \"p\": 110, \"fpr\": 0.6666666666666666, \"tpr\": 1.0, \"n\": 6}, {\"threshold\": 0.646, \"p\": 110, \"fpr\": 0.6666666666666666, \"tpr\": 1.0, \"n\": 6}, {\"threshold\": 0.647, \"p\": 110, \"fpr\": 0.6666666666666666, \"tpr\": 1.0, \"n\": 6}, {\"threshold\": 0.648, \"p\": 110, \"fpr\": 0.6666666666666666, \"tpr\": 1.0, \"n\": 6}, {\"threshold\": 0.649, \"p\": 110, \"fpr\": 0.6666666666666666, \"tpr\": 1.0, \"n\": 6}, {\"threshold\": 0.65, \"p\": 110, \"fpr\": 0.6666666666666666, \"tpr\": 1.0, \"n\": 6}, {\"threshold\": 0.651, \"p\": 110, \"fpr\": 0.6666666666666666, \"tpr\": 1.0, \"n\": 6}, {\"threshold\": 0.652, \"p\": 110, \"fpr\": 0.6666666666666666, \"tpr\": 1.0, \"n\": 6}, {\"threshold\": 0.653, \"p\": 110, \"fpr\": 0.6666666666666666, \"tpr\": 1.0, \"n\": 6}, {\"threshold\": 0.654, \"p\": 110, \"fpr\": 0.6666666666666666, \"tpr\": 1.0, \"n\": 6}, {\"threshold\": 0.655, \"p\": 110, \"fpr\": 0.6666666666666666, \"tpr\": 1.0, \"n\": 6}, {\"threshold\": 0.656, \"p\": 110, \"fpr\": 0.6666666666666666, \"tpr\": 1.0, \"n\": 6}, {\"threshold\": 0.657, \"p\": 110, \"fpr\": 0.6666666666666666, \"tpr\": 1.0, \"n\": 6}, {\"threshold\": 0.658, \"p\": 110, \"fpr\": 0.6666666666666666, \"tpr\": 1.0, \"n\": 6}, {\"threshold\": 0.659, \"p\": 110, \"fpr\": 0.6666666666666666, \"tpr\": 1.0, \"n\": 6}, {\"threshold\": 0.66, \"p\": 110, \"fpr\": 0.6666666666666666, \"tpr\": 1.0, \"n\": 6}, {\"threshold\": 0.661, \"p\": 110, \"fpr\": 0.6666666666666666, \"tpr\": 1.0, \"n\": 6}, {\"threshold\": 0.662, \"p\": 110, \"fpr\": 0.6666666666666666, \"tpr\": 1.0, \"n\": 6}, {\"threshold\": 0.663, \"p\": 110, \"fpr\": 0.6666666666666666, \"tpr\": 1.0, \"n\": 6}, {\"threshold\": 0.664, \"p\": 110, \"fpr\": 0.6666666666666666, \"tpr\": 1.0, \"n\": 6}, {\"threshold\": 0.665, \"p\": 110, \"fpr\": 0.6666666666666666, \"tpr\": 1.0, \"n\": 6}, {\"threshold\": 0.666, \"p\": 110, \"fpr\": 0.6666666666666666, \"tpr\": 1.0, \"n\": 6}, {\"threshold\": 0.667, \"p\": 110, \"fpr\": 0.6666666666666666, \"tpr\": 1.0, \"n\": 6}, {\"threshold\": 0.668, \"p\": 110, \"fpr\": 0.6666666666666666, \"tpr\": 1.0, \"n\": 6}, {\"threshold\": 0.669, \"p\": 110, \"fpr\": 0.6666666666666666, \"tpr\": 1.0, \"n\": 6}, {\"threshold\": 0.67, \"p\": 110, \"fpr\": 0.6666666666666666, \"tpr\": 1.0, \"n\": 6}, {\"threshold\": 0.671, \"p\": 110, \"fpr\": 0.6666666666666666, \"tpr\": 1.0, \"n\": 6}, {\"threshold\": 0.672, \"p\": 110, \"fpr\": 0.6666666666666666, \"tpr\": 1.0, \"n\": 6}, {\"threshold\": 0.673, \"p\": 110, \"fpr\": 0.6666666666666666, \"tpr\": 1.0, \"n\": 6}, {\"threshold\": 0.674, \"p\": 110, \"fpr\": 0.6666666666666666, \"tpr\": 1.0, \"n\": 6}, {\"threshold\": 0.675, \"p\": 110, \"fpr\": 0.6666666666666666, \"tpr\": 1.0, \"n\": 6}, {\"threshold\": 0.676, \"p\": 110, \"fpr\": 0.6666666666666666, \"tpr\": 1.0, \"n\": 6}, {\"threshold\": 0.677, \"p\": 110, \"fpr\": 0.6666666666666666, \"tpr\": 1.0, \"n\": 6}, {\"threshold\": 0.678, \"p\": 110, \"fpr\": 0.6666666666666666, \"tpr\": 1.0, \"n\": 6}, {\"threshold\": 0.679, \"p\": 110, \"fpr\": 0.6666666666666666, \"tpr\": 1.0, \"n\": 6}, {\"threshold\": 0.68, \"p\": 110, \"fpr\": 0.6666666666666666, \"tpr\": 1.0, \"n\": 6}, {\"threshold\": 0.681, \"p\": 110, \"fpr\": 0.6666666666666666, \"tpr\": 1.0, \"n\": 6}, {\"threshold\": 0.682, \"p\": 110, \"fpr\": 0.6666666666666666, \"tpr\": 1.0, \"n\": 6}, {\"threshold\": 0.683, \"p\": 110, \"fpr\": 0.6666666666666666, \"tpr\": 1.0, \"n\": 6}, {\"threshold\": 0.684, \"p\": 110, \"fpr\": 0.6666666666666666, \"tpr\": 1.0, \"n\": 6}, {\"threshold\": 0.685, \"p\": 110, \"fpr\": 0.6666666666666666, \"tpr\": 1.0, \"n\": 6}, {\"threshold\": 0.686, \"p\": 110, \"fpr\": 0.6666666666666666, \"tpr\": 1.0, \"n\": 6}, {\"threshold\": 0.687, \"p\": 110, \"fpr\": 0.6666666666666666, \"tpr\": 1.0, \"n\": 6}, {\"threshold\": 0.688, \"p\": 110, \"fpr\": 0.6666666666666666, \"tpr\": 1.0, \"n\": 6}, {\"threshold\": 0.689, \"p\": 110, \"fpr\": 0.6666666666666666, \"tpr\": 1.0, \"n\": 6}, {\"threshold\": 0.69, \"p\": 110, \"fpr\": 0.6666666666666666, \"tpr\": 1.0, \"n\": 6}, {\"threshold\": 0.691, \"p\": 110, \"fpr\": 0.6666666666666666, \"tpr\": 1.0, \"n\": 6}, {\"threshold\": 0.692, \"p\": 110, \"fpr\": 0.6666666666666666, \"tpr\": 1.0, \"n\": 6}, {\"threshold\": 0.693, \"p\": 110, \"fpr\": 0.6666666666666666, \"tpr\": 1.0, \"n\": 6}, {\"threshold\": 0.694, \"p\": 110, \"fpr\": 0.6666666666666666, \"tpr\": 1.0, \"n\": 6}, {\"threshold\": 0.695, \"p\": 110, \"fpr\": 0.6666666666666666, \"tpr\": 1.0, \"n\": 6}, {\"threshold\": 0.696, \"p\": 110, \"fpr\": 0.6666666666666666, \"tpr\": 1.0, \"n\": 6}, {\"threshold\": 0.697, \"p\": 110, \"fpr\": 0.6666666666666666, \"tpr\": 1.0, \"n\": 6}, {\"threshold\": 0.698, \"p\": 110, \"fpr\": 0.6666666666666666, \"tpr\": 1.0, \"n\": 6}, {\"threshold\": 0.699, \"p\": 110, \"fpr\": 0.6666666666666666, \"tpr\": 1.0, \"n\": 6}, {\"threshold\": 0.7, \"p\": 110, \"fpr\": 0.6666666666666666, \"tpr\": 1.0, \"n\": 6}, {\"threshold\": 0.701, \"p\": 110, \"fpr\": 0.6666666666666666, \"tpr\": 1.0, \"n\": 6}, {\"threshold\": 0.702, \"p\": 110, \"fpr\": 0.6666666666666666, \"tpr\": 1.0, \"n\": 6}, {\"threshold\": 0.703, \"p\": 110, \"fpr\": 0.6666666666666666, \"tpr\": 1.0, \"n\": 6}, {\"threshold\": 0.704, \"p\": 110, \"fpr\": 0.6666666666666666, \"tpr\": 1.0, \"n\": 6}, {\"threshold\": 0.705, \"p\": 110, \"fpr\": 0.6666666666666666, \"tpr\": 1.0, \"n\": 6}, {\"threshold\": 0.706, \"p\": 110, \"fpr\": 0.6666666666666666, \"tpr\": 1.0, \"n\": 6}, {\"threshold\": 0.707, \"p\": 110, \"fpr\": 0.6666666666666666, \"tpr\": 1.0, \"n\": 6}, {\"threshold\": 0.708, \"p\": 110, \"fpr\": 0.6666666666666666, \"tpr\": 1.0, \"n\": 6}, {\"threshold\": 0.709, \"p\": 110, \"fpr\": 0.6666666666666666, \"tpr\": 1.0, \"n\": 6}, {\"threshold\": 0.71, \"p\": 110, \"fpr\": 0.6666666666666666, \"tpr\": 1.0, \"n\": 6}, {\"threshold\": 0.711, \"p\": 110, \"fpr\": 0.6666666666666666, \"tpr\": 1.0, \"n\": 6}, {\"threshold\": 0.712, \"p\": 110, \"fpr\": 0.6666666666666666, \"tpr\": 1.0, \"n\": 6}, {\"threshold\": 0.713, \"p\": 110, \"fpr\": 0.6666666666666666, \"tpr\": 1.0, \"n\": 6}, {\"threshold\": 0.714, \"p\": 110, \"fpr\": 0.6666666666666666, \"tpr\": 1.0, \"n\": 6}, {\"threshold\": 0.715, \"p\": 110, \"fpr\": 0.6666666666666666, \"tpr\": 1.0, \"n\": 6}, {\"threshold\": 0.716, \"p\": 110, \"fpr\": 0.6666666666666666, \"tpr\": 1.0, \"n\": 6}, {\"threshold\": 0.717, \"p\": 110, \"fpr\": 0.6666666666666666, \"tpr\": 1.0, \"n\": 6}, {\"threshold\": 0.718, \"p\": 110, \"fpr\": 0.6666666666666666, \"tpr\": 1.0, \"n\": 6}, {\"threshold\": 0.719, \"p\": 110, \"fpr\": 0.6666666666666666, \"tpr\": 1.0, \"n\": 6}, {\"threshold\": 0.72, \"p\": 110, \"fpr\": 0.6666666666666666, \"tpr\": 1.0, \"n\": 6}, {\"threshold\": 0.721, \"p\": 110, \"fpr\": 0.6666666666666666, \"tpr\": 1.0, \"n\": 6}, {\"threshold\": 0.722, \"p\": 110, \"fpr\": 0.6666666666666666, \"tpr\": 1.0, \"n\": 6}, {\"threshold\": 0.723, \"p\": 110, \"fpr\": 0.6666666666666666, \"tpr\": 1.0, \"n\": 6}, {\"threshold\": 0.724, \"p\": 110, \"fpr\": 0.6666666666666666, \"tpr\": 1.0, \"n\": 6}, {\"threshold\": 0.725, \"p\": 110, \"fpr\": 0.6666666666666666, \"tpr\": 1.0, \"n\": 6}, {\"threshold\": 0.726, \"p\": 110, \"fpr\": 0.6666666666666666, \"tpr\": 1.0, \"n\": 6}, {\"threshold\": 0.727, \"p\": 110, \"fpr\": 0.6666666666666666, \"tpr\": 1.0, \"n\": 6}, {\"threshold\": 0.728, \"p\": 110, \"fpr\": 0.6666666666666666, \"tpr\": 1.0, \"n\": 6}, {\"threshold\": 0.729, \"p\": 110, \"fpr\": 0.6666666666666666, \"tpr\": 1.0, \"n\": 6}, {\"threshold\": 0.73, \"p\": 110, \"fpr\": 0.6666666666666666, \"tpr\": 1.0, \"n\": 6}, {\"threshold\": 0.731, \"p\": 110, \"fpr\": 0.6666666666666666, \"tpr\": 1.0, \"n\": 6}, {\"threshold\": 0.732, \"p\": 110, \"fpr\": 0.6666666666666666, \"tpr\": 1.0, \"n\": 6}, {\"threshold\": 0.733, \"p\": 110, \"fpr\": 0.6666666666666666, \"tpr\": 1.0, \"n\": 6}, {\"threshold\": 0.734, \"p\": 110, \"fpr\": 0.6666666666666666, \"tpr\": 1.0, \"n\": 6}, {\"threshold\": 0.735, \"p\": 110, \"fpr\": 0.6666666666666666, \"tpr\": 1.0, \"n\": 6}, {\"threshold\": 0.736, \"p\": 110, \"fpr\": 0.6666666666666666, \"tpr\": 1.0, \"n\": 6}, {\"threshold\": 0.737, \"p\": 110, \"fpr\": 0.6666666666666666, \"tpr\": 1.0, \"n\": 6}, {\"threshold\": 0.738, \"p\": 110, \"fpr\": 0.6666666666666666, \"tpr\": 1.0, \"n\": 6}, {\"threshold\": 0.739, \"p\": 110, \"fpr\": 0.6666666666666666, \"tpr\": 1.0, \"n\": 6}, {\"threshold\": 0.74, \"p\": 110, \"fpr\": 0.6666666666666666, \"tpr\": 1.0, \"n\": 6}, {\"threshold\": 0.741, \"p\": 110, \"fpr\": 0.6666666666666666, \"tpr\": 1.0, \"n\": 6}, {\"threshold\": 0.742, \"p\": 110, \"fpr\": 0.6666666666666666, \"tpr\": 1.0, \"n\": 6}, {\"threshold\": 0.743, \"p\": 110, \"fpr\": 0.6666666666666666, \"tpr\": 1.0, \"n\": 6}, {\"threshold\": 0.744, \"p\": 110, \"fpr\": 0.6666666666666666, \"tpr\": 1.0, \"n\": 6}, {\"threshold\": 0.745, \"p\": 110, \"fpr\": 0.6666666666666666, \"tpr\": 1.0, \"n\": 6}, {\"threshold\": 0.746, \"p\": 110, \"fpr\": 0.6666666666666666, \"tpr\": 1.0, \"n\": 6}, {\"threshold\": 0.747, \"p\": 110, \"fpr\": 0.6666666666666666, \"tpr\": 1.0, \"n\": 6}, {\"threshold\": 0.748, \"p\": 110, \"fpr\": 0.6666666666666666, \"tpr\": 1.0, \"n\": 6}, {\"threshold\": 0.749, \"p\": 110, \"fpr\": 0.6666666666666666, \"tpr\": 1.0, \"n\": 6}, {\"threshold\": 0.75, \"p\": 110, \"fpr\": 0.6666666666666666, \"tpr\": 1.0, \"n\": 6}, {\"threshold\": 0.751, \"p\": 110, \"fpr\": 0.6666666666666666, \"tpr\": 1.0, \"n\": 6}, {\"threshold\": 0.752, \"p\": 110, \"fpr\": 0.6666666666666666, \"tpr\": 1.0, \"n\": 6}, {\"threshold\": 0.753, \"p\": 110, \"fpr\": 0.6666666666666666, \"tpr\": 1.0, \"n\": 6}, {\"threshold\": 0.754, \"p\": 110, \"fpr\": 0.6666666666666666, \"tpr\": 1.0, \"n\": 6}, {\"threshold\": 0.755, \"p\": 110, \"fpr\": 0.6666666666666666, \"tpr\": 1.0, \"n\": 6}, {\"threshold\": 0.756, \"p\": 110, \"fpr\": 0.6666666666666666, \"tpr\": 1.0, \"n\": 6}, {\"threshold\": 0.757, \"p\": 110, \"fpr\": 0.6666666666666666, \"tpr\": 1.0, \"n\": 6}, {\"threshold\": 0.758, \"p\": 110, \"fpr\": 0.6666666666666666, \"tpr\": 1.0, \"n\": 6}, {\"threshold\": 0.759, \"p\": 110, \"fpr\": 0.6666666666666666, \"tpr\": 1.0, \"n\": 6}, {\"threshold\": 0.76, \"p\": 110, \"fpr\": 0.6666666666666666, \"tpr\": 1.0, \"n\": 6}, {\"threshold\": 0.761, \"p\": 110, \"fpr\": 0.6666666666666666, \"tpr\": 1.0, \"n\": 6}, {\"threshold\": 0.762, \"p\": 110, \"fpr\": 0.6666666666666666, \"tpr\": 1.0, \"n\": 6}, {\"threshold\": 0.763, \"p\": 110, \"fpr\": 0.6666666666666666, \"tpr\": 1.0, \"n\": 6}, {\"threshold\": 0.764, \"p\": 110, \"fpr\": 0.6666666666666666, \"tpr\": 1.0, \"n\": 6}, {\"threshold\": 0.765, \"p\": 110, \"fpr\": 0.6666666666666666, \"tpr\": 1.0, \"n\": 6}, {\"threshold\": 0.766, \"p\": 110, \"fpr\": 0.6666666666666666, \"tpr\": 1.0, \"n\": 6}, {\"threshold\": 0.767, \"p\": 110, \"fpr\": 0.6666666666666666, \"tpr\": 1.0, \"n\": 6}, {\"threshold\": 0.768, \"p\": 110, \"fpr\": 0.6666666666666666, \"tpr\": 1.0, \"n\": 6}, {\"threshold\": 0.769, \"p\": 110, \"fpr\": 0.6666666666666666, \"tpr\": 1.0, \"n\": 6}, {\"threshold\": 0.77, \"p\": 110, \"fpr\": 0.6666666666666666, \"tpr\": 1.0, \"n\": 6}, {\"threshold\": 0.771, \"p\": 110, \"fpr\": 0.6666666666666666, \"tpr\": 1.0, \"n\": 6}, {\"threshold\": 0.772, \"p\": 110, \"fpr\": 0.6666666666666666, \"tpr\": 1.0, \"n\": 6}, {\"threshold\": 0.773, \"p\": 110, \"fpr\": 0.6666666666666666, \"tpr\": 1.0, \"n\": 6}, {\"threshold\": 0.774, \"p\": 110, \"fpr\": 0.6666666666666666, \"tpr\": 1.0, \"n\": 6}, {\"threshold\": 0.775, \"p\": 110, \"fpr\": 0.6666666666666666, \"tpr\": 1.0, \"n\": 6}, {\"threshold\": 0.776, \"p\": 110, \"fpr\": 0.6666666666666666, \"tpr\": 1.0, \"n\": 6}, {\"threshold\": 0.777, \"p\": 110, \"fpr\": 0.6666666666666666, \"tpr\": 1.0, \"n\": 6}, {\"threshold\": 0.778, \"p\": 110, \"fpr\": 0.6666666666666666, \"tpr\": 1.0, \"n\": 6}, {\"threshold\": 0.779, \"p\": 110, \"fpr\": 0.6666666666666666, \"tpr\": 1.0, \"n\": 6}, {\"threshold\": 0.78, \"p\": 110, \"fpr\": 0.6666666666666666, \"tpr\": 1.0, \"n\": 6}, {\"threshold\": 0.781, \"p\": 110, \"fpr\": 0.6666666666666666, \"tpr\": 1.0, \"n\": 6}, {\"threshold\": 0.782, \"p\": 110, \"fpr\": 0.6666666666666666, \"tpr\": 1.0, \"n\": 6}, {\"threshold\": 0.783, \"p\": 110, \"fpr\": 0.6666666666666666, \"tpr\": 1.0, \"n\": 6}, {\"threshold\": 0.784, \"p\": 110, \"fpr\": 0.6666666666666666, \"tpr\": 1.0, \"n\": 6}, {\"threshold\": 0.785, \"p\": 110, \"fpr\": 0.6666666666666666, \"tpr\": 1.0, \"n\": 6}, {\"threshold\": 0.786, \"p\": 110, \"fpr\": 0.6666666666666666, \"tpr\": 1.0, \"n\": 6}, {\"threshold\": 0.787, \"p\": 110, \"fpr\": 0.6666666666666666, \"tpr\": 1.0, \"n\": 6}, {\"threshold\": 0.788, \"p\": 110, \"fpr\": 0.6666666666666666, \"tpr\": 1.0, \"n\": 6}, {\"threshold\": 0.789, \"p\": 110, \"fpr\": 0.6666666666666666, \"tpr\": 1.0, \"n\": 6}, {\"threshold\": 0.79, \"p\": 110, \"fpr\": 0.6666666666666666, \"tpr\": 1.0, \"n\": 6}, {\"threshold\": 0.791, \"p\": 110, \"fpr\": 0.6666666666666666, \"tpr\": 1.0, \"n\": 6}, {\"threshold\": 0.792, \"p\": 110, \"fpr\": 0.6666666666666666, \"tpr\": 1.0, \"n\": 6}, {\"threshold\": 0.793, \"p\": 110, \"fpr\": 0.6666666666666666, \"tpr\": 1.0, \"n\": 6}, {\"threshold\": 0.794, \"p\": 110, \"fpr\": 0.6666666666666666, \"tpr\": 1.0, \"n\": 6}, {\"threshold\": 0.795, \"p\": 110, \"fpr\": 0.6666666666666666, \"tpr\": 1.0, \"n\": 6}, {\"threshold\": 0.796, \"p\": 110, \"fpr\": 0.6666666666666666, \"tpr\": 1.0, \"n\": 6}, {\"threshold\": 0.797, \"p\": 110, \"fpr\": 0.6666666666666666, \"tpr\": 1.0, \"n\": 6}, {\"threshold\": 0.798, \"p\": 110, \"fpr\": 0.6666666666666666, \"tpr\": 1.0, \"n\": 6}, {\"threshold\": 0.799, \"p\": 110, \"fpr\": 0.6666666666666666, \"tpr\": 1.0, \"n\": 6}, {\"threshold\": 0.8, \"p\": 110, \"fpr\": 0.6666666666666666, \"tpr\": 1.0, \"n\": 6}, {\"threshold\": 0.801, \"p\": 110, \"fpr\": 0.6666666666666666, \"tpr\": 1.0, \"n\": 6}, {\"threshold\": 0.802, \"p\": 110, \"fpr\": 0.6666666666666666, \"tpr\": 1.0, \"n\": 6}, {\"threshold\": 0.803, \"p\": 110, \"fpr\": 0.6666666666666666, \"tpr\": 1.0, \"n\": 6}, {\"threshold\": 0.804, \"p\": 110, \"fpr\": 0.6666666666666666, \"tpr\": 1.0, \"n\": 6}, {\"threshold\": 0.805, \"p\": 110, \"fpr\": 0.6666666666666666, \"tpr\": 1.0, \"n\": 6}, {\"threshold\": 0.806, \"p\": 110, \"fpr\": 0.6666666666666666, \"tpr\": 1.0, \"n\": 6}, {\"threshold\": 0.807, \"p\": 110, \"fpr\": 0.6666666666666666, \"tpr\": 1.0, \"n\": 6}, {\"threshold\": 0.808, \"p\": 110, \"fpr\": 0.6666666666666666, \"tpr\": 1.0, \"n\": 6}, {\"threshold\": 0.809, \"p\": 110, \"fpr\": 0.6666666666666666, \"tpr\": 1.0, \"n\": 6}, {\"threshold\": 0.81, \"p\": 110, \"fpr\": 0.6666666666666666, \"tpr\": 1.0, \"n\": 6}, {\"threshold\": 0.811, \"p\": 110, \"fpr\": 0.6666666666666666, \"tpr\": 1.0, \"n\": 6}, {\"threshold\": 0.812, \"p\": 110, \"fpr\": 0.6666666666666666, \"tpr\": 1.0, \"n\": 6}, {\"threshold\": 0.813, \"p\": 110, \"fpr\": 0.6666666666666666, \"tpr\": 1.0, \"n\": 6}, {\"threshold\": 0.814, \"p\": 110, \"fpr\": 0.6666666666666666, \"tpr\": 1.0, \"n\": 6}, {\"threshold\": 0.815, \"p\": 110, \"fpr\": 0.6666666666666666, \"tpr\": 1.0, \"n\": 6}, {\"threshold\": 0.816, \"p\": 110, \"fpr\": 0.6666666666666666, \"tpr\": 1.0, \"n\": 6}, {\"threshold\": 0.817, \"p\": 110, \"fpr\": 0.6666666666666666, \"tpr\": 1.0, \"n\": 6}, {\"threshold\": 0.818, \"p\": 110, \"fpr\": 0.6666666666666666, \"tpr\": 1.0, \"n\": 6}, {\"threshold\": 0.819, \"p\": 110, \"fpr\": 0.6666666666666666, \"tpr\": 1.0, \"n\": 6}, {\"threshold\": 0.82, \"p\": 110, \"fpr\": 0.6666666666666666, \"tpr\": 1.0, \"n\": 6}, {\"threshold\": 0.821, \"p\": 110, \"fpr\": 0.6666666666666666, \"tpr\": 1.0, \"n\": 6}, {\"threshold\": 0.822, \"p\": 110, \"fpr\": 0.6666666666666666, \"tpr\": 1.0, \"n\": 6}, {\"threshold\": 0.823, \"p\": 110, \"fpr\": 0.6666666666666666, \"tpr\": 1.0, \"n\": 6}, {\"threshold\": 0.824, \"p\": 110, \"fpr\": 0.6666666666666666, \"tpr\": 1.0, \"n\": 6}, {\"threshold\": 0.825, \"p\": 110, \"fpr\": 0.6666666666666666, \"tpr\": 1.0, \"n\": 6}, {\"threshold\": 0.826, \"p\": 110, \"fpr\": 0.6666666666666666, \"tpr\": 1.0, \"n\": 6}, {\"threshold\": 0.827, \"p\": 110, \"fpr\": 0.6666666666666666, \"tpr\": 1.0, \"n\": 6}, {\"threshold\": 0.828, \"p\": 110, \"fpr\": 0.6666666666666666, \"tpr\": 1.0, \"n\": 6}, {\"threshold\": 0.829, \"p\": 110, \"fpr\": 0.6666666666666666, \"tpr\": 1.0, \"n\": 6}, {\"threshold\": 0.83, \"p\": 110, \"fpr\": 0.6666666666666666, \"tpr\": 1.0, \"n\": 6}, {\"threshold\": 0.831, \"p\": 110, \"fpr\": 0.6666666666666666, \"tpr\": 1.0, \"n\": 6}, {\"threshold\": 0.832, \"p\": 110, \"fpr\": 0.6666666666666666, \"tpr\": 1.0, \"n\": 6}, {\"threshold\": 0.833, \"p\": 110, \"fpr\": 0.6666666666666666, \"tpr\": 1.0, \"n\": 6}, {\"threshold\": 0.834, \"p\": 110, \"fpr\": 0.6666666666666666, \"tpr\": 1.0, \"n\": 6}, {\"threshold\": 0.835, \"p\": 110, \"fpr\": 0.6666666666666666, \"tpr\": 1.0, \"n\": 6}, {\"threshold\": 0.836, \"p\": 110, \"fpr\": 0.6666666666666666, \"tpr\": 1.0, \"n\": 6}, {\"threshold\": 0.837, \"p\": 110, \"fpr\": 0.6666666666666666, \"tpr\": 1.0, \"n\": 6}, {\"threshold\": 0.838, \"p\": 110, \"fpr\": 0.6666666666666666, \"tpr\": 1.0, \"n\": 6}, {\"threshold\": 0.839, \"p\": 110, \"fpr\": 0.6666666666666666, \"tpr\": 1.0, \"n\": 6}, {\"threshold\": 0.84, \"p\": 110, \"fpr\": 0.6666666666666666, \"tpr\": 1.0, \"n\": 6}, {\"threshold\": 0.841, \"p\": 110, \"fpr\": 0.6666666666666666, \"tpr\": 1.0, \"n\": 6}, {\"threshold\": 0.842, \"p\": 110, \"fpr\": 0.6666666666666666, \"tpr\": 1.0, \"n\": 6}, {\"threshold\": 0.843, \"p\": 110, \"fpr\": 0.6666666666666666, \"tpr\": 1.0, \"n\": 6}, {\"threshold\": 0.844, \"p\": 110, \"fpr\": 0.6666666666666666, \"tpr\": 1.0, \"n\": 6}, {\"threshold\": 0.845, \"p\": 110, \"fpr\": 0.6666666666666666, \"tpr\": 1.0, \"n\": 6}, {\"threshold\": 0.846, \"p\": 110, \"fpr\": 0.6666666666666666, \"tpr\": 1.0, \"n\": 6}, {\"threshold\": 0.847, \"p\": 110, \"fpr\": 0.6666666666666666, \"tpr\": 1.0, \"n\": 6}, {\"threshold\": 0.848, \"p\": 110, \"fpr\": 0.6666666666666666, \"tpr\": 1.0, \"n\": 6}, {\"threshold\": 0.849, \"p\": 110, \"fpr\": 0.6666666666666666, \"tpr\": 1.0, \"n\": 6}, {\"threshold\": 0.85, \"p\": 110, \"fpr\": 0.6666666666666666, \"tpr\": 1.0, \"n\": 6}, {\"threshold\": 0.851, \"p\": 110, \"fpr\": 0.6666666666666666, \"tpr\": 1.0, \"n\": 6}, {\"threshold\": 0.852, \"p\": 110, \"fpr\": 0.6666666666666666, \"tpr\": 1.0, \"n\": 6}, {\"threshold\": 0.853, \"p\": 110, \"fpr\": 0.6666666666666666, \"tpr\": 1.0, \"n\": 6}, {\"threshold\": 0.854, \"p\": 110, \"fpr\": 0.6666666666666666, \"tpr\": 1.0, \"n\": 6}, {\"threshold\": 0.855, \"p\": 110, \"fpr\": 0.6666666666666666, \"tpr\": 1.0, \"n\": 6}, {\"threshold\": 0.856, \"p\": 110, \"fpr\": 0.6666666666666666, \"tpr\": 1.0, \"n\": 6}, {\"threshold\": 0.857, \"p\": 110, \"fpr\": 0.6666666666666666, \"tpr\": 1.0, \"n\": 6}, {\"threshold\": 0.858, \"p\": 110, \"fpr\": 0.6666666666666666, \"tpr\": 1.0, \"n\": 6}, {\"threshold\": 0.859, \"p\": 110, \"fpr\": 0.6666666666666666, \"tpr\": 1.0, \"n\": 6}, {\"threshold\": 0.86, \"p\": 110, \"fpr\": 0.6666666666666666, \"tpr\": 1.0, \"n\": 6}, {\"threshold\": 0.861, \"p\": 110, \"fpr\": 0.6666666666666666, \"tpr\": 1.0, \"n\": 6}, {\"threshold\": 0.862, \"p\": 110, \"fpr\": 0.6666666666666666, \"tpr\": 1.0, \"n\": 6}, {\"threshold\": 0.863, \"p\": 110, \"fpr\": 0.6666666666666666, \"tpr\": 1.0, \"n\": 6}, {\"threshold\": 0.864, \"p\": 110, \"fpr\": 0.6666666666666666, \"tpr\": 1.0, \"n\": 6}, {\"threshold\": 0.865, \"p\": 110, \"fpr\": 0.6666666666666666, \"tpr\": 1.0, \"n\": 6}, {\"threshold\": 0.866, \"p\": 110, \"fpr\": 0.6666666666666666, \"tpr\": 1.0, \"n\": 6}, {\"threshold\": 0.867, \"p\": 110, \"fpr\": 0.6666666666666666, \"tpr\": 1.0, \"n\": 6}, {\"threshold\": 0.868, \"p\": 110, \"fpr\": 0.6666666666666666, \"tpr\": 1.0, \"n\": 6}, {\"threshold\": 0.869, \"p\": 110, \"fpr\": 0.6666666666666666, \"tpr\": 1.0, \"n\": 6}, {\"threshold\": 0.87, \"p\": 110, \"fpr\": 0.6666666666666666, \"tpr\": 1.0, \"n\": 6}, {\"threshold\": 0.871, \"p\": 110, \"fpr\": 0.6666666666666666, \"tpr\": 1.0, \"n\": 6}, {\"threshold\": 0.872, \"p\": 110, \"fpr\": 0.6666666666666666, \"tpr\": 1.0, \"n\": 6}, {\"threshold\": 0.873, \"p\": 110, \"fpr\": 0.6666666666666666, \"tpr\": 1.0, \"n\": 6}, {\"threshold\": 0.874, \"p\": 110, \"fpr\": 0.6666666666666666, \"tpr\": 1.0, \"n\": 6}, {\"threshold\": 0.875, \"p\": 110, \"fpr\": 0.6666666666666666, \"tpr\": 1.0, \"n\": 6}, {\"threshold\": 0.876, \"p\": 110, \"fpr\": 0.6666666666666666, \"tpr\": 1.0, \"n\": 6}, {\"threshold\": 0.877, \"p\": 110, \"fpr\": 0.6666666666666666, \"tpr\": 1.0, \"n\": 6}, {\"threshold\": 0.878, \"p\": 110, \"fpr\": 0.6666666666666666, \"tpr\": 1.0, \"n\": 6}, {\"threshold\": 0.879, \"p\": 110, \"fpr\": 0.6666666666666666, \"tpr\": 1.0, \"n\": 6}, {\"threshold\": 0.88, \"p\": 110, \"fpr\": 0.6666666666666666, \"tpr\": 1.0, \"n\": 6}, {\"threshold\": 0.881, \"p\": 110, \"fpr\": 0.6666666666666666, \"tpr\": 1.0, \"n\": 6}, {\"threshold\": 0.882, \"p\": 110, \"fpr\": 0.6666666666666666, \"tpr\": 1.0, \"n\": 6}, {\"threshold\": 0.883, \"p\": 110, \"fpr\": 0.6666666666666666, \"tpr\": 1.0, \"n\": 6}, {\"threshold\": 0.884, \"p\": 110, \"fpr\": 0.6666666666666666, \"tpr\": 1.0, \"n\": 6}, {\"threshold\": 0.885, \"p\": 110, \"fpr\": 0.6666666666666666, \"tpr\": 1.0, \"n\": 6}, {\"threshold\": 0.886, \"p\": 110, \"fpr\": 0.6666666666666666, \"tpr\": 1.0, \"n\": 6}, {\"threshold\": 0.887, \"p\": 110, \"fpr\": 0.6666666666666666, \"tpr\": 1.0, \"n\": 6}, {\"threshold\": 0.888, \"p\": 110, \"fpr\": 0.6666666666666666, \"tpr\": 1.0, \"n\": 6}, {\"threshold\": 0.889, \"p\": 110, \"fpr\": 0.6666666666666666, \"tpr\": 1.0, \"n\": 6}, {\"threshold\": 0.89, \"p\": 110, \"fpr\": 0.6666666666666666, \"tpr\": 1.0, \"n\": 6}, {\"threshold\": 0.891, \"p\": 110, \"fpr\": 0.6666666666666666, \"tpr\": 1.0, \"n\": 6}, {\"threshold\": 0.892, \"p\": 110, \"fpr\": 0.6666666666666666, \"tpr\": 1.0, \"n\": 6}, {\"threshold\": 0.893, \"p\": 110, \"fpr\": 0.6666666666666666, \"tpr\": 1.0, \"n\": 6}, {\"threshold\": 0.894, \"p\": 110, \"fpr\": 0.6666666666666666, \"tpr\": 1.0, \"n\": 6}, {\"threshold\": 0.895, \"p\": 110, \"fpr\": 0.6666666666666666, \"tpr\": 1.0, \"n\": 6}, {\"threshold\": 0.896, \"p\": 110, \"fpr\": 0.6666666666666666, \"tpr\": 1.0, \"n\": 6}, {\"threshold\": 0.897, \"p\": 110, \"fpr\": 0.6666666666666666, \"tpr\": 1.0, \"n\": 6}, {\"threshold\": 0.898, \"p\": 110, \"fpr\": 0.6666666666666666, \"tpr\": 1.0, \"n\": 6}, {\"threshold\": 0.899, \"p\": 110, \"fpr\": 0.6666666666666666, \"tpr\": 1.0, \"n\": 6}, {\"threshold\": 0.9, \"p\": 110, \"fpr\": 0.6666666666666666, \"tpr\": 1.0, \"n\": 6}, {\"threshold\": 0.901, \"p\": 110, \"fpr\": 0.6666666666666666, \"tpr\": 1.0, \"n\": 6}, {\"threshold\": 0.902, \"p\": 110, \"fpr\": 0.6666666666666666, \"tpr\": 1.0, \"n\": 6}, {\"threshold\": 0.903, \"p\": 110, \"fpr\": 0.6666666666666666, \"tpr\": 1.0, \"n\": 6}, {\"threshold\": 0.904, \"p\": 110, \"fpr\": 0.6666666666666666, \"tpr\": 1.0, \"n\": 6}, {\"threshold\": 0.905, \"p\": 110, \"fpr\": 0.6666666666666666, \"tpr\": 1.0, \"n\": 6}, {\"threshold\": 0.906, \"p\": 110, \"fpr\": 0.6666666666666666, \"tpr\": 1.0, \"n\": 6}, {\"threshold\": 0.907, \"p\": 110, \"fpr\": 0.6666666666666666, \"tpr\": 1.0, \"n\": 6}, {\"threshold\": 0.908, \"p\": 110, \"fpr\": 0.6666666666666666, \"tpr\": 1.0, \"n\": 6}, {\"threshold\": 0.909, \"p\": 110, \"fpr\": 0.6666666666666666, \"tpr\": 1.0, \"n\": 6}, {\"threshold\": 0.91, \"p\": 110, \"fpr\": 0.6666666666666666, \"tpr\": 1.0, \"n\": 6}, {\"threshold\": 0.911, \"p\": 110, \"fpr\": 0.6666666666666666, \"tpr\": 1.0, \"n\": 6}, {\"threshold\": 0.912, \"p\": 110, \"fpr\": 0.6666666666666666, \"tpr\": 1.0, \"n\": 6}, {\"threshold\": 0.913, \"p\": 110, \"fpr\": 0.6666666666666666, \"tpr\": 1.0, \"n\": 6}, {\"threshold\": 0.914, \"p\": 110, \"fpr\": 0.6666666666666666, \"tpr\": 1.0, \"n\": 6}, {\"threshold\": 0.915, \"p\": 110, \"fpr\": 0.6666666666666666, \"tpr\": 1.0, \"n\": 6}, {\"threshold\": 0.916, \"p\": 110, \"fpr\": 0.6666666666666666, \"tpr\": 1.0, \"n\": 6}, {\"threshold\": 0.917, \"p\": 110, \"fpr\": 0.6666666666666666, \"tpr\": 1.0, \"n\": 6}, {\"threshold\": 0.918, \"p\": 110, \"fpr\": 0.6666666666666666, \"tpr\": 1.0, \"n\": 6}, {\"threshold\": 0.919, \"p\": 110, \"fpr\": 0.6666666666666666, \"tpr\": 1.0, \"n\": 6}, {\"threshold\": 0.92, \"p\": 110, \"fpr\": 0.6666666666666666, \"tpr\": 1.0, \"n\": 6}, {\"threshold\": 0.921, \"p\": 110, \"fpr\": 0.6666666666666666, \"tpr\": 1.0, \"n\": 6}, {\"threshold\": 0.922, \"p\": 110, \"fpr\": 0.6666666666666666, \"tpr\": 1.0, \"n\": 6}, {\"threshold\": 0.923, \"p\": 110, \"fpr\": 0.6666666666666666, \"tpr\": 1.0, \"n\": 6}, {\"threshold\": 0.924, \"p\": 110, \"fpr\": 0.6666666666666666, \"tpr\": 1.0, \"n\": 6}, {\"threshold\": 0.925, \"p\": 110, \"fpr\": 0.6666666666666666, \"tpr\": 1.0, \"n\": 6}, {\"threshold\": 0.926, \"p\": 110, \"fpr\": 0.6666666666666666, \"tpr\": 1.0, \"n\": 6}, {\"threshold\": 0.927, \"p\": 110, \"fpr\": 0.6666666666666666, \"tpr\": 1.0, \"n\": 6}, {\"threshold\": 0.928, \"p\": 110, \"fpr\": 0.6666666666666666, \"tpr\": 1.0, \"n\": 6}, {\"threshold\": 0.929, \"p\": 110, \"fpr\": 0.6666666666666666, \"tpr\": 1.0, \"n\": 6}, {\"threshold\": 0.93, \"p\": 110, \"fpr\": 0.6666666666666666, \"tpr\": 1.0, \"n\": 6}, {\"threshold\": 0.931, \"p\": 110, \"fpr\": 0.6666666666666666, \"tpr\": 1.0, \"n\": 6}, {\"threshold\": 0.932, \"p\": 110, \"fpr\": 0.6666666666666666, \"tpr\": 1.0, \"n\": 6}, {\"threshold\": 0.933, \"p\": 110, \"fpr\": 0.6666666666666666, \"tpr\": 1.0, \"n\": 6}, {\"threshold\": 0.934, \"p\": 110, \"fpr\": 0.6666666666666666, \"tpr\": 1.0, \"n\": 6}, {\"threshold\": 0.935, \"p\": 110, \"fpr\": 0.6666666666666666, \"tpr\": 1.0, \"n\": 6}, {\"threshold\": 0.936, \"p\": 110, \"fpr\": 0.6666666666666666, \"tpr\": 1.0, \"n\": 6}, {\"threshold\": 0.937, \"p\": 110, \"fpr\": 0.6666666666666666, \"tpr\": 1.0, \"n\": 6}, {\"threshold\": 0.938, \"p\": 110, \"fpr\": 0.6666666666666666, \"tpr\": 1.0, \"n\": 6}, {\"threshold\": 0.939, \"p\": 110, \"fpr\": 0.6666666666666666, \"tpr\": 1.0, \"n\": 6}, {\"threshold\": 0.94, \"p\": 110, \"fpr\": 0.6666666666666666, \"tpr\": 1.0, \"n\": 6}, {\"threshold\": 0.941, \"p\": 110, \"fpr\": 0.6666666666666666, \"tpr\": 1.0, \"n\": 6}, {\"threshold\": 0.942, \"p\": 110, \"fpr\": 0.6666666666666666, \"tpr\": 1.0, \"n\": 6}, {\"threshold\": 0.943, \"p\": 110, \"fpr\": 0.6666666666666666, \"tpr\": 1.0, \"n\": 6}, {\"threshold\": 0.944, \"p\": 110, \"fpr\": 0.6666666666666666, \"tpr\": 1.0, \"n\": 6}, {\"threshold\": 0.945, \"p\": 110, \"fpr\": 0.6666666666666666, \"tpr\": 1.0, \"n\": 6}, {\"threshold\": 0.946, \"p\": 110, \"fpr\": 0.6666666666666666, \"tpr\": 1.0, \"n\": 6}, {\"threshold\": 0.947, \"p\": 110, \"fpr\": 0.6666666666666666, \"tpr\": 1.0, \"n\": 6}, {\"threshold\": 0.948, \"p\": 110, \"fpr\": 0.6666666666666666, \"tpr\": 1.0, \"n\": 6}, {\"threshold\": 0.949, \"p\": 110, \"fpr\": 0.6666666666666666, \"tpr\": 1.0, \"n\": 6}, {\"threshold\": 0.95, \"p\": 110, \"fpr\": 0.6666666666666666, \"tpr\": 1.0, \"n\": 6}, {\"threshold\": 0.951, \"p\": 110, \"fpr\": 0.6666666666666666, \"tpr\": 1.0, \"n\": 6}, {\"threshold\": 0.952, \"p\": 110, \"fpr\": 0.6666666666666666, \"tpr\": 1.0, \"n\": 6}, {\"threshold\": 0.953, \"p\": 110, \"fpr\": 0.6666666666666666, \"tpr\": 1.0, \"n\": 6}, {\"threshold\": 0.954, \"p\": 110, \"fpr\": 0.6666666666666666, \"tpr\": 1.0, \"n\": 6}, {\"threshold\": 0.955, \"p\": 110, \"fpr\": 0.6666666666666666, \"tpr\": 1.0, \"n\": 6}, {\"threshold\": 0.956, \"p\": 110, \"fpr\": 0.6666666666666666, \"tpr\": 1.0, \"n\": 6}, {\"threshold\": 0.957, \"p\": 110, \"fpr\": 0.6666666666666666, \"tpr\": 1.0, \"n\": 6}, {\"threshold\": 0.958, \"p\": 110, \"fpr\": 0.6666666666666666, \"tpr\": 1.0, \"n\": 6}, {\"threshold\": 0.959, \"p\": 110, \"fpr\": 0.6666666666666666, \"tpr\": 1.0, \"n\": 6}, {\"threshold\": 0.96, \"p\": 110, \"fpr\": 0.6666666666666666, \"tpr\": 1.0, \"n\": 6}, {\"threshold\": 0.961, \"p\": 110, \"fpr\": 0.6666666666666666, \"tpr\": 1.0, \"n\": 6}, {\"threshold\": 0.962, \"p\": 110, \"fpr\": 0.6666666666666666, \"tpr\": 0.990909090909091, \"n\": 6}, {\"threshold\": 0.963, \"p\": 110, \"fpr\": 0.6666666666666666, \"tpr\": 0.990909090909091, \"n\": 6}, {\"threshold\": 0.964, \"p\": 110, \"fpr\": 0.6666666666666666, \"tpr\": 0.990909090909091, \"n\": 6}, {\"threshold\": 0.965, \"p\": 110, \"fpr\": 0.6666666666666666, \"tpr\": 0.990909090909091, \"n\": 6}, {\"threshold\": 0.966, \"p\": 110, \"fpr\": 0.6666666666666666, \"tpr\": 0.990909090909091, \"n\": 6}, {\"threshold\": 0.967, \"p\": 110, \"fpr\": 0.6666666666666666, \"tpr\": 0.990909090909091, \"n\": 6}, {\"threshold\": 0.968, \"p\": 110, \"fpr\": 0.6666666666666666, \"tpr\": 0.990909090909091, \"n\": 6}, {\"threshold\": 0.969, \"p\": 110, \"fpr\": 0.6666666666666666, \"tpr\": 0.990909090909091, \"n\": 6}, {\"threshold\": 0.97, \"p\": 110, \"fpr\": 0.6666666666666666, \"tpr\": 0.990909090909091, \"n\": 6}, {\"threshold\": 0.971, \"p\": 110, \"fpr\": 0.6666666666666666, \"tpr\": 0.990909090909091, \"n\": 6}, {\"threshold\": 0.972, \"p\": 110, \"fpr\": 0.6666666666666666, \"tpr\": 0.990909090909091, \"n\": 6}, {\"threshold\": 0.973, \"p\": 110, \"fpr\": 0.6666666666666666, \"tpr\": 0.990909090909091, \"n\": 6}, {\"threshold\": 0.974, \"p\": 110, \"fpr\": 0.6666666666666666, \"tpr\": 0.990909090909091, \"n\": 6}, {\"threshold\": 0.975, \"p\": 110, \"fpr\": 0.6666666666666666, \"tpr\": 0.990909090909091, \"n\": 6}, {\"threshold\": 0.976, \"p\": 110, \"fpr\": 0.6666666666666666, \"tpr\": 0.990909090909091, \"n\": 6}, {\"threshold\": 0.977, \"p\": 110, \"fpr\": 0.6666666666666666, \"tpr\": 0.990909090909091, \"n\": 6}, {\"threshold\": 0.978, \"p\": 110, \"fpr\": 0.6666666666666666, \"tpr\": 0.990909090909091, \"n\": 6}, {\"threshold\": 0.979, \"p\": 110, \"fpr\": 0.6666666666666666, \"tpr\": 0.990909090909091, \"n\": 6}, {\"threshold\": 0.98, \"p\": 110, \"fpr\": 0.6666666666666666, \"tpr\": 0.990909090909091, \"n\": 6}, {\"threshold\": 0.981, \"p\": 110, \"fpr\": 0.6666666666666666, \"tpr\": 0.990909090909091, \"n\": 6}, {\"threshold\": 0.982, \"p\": 110, \"fpr\": 0.6666666666666666, \"tpr\": 0.990909090909091, \"n\": 6}, {\"threshold\": 0.983, \"p\": 110, \"fpr\": 0.6666666666666666, \"tpr\": 0.990909090909091, \"n\": 6}, {\"threshold\": 0.984, \"p\": 110, \"fpr\": 0.6666666666666666, \"tpr\": 0.990909090909091, \"n\": 6}, {\"threshold\": 0.985, \"p\": 110, \"fpr\": 0.6666666666666666, \"tpr\": 0.990909090909091, \"n\": 6}, {\"threshold\": 0.986, \"p\": 110, \"fpr\": 0.6666666666666666, \"tpr\": 0.990909090909091, \"n\": 6}, {\"threshold\": 0.987, \"p\": 110, \"fpr\": 0.6666666666666666, \"tpr\": 0.990909090909091, \"n\": 6}, {\"threshold\": 0.988, \"p\": 110, \"fpr\": 0.6666666666666666, \"tpr\": 0.990909090909091, \"n\": 6}, {\"threshold\": 0.989, \"p\": 110, \"fpr\": 0.6666666666666666, \"tpr\": 0.990909090909091, \"n\": 6}, {\"threshold\": 0.99, \"p\": 110, \"fpr\": 0.6666666666666666, \"tpr\": 0.990909090909091, \"n\": 6}, {\"threshold\": 0.991, \"p\": 110, \"fpr\": 0.6666666666666666, \"tpr\": 0.9727272727272728, \"n\": 6}, {\"threshold\": 0.992, \"p\": 110, \"fpr\": 0.6666666666666666, \"tpr\": 0.9727272727272728, \"n\": 6}, {\"threshold\": 0.993, \"p\": 110, \"fpr\": 0.6666666666666666, \"tpr\": 0.9727272727272728, \"n\": 6}, {\"threshold\": 0.994, \"p\": 110, \"fpr\": 0.6666666666666666, \"tpr\": 0.9545454545454546, \"n\": 6}, {\"threshold\": 0.995, \"p\": 110, \"fpr\": 0.6666666666666666, \"tpr\": 0.9363636363636364, \"n\": 6}, {\"threshold\": 0.996, \"p\": 110, \"fpr\": 0.6666666666666666, \"tpr\": 0.9090909090909091, \"n\": 6}, {\"threshold\": 0.997, \"p\": 110, \"fpr\": 0.6666666666666666, \"tpr\": 0.9, \"n\": 6}, {\"threshold\": 0.998, \"p\": 110, \"fpr\": 0.6666666666666666, \"tpr\": 0.8727272727272727, \"n\": 6}, {\"threshold\": 0.999, \"p\": 110, \"fpr\": 0.6666666666666666, \"tpr\": 0.8454545454545455, \"n\": 6}, {\"threshold\": 1.0, \"p\": 110, \"fpr\": 0.0, \"tpr\": 0.0, \"n\": 6}]}]], \"type\": \"Model\"}, \"ipython\": true, \"view_params\": {\"model_type\": \"regression\", \"view\": \"Evaluation\"}, \"model_type\": \"regression\", \"attributes\": {\"section_titles\": [\"Schema\", \"Hyperparameters\", \"Training Summary\", \"Settings\", \"Highest Positive Coefficients\", \"Lowest Negative Coefficients\"], \"sections\": [[[\"Number of coefficients\", 4567], [\"Number of examples\", 428], [\"Number of classes\", 2], [\"Number of feature columns\", 1], [\"Number of unpacked features\", 4566]], [[\"L1 penalty\", 0.0], [\"L2 penalty\", 0.01]], [[\"Solver\", \"lbfgs\"], [\"Solver iterations\", 9], [\"Solver status\", \"SUCCESS: Optimal solution found.\"], [\"Training time (sec)\", 1.0516]], [[\"Log-likelihood\", 0.0113]], [[\"word_count[travelling]\", 2.647], [\"word_count[kid.]\", 2.1648], [\"word_count[slight]\", 1.8996], [\"word_count[wanted.]\", 1.8606], [\"word_count[meets]\", 1.6025]], [[\"word_count[n't]\", -3.2608], [\"word_count[doubt]\", -3.2608], [\"word_count[can,]\", -3.2608], [\"word_count[walk.i]\", -2.7917], [\"word_count[thin).]\", -2.7917]]]}, \"evaluations\": [[\"test_data\", {\"roc_curve\": [{\"threshold\": 0.0, \"p\": 110, \"fpr\": 1.0, \"tpr\": 1.0, \"n\": 6}, {\"threshold\": 0.001, \"p\": 110, \"fpr\": 0.6666666666666666, \"tpr\": 1.0, \"n\": 6}, {\"threshold\": 0.002, \"p\": 110, \"fpr\": 0.6666666666666666, \"tpr\": 1.0, \"n\": 6}, {\"threshold\": 0.003, \"p\": 110, \"fpr\": 0.6666666666666666, \"tpr\": 1.0, \"n\": 6}, {\"threshold\": 0.004, \"p\": 110, \"fpr\": 0.6666666666666666, \"tpr\": 1.0, \"n\": 6}, {\"threshold\": 0.005, \"p\": 110, \"fpr\": 0.6666666666666666, \"tpr\": 1.0, \"n\": 6}, {\"threshold\": 0.006, \"p\": 110, \"fpr\": 0.6666666666666666, \"tpr\": 1.0, \"n\": 6}, {\"threshold\": 0.007, \"p\": 110, \"fpr\": 0.6666666666666666, \"tpr\": 1.0, \"n\": 6}, {\"threshold\": 0.008, \"p\": 110, \"fpr\": 0.6666666666666666, \"tpr\": 1.0, \"n\": 6}, {\"threshold\": 0.009, \"p\": 110, \"fpr\": 0.6666666666666666, \"tpr\": 1.0, \"n\": 6}, {\"threshold\": 0.01, \"p\": 110, \"fpr\": 0.6666666666666666, \"tpr\": 1.0, \"n\": 6}, {\"threshold\": 0.011, \"p\": 110, \"fpr\": 0.6666666666666666, \"tpr\": 1.0, \"n\": 6}, {\"threshold\": 0.012, \"p\": 110, \"fpr\": 0.6666666666666666, \"tpr\": 1.0, \"n\": 6}, {\"threshold\": 0.013, \"p\": 110, \"fpr\": 0.6666666666666666, \"tpr\": 1.0, \"n\": 6}, {\"threshold\": 0.014, \"p\": 110, \"fpr\": 0.6666666666666666, \"tpr\": 1.0, \"n\": 6}, {\"threshold\": 0.015, \"p\": 110, \"fpr\": 0.6666666666666666, \"tpr\": 1.0, \"n\": 6}, {\"threshold\": 0.016, \"p\": 110, \"fpr\": 0.6666666666666666, \"tpr\": 1.0, \"n\": 6}, {\"threshold\": 0.017, \"p\": 110, \"fpr\": 0.6666666666666666, \"tpr\": 1.0, \"n\": 6}, {\"threshold\": 0.018, \"p\": 110, \"fpr\": 0.6666666666666666, \"tpr\": 1.0, \"n\": 6}, {\"threshold\": 0.019, \"p\": 110, \"fpr\": 0.6666666666666666, \"tpr\": 1.0, \"n\": 6}, {\"threshold\": 0.02, \"p\": 110, \"fpr\": 0.6666666666666666, \"tpr\": 1.0, \"n\": 6}, {\"threshold\": 0.021, \"p\": 110, \"fpr\": 0.6666666666666666, \"tpr\": 1.0, \"n\": 6}, {\"threshold\": 0.022, \"p\": 110, \"fpr\": 0.6666666666666666, \"tpr\": 1.0, \"n\": 6}, {\"threshold\": 0.023, \"p\": 110, \"fpr\": 0.6666666666666666, \"tpr\": 1.0, \"n\": 6}, {\"threshold\": 0.024, \"p\": 110, \"fpr\": 0.6666666666666666, \"tpr\": 1.0, \"n\": 6}, {\"threshold\": 0.025, \"p\": 110, \"fpr\": 0.6666666666666666, \"tpr\": 1.0, \"n\": 6}, {\"threshold\": 0.026, \"p\": 110, \"fpr\": 0.6666666666666666, \"tpr\": 1.0, \"n\": 6}, {\"threshold\": 0.027, \"p\": 110, \"fpr\": 0.6666666666666666, \"tpr\": 1.0, \"n\": 6}, {\"threshold\": 0.028, \"p\": 110, \"fpr\": 0.6666666666666666, \"tpr\": 1.0, \"n\": 6}, {\"threshold\": 0.029, \"p\": 110, \"fpr\": 0.6666666666666666, \"tpr\": 1.0, \"n\": 6}, {\"threshold\": 0.03, \"p\": 110, \"fpr\": 0.6666666666666666, \"tpr\": 1.0, \"n\": 6}, {\"threshold\": 0.031, \"p\": 110, \"fpr\": 0.6666666666666666, \"tpr\": 1.0, \"n\": 6}, {\"threshold\": 0.032, \"p\": 110, \"fpr\": 0.6666666666666666, \"tpr\": 1.0, \"n\": 6}, {\"threshold\": 0.033, \"p\": 110, \"fpr\": 0.6666666666666666, \"tpr\": 1.0, \"n\": 6}, {\"threshold\": 0.034, \"p\": 110, \"fpr\": 0.6666666666666666, \"tpr\": 1.0, \"n\": 6}, {\"threshold\": 0.035, \"p\": 110, \"fpr\": 0.6666666666666666, \"tpr\": 1.0, \"n\": 6}, {\"threshold\": 0.036, \"p\": 110, \"fpr\": 0.6666666666666666, \"tpr\": 1.0, \"n\": 6}, {\"threshold\": 0.037, \"p\": 110, \"fpr\": 0.6666666666666666, \"tpr\": 1.0, \"n\": 6}, {\"threshold\": 0.038, \"p\": 110, \"fpr\": 0.6666666666666666, \"tpr\": 1.0, \"n\": 6}, {\"threshold\": 0.039, \"p\": 110, \"fpr\": 0.6666666666666666, \"tpr\": 1.0, \"n\": 6}, {\"threshold\": 0.04, \"p\": 110, \"fpr\": 0.6666666666666666, \"tpr\": 1.0, \"n\": 6}, {\"threshold\": 0.041, \"p\": 110, \"fpr\": 0.6666666666666666, \"tpr\": 1.0, \"n\": 6}, {\"threshold\": 0.042, \"p\": 110, \"fpr\": 0.6666666666666666, \"tpr\": 1.0, \"n\": 6}, {\"threshold\": 0.043, \"p\": 110, \"fpr\": 0.6666666666666666, \"tpr\": 1.0, \"n\": 6}, {\"threshold\": 0.044, \"p\": 110, \"fpr\": 0.6666666666666666, \"tpr\": 1.0, \"n\": 6}, {\"threshold\": 0.045, \"p\": 110, \"fpr\": 0.6666666666666666, \"tpr\": 1.0, \"n\": 6}, {\"threshold\": 0.046, \"p\": 110, \"fpr\": 0.6666666666666666, \"tpr\": 1.0, \"n\": 6}, {\"threshold\": 0.047, \"p\": 110, \"fpr\": 0.6666666666666666, \"tpr\": 1.0, \"n\": 6}, {\"threshold\": 0.048, \"p\": 110, \"fpr\": 0.6666666666666666, \"tpr\": 1.0, \"n\": 6}, {\"threshold\": 0.049, \"p\": 110, \"fpr\": 0.6666666666666666, \"tpr\": 1.0, \"n\": 6}, {\"threshold\": 0.05, \"p\": 110, \"fpr\": 0.6666666666666666, \"tpr\": 1.0, \"n\": 6}, {\"threshold\": 0.051, \"p\": 110, \"fpr\": 0.6666666666666666, \"tpr\": 1.0, \"n\": 6}, {\"threshold\": 0.052, \"p\": 110, \"fpr\": 0.6666666666666666, \"tpr\": 1.0, \"n\": 6}, {\"threshold\": 0.053, \"p\": 110, \"fpr\": 0.6666666666666666, \"tpr\": 1.0, \"n\": 6}, {\"threshold\": 0.054, \"p\": 110, \"fpr\": 0.6666666666666666, \"tpr\": 1.0, \"n\": 6}, {\"threshold\": 0.055, \"p\": 110, \"fpr\": 0.6666666666666666, \"tpr\": 1.0, \"n\": 6}, {\"threshold\": 0.056, \"p\": 110, \"fpr\": 0.6666666666666666, \"tpr\": 1.0, \"n\": 6}, {\"threshold\": 0.057, \"p\": 110, \"fpr\": 0.6666666666666666, \"tpr\": 1.0, \"n\": 6}, {\"threshold\": 0.058, \"p\": 110, \"fpr\": 0.6666666666666666, \"tpr\": 1.0, \"n\": 6}, {\"threshold\": 0.059, \"p\": 110, \"fpr\": 0.6666666666666666, \"tpr\": 1.0, \"n\": 6}, {\"threshold\": 0.06, \"p\": 110, \"fpr\": 0.6666666666666666, \"tpr\": 1.0, \"n\": 6}, {\"threshold\": 0.061, \"p\": 110, \"fpr\": 0.6666666666666666, \"tpr\": 1.0, \"n\": 6}, {\"threshold\": 0.062, \"p\": 110, \"fpr\": 0.6666666666666666, \"tpr\": 1.0, \"n\": 6}, {\"threshold\": 0.063, \"p\": 110, \"fpr\": 0.6666666666666666, \"tpr\": 1.0, \"n\": 6}, {\"threshold\": 0.064, \"p\": 110, \"fpr\": 0.6666666666666666, \"tpr\": 1.0, \"n\": 6}, {\"threshold\": 0.065, \"p\": 110, \"fpr\": 0.6666666666666666, \"tpr\": 1.0, \"n\": 6}, {\"threshold\": 0.066, \"p\": 110, \"fpr\": 0.6666666666666666, \"tpr\": 1.0, \"n\": 6}, {\"threshold\": 0.067, \"p\": 110, \"fpr\": 0.6666666666666666, \"tpr\": 1.0, \"n\": 6}, {\"threshold\": 0.068, \"p\": 110, \"fpr\": 0.6666666666666666, \"tpr\": 1.0, \"n\": 6}, {\"threshold\": 0.069, \"p\": 110, \"fpr\": 0.6666666666666666, \"tpr\": 1.0, \"n\": 6}, {\"threshold\": 0.07, \"p\": 110, \"fpr\": 0.6666666666666666, \"tpr\": 1.0, \"n\": 6}, {\"threshold\": 0.071, \"p\": 110, \"fpr\": 0.6666666666666666, \"tpr\": 1.0, \"n\": 6}, {\"threshold\": 0.072, \"p\": 110, \"fpr\": 0.6666666666666666, \"tpr\": 1.0, \"n\": 6}, {\"threshold\": 0.073, \"p\": 110, \"fpr\": 0.6666666666666666, \"tpr\": 1.0, \"n\": 6}, {\"threshold\": 0.074, \"p\": 110, \"fpr\": 0.6666666666666666, \"tpr\": 1.0, \"n\": 6}, {\"threshold\": 0.075, \"p\": 110, \"fpr\": 0.6666666666666666, \"tpr\": 1.0, \"n\": 6}, {\"threshold\": 0.076, \"p\": 110, \"fpr\": 0.6666666666666666, \"tpr\": 1.0, \"n\": 6}, {\"threshold\": 0.077, \"p\": 110, \"fpr\": 0.6666666666666666, \"tpr\": 1.0, \"n\": 6}, {\"threshold\": 0.078, \"p\": 110, \"fpr\": 0.6666666666666666, \"tpr\": 1.0, \"n\": 6}, {\"threshold\": 0.079, \"p\": 110, \"fpr\": 0.6666666666666666, \"tpr\": 1.0, \"n\": 6}, {\"threshold\": 0.08, \"p\": 110, \"fpr\": 0.6666666666666666, \"tpr\": 1.0, \"n\": 6}, {\"threshold\": 0.081, \"p\": 110, \"fpr\": 0.6666666666666666, \"tpr\": 1.0, \"n\": 6}, {\"threshold\": 0.082, \"p\": 110, \"fpr\": 0.6666666666666666, \"tpr\": 1.0, \"n\": 6}, {\"threshold\": 0.083, \"p\": 110, \"fpr\": 0.6666666666666666, \"tpr\": 1.0, \"n\": 6}, {\"threshold\": 0.084, \"p\": 110, \"fpr\": 0.6666666666666666, \"tpr\": 1.0, \"n\": 6}, {\"threshold\": 0.085, \"p\": 110, \"fpr\": 0.6666666666666666, \"tpr\": 1.0, \"n\": 6}, {\"threshold\": 0.086, \"p\": 110, \"fpr\": 0.6666666666666666, \"tpr\": 1.0, \"n\": 6}, {\"threshold\": 0.087, \"p\": 110, \"fpr\": 0.6666666666666666, \"tpr\": 1.0, \"n\": 6}, {\"threshold\": 0.088, \"p\": 110, \"fpr\": 0.6666666666666666, \"tpr\": 1.0, \"n\": 6}, {\"threshold\": 0.089, \"p\": 110, \"fpr\": 0.6666666666666666, \"tpr\": 1.0, \"n\": 6}, {\"threshold\": 0.09, \"p\": 110, \"fpr\": 0.6666666666666666, \"tpr\": 1.0, \"n\": 6}, {\"threshold\": 0.091, \"p\": 110, \"fpr\": 0.6666666666666666, \"tpr\": 1.0, \"n\": 6}, {\"threshold\": 0.092, \"p\": 110, \"fpr\": 0.6666666666666666, \"tpr\": 1.0, \"n\": 6}, {\"threshold\": 0.093, \"p\": 110, \"fpr\": 0.6666666666666666, \"tpr\": 1.0, \"n\": 6}, {\"threshold\": 0.094, \"p\": 110, \"fpr\": 0.6666666666666666, \"tpr\": 1.0, \"n\": 6}, {\"threshold\": 0.095, \"p\": 110, \"fpr\": 0.6666666666666666, \"tpr\": 1.0, \"n\": 6}, {\"threshold\": 0.096, \"p\": 110, \"fpr\": 0.6666666666666666, \"tpr\": 1.0, \"n\": 6}, {\"threshold\": 0.097, \"p\": 110, \"fpr\": 0.6666666666666666, \"tpr\": 1.0, \"n\": 6}, {\"threshold\": 0.098, \"p\": 110, \"fpr\": 0.6666666666666666, \"tpr\": 1.0, \"n\": 6}, {\"threshold\": 0.099, \"p\": 110, \"fpr\": 0.6666666666666666, \"tpr\": 1.0, \"n\": 6}, {\"threshold\": 0.1, \"p\": 110, \"fpr\": 0.6666666666666666, \"tpr\": 1.0, \"n\": 6}, {\"threshold\": 0.101, \"p\": 110, \"fpr\": 0.6666666666666666, \"tpr\": 1.0, \"n\": 6}, {\"threshold\": 0.102, \"p\": 110, \"fpr\": 0.6666666666666666, \"tpr\": 1.0, \"n\": 6}, {\"threshold\": 0.103, \"p\": 110, \"fpr\": 0.6666666666666666, \"tpr\": 1.0, \"n\": 6}, {\"threshold\": 0.104, \"p\": 110, \"fpr\": 0.6666666666666666, \"tpr\": 1.0, \"n\": 6}, {\"threshold\": 0.105, \"p\": 110, \"fpr\": 0.6666666666666666, \"tpr\": 1.0, \"n\": 6}, {\"threshold\": 0.106, \"p\": 110, \"fpr\": 0.6666666666666666, \"tpr\": 1.0, \"n\": 6}, {\"threshold\": 0.107, \"p\": 110, \"fpr\": 0.6666666666666666, \"tpr\": 1.0, \"n\": 6}, {\"threshold\": 0.108, \"p\": 110, \"fpr\": 0.6666666666666666, \"tpr\": 1.0, \"n\": 6}, {\"threshold\": 0.109, \"p\": 110, \"fpr\": 0.6666666666666666, \"tpr\": 1.0, \"n\": 6}, {\"threshold\": 0.11, \"p\": 110, \"fpr\": 0.6666666666666666, \"tpr\": 1.0, \"n\": 6}, {\"threshold\": 0.111, \"p\": 110, \"fpr\": 0.6666666666666666, \"tpr\": 1.0, \"n\": 6}, {\"threshold\": 0.112, \"p\": 110, \"fpr\": 0.6666666666666666, \"tpr\": 1.0, \"n\": 6}, {\"threshold\": 0.113, \"p\": 110, \"fpr\": 0.6666666666666666, \"tpr\": 1.0, \"n\": 6}, {\"threshold\": 0.114, \"p\": 110, \"fpr\": 0.6666666666666666, \"tpr\": 1.0, \"n\": 6}, {\"threshold\": 0.115, \"p\": 110, \"fpr\": 0.6666666666666666, \"tpr\": 1.0, \"n\": 6}, {\"threshold\": 0.116, \"p\": 110, \"fpr\": 0.6666666666666666, \"tpr\": 1.0, \"n\": 6}, {\"threshold\": 0.117, \"p\": 110, \"fpr\": 0.6666666666666666, \"tpr\": 1.0, \"n\": 6}, {\"threshold\": 0.118, \"p\": 110, \"fpr\": 0.6666666666666666, \"tpr\": 1.0, \"n\": 6}, {\"threshold\": 0.119, \"p\": 110, \"fpr\": 0.6666666666666666, \"tpr\": 1.0, \"n\": 6}, {\"threshold\": 0.12, \"p\": 110, \"fpr\": 0.6666666666666666, \"tpr\": 1.0, \"n\": 6}, {\"threshold\": 0.121, \"p\": 110, \"fpr\": 0.6666666666666666, \"tpr\": 1.0, \"n\": 6}, {\"threshold\": 0.122, \"p\": 110, \"fpr\": 0.6666666666666666, \"tpr\": 1.0, \"n\": 6}, {\"threshold\": 0.123, \"p\": 110, \"fpr\": 0.6666666666666666, \"tpr\": 1.0, \"n\": 6}, {\"threshold\": 0.124, \"p\": 110, \"fpr\": 0.6666666666666666, \"tpr\": 1.0, \"n\": 6}, {\"threshold\": 0.125, \"p\": 110, \"fpr\": 0.6666666666666666, \"tpr\": 1.0, \"n\": 6}, {\"threshold\": 0.126, \"p\": 110, \"fpr\": 0.6666666666666666, \"tpr\": 1.0, \"n\": 6}, {\"threshold\": 0.127, \"p\": 110, \"fpr\": 0.6666666666666666, \"tpr\": 1.0, \"n\": 6}, {\"threshold\": 0.128, \"p\": 110, \"fpr\": 0.6666666666666666, \"tpr\": 1.0, \"n\": 6}, {\"threshold\": 0.129, \"p\": 110, \"fpr\": 0.6666666666666666, \"tpr\": 1.0, \"n\": 6}, {\"threshold\": 0.13, \"p\": 110, \"fpr\": 0.6666666666666666, \"tpr\": 1.0, \"n\": 6}, {\"threshold\": 0.131, \"p\": 110, \"fpr\": 0.6666666666666666, \"tpr\": 1.0, \"n\": 6}, {\"threshold\": 0.132, \"p\": 110, \"fpr\": 0.6666666666666666, \"tpr\": 1.0, \"n\": 6}, {\"threshold\": 0.133, \"p\": 110, \"fpr\": 0.6666666666666666, \"tpr\": 1.0, \"n\": 6}, {\"threshold\": 0.134, \"p\": 110, \"fpr\": 0.6666666666666666, \"tpr\": 1.0, \"n\": 6}, {\"threshold\": 0.135, \"p\": 110, \"fpr\": 0.6666666666666666, \"tpr\": 1.0, \"n\": 6}, {\"threshold\": 0.136, \"p\": 110, \"fpr\": 0.6666666666666666, \"tpr\": 1.0, \"n\": 6}, {\"threshold\": 0.137, \"p\": 110, \"fpr\": 0.6666666666666666, \"tpr\": 1.0, \"n\": 6}, {\"threshold\": 0.138, \"p\": 110, \"fpr\": 0.6666666666666666, \"tpr\": 1.0, \"n\": 6}, {\"threshold\": 0.139, \"p\": 110, \"fpr\": 0.6666666666666666, \"tpr\": 1.0, \"n\": 6}, {\"threshold\": 0.14, \"p\": 110, \"fpr\": 0.6666666666666666, \"tpr\": 1.0, \"n\": 6}, {\"threshold\": 0.141, \"p\": 110, \"fpr\": 0.6666666666666666, \"tpr\": 1.0, \"n\": 6}, {\"threshold\": 0.142, \"p\": 110, \"fpr\": 0.6666666666666666, \"tpr\": 1.0, \"n\": 6}, {\"threshold\": 0.143, \"p\": 110, \"fpr\": 0.6666666666666666, \"tpr\": 1.0, \"n\": 6}, {\"threshold\": 0.144, \"p\": 110, \"fpr\": 0.6666666666666666, \"tpr\": 1.0, \"n\": 6}, {\"threshold\": 0.145, \"p\": 110, \"fpr\": 0.6666666666666666, \"tpr\": 1.0, \"n\": 6}, {\"threshold\": 0.146, \"p\": 110, \"fpr\": 0.6666666666666666, \"tpr\": 1.0, \"n\": 6}, {\"threshold\": 0.147, \"p\": 110, \"fpr\": 0.6666666666666666, \"tpr\": 1.0, \"n\": 6}, {\"threshold\": 0.148, \"p\": 110, \"fpr\": 0.6666666666666666, \"tpr\": 1.0, \"n\": 6}, {\"threshold\": 0.149, \"p\": 110, \"fpr\": 0.6666666666666666, \"tpr\": 1.0, \"n\": 6}, {\"threshold\": 0.15, \"p\": 110, \"fpr\": 0.6666666666666666, \"tpr\": 1.0, \"n\": 6}, {\"threshold\": 0.151, \"p\": 110, \"fpr\": 0.6666666666666666, \"tpr\": 1.0, \"n\": 6}, {\"threshold\": 0.152, \"p\": 110, \"fpr\": 0.6666666666666666, \"tpr\": 1.0, \"n\": 6}, {\"threshold\": 0.153, \"p\": 110, \"fpr\": 0.6666666666666666, \"tpr\": 1.0, \"n\": 6}, {\"threshold\": 0.154, \"p\": 110, \"fpr\": 0.6666666666666666, \"tpr\": 1.0, \"n\": 6}, {\"threshold\": 0.155, \"p\": 110, \"fpr\": 0.6666666666666666, \"tpr\": 1.0, \"n\": 6}, {\"threshold\": 0.156, \"p\": 110, \"fpr\": 0.6666666666666666, \"tpr\": 1.0, \"n\": 6}, {\"threshold\": 0.157, \"p\": 110, \"fpr\": 0.6666666666666666, \"tpr\": 1.0, \"n\": 6}, {\"threshold\": 0.158, \"p\": 110, \"fpr\": 0.6666666666666666, \"tpr\": 1.0, \"n\": 6}, {\"threshold\": 0.159, \"p\": 110, \"fpr\": 0.6666666666666666, \"tpr\": 1.0, \"n\": 6}, {\"threshold\": 0.16, \"p\": 110, \"fpr\": 0.6666666666666666, \"tpr\": 1.0, \"n\": 6}, {\"threshold\": 0.161, \"p\": 110, \"fpr\": 0.6666666666666666, \"tpr\": 1.0, \"n\": 6}, {\"threshold\": 0.162, \"p\": 110, \"fpr\": 0.6666666666666666, \"tpr\": 1.0, \"n\": 6}, {\"threshold\": 0.163, \"p\": 110, \"fpr\": 0.6666666666666666, \"tpr\": 1.0, \"n\": 6}, {\"threshold\": 0.164, \"p\": 110, \"fpr\": 0.6666666666666666, \"tpr\": 1.0, \"n\": 6}, {\"threshold\": 0.165, \"p\": 110, \"fpr\": 0.6666666666666666, \"tpr\": 1.0, \"n\": 6}, {\"threshold\": 0.166, \"p\": 110, \"fpr\": 0.6666666666666666, \"tpr\": 1.0, \"n\": 6}, {\"threshold\": 0.167, \"p\": 110, \"fpr\": 0.6666666666666666, \"tpr\": 1.0, \"n\": 6}, {\"threshold\": 0.168, \"p\": 110, \"fpr\": 0.6666666666666666, \"tpr\": 1.0, \"n\": 6}, {\"threshold\": 0.169, \"p\": 110, \"fpr\": 0.6666666666666666, \"tpr\": 1.0, \"n\": 6}, {\"threshold\": 0.17, \"p\": 110, \"fpr\": 0.6666666666666666, \"tpr\": 1.0, \"n\": 6}, {\"threshold\": 0.171, \"p\": 110, \"fpr\": 0.6666666666666666, \"tpr\": 1.0, \"n\": 6}, {\"threshold\": 0.172, \"p\": 110, \"fpr\": 0.6666666666666666, \"tpr\": 1.0, \"n\": 6}, {\"threshold\": 0.173, \"p\": 110, \"fpr\": 0.6666666666666666, \"tpr\": 1.0, \"n\": 6}, {\"threshold\": 0.174, \"p\": 110, \"fpr\": 0.6666666666666666, \"tpr\": 1.0, \"n\": 6}, {\"threshold\": 0.175, \"p\": 110, \"fpr\": 0.6666666666666666, \"tpr\": 1.0, \"n\": 6}, {\"threshold\": 0.176, \"p\": 110, \"fpr\": 0.6666666666666666, \"tpr\": 1.0, \"n\": 6}, {\"threshold\": 0.177, \"p\": 110, \"fpr\": 0.6666666666666666, \"tpr\": 1.0, \"n\": 6}, {\"threshold\": 0.178, \"p\": 110, \"fpr\": 0.6666666666666666, \"tpr\": 1.0, \"n\": 6}, {\"threshold\": 0.179, \"p\": 110, \"fpr\": 0.6666666666666666, \"tpr\": 1.0, \"n\": 6}, {\"threshold\": 0.18, \"p\": 110, \"fpr\": 0.6666666666666666, \"tpr\": 1.0, \"n\": 6}, {\"threshold\": 0.181, \"p\": 110, \"fpr\": 0.6666666666666666, \"tpr\": 1.0, \"n\": 6}, {\"threshold\": 0.182, \"p\": 110, \"fpr\": 0.6666666666666666, \"tpr\": 1.0, \"n\": 6}, {\"threshold\": 0.183, \"p\": 110, \"fpr\": 0.6666666666666666, \"tpr\": 1.0, \"n\": 6}, {\"threshold\": 0.184, \"p\": 110, \"fpr\": 0.6666666666666666, \"tpr\": 1.0, \"n\": 6}, {\"threshold\": 0.185, \"p\": 110, \"fpr\": 0.6666666666666666, \"tpr\": 1.0, \"n\": 6}, {\"threshold\": 0.186, \"p\": 110, \"fpr\": 0.6666666666666666, \"tpr\": 1.0, \"n\": 6}, {\"threshold\": 0.187, \"p\": 110, \"fpr\": 0.6666666666666666, \"tpr\": 1.0, \"n\": 6}, {\"threshold\": 0.188, \"p\": 110, \"fpr\": 0.6666666666666666, \"tpr\": 1.0, \"n\": 6}, {\"threshold\": 0.189, \"p\": 110, \"fpr\": 0.6666666666666666, \"tpr\": 1.0, \"n\": 6}, {\"threshold\": 0.19, \"p\": 110, \"fpr\": 0.6666666666666666, \"tpr\": 1.0, \"n\": 6}, {\"threshold\": 0.191, \"p\": 110, \"fpr\": 0.6666666666666666, \"tpr\": 1.0, \"n\": 6}, {\"threshold\": 0.192, \"p\": 110, \"fpr\": 0.6666666666666666, \"tpr\": 1.0, \"n\": 6}, {\"threshold\": 0.193, \"p\": 110, \"fpr\": 0.6666666666666666, \"tpr\": 1.0, \"n\": 6}, {\"threshold\": 0.194, \"p\": 110, \"fpr\": 0.6666666666666666, \"tpr\": 1.0, \"n\": 6}, {\"threshold\": 0.195, \"p\": 110, \"fpr\": 0.6666666666666666, \"tpr\": 1.0, \"n\": 6}, {\"threshold\": 0.196, \"p\": 110, \"fpr\": 0.6666666666666666, \"tpr\": 1.0, \"n\": 6}, {\"threshold\": 0.197, \"p\": 110, \"fpr\": 0.6666666666666666, \"tpr\": 1.0, \"n\": 6}, {\"threshold\": 0.198, \"p\": 110, \"fpr\": 0.6666666666666666, \"tpr\": 1.0, \"n\": 6}, {\"threshold\": 0.199, \"p\": 110, \"fpr\": 0.6666666666666666, \"tpr\": 1.0, \"n\": 6}, {\"threshold\": 0.2, \"p\": 110, \"fpr\": 0.6666666666666666, \"tpr\": 1.0, \"n\": 6}, {\"threshold\": 0.201, \"p\": 110, \"fpr\": 0.6666666666666666, \"tpr\": 1.0, \"n\": 6}, {\"threshold\": 0.202, \"p\": 110, \"fpr\": 0.6666666666666666, \"tpr\": 1.0, \"n\": 6}, {\"threshold\": 0.203, \"p\": 110, \"fpr\": 0.6666666666666666, \"tpr\": 1.0, \"n\": 6}, {\"threshold\": 0.204, \"p\": 110, \"fpr\": 0.6666666666666666, \"tpr\": 1.0, \"n\": 6}, {\"threshold\": 0.205, \"p\": 110, \"fpr\": 0.6666666666666666, \"tpr\": 1.0, \"n\": 6}, {\"threshold\": 0.206, \"p\": 110, \"fpr\": 0.6666666666666666, \"tpr\": 1.0, \"n\": 6}, {\"threshold\": 0.207, \"p\": 110, \"fpr\": 0.6666666666666666, \"tpr\": 1.0, \"n\": 6}, {\"threshold\": 0.208, \"p\": 110, \"fpr\": 0.6666666666666666, \"tpr\": 1.0, \"n\": 6}, {\"threshold\": 0.209, \"p\": 110, \"fpr\": 0.6666666666666666, \"tpr\": 1.0, \"n\": 6}, {\"threshold\": 0.21, \"p\": 110, \"fpr\": 0.6666666666666666, \"tpr\": 1.0, \"n\": 6}, {\"threshold\": 0.211, \"p\": 110, \"fpr\": 0.6666666666666666, \"tpr\": 1.0, \"n\": 6}, {\"threshold\": 0.212, \"p\": 110, \"fpr\": 0.6666666666666666, \"tpr\": 1.0, \"n\": 6}, {\"threshold\": 0.213, \"p\": 110, \"fpr\": 0.6666666666666666, \"tpr\": 1.0, \"n\": 6}, {\"threshold\": 0.214, \"p\": 110, \"fpr\": 0.6666666666666666, \"tpr\": 1.0, \"n\": 6}, {\"threshold\": 0.215, \"p\": 110, \"fpr\": 0.6666666666666666, \"tpr\": 1.0, \"n\": 6}, {\"threshold\": 0.216, \"p\": 110, \"fpr\": 0.6666666666666666, \"tpr\": 1.0, \"n\": 6}, {\"threshold\": 0.217, \"p\": 110, \"fpr\": 0.6666666666666666, \"tpr\": 1.0, \"n\": 6}, {\"threshold\": 0.218, \"p\": 110, \"fpr\": 0.6666666666666666, \"tpr\": 1.0, \"n\": 6}, {\"threshold\": 0.219, \"p\": 110, \"fpr\": 0.6666666666666666, \"tpr\": 1.0, \"n\": 6}, {\"threshold\": 0.22, \"p\": 110, \"fpr\": 0.6666666666666666, \"tpr\": 1.0, \"n\": 6}, {\"threshold\": 0.221, \"p\": 110, \"fpr\": 0.6666666666666666, \"tpr\": 1.0, \"n\": 6}, {\"threshold\": 0.222, \"p\": 110, \"fpr\": 0.6666666666666666, \"tpr\": 1.0, \"n\": 6}, {\"threshold\": 0.223, \"p\": 110, \"fpr\": 0.6666666666666666, \"tpr\": 1.0, \"n\": 6}, {\"threshold\": 0.224, \"p\": 110, \"fpr\": 0.6666666666666666, \"tpr\": 1.0, \"n\": 6}, {\"threshold\": 0.225, \"p\": 110, \"fpr\": 0.6666666666666666, \"tpr\": 1.0, \"n\": 6}, {\"threshold\": 0.226, \"p\": 110, \"fpr\": 0.6666666666666666, \"tpr\": 1.0, \"n\": 6}, {\"threshold\": 0.227, \"p\": 110, \"fpr\": 0.6666666666666666, \"tpr\": 1.0, \"n\": 6}, {\"threshold\": 0.228, \"p\": 110, \"fpr\": 0.6666666666666666, \"tpr\": 1.0, \"n\": 6}, {\"threshold\": 0.229, \"p\": 110, \"fpr\": 0.6666666666666666, \"tpr\": 1.0, \"n\": 6}, {\"threshold\": 0.23, \"p\": 110, \"fpr\": 0.6666666666666666, \"tpr\": 1.0, \"n\": 6}, {\"threshold\": 0.231, \"p\": 110, \"fpr\": 0.6666666666666666, \"tpr\": 1.0, \"n\": 6}, {\"threshold\": 0.232, \"p\": 110, \"fpr\": 0.6666666666666666, \"tpr\": 1.0, \"n\": 6}, {\"threshold\": 0.233, \"p\": 110, \"fpr\": 0.6666666666666666, \"tpr\": 1.0, \"n\": 6}, {\"threshold\": 0.234, \"p\": 110, \"fpr\": 0.6666666666666666, \"tpr\": 1.0, \"n\": 6}, {\"threshold\": 0.235, \"p\": 110, \"fpr\": 0.6666666666666666, \"tpr\": 1.0, \"n\": 6}, {\"threshold\": 0.236, \"p\": 110, \"fpr\": 0.6666666666666666, \"tpr\": 1.0, \"n\": 6}, {\"threshold\": 0.237, \"p\": 110, \"fpr\": 0.6666666666666666, \"tpr\": 1.0, \"n\": 6}, {\"threshold\": 0.238, \"p\": 110, \"fpr\": 0.6666666666666666, \"tpr\": 1.0, \"n\": 6}, {\"threshold\": 0.239, \"p\": 110, \"fpr\": 0.6666666666666666, \"tpr\": 1.0, \"n\": 6}, {\"threshold\": 0.24, \"p\": 110, \"fpr\": 0.6666666666666666, \"tpr\": 1.0, \"n\": 6}, {\"threshold\": 0.241, \"p\": 110, \"fpr\": 0.6666666666666666, \"tpr\": 1.0, \"n\": 6}, {\"threshold\": 0.242, \"p\": 110, \"fpr\": 0.6666666666666666, \"tpr\": 1.0, \"n\": 6}, {\"threshold\": 0.243, \"p\": 110, \"fpr\": 0.6666666666666666, \"tpr\": 1.0, \"n\": 6}, {\"threshold\": 0.244, \"p\": 110, \"fpr\": 0.6666666666666666, \"tpr\": 1.0, \"n\": 6}, {\"threshold\": 0.245, \"p\": 110, \"fpr\": 0.6666666666666666, \"tpr\": 1.0, \"n\": 6}, {\"threshold\": 0.246, \"p\": 110, \"fpr\": 0.6666666666666666, \"tpr\": 1.0, \"n\": 6}, {\"threshold\": 0.247, \"p\": 110, \"fpr\": 0.6666666666666666, \"tpr\": 1.0, \"n\": 6}, {\"threshold\": 0.248, \"p\": 110, \"fpr\": 0.6666666666666666, \"tpr\": 1.0, \"n\": 6}, {\"threshold\": 0.249, \"p\": 110, \"fpr\": 0.6666666666666666, \"tpr\": 1.0, \"n\": 6}, {\"threshold\": 0.25, \"p\": 110, \"fpr\": 0.6666666666666666, \"tpr\": 1.0, \"n\": 6}, {\"threshold\": 0.251, \"p\": 110, \"fpr\": 0.6666666666666666, \"tpr\": 1.0, \"n\": 6}, {\"threshold\": 0.252, \"p\": 110, \"fpr\": 0.6666666666666666, \"tpr\": 1.0, \"n\": 6}, {\"threshold\": 0.253, \"p\": 110, \"fpr\": 0.6666666666666666, \"tpr\": 1.0, \"n\": 6}, {\"threshold\": 0.254, \"p\": 110, \"fpr\": 0.6666666666666666, \"tpr\": 1.0, \"n\": 6}, {\"threshold\": 0.255, \"p\": 110, \"fpr\": 0.6666666666666666, \"tpr\": 1.0, \"n\": 6}, {\"threshold\": 0.256, \"p\": 110, \"fpr\": 0.6666666666666666, \"tpr\": 1.0, \"n\": 6}, {\"threshold\": 0.257, \"p\": 110, \"fpr\": 0.6666666666666666, \"tpr\": 1.0, \"n\": 6}, {\"threshold\": 0.258, \"p\": 110, \"fpr\": 0.6666666666666666, \"tpr\": 1.0, \"n\": 6}, {\"threshold\": 0.259, \"p\": 110, \"fpr\": 0.6666666666666666, \"tpr\": 1.0, \"n\": 6}, {\"threshold\": 0.26, \"p\": 110, \"fpr\": 0.6666666666666666, \"tpr\": 1.0, \"n\": 6}, {\"threshold\": 0.261, \"p\": 110, \"fpr\": 0.6666666666666666, \"tpr\": 1.0, \"n\": 6}, {\"threshold\": 0.262, \"p\": 110, \"fpr\": 0.6666666666666666, \"tpr\": 1.0, \"n\": 6}, {\"threshold\": 0.263, \"p\": 110, \"fpr\": 0.6666666666666666, \"tpr\": 1.0, \"n\": 6}, {\"threshold\": 0.264, \"p\": 110, \"fpr\": 0.6666666666666666, \"tpr\": 1.0, \"n\": 6}, {\"threshold\": 0.265, \"p\": 110, \"fpr\": 0.6666666666666666, \"tpr\": 1.0, \"n\": 6}, {\"threshold\": 0.266, \"p\": 110, \"fpr\": 0.6666666666666666, \"tpr\": 1.0, \"n\": 6}, {\"threshold\": 0.267, \"p\": 110, \"fpr\": 0.6666666666666666, \"tpr\": 1.0, \"n\": 6}, {\"threshold\": 0.268, \"p\": 110, \"fpr\": 0.6666666666666666, \"tpr\": 1.0, \"n\": 6}, {\"threshold\": 0.269, \"p\": 110, \"fpr\": 0.6666666666666666, \"tpr\": 1.0, \"n\": 6}, {\"threshold\": 0.27, \"p\": 110, \"fpr\": 0.6666666666666666, \"tpr\": 1.0, \"n\": 6}, {\"threshold\": 0.271, \"p\": 110, \"fpr\": 0.6666666666666666, \"tpr\": 1.0, \"n\": 6}, {\"threshold\": 0.272, \"p\": 110, \"fpr\": 0.6666666666666666, \"tpr\": 1.0, \"n\": 6}, {\"threshold\": 0.273, \"p\": 110, \"fpr\": 0.6666666666666666, \"tpr\": 1.0, \"n\": 6}, {\"threshold\": 0.274, \"p\": 110, \"fpr\": 0.6666666666666666, \"tpr\": 1.0, \"n\": 6}, {\"threshold\": 0.275, \"p\": 110, \"fpr\": 0.6666666666666666, \"tpr\": 1.0, \"n\": 6}, {\"threshold\": 0.276, \"p\": 110, \"fpr\": 0.6666666666666666, \"tpr\": 1.0, \"n\": 6}, {\"threshold\": 0.277, \"p\": 110, \"fpr\": 0.6666666666666666, \"tpr\": 1.0, \"n\": 6}, {\"threshold\": 0.278, \"p\": 110, \"fpr\": 0.6666666666666666, \"tpr\": 1.0, \"n\": 6}, {\"threshold\": 0.279, \"p\": 110, \"fpr\": 0.6666666666666666, \"tpr\": 1.0, \"n\": 6}, {\"threshold\": 0.28, \"p\": 110, \"fpr\": 0.6666666666666666, \"tpr\": 1.0, \"n\": 6}, {\"threshold\": 0.281, \"p\": 110, \"fpr\": 0.6666666666666666, \"tpr\": 1.0, \"n\": 6}, {\"threshold\": 0.282, \"p\": 110, \"fpr\": 0.6666666666666666, \"tpr\": 1.0, \"n\": 6}, {\"threshold\": 0.283, \"p\": 110, \"fpr\": 0.6666666666666666, \"tpr\": 1.0, \"n\": 6}, {\"threshold\": 0.284, \"p\": 110, \"fpr\": 0.6666666666666666, \"tpr\": 1.0, \"n\": 6}, {\"threshold\": 0.285, \"p\": 110, \"fpr\": 0.6666666666666666, \"tpr\": 1.0, \"n\": 6}, {\"threshold\": 0.286, \"p\": 110, \"fpr\": 0.6666666666666666, \"tpr\": 1.0, \"n\": 6}, {\"threshold\": 0.287, \"p\": 110, \"fpr\": 0.6666666666666666, \"tpr\": 1.0, \"n\": 6}, {\"threshold\": 0.288, \"p\": 110, \"fpr\": 0.6666666666666666, \"tpr\": 1.0, \"n\": 6}, {\"threshold\": 0.289, \"p\": 110, \"fpr\": 0.6666666666666666, \"tpr\": 1.0, \"n\": 6}, {\"threshold\": 0.29, \"p\": 110, \"fpr\": 0.6666666666666666, \"tpr\": 1.0, \"n\": 6}, {\"threshold\": 0.291, \"p\": 110, \"fpr\": 0.6666666666666666, \"tpr\": 1.0, \"n\": 6}, {\"threshold\": 0.292, \"p\": 110, \"fpr\": 0.6666666666666666, \"tpr\": 1.0, \"n\": 6}, {\"threshold\": 0.293, \"p\": 110, \"fpr\": 0.6666666666666666, \"tpr\": 1.0, \"n\": 6}, {\"threshold\": 0.294, \"p\": 110, \"fpr\": 0.6666666666666666, \"tpr\": 1.0, \"n\": 6}, {\"threshold\": 0.295, \"p\": 110, \"fpr\": 0.6666666666666666, \"tpr\": 1.0, \"n\": 6}, {\"threshold\": 0.296, \"p\": 110, \"fpr\": 0.6666666666666666, \"tpr\": 1.0, \"n\": 6}, {\"threshold\": 0.297, \"p\": 110, \"fpr\": 0.6666666666666666, \"tpr\": 1.0, \"n\": 6}, {\"threshold\": 0.298, \"p\": 110, \"fpr\": 0.6666666666666666, \"tpr\": 1.0, \"n\": 6}, {\"threshold\": 0.299, \"p\": 110, \"fpr\": 0.6666666666666666, \"tpr\": 1.0, \"n\": 6}, {\"threshold\": 0.3, \"p\": 110, \"fpr\": 0.6666666666666666, \"tpr\": 1.0, \"n\": 6}, {\"threshold\": 0.301, \"p\": 110, \"fpr\": 0.6666666666666666, \"tpr\": 1.0, \"n\": 6}, {\"threshold\": 0.302, \"p\": 110, \"fpr\": 0.6666666666666666, \"tpr\": 1.0, \"n\": 6}, {\"threshold\": 0.303, \"p\": 110, \"fpr\": 0.6666666666666666, \"tpr\": 1.0, \"n\": 6}, {\"threshold\": 0.304, \"p\": 110, \"fpr\": 0.6666666666666666, \"tpr\": 1.0, \"n\": 6}, {\"threshold\": 0.305, \"p\": 110, \"fpr\": 0.6666666666666666, \"tpr\": 1.0, \"n\": 6}, {\"threshold\": 0.306, \"p\": 110, \"fpr\": 0.6666666666666666, \"tpr\": 1.0, \"n\": 6}, {\"threshold\": 0.307, \"p\": 110, \"fpr\": 0.6666666666666666, \"tpr\": 1.0, \"n\": 6}, {\"threshold\": 0.308, \"p\": 110, \"fpr\": 0.6666666666666666, \"tpr\": 1.0, \"n\": 6}, {\"threshold\": 0.309, \"p\": 110, \"fpr\": 0.6666666666666666, \"tpr\": 1.0, \"n\": 6}, {\"threshold\": 0.31, \"p\": 110, \"fpr\": 0.6666666666666666, \"tpr\": 1.0, \"n\": 6}, {\"threshold\": 0.311, \"p\": 110, \"fpr\": 0.6666666666666666, \"tpr\": 1.0, \"n\": 6}, {\"threshold\": 0.312, \"p\": 110, \"fpr\": 0.6666666666666666, \"tpr\": 1.0, \"n\": 6}, {\"threshold\": 0.313, \"p\": 110, \"fpr\": 0.6666666666666666, \"tpr\": 1.0, \"n\": 6}, {\"threshold\": 0.314, \"p\": 110, \"fpr\": 0.6666666666666666, \"tpr\": 1.0, \"n\": 6}, {\"threshold\": 0.315, \"p\": 110, \"fpr\": 0.6666666666666666, \"tpr\": 1.0, \"n\": 6}, {\"threshold\": 0.316, \"p\": 110, \"fpr\": 0.6666666666666666, \"tpr\": 1.0, \"n\": 6}, {\"threshold\": 0.317, \"p\": 110, \"fpr\": 0.6666666666666666, \"tpr\": 1.0, \"n\": 6}, {\"threshold\": 0.318, \"p\": 110, \"fpr\": 0.6666666666666666, \"tpr\": 1.0, \"n\": 6}, {\"threshold\": 0.319, \"p\": 110, \"fpr\": 0.6666666666666666, \"tpr\": 1.0, \"n\": 6}, {\"threshold\": 0.32, \"p\": 110, \"fpr\": 0.6666666666666666, \"tpr\": 1.0, \"n\": 6}, {\"threshold\": 0.321, \"p\": 110, \"fpr\": 0.6666666666666666, \"tpr\": 1.0, \"n\": 6}, {\"threshold\": 0.322, \"p\": 110, \"fpr\": 0.6666666666666666, \"tpr\": 1.0, \"n\": 6}, {\"threshold\": 0.323, \"p\": 110, \"fpr\": 0.6666666666666666, \"tpr\": 1.0, \"n\": 6}, {\"threshold\": 0.324, \"p\": 110, \"fpr\": 0.6666666666666666, \"tpr\": 1.0, \"n\": 6}, {\"threshold\": 0.325, \"p\": 110, \"fpr\": 0.6666666666666666, \"tpr\": 1.0, \"n\": 6}, {\"threshold\": 0.326, \"p\": 110, \"fpr\": 0.6666666666666666, \"tpr\": 1.0, \"n\": 6}, {\"threshold\": 0.327, \"p\": 110, \"fpr\": 0.6666666666666666, \"tpr\": 1.0, \"n\": 6}, {\"threshold\": 0.328, \"p\": 110, \"fpr\": 0.6666666666666666, \"tpr\": 1.0, \"n\": 6}, {\"threshold\": 0.329, \"p\": 110, \"fpr\": 0.6666666666666666, \"tpr\": 1.0, \"n\": 6}, {\"threshold\": 0.33, \"p\": 110, \"fpr\": 0.6666666666666666, \"tpr\": 1.0, \"n\": 6}, {\"threshold\": 0.331, \"p\": 110, \"fpr\": 0.6666666666666666, \"tpr\": 1.0, \"n\": 6}, {\"threshold\": 0.332, \"p\": 110, \"fpr\": 0.6666666666666666, \"tpr\": 1.0, \"n\": 6}, {\"threshold\": 0.333, \"p\": 110, \"fpr\": 0.6666666666666666, \"tpr\": 1.0, \"n\": 6}, {\"threshold\": 0.334, \"p\": 110, \"fpr\": 0.6666666666666666, \"tpr\": 1.0, \"n\": 6}, {\"threshold\": 0.335, \"p\": 110, \"fpr\": 0.6666666666666666, \"tpr\": 1.0, \"n\": 6}, {\"threshold\": 0.336, \"p\": 110, \"fpr\": 0.6666666666666666, \"tpr\": 1.0, \"n\": 6}, {\"threshold\": 0.337, \"p\": 110, \"fpr\": 0.6666666666666666, \"tpr\": 1.0, \"n\": 6}, {\"threshold\": 0.338, \"p\": 110, \"fpr\": 0.6666666666666666, \"tpr\": 1.0, \"n\": 6}, {\"threshold\": 0.339, \"p\": 110, \"fpr\": 0.6666666666666666, \"tpr\": 1.0, \"n\": 6}, {\"threshold\": 0.34, \"p\": 110, \"fpr\": 0.6666666666666666, \"tpr\": 1.0, \"n\": 6}, {\"threshold\": 0.341, \"p\": 110, \"fpr\": 0.6666666666666666, \"tpr\": 1.0, \"n\": 6}, {\"threshold\": 0.342, \"p\": 110, \"fpr\": 0.6666666666666666, \"tpr\": 1.0, \"n\": 6}, {\"threshold\": 0.343, \"p\": 110, \"fpr\": 0.6666666666666666, \"tpr\": 1.0, \"n\": 6}, {\"threshold\": 0.344, \"p\": 110, \"fpr\": 0.6666666666666666, \"tpr\": 1.0, \"n\": 6}, {\"threshold\": 0.345, \"p\": 110, \"fpr\": 0.6666666666666666, \"tpr\": 1.0, \"n\": 6}, {\"threshold\": 0.346, \"p\": 110, \"fpr\": 0.6666666666666666, \"tpr\": 1.0, \"n\": 6}, {\"threshold\": 0.347, \"p\": 110, \"fpr\": 0.6666666666666666, \"tpr\": 1.0, \"n\": 6}, {\"threshold\": 0.348, \"p\": 110, \"fpr\": 0.6666666666666666, \"tpr\": 1.0, \"n\": 6}, {\"threshold\": 0.349, \"p\": 110, \"fpr\": 0.6666666666666666, \"tpr\": 1.0, \"n\": 6}, {\"threshold\": 0.35, \"p\": 110, \"fpr\": 0.6666666666666666, \"tpr\": 1.0, \"n\": 6}, {\"threshold\": 0.351, \"p\": 110, \"fpr\": 0.6666666666666666, \"tpr\": 1.0, \"n\": 6}, {\"threshold\": 0.352, \"p\": 110, \"fpr\": 0.6666666666666666, \"tpr\": 1.0, \"n\": 6}, {\"threshold\": 0.353, \"p\": 110, \"fpr\": 0.6666666666666666, \"tpr\": 1.0, \"n\": 6}, {\"threshold\": 0.354, \"p\": 110, \"fpr\": 0.6666666666666666, \"tpr\": 1.0, \"n\": 6}, {\"threshold\": 0.355, \"p\": 110, \"fpr\": 0.6666666666666666, \"tpr\": 1.0, \"n\": 6}, {\"threshold\": 0.356, \"p\": 110, \"fpr\": 0.6666666666666666, \"tpr\": 1.0, \"n\": 6}, {\"threshold\": 0.357, \"p\": 110, \"fpr\": 0.6666666666666666, \"tpr\": 1.0, \"n\": 6}, {\"threshold\": 0.358, \"p\": 110, \"fpr\": 0.6666666666666666, \"tpr\": 1.0, \"n\": 6}, {\"threshold\": 0.359, \"p\": 110, \"fpr\": 0.6666666666666666, \"tpr\": 1.0, \"n\": 6}, {\"threshold\": 0.36, \"p\": 110, \"fpr\": 0.6666666666666666, \"tpr\": 1.0, \"n\": 6}, {\"threshold\": 0.361, \"p\": 110, \"fpr\": 0.6666666666666666, \"tpr\": 1.0, \"n\": 6}, {\"threshold\": 0.362, \"p\": 110, \"fpr\": 0.6666666666666666, \"tpr\": 1.0, \"n\": 6}, {\"threshold\": 0.363, \"p\": 110, \"fpr\": 0.6666666666666666, \"tpr\": 1.0, \"n\": 6}, {\"threshold\": 0.364, \"p\": 110, \"fpr\": 0.6666666666666666, \"tpr\": 1.0, \"n\": 6}, {\"threshold\": 0.365, \"p\": 110, \"fpr\": 0.6666666666666666, \"tpr\": 1.0, \"n\": 6}, {\"threshold\": 0.366, \"p\": 110, \"fpr\": 0.6666666666666666, \"tpr\": 1.0, \"n\": 6}, {\"threshold\": 0.367, \"p\": 110, \"fpr\": 0.6666666666666666, \"tpr\": 1.0, \"n\": 6}, {\"threshold\": 0.368, \"p\": 110, \"fpr\": 0.6666666666666666, \"tpr\": 1.0, \"n\": 6}, {\"threshold\": 0.369, \"p\": 110, \"fpr\": 0.6666666666666666, \"tpr\": 1.0, \"n\": 6}, {\"threshold\": 0.37, \"p\": 110, \"fpr\": 0.6666666666666666, \"tpr\": 1.0, \"n\": 6}, {\"threshold\": 0.371, \"p\": 110, \"fpr\": 0.6666666666666666, \"tpr\": 1.0, \"n\": 6}, {\"threshold\": 0.372, \"p\": 110, \"fpr\": 0.6666666666666666, \"tpr\": 1.0, \"n\": 6}, {\"threshold\": 0.373, \"p\": 110, \"fpr\": 0.6666666666666666, \"tpr\": 1.0, \"n\": 6}, {\"threshold\": 0.374, \"p\": 110, \"fpr\": 0.6666666666666666, \"tpr\": 1.0, \"n\": 6}, {\"threshold\": 0.375, \"p\": 110, \"fpr\": 0.6666666666666666, \"tpr\": 1.0, \"n\": 6}, {\"threshold\": 0.376, \"p\": 110, \"fpr\": 0.6666666666666666, \"tpr\": 1.0, \"n\": 6}, {\"threshold\": 0.377, \"p\": 110, \"fpr\": 0.6666666666666666, \"tpr\": 1.0, \"n\": 6}, {\"threshold\": 0.378, \"p\": 110, \"fpr\": 0.6666666666666666, \"tpr\": 1.0, \"n\": 6}, {\"threshold\": 0.379, \"p\": 110, \"fpr\": 0.6666666666666666, \"tpr\": 1.0, \"n\": 6}, {\"threshold\": 0.38, \"p\": 110, \"fpr\": 0.6666666666666666, \"tpr\": 1.0, \"n\": 6}, {\"threshold\": 0.381, \"p\": 110, \"fpr\": 0.6666666666666666, \"tpr\": 1.0, \"n\": 6}, {\"threshold\": 0.382, \"p\": 110, \"fpr\": 0.6666666666666666, \"tpr\": 1.0, \"n\": 6}, {\"threshold\": 0.383, \"p\": 110, \"fpr\": 0.6666666666666666, \"tpr\": 1.0, \"n\": 6}, {\"threshold\": 0.384, \"p\": 110, \"fpr\": 0.6666666666666666, \"tpr\": 1.0, \"n\": 6}, {\"threshold\": 0.385, \"p\": 110, \"fpr\": 0.6666666666666666, \"tpr\": 1.0, \"n\": 6}, {\"threshold\": 0.386, \"p\": 110, \"fpr\": 0.6666666666666666, \"tpr\": 1.0, \"n\": 6}, {\"threshold\": 0.387, \"p\": 110, \"fpr\": 0.6666666666666666, \"tpr\": 1.0, \"n\": 6}, {\"threshold\": 0.388, \"p\": 110, \"fpr\": 0.6666666666666666, \"tpr\": 1.0, \"n\": 6}, {\"threshold\": 0.389, \"p\": 110, \"fpr\": 0.6666666666666666, \"tpr\": 1.0, \"n\": 6}, {\"threshold\": 0.39, \"p\": 110, \"fpr\": 0.6666666666666666, \"tpr\": 1.0, \"n\": 6}, {\"threshold\": 0.391, \"p\": 110, \"fpr\": 0.6666666666666666, \"tpr\": 1.0, \"n\": 6}, {\"threshold\": 0.392, \"p\": 110, \"fpr\": 0.6666666666666666, \"tpr\": 1.0, \"n\": 6}, {\"threshold\": 0.393, \"p\": 110, \"fpr\": 0.6666666666666666, \"tpr\": 1.0, \"n\": 6}, {\"threshold\": 0.394, \"p\": 110, \"fpr\": 0.6666666666666666, \"tpr\": 1.0, \"n\": 6}, {\"threshold\": 0.395, \"p\": 110, \"fpr\": 0.6666666666666666, \"tpr\": 1.0, \"n\": 6}, {\"threshold\": 0.396, \"p\": 110, \"fpr\": 0.6666666666666666, \"tpr\": 1.0, \"n\": 6}, {\"threshold\": 0.397, \"p\": 110, \"fpr\": 0.6666666666666666, \"tpr\": 1.0, \"n\": 6}, {\"threshold\": 0.398, \"p\": 110, \"fpr\": 0.6666666666666666, \"tpr\": 1.0, \"n\": 6}, {\"threshold\": 0.399, \"p\": 110, \"fpr\": 0.6666666666666666, \"tpr\": 1.0, \"n\": 6}, {\"threshold\": 0.4, \"p\": 110, \"fpr\": 0.6666666666666666, \"tpr\": 1.0, \"n\": 6}, {\"threshold\": 0.401, \"p\": 110, \"fpr\": 0.6666666666666666, \"tpr\": 1.0, \"n\": 6}, {\"threshold\": 0.402, \"p\": 110, \"fpr\": 0.6666666666666666, \"tpr\": 1.0, \"n\": 6}, {\"threshold\": 0.403, \"p\": 110, \"fpr\": 0.6666666666666666, \"tpr\": 1.0, \"n\": 6}, {\"threshold\": 0.404, \"p\": 110, \"fpr\": 0.6666666666666666, \"tpr\": 1.0, \"n\": 6}, {\"threshold\": 0.405, \"p\": 110, \"fpr\": 0.6666666666666666, \"tpr\": 1.0, \"n\": 6}, {\"threshold\": 0.406, \"p\": 110, \"fpr\": 0.6666666666666666, \"tpr\": 1.0, \"n\": 6}, {\"threshold\": 0.407, \"p\": 110, \"fpr\": 0.6666666666666666, \"tpr\": 1.0, \"n\": 6}, {\"threshold\": 0.408, \"p\": 110, \"fpr\": 0.6666666666666666, \"tpr\": 1.0, \"n\": 6}, {\"threshold\": 0.409, \"p\": 110, \"fpr\": 0.6666666666666666, \"tpr\": 1.0, \"n\": 6}, {\"threshold\": 0.41, \"p\": 110, \"fpr\": 0.6666666666666666, \"tpr\": 1.0, \"n\": 6}, {\"threshold\": 0.411, \"p\": 110, \"fpr\": 0.6666666666666666, \"tpr\": 1.0, \"n\": 6}, {\"threshold\": 0.412, \"p\": 110, \"fpr\": 0.6666666666666666, \"tpr\": 1.0, \"n\": 6}, {\"threshold\": 0.413, \"p\": 110, \"fpr\": 0.6666666666666666, \"tpr\": 1.0, \"n\": 6}, {\"threshold\": 0.414, \"p\": 110, \"fpr\": 0.6666666666666666, \"tpr\": 1.0, \"n\": 6}, {\"threshold\": 0.415, \"p\": 110, \"fpr\": 0.6666666666666666, \"tpr\": 1.0, \"n\": 6}, {\"threshold\": 0.416, \"p\": 110, \"fpr\": 0.6666666666666666, \"tpr\": 1.0, \"n\": 6}, {\"threshold\": 0.417, \"p\": 110, \"fpr\": 0.6666666666666666, \"tpr\": 1.0, \"n\": 6}, {\"threshold\": 0.418, \"p\": 110, \"fpr\": 0.6666666666666666, \"tpr\": 1.0, \"n\": 6}, {\"threshold\": 0.419, \"p\": 110, \"fpr\": 0.6666666666666666, \"tpr\": 1.0, \"n\": 6}, {\"threshold\": 0.42, \"p\": 110, \"fpr\": 0.6666666666666666, \"tpr\": 1.0, \"n\": 6}, {\"threshold\": 0.421, \"p\": 110, \"fpr\": 0.6666666666666666, \"tpr\": 1.0, \"n\": 6}, {\"threshold\": 0.422, \"p\": 110, \"fpr\": 0.6666666666666666, \"tpr\": 1.0, \"n\": 6}, {\"threshold\": 0.423, \"p\": 110, \"fpr\": 0.6666666666666666, \"tpr\": 1.0, \"n\": 6}, {\"threshold\": 0.424, \"p\": 110, \"fpr\": 0.6666666666666666, \"tpr\": 1.0, \"n\": 6}, {\"threshold\": 0.425, \"p\": 110, \"fpr\": 0.6666666666666666, \"tpr\": 1.0, \"n\": 6}, {\"threshold\": 0.426, \"p\": 110, \"fpr\": 0.6666666666666666, \"tpr\": 1.0, \"n\": 6}, {\"threshold\": 0.427, \"p\": 110, \"fpr\": 0.6666666666666666, \"tpr\": 1.0, \"n\": 6}, {\"threshold\": 0.428, \"p\": 110, \"fpr\": 0.6666666666666666, \"tpr\": 1.0, \"n\": 6}, {\"threshold\": 0.429, \"p\": 110, \"fpr\": 0.6666666666666666, \"tpr\": 1.0, \"n\": 6}, {\"threshold\": 0.43, \"p\": 110, \"fpr\": 0.6666666666666666, \"tpr\": 1.0, \"n\": 6}, {\"threshold\": 0.431, \"p\": 110, \"fpr\": 0.6666666666666666, \"tpr\": 1.0, \"n\": 6}, {\"threshold\": 0.432, \"p\": 110, \"fpr\": 0.6666666666666666, \"tpr\": 1.0, \"n\": 6}, {\"threshold\": 0.433, \"p\": 110, \"fpr\": 0.6666666666666666, \"tpr\": 1.0, \"n\": 6}, {\"threshold\": 0.434, \"p\": 110, \"fpr\": 0.6666666666666666, \"tpr\": 1.0, \"n\": 6}, {\"threshold\": 0.435, \"p\": 110, \"fpr\": 0.6666666666666666, \"tpr\": 1.0, \"n\": 6}, {\"threshold\": 0.436, \"p\": 110, \"fpr\": 0.6666666666666666, \"tpr\": 1.0, \"n\": 6}, {\"threshold\": 0.437, \"p\": 110, \"fpr\": 0.6666666666666666, \"tpr\": 1.0, \"n\": 6}, {\"threshold\": 0.438, \"p\": 110, \"fpr\": 0.6666666666666666, \"tpr\": 1.0, \"n\": 6}, {\"threshold\": 0.439, \"p\": 110, \"fpr\": 0.6666666666666666, \"tpr\": 1.0, \"n\": 6}, {\"threshold\": 0.44, \"p\": 110, \"fpr\": 0.6666666666666666, \"tpr\": 1.0, \"n\": 6}, {\"threshold\": 0.441, \"p\": 110, \"fpr\": 0.6666666666666666, \"tpr\": 1.0, \"n\": 6}, {\"threshold\": 0.442, \"p\": 110, \"fpr\": 0.6666666666666666, \"tpr\": 1.0, \"n\": 6}, {\"threshold\": 0.443, \"p\": 110, \"fpr\": 0.6666666666666666, \"tpr\": 1.0, \"n\": 6}, {\"threshold\": 0.444, \"p\": 110, \"fpr\": 0.6666666666666666, \"tpr\": 1.0, \"n\": 6}, {\"threshold\": 0.445, \"p\": 110, \"fpr\": 0.6666666666666666, \"tpr\": 1.0, \"n\": 6}, {\"threshold\": 0.446, \"p\": 110, \"fpr\": 0.6666666666666666, \"tpr\": 1.0, \"n\": 6}, {\"threshold\": 0.447, \"p\": 110, \"fpr\": 0.6666666666666666, \"tpr\": 1.0, \"n\": 6}, {\"threshold\": 0.448, \"p\": 110, \"fpr\": 0.6666666666666666, \"tpr\": 1.0, \"n\": 6}, {\"threshold\": 0.449, \"p\": 110, \"fpr\": 0.6666666666666666, \"tpr\": 1.0, \"n\": 6}, {\"threshold\": 0.45, \"p\": 110, \"fpr\": 0.6666666666666666, \"tpr\": 1.0, \"n\": 6}, {\"threshold\": 0.451, \"p\": 110, \"fpr\": 0.6666666666666666, \"tpr\": 1.0, \"n\": 6}, {\"threshold\": 0.452, \"p\": 110, \"fpr\": 0.6666666666666666, \"tpr\": 1.0, \"n\": 6}, {\"threshold\": 0.453, \"p\": 110, \"fpr\": 0.6666666666666666, \"tpr\": 1.0, \"n\": 6}, {\"threshold\": 0.454, \"p\": 110, \"fpr\": 0.6666666666666666, \"tpr\": 1.0, \"n\": 6}, {\"threshold\": 0.455, \"p\": 110, \"fpr\": 0.6666666666666666, \"tpr\": 1.0, \"n\": 6}, {\"threshold\": 0.456, \"p\": 110, \"fpr\": 0.6666666666666666, \"tpr\": 1.0, \"n\": 6}, {\"threshold\": 0.457, \"p\": 110, \"fpr\": 0.6666666666666666, \"tpr\": 1.0, \"n\": 6}, {\"threshold\": 0.458, \"p\": 110, \"fpr\": 0.6666666666666666, \"tpr\": 1.0, \"n\": 6}, {\"threshold\": 0.459, \"p\": 110, \"fpr\": 0.6666666666666666, \"tpr\": 1.0, \"n\": 6}, {\"threshold\": 0.46, \"p\": 110, \"fpr\": 0.6666666666666666, \"tpr\": 1.0, \"n\": 6}, {\"threshold\": 0.461, \"p\": 110, \"fpr\": 0.6666666666666666, \"tpr\": 1.0, \"n\": 6}, {\"threshold\": 0.462, \"p\": 110, \"fpr\": 0.6666666666666666, \"tpr\": 1.0, \"n\": 6}, {\"threshold\": 0.463, \"p\": 110, \"fpr\": 0.6666666666666666, \"tpr\": 1.0, \"n\": 6}, {\"threshold\": 0.464, \"p\": 110, \"fpr\": 0.6666666666666666, \"tpr\": 1.0, \"n\": 6}, {\"threshold\": 0.465, \"p\": 110, \"fpr\": 0.6666666666666666, \"tpr\": 1.0, \"n\": 6}, {\"threshold\": 0.466, \"p\": 110, \"fpr\": 0.6666666666666666, \"tpr\": 1.0, \"n\": 6}, {\"threshold\": 0.467, \"p\": 110, \"fpr\": 0.6666666666666666, \"tpr\": 1.0, \"n\": 6}, {\"threshold\": 0.468, \"p\": 110, \"fpr\": 0.6666666666666666, \"tpr\": 1.0, \"n\": 6}, {\"threshold\": 0.469, \"p\": 110, \"fpr\": 0.6666666666666666, \"tpr\": 1.0, \"n\": 6}, {\"threshold\": 0.47, \"p\": 110, \"fpr\": 0.6666666666666666, \"tpr\": 1.0, \"n\": 6}, {\"threshold\": 0.471, \"p\": 110, \"fpr\": 0.6666666666666666, \"tpr\": 1.0, \"n\": 6}, {\"threshold\": 0.472, \"p\": 110, \"fpr\": 0.6666666666666666, \"tpr\": 1.0, \"n\": 6}, {\"threshold\": 0.473, \"p\": 110, \"fpr\": 0.6666666666666666, \"tpr\": 1.0, \"n\": 6}, {\"threshold\": 0.474, \"p\": 110, \"fpr\": 0.6666666666666666, \"tpr\": 1.0, \"n\": 6}, {\"threshold\": 0.475, \"p\": 110, \"fpr\": 0.6666666666666666, \"tpr\": 1.0, \"n\": 6}, {\"threshold\": 0.476, \"p\": 110, \"fpr\": 0.6666666666666666, \"tpr\": 1.0, \"n\": 6}, {\"threshold\": 0.477, \"p\": 110, \"fpr\": 0.6666666666666666, \"tpr\": 1.0, \"n\": 6}, {\"threshold\": 0.478, \"p\": 110, \"fpr\": 0.6666666666666666, \"tpr\": 1.0, \"n\": 6}, {\"threshold\": 0.479, \"p\": 110, \"fpr\": 0.6666666666666666, \"tpr\": 1.0, \"n\": 6}, {\"threshold\": 0.48, \"p\": 110, \"fpr\": 0.6666666666666666, \"tpr\": 1.0, \"n\": 6}, {\"threshold\": 0.481, \"p\": 110, \"fpr\": 0.6666666666666666, \"tpr\": 1.0, \"n\": 6}, {\"threshold\": 0.482, \"p\": 110, \"fpr\": 0.6666666666666666, \"tpr\": 1.0, \"n\": 6}, {\"threshold\": 0.483, \"p\": 110, \"fpr\": 0.6666666666666666, \"tpr\": 1.0, \"n\": 6}, {\"threshold\": 0.484, \"p\": 110, \"fpr\": 0.6666666666666666, \"tpr\": 1.0, \"n\": 6}, {\"threshold\": 0.485, \"p\": 110, \"fpr\": 0.6666666666666666, \"tpr\": 1.0, \"n\": 6}, {\"threshold\": 0.486, \"p\": 110, \"fpr\": 0.6666666666666666, \"tpr\": 1.0, \"n\": 6}, {\"threshold\": 0.487, \"p\": 110, \"fpr\": 0.6666666666666666, \"tpr\": 1.0, \"n\": 6}, {\"threshold\": 0.488, \"p\": 110, \"fpr\": 0.6666666666666666, \"tpr\": 1.0, \"n\": 6}, {\"threshold\": 0.489, \"p\": 110, \"fpr\": 0.6666666666666666, \"tpr\": 1.0, \"n\": 6}, {\"threshold\": 0.49, \"p\": 110, \"fpr\": 0.6666666666666666, \"tpr\": 1.0, \"n\": 6}, {\"threshold\": 0.491, \"p\": 110, \"fpr\": 0.6666666666666666, \"tpr\": 1.0, \"n\": 6}, {\"threshold\": 0.492, \"p\": 110, \"fpr\": 0.6666666666666666, \"tpr\": 1.0, \"n\": 6}, {\"threshold\": 0.493, \"p\": 110, \"fpr\": 0.6666666666666666, \"tpr\": 1.0, \"n\": 6}, {\"threshold\": 0.494, \"p\": 110, \"fpr\": 0.6666666666666666, \"tpr\": 1.0, \"n\": 6}, {\"threshold\": 0.495, \"p\": 110, \"fpr\": 0.6666666666666666, \"tpr\": 1.0, \"n\": 6}, {\"threshold\": 0.496, \"p\": 110, \"fpr\": 0.6666666666666666, \"tpr\": 1.0, \"n\": 6}, {\"threshold\": 0.497, \"p\": 110, \"fpr\": 0.6666666666666666, \"tpr\": 1.0, \"n\": 6}, {\"threshold\": 0.498, \"p\": 110, \"fpr\": 0.6666666666666666, \"tpr\": 1.0, \"n\": 6}, {\"threshold\": 0.499, \"p\": 110, \"fpr\": 0.6666666666666666, \"tpr\": 1.0, \"n\": 6}, {\"threshold\": 0.5, \"p\": 110, \"fpr\": 0.6666666666666666, \"tpr\": 1.0, \"n\": 6}, {\"threshold\": 0.501, \"p\": 110, \"fpr\": 0.6666666666666666, \"tpr\": 1.0, \"n\": 6}, {\"threshold\": 0.502, \"p\": 110, \"fpr\": 0.6666666666666666, \"tpr\": 1.0, \"n\": 6}, {\"threshold\": 0.503, \"p\": 110, \"fpr\": 0.6666666666666666, \"tpr\": 1.0, \"n\": 6}, {\"threshold\": 0.504, \"p\": 110, \"fpr\": 0.6666666666666666, \"tpr\": 1.0, \"n\": 6}, {\"threshold\": 0.505, \"p\": 110, \"fpr\": 0.6666666666666666, \"tpr\": 1.0, \"n\": 6}, {\"threshold\": 0.506, \"p\": 110, \"fpr\": 0.6666666666666666, \"tpr\": 1.0, \"n\": 6}, {\"threshold\": 0.507, \"p\": 110, \"fpr\": 0.6666666666666666, \"tpr\": 1.0, \"n\": 6}, {\"threshold\": 0.508, \"p\": 110, \"fpr\": 0.6666666666666666, \"tpr\": 1.0, \"n\": 6}, {\"threshold\": 0.509, \"p\": 110, \"fpr\": 0.6666666666666666, \"tpr\": 1.0, \"n\": 6}, {\"threshold\": 0.51, \"p\": 110, \"fpr\": 0.6666666666666666, \"tpr\": 1.0, \"n\": 6}, {\"threshold\": 0.511, \"p\": 110, \"fpr\": 0.6666666666666666, \"tpr\": 1.0, \"n\": 6}, {\"threshold\": 0.512, \"p\": 110, \"fpr\": 0.6666666666666666, \"tpr\": 1.0, \"n\": 6}, {\"threshold\": 0.513, \"p\": 110, \"fpr\": 0.6666666666666666, \"tpr\": 1.0, \"n\": 6}, {\"threshold\": 0.514, \"p\": 110, \"fpr\": 0.6666666666666666, \"tpr\": 1.0, \"n\": 6}, {\"threshold\": 0.515, \"p\": 110, \"fpr\": 0.6666666666666666, \"tpr\": 1.0, \"n\": 6}, {\"threshold\": 0.516, \"p\": 110, \"fpr\": 0.6666666666666666, \"tpr\": 1.0, \"n\": 6}, {\"threshold\": 0.517, \"p\": 110, \"fpr\": 0.6666666666666666, \"tpr\": 1.0, \"n\": 6}, {\"threshold\": 0.518, \"p\": 110, \"fpr\": 0.6666666666666666, \"tpr\": 1.0, \"n\": 6}, {\"threshold\": 0.519, \"p\": 110, \"fpr\": 0.6666666666666666, \"tpr\": 1.0, \"n\": 6}, {\"threshold\": 0.52, \"p\": 110, \"fpr\": 0.6666666666666666, \"tpr\": 1.0, \"n\": 6}, {\"threshold\": 0.521, \"p\": 110, \"fpr\": 0.6666666666666666, \"tpr\": 1.0, \"n\": 6}, {\"threshold\": 0.522, \"p\": 110, \"fpr\": 0.6666666666666666, \"tpr\": 1.0, \"n\": 6}, {\"threshold\": 0.523, \"p\": 110, \"fpr\": 0.6666666666666666, \"tpr\": 1.0, \"n\": 6}, {\"threshold\": 0.524, \"p\": 110, \"fpr\": 0.6666666666666666, \"tpr\": 1.0, \"n\": 6}, {\"threshold\": 0.525, \"p\": 110, \"fpr\": 0.6666666666666666, \"tpr\": 1.0, \"n\": 6}, {\"threshold\": 0.526, \"p\": 110, \"fpr\": 0.6666666666666666, \"tpr\": 1.0, \"n\": 6}, {\"threshold\": 0.527, \"p\": 110, \"fpr\": 0.6666666666666666, \"tpr\": 1.0, \"n\": 6}, {\"threshold\": 0.528, \"p\": 110, \"fpr\": 0.6666666666666666, \"tpr\": 1.0, \"n\": 6}, {\"threshold\": 0.529, \"p\": 110, \"fpr\": 0.6666666666666666, \"tpr\": 1.0, \"n\": 6}, {\"threshold\": 0.53, \"p\": 110, \"fpr\": 0.6666666666666666, \"tpr\": 1.0, \"n\": 6}, {\"threshold\": 0.531, \"p\": 110, \"fpr\": 0.6666666666666666, \"tpr\": 1.0, \"n\": 6}, {\"threshold\": 0.532, \"p\": 110, \"fpr\": 0.6666666666666666, \"tpr\": 1.0, \"n\": 6}, {\"threshold\": 0.533, \"p\": 110, \"fpr\": 0.6666666666666666, \"tpr\": 1.0, \"n\": 6}, {\"threshold\": 0.534, \"p\": 110, \"fpr\": 0.6666666666666666, \"tpr\": 1.0, \"n\": 6}, {\"threshold\": 0.535, \"p\": 110, \"fpr\": 0.6666666666666666, \"tpr\": 1.0, \"n\": 6}, {\"threshold\": 0.536, \"p\": 110, \"fpr\": 0.6666666666666666, \"tpr\": 1.0, \"n\": 6}, {\"threshold\": 0.537, \"p\": 110, \"fpr\": 0.6666666666666666, \"tpr\": 1.0, \"n\": 6}, {\"threshold\": 0.538, \"p\": 110, \"fpr\": 0.6666666666666666, \"tpr\": 1.0, \"n\": 6}, {\"threshold\": 0.539, \"p\": 110, \"fpr\": 0.6666666666666666, \"tpr\": 1.0, \"n\": 6}, {\"threshold\": 0.54, \"p\": 110, \"fpr\": 0.6666666666666666, \"tpr\": 1.0, \"n\": 6}, {\"threshold\": 0.541, \"p\": 110, \"fpr\": 0.6666666666666666, \"tpr\": 1.0, \"n\": 6}, {\"threshold\": 0.542, \"p\": 110, \"fpr\": 0.6666666666666666, \"tpr\": 1.0, \"n\": 6}, {\"threshold\": 0.543, \"p\": 110, \"fpr\": 0.6666666666666666, \"tpr\": 1.0, \"n\": 6}, {\"threshold\": 0.544, \"p\": 110, \"fpr\": 0.6666666666666666, \"tpr\": 1.0, \"n\": 6}, {\"threshold\": 0.545, \"p\": 110, \"fpr\": 0.6666666666666666, \"tpr\": 1.0, \"n\": 6}, {\"threshold\": 0.546, \"p\": 110, \"fpr\": 0.6666666666666666, \"tpr\": 1.0, \"n\": 6}, {\"threshold\": 0.547, \"p\": 110, \"fpr\": 0.6666666666666666, \"tpr\": 1.0, \"n\": 6}, {\"threshold\": 0.548, \"p\": 110, \"fpr\": 0.6666666666666666, \"tpr\": 1.0, \"n\": 6}, {\"threshold\": 0.549, \"p\": 110, \"fpr\": 0.6666666666666666, \"tpr\": 1.0, \"n\": 6}, {\"threshold\": 0.55, \"p\": 110, \"fpr\": 0.6666666666666666, \"tpr\": 1.0, \"n\": 6}, {\"threshold\": 0.551, \"p\": 110, \"fpr\": 0.6666666666666666, \"tpr\": 1.0, \"n\": 6}, {\"threshold\": 0.552, \"p\": 110, \"fpr\": 0.6666666666666666, \"tpr\": 1.0, \"n\": 6}, {\"threshold\": 0.553, \"p\": 110, \"fpr\": 0.6666666666666666, \"tpr\": 1.0, \"n\": 6}, {\"threshold\": 0.554, \"p\": 110, \"fpr\": 0.6666666666666666, \"tpr\": 1.0, \"n\": 6}, {\"threshold\": 0.555, \"p\": 110, \"fpr\": 0.6666666666666666, \"tpr\": 1.0, \"n\": 6}, {\"threshold\": 0.556, \"p\": 110, \"fpr\": 0.6666666666666666, \"tpr\": 1.0, \"n\": 6}, {\"threshold\": 0.557, \"p\": 110, \"fpr\": 0.6666666666666666, \"tpr\": 1.0, \"n\": 6}, {\"threshold\": 0.558, \"p\": 110, \"fpr\": 0.6666666666666666, \"tpr\": 1.0, \"n\": 6}, {\"threshold\": 0.559, \"p\": 110, \"fpr\": 0.6666666666666666, \"tpr\": 1.0, \"n\": 6}, {\"threshold\": 0.56, \"p\": 110, \"fpr\": 0.6666666666666666, \"tpr\": 1.0, \"n\": 6}, {\"threshold\": 0.561, \"p\": 110, \"fpr\": 0.6666666666666666, \"tpr\": 1.0, \"n\": 6}, {\"threshold\": 0.562, \"p\": 110, \"fpr\": 0.6666666666666666, \"tpr\": 1.0, \"n\": 6}, {\"threshold\": 0.563, \"p\": 110, \"fpr\": 0.6666666666666666, \"tpr\": 1.0, \"n\": 6}, {\"threshold\": 0.564, \"p\": 110, \"fpr\": 0.6666666666666666, \"tpr\": 1.0, \"n\": 6}, {\"threshold\": 0.565, \"p\": 110, \"fpr\": 0.6666666666666666, \"tpr\": 1.0, \"n\": 6}, {\"threshold\": 0.566, \"p\": 110, \"fpr\": 0.6666666666666666, \"tpr\": 1.0, \"n\": 6}, {\"threshold\": 0.567, \"p\": 110, \"fpr\": 0.6666666666666666, \"tpr\": 1.0, \"n\": 6}, {\"threshold\": 0.568, \"p\": 110, \"fpr\": 0.6666666666666666, \"tpr\": 1.0, \"n\": 6}, {\"threshold\": 0.569, \"p\": 110, \"fpr\": 0.6666666666666666, \"tpr\": 1.0, \"n\": 6}, {\"threshold\": 0.57, \"p\": 110, \"fpr\": 0.6666666666666666, \"tpr\": 1.0, \"n\": 6}, {\"threshold\": 0.571, \"p\": 110, \"fpr\": 0.6666666666666666, \"tpr\": 1.0, \"n\": 6}, {\"threshold\": 0.572, \"p\": 110, \"fpr\": 0.6666666666666666, \"tpr\": 1.0, \"n\": 6}, {\"threshold\": 0.573, \"p\": 110, \"fpr\": 0.6666666666666666, \"tpr\": 1.0, \"n\": 6}, {\"threshold\": 0.574, \"p\": 110, \"fpr\": 0.6666666666666666, \"tpr\": 1.0, \"n\": 6}, {\"threshold\": 0.575, \"p\": 110, \"fpr\": 0.6666666666666666, \"tpr\": 1.0, \"n\": 6}, {\"threshold\": 0.576, \"p\": 110, \"fpr\": 0.6666666666666666, \"tpr\": 1.0, \"n\": 6}, {\"threshold\": 0.577, \"p\": 110, \"fpr\": 0.6666666666666666, \"tpr\": 1.0, \"n\": 6}, {\"threshold\": 0.578, \"p\": 110, \"fpr\": 0.6666666666666666, \"tpr\": 1.0, \"n\": 6}, {\"threshold\": 0.579, \"p\": 110, \"fpr\": 0.6666666666666666, \"tpr\": 1.0, \"n\": 6}, {\"threshold\": 0.58, \"p\": 110, \"fpr\": 0.6666666666666666, \"tpr\": 1.0, \"n\": 6}, {\"threshold\": 0.581, \"p\": 110, \"fpr\": 0.6666666666666666, \"tpr\": 1.0, \"n\": 6}, {\"threshold\": 0.582, \"p\": 110, \"fpr\": 0.6666666666666666, \"tpr\": 1.0, \"n\": 6}, {\"threshold\": 0.583, \"p\": 110, \"fpr\": 0.6666666666666666, \"tpr\": 1.0, \"n\": 6}, {\"threshold\": 0.584, \"p\": 110, \"fpr\": 0.6666666666666666, \"tpr\": 1.0, \"n\": 6}, {\"threshold\": 0.585, \"p\": 110, \"fpr\": 0.6666666666666666, \"tpr\": 1.0, \"n\": 6}, {\"threshold\": 0.586, \"p\": 110, \"fpr\": 0.6666666666666666, \"tpr\": 1.0, \"n\": 6}, {\"threshold\": 0.587, \"p\": 110, \"fpr\": 0.6666666666666666, \"tpr\": 1.0, \"n\": 6}, {\"threshold\": 0.588, \"p\": 110, \"fpr\": 0.6666666666666666, \"tpr\": 1.0, \"n\": 6}, {\"threshold\": 0.589, \"p\": 110, \"fpr\": 0.6666666666666666, \"tpr\": 1.0, \"n\": 6}, {\"threshold\": 0.59, \"p\": 110, \"fpr\": 0.6666666666666666, \"tpr\": 1.0, \"n\": 6}, {\"threshold\": 0.591, \"p\": 110, \"fpr\": 0.6666666666666666, \"tpr\": 1.0, \"n\": 6}, {\"threshold\": 0.592, \"p\": 110, \"fpr\": 0.6666666666666666, \"tpr\": 1.0, \"n\": 6}, {\"threshold\": 0.593, \"p\": 110, \"fpr\": 0.6666666666666666, \"tpr\": 1.0, \"n\": 6}, {\"threshold\": 0.594, \"p\": 110, \"fpr\": 0.6666666666666666, \"tpr\": 1.0, \"n\": 6}, {\"threshold\": 0.595, \"p\": 110, \"fpr\": 0.6666666666666666, \"tpr\": 1.0, \"n\": 6}, {\"threshold\": 0.596, \"p\": 110, \"fpr\": 0.6666666666666666, \"tpr\": 1.0, \"n\": 6}, {\"threshold\": 0.597, \"p\": 110, \"fpr\": 0.6666666666666666, \"tpr\": 1.0, \"n\": 6}, {\"threshold\": 0.598, \"p\": 110, \"fpr\": 0.6666666666666666, \"tpr\": 1.0, \"n\": 6}, {\"threshold\": 0.599, \"p\": 110, \"fpr\": 0.6666666666666666, \"tpr\": 1.0, \"n\": 6}, {\"threshold\": 0.6, \"p\": 110, \"fpr\": 0.6666666666666666, \"tpr\": 1.0, \"n\": 6}, {\"threshold\": 0.601, \"p\": 110, \"fpr\": 0.6666666666666666, \"tpr\": 1.0, \"n\": 6}, {\"threshold\": 0.602, \"p\": 110, \"fpr\": 0.6666666666666666, \"tpr\": 1.0, \"n\": 6}, {\"threshold\": 0.603, \"p\": 110, \"fpr\": 0.6666666666666666, \"tpr\": 1.0, \"n\": 6}, {\"threshold\": 0.604, \"p\": 110, \"fpr\": 0.6666666666666666, \"tpr\": 1.0, \"n\": 6}, {\"threshold\": 0.605, \"p\": 110, \"fpr\": 0.6666666666666666, \"tpr\": 1.0, \"n\": 6}, {\"threshold\": 0.606, \"p\": 110, \"fpr\": 0.6666666666666666, \"tpr\": 1.0, \"n\": 6}, {\"threshold\": 0.607, \"p\": 110, \"fpr\": 0.6666666666666666, \"tpr\": 1.0, \"n\": 6}, {\"threshold\": 0.608, \"p\": 110, \"fpr\": 0.6666666666666666, \"tpr\": 1.0, \"n\": 6}, {\"threshold\": 0.609, \"p\": 110, \"fpr\": 0.6666666666666666, \"tpr\": 1.0, \"n\": 6}, {\"threshold\": 0.61, \"p\": 110, \"fpr\": 0.6666666666666666, \"tpr\": 1.0, \"n\": 6}, {\"threshold\": 0.611, \"p\": 110, \"fpr\": 0.6666666666666666, \"tpr\": 1.0, \"n\": 6}, {\"threshold\": 0.612, \"p\": 110, \"fpr\": 0.6666666666666666, \"tpr\": 1.0, \"n\": 6}, {\"threshold\": 0.613, \"p\": 110, \"fpr\": 0.6666666666666666, \"tpr\": 1.0, \"n\": 6}, {\"threshold\": 0.614, \"p\": 110, \"fpr\": 0.6666666666666666, \"tpr\": 1.0, \"n\": 6}, {\"threshold\": 0.615, \"p\": 110, \"fpr\": 0.6666666666666666, \"tpr\": 1.0, \"n\": 6}, {\"threshold\": 0.616, \"p\": 110, \"fpr\": 0.6666666666666666, \"tpr\": 1.0, \"n\": 6}, {\"threshold\": 0.617, \"p\": 110, \"fpr\": 0.6666666666666666, \"tpr\": 1.0, \"n\": 6}, {\"threshold\": 0.618, \"p\": 110, \"fpr\": 0.6666666666666666, \"tpr\": 1.0, \"n\": 6}, {\"threshold\": 0.619, \"p\": 110, \"fpr\": 0.6666666666666666, \"tpr\": 1.0, \"n\": 6}, {\"threshold\": 0.62, \"p\": 110, \"fpr\": 0.6666666666666666, \"tpr\": 1.0, \"n\": 6}, {\"threshold\": 0.621, \"p\": 110, \"fpr\": 0.6666666666666666, \"tpr\": 1.0, \"n\": 6}, {\"threshold\": 0.622, \"p\": 110, \"fpr\": 0.6666666666666666, \"tpr\": 1.0, \"n\": 6}, {\"threshold\": 0.623, \"p\": 110, \"fpr\": 0.6666666666666666, \"tpr\": 1.0, \"n\": 6}, {\"threshold\": 0.624, \"p\": 110, \"fpr\": 0.6666666666666666, \"tpr\": 1.0, \"n\": 6}, {\"threshold\": 0.625, \"p\": 110, \"fpr\": 0.6666666666666666, \"tpr\": 1.0, \"n\": 6}, {\"threshold\": 0.626, \"p\": 110, \"fpr\": 0.6666666666666666, \"tpr\": 1.0, \"n\": 6}, {\"threshold\": 0.627, \"p\": 110, \"fpr\": 0.6666666666666666, \"tpr\": 1.0, \"n\": 6}, {\"threshold\": 0.628, \"p\": 110, \"fpr\": 0.6666666666666666, \"tpr\": 1.0, \"n\": 6}, {\"threshold\": 0.629, \"p\": 110, \"fpr\": 0.6666666666666666, \"tpr\": 1.0, \"n\": 6}, {\"threshold\": 0.63, \"p\": 110, \"fpr\": 0.6666666666666666, \"tpr\": 1.0, \"n\": 6}, {\"threshold\": 0.631, \"p\": 110, \"fpr\": 0.6666666666666666, \"tpr\": 1.0, \"n\": 6}, {\"threshold\": 0.632, \"p\": 110, \"fpr\": 0.6666666666666666, \"tpr\": 1.0, \"n\": 6}, {\"threshold\": 0.633, \"p\": 110, \"fpr\": 0.6666666666666666, \"tpr\": 1.0, \"n\": 6}, {\"threshold\": 0.634, \"p\": 110, \"fpr\": 0.6666666666666666, \"tpr\": 1.0, \"n\": 6}, {\"threshold\": 0.635, \"p\": 110, \"fpr\": 0.6666666666666666, \"tpr\": 1.0, \"n\": 6}, {\"threshold\": 0.636, \"p\": 110, \"fpr\": 0.6666666666666666, \"tpr\": 1.0, \"n\": 6}, {\"threshold\": 0.637, \"p\": 110, \"fpr\": 0.6666666666666666, \"tpr\": 1.0, \"n\": 6}, {\"threshold\": 0.638, \"p\": 110, \"fpr\": 0.6666666666666666, \"tpr\": 1.0, \"n\": 6}, {\"threshold\": 0.639, \"p\": 110, \"fpr\": 0.6666666666666666, \"tpr\": 1.0, \"n\": 6}, {\"threshold\": 0.64, \"p\": 110, \"fpr\": 0.6666666666666666, \"tpr\": 1.0, \"n\": 6}, {\"threshold\": 0.641, \"p\": 110, \"fpr\": 0.6666666666666666, \"tpr\": 1.0, \"n\": 6}, {\"threshold\": 0.642, \"p\": 110, \"fpr\": 0.6666666666666666, \"tpr\": 1.0, \"n\": 6}, {\"threshold\": 0.643, \"p\": 110, \"fpr\": 0.6666666666666666, \"tpr\": 1.0, \"n\": 6}, {\"threshold\": 0.644, \"p\": 110, \"fpr\": 0.6666666666666666, \"tpr\": 1.0, \"n\": 6}, {\"threshold\": 0.645, \"p\": 110, \"fpr\": 0.6666666666666666, \"tpr\": 1.0, \"n\": 6}, {\"threshold\": 0.646, \"p\": 110, \"fpr\": 0.6666666666666666, \"tpr\": 1.0, \"n\": 6}, {\"threshold\": 0.647, \"p\": 110, \"fpr\": 0.6666666666666666, \"tpr\": 1.0, \"n\": 6}, {\"threshold\": 0.648, \"p\": 110, \"fpr\": 0.6666666666666666, \"tpr\": 1.0, \"n\": 6}, {\"threshold\": 0.649, \"p\": 110, \"fpr\": 0.6666666666666666, \"tpr\": 1.0, \"n\": 6}, {\"threshold\": 0.65, \"p\": 110, \"fpr\": 0.6666666666666666, \"tpr\": 1.0, \"n\": 6}, {\"threshold\": 0.651, \"p\": 110, \"fpr\": 0.6666666666666666, \"tpr\": 1.0, \"n\": 6}, {\"threshold\": 0.652, \"p\": 110, \"fpr\": 0.6666666666666666, \"tpr\": 1.0, \"n\": 6}, {\"threshold\": 0.653, \"p\": 110, \"fpr\": 0.6666666666666666, \"tpr\": 1.0, \"n\": 6}, {\"threshold\": 0.654, \"p\": 110, \"fpr\": 0.6666666666666666, \"tpr\": 1.0, \"n\": 6}, {\"threshold\": 0.655, \"p\": 110, \"fpr\": 0.6666666666666666, \"tpr\": 1.0, \"n\": 6}, {\"threshold\": 0.656, \"p\": 110, \"fpr\": 0.6666666666666666, \"tpr\": 1.0, \"n\": 6}, {\"threshold\": 0.657, \"p\": 110, \"fpr\": 0.6666666666666666, \"tpr\": 1.0, \"n\": 6}, {\"threshold\": 0.658, \"p\": 110, \"fpr\": 0.6666666666666666, \"tpr\": 1.0, \"n\": 6}, {\"threshold\": 0.659, \"p\": 110, \"fpr\": 0.6666666666666666, \"tpr\": 1.0, \"n\": 6}, {\"threshold\": 0.66, \"p\": 110, \"fpr\": 0.6666666666666666, \"tpr\": 1.0, \"n\": 6}, {\"threshold\": 0.661, \"p\": 110, \"fpr\": 0.6666666666666666, \"tpr\": 1.0, \"n\": 6}, {\"threshold\": 0.662, \"p\": 110, \"fpr\": 0.6666666666666666, \"tpr\": 1.0, \"n\": 6}, {\"threshold\": 0.663, \"p\": 110, \"fpr\": 0.6666666666666666, \"tpr\": 1.0, \"n\": 6}, {\"threshold\": 0.664, \"p\": 110, \"fpr\": 0.6666666666666666, \"tpr\": 1.0, \"n\": 6}, {\"threshold\": 0.665, \"p\": 110, \"fpr\": 0.6666666666666666, \"tpr\": 1.0, \"n\": 6}, {\"threshold\": 0.666, \"p\": 110, \"fpr\": 0.6666666666666666, \"tpr\": 1.0, \"n\": 6}, {\"threshold\": 0.667, \"p\": 110, \"fpr\": 0.6666666666666666, \"tpr\": 1.0, \"n\": 6}, {\"threshold\": 0.668, \"p\": 110, \"fpr\": 0.6666666666666666, \"tpr\": 1.0, \"n\": 6}, {\"threshold\": 0.669, \"p\": 110, \"fpr\": 0.6666666666666666, \"tpr\": 1.0, \"n\": 6}, {\"threshold\": 0.67, \"p\": 110, \"fpr\": 0.6666666666666666, \"tpr\": 1.0, \"n\": 6}, {\"threshold\": 0.671, \"p\": 110, \"fpr\": 0.6666666666666666, \"tpr\": 1.0, \"n\": 6}, {\"threshold\": 0.672, \"p\": 110, \"fpr\": 0.6666666666666666, \"tpr\": 1.0, \"n\": 6}, {\"threshold\": 0.673, \"p\": 110, \"fpr\": 0.6666666666666666, \"tpr\": 1.0, \"n\": 6}, {\"threshold\": 0.674, \"p\": 110, \"fpr\": 0.6666666666666666, \"tpr\": 1.0, \"n\": 6}, {\"threshold\": 0.675, \"p\": 110, \"fpr\": 0.6666666666666666, \"tpr\": 1.0, \"n\": 6}, {\"threshold\": 0.676, \"p\": 110, \"fpr\": 0.6666666666666666, \"tpr\": 1.0, \"n\": 6}, {\"threshold\": 0.677, \"p\": 110, \"fpr\": 0.6666666666666666, \"tpr\": 1.0, \"n\": 6}, {\"threshold\": 0.678, \"p\": 110, \"fpr\": 0.6666666666666666, \"tpr\": 1.0, \"n\": 6}, {\"threshold\": 0.679, \"p\": 110, \"fpr\": 0.6666666666666666, \"tpr\": 1.0, \"n\": 6}, {\"threshold\": 0.68, \"p\": 110, \"fpr\": 0.6666666666666666, \"tpr\": 1.0, \"n\": 6}, {\"threshold\": 0.681, \"p\": 110, \"fpr\": 0.6666666666666666, \"tpr\": 1.0, \"n\": 6}, {\"threshold\": 0.682, \"p\": 110, \"fpr\": 0.6666666666666666, \"tpr\": 1.0, \"n\": 6}, {\"threshold\": 0.683, \"p\": 110, \"fpr\": 0.6666666666666666, \"tpr\": 1.0, \"n\": 6}, {\"threshold\": 0.684, \"p\": 110, \"fpr\": 0.6666666666666666, \"tpr\": 1.0, \"n\": 6}, {\"threshold\": 0.685, \"p\": 110, \"fpr\": 0.6666666666666666, \"tpr\": 1.0, \"n\": 6}, {\"threshold\": 0.686, \"p\": 110, \"fpr\": 0.6666666666666666, \"tpr\": 1.0, \"n\": 6}, {\"threshold\": 0.687, \"p\": 110, \"fpr\": 0.6666666666666666, \"tpr\": 1.0, \"n\": 6}, {\"threshold\": 0.688, \"p\": 110, \"fpr\": 0.6666666666666666, \"tpr\": 1.0, \"n\": 6}, {\"threshold\": 0.689, \"p\": 110, \"fpr\": 0.6666666666666666, \"tpr\": 1.0, \"n\": 6}, {\"threshold\": 0.69, \"p\": 110, \"fpr\": 0.6666666666666666, \"tpr\": 1.0, \"n\": 6}, {\"threshold\": 0.691, \"p\": 110, \"fpr\": 0.6666666666666666, \"tpr\": 1.0, \"n\": 6}, {\"threshold\": 0.692, \"p\": 110, \"fpr\": 0.6666666666666666, \"tpr\": 1.0, \"n\": 6}, {\"threshold\": 0.693, \"p\": 110, \"fpr\": 0.6666666666666666, \"tpr\": 1.0, \"n\": 6}, {\"threshold\": 0.694, \"p\": 110, \"fpr\": 0.6666666666666666, \"tpr\": 1.0, \"n\": 6}, {\"threshold\": 0.695, \"p\": 110, \"fpr\": 0.6666666666666666, \"tpr\": 1.0, \"n\": 6}, {\"threshold\": 0.696, \"p\": 110, \"fpr\": 0.6666666666666666, \"tpr\": 1.0, \"n\": 6}, {\"threshold\": 0.697, \"p\": 110, \"fpr\": 0.6666666666666666, \"tpr\": 1.0, \"n\": 6}, {\"threshold\": 0.698, \"p\": 110, \"fpr\": 0.6666666666666666, \"tpr\": 1.0, \"n\": 6}, {\"threshold\": 0.699, \"p\": 110, \"fpr\": 0.6666666666666666, \"tpr\": 1.0, \"n\": 6}, {\"threshold\": 0.7, \"p\": 110, \"fpr\": 0.6666666666666666, \"tpr\": 1.0, \"n\": 6}, {\"threshold\": 0.701, \"p\": 110, \"fpr\": 0.6666666666666666, \"tpr\": 1.0, \"n\": 6}, {\"threshold\": 0.702, \"p\": 110, \"fpr\": 0.6666666666666666, \"tpr\": 1.0, \"n\": 6}, {\"threshold\": 0.703, \"p\": 110, \"fpr\": 0.6666666666666666, \"tpr\": 1.0, \"n\": 6}, {\"threshold\": 0.704, \"p\": 110, \"fpr\": 0.6666666666666666, \"tpr\": 1.0, \"n\": 6}, {\"threshold\": 0.705, \"p\": 110, \"fpr\": 0.6666666666666666, \"tpr\": 1.0, \"n\": 6}, {\"threshold\": 0.706, \"p\": 110, \"fpr\": 0.6666666666666666, \"tpr\": 1.0, \"n\": 6}, {\"threshold\": 0.707, \"p\": 110, \"fpr\": 0.6666666666666666, \"tpr\": 1.0, \"n\": 6}, {\"threshold\": 0.708, \"p\": 110, \"fpr\": 0.6666666666666666, \"tpr\": 1.0, \"n\": 6}, {\"threshold\": 0.709, \"p\": 110, \"fpr\": 0.6666666666666666, \"tpr\": 1.0, \"n\": 6}, {\"threshold\": 0.71, \"p\": 110, \"fpr\": 0.6666666666666666, \"tpr\": 1.0, \"n\": 6}, {\"threshold\": 0.711, \"p\": 110, \"fpr\": 0.6666666666666666, \"tpr\": 1.0, \"n\": 6}, {\"threshold\": 0.712, \"p\": 110, \"fpr\": 0.6666666666666666, \"tpr\": 1.0, \"n\": 6}, {\"threshold\": 0.713, \"p\": 110, \"fpr\": 0.6666666666666666, \"tpr\": 1.0, \"n\": 6}, {\"threshold\": 0.714, \"p\": 110, \"fpr\": 0.6666666666666666, \"tpr\": 1.0, \"n\": 6}, {\"threshold\": 0.715, \"p\": 110, \"fpr\": 0.6666666666666666, \"tpr\": 1.0, \"n\": 6}, {\"threshold\": 0.716, \"p\": 110, \"fpr\": 0.6666666666666666, \"tpr\": 1.0, \"n\": 6}, {\"threshold\": 0.717, \"p\": 110, \"fpr\": 0.6666666666666666, \"tpr\": 1.0, \"n\": 6}, {\"threshold\": 0.718, \"p\": 110, \"fpr\": 0.6666666666666666, \"tpr\": 1.0, \"n\": 6}, {\"threshold\": 0.719, \"p\": 110, \"fpr\": 0.6666666666666666, \"tpr\": 1.0, \"n\": 6}, {\"threshold\": 0.72, \"p\": 110, \"fpr\": 0.6666666666666666, \"tpr\": 1.0, \"n\": 6}, {\"threshold\": 0.721, \"p\": 110, \"fpr\": 0.6666666666666666, \"tpr\": 1.0, \"n\": 6}, {\"threshold\": 0.722, \"p\": 110, \"fpr\": 0.6666666666666666, \"tpr\": 1.0, \"n\": 6}, {\"threshold\": 0.723, \"p\": 110, \"fpr\": 0.6666666666666666, \"tpr\": 1.0, \"n\": 6}, {\"threshold\": 0.724, \"p\": 110, \"fpr\": 0.6666666666666666, \"tpr\": 1.0, \"n\": 6}, {\"threshold\": 0.725, \"p\": 110, \"fpr\": 0.6666666666666666, \"tpr\": 1.0, \"n\": 6}, {\"threshold\": 0.726, \"p\": 110, \"fpr\": 0.6666666666666666, \"tpr\": 1.0, \"n\": 6}, {\"threshold\": 0.727, \"p\": 110, \"fpr\": 0.6666666666666666, \"tpr\": 1.0, \"n\": 6}, {\"threshold\": 0.728, \"p\": 110, \"fpr\": 0.6666666666666666, \"tpr\": 1.0, \"n\": 6}, {\"threshold\": 0.729, \"p\": 110, \"fpr\": 0.6666666666666666, \"tpr\": 1.0, \"n\": 6}, {\"threshold\": 0.73, \"p\": 110, \"fpr\": 0.6666666666666666, \"tpr\": 1.0, \"n\": 6}, {\"threshold\": 0.731, \"p\": 110, \"fpr\": 0.6666666666666666, \"tpr\": 1.0, \"n\": 6}, {\"threshold\": 0.732, \"p\": 110, \"fpr\": 0.6666666666666666, \"tpr\": 1.0, \"n\": 6}, {\"threshold\": 0.733, \"p\": 110, \"fpr\": 0.6666666666666666, \"tpr\": 1.0, \"n\": 6}, {\"threshold\": 0.734, \"p\": 110, \"fpr\": 0.6666666666666666, \"tpr\": 1.0, \"n\": 6}, {\"threshold\": 0.735, \"p\": 110, \"fpr\": 0.6666666666666666, \"tpr\": 1.0, \"n\": 6}, {\"threshold\": 0.736, \"p\": 110, \"fpr\": 0.6666666666666666, \"tpr\": 1.0, \"n\": 6}, {\"threshold\": 0.737, \"p\": 110, \"fpr\": 0.6666666666666666, \"tpr\": 1.0, \"n\": 6}, {\"threshold\": 0.738, \"p\": 110, \"fpr\": 0.6666666666666666, \"tpr\": 1.0, \"n\": 6}, {\"threshold\": 0.739, \"p\": 110, \"fpr\": 0.6666666666666666, \"tpr\": 1.0, \"n\": 6}, {\"threshold\": 0.74, \"p\": 110, \"fpr\": 0.6666666666666666, \"tpr\": 1.0, \"n\": 6}, {\"threshold\": 0.741, \"p\": 110, \"fpr\": 0.6666666666666666, \"tpr\": 1.0, \"n\": 6}, {\"threshold\": 0.742, \"p\": 110, \"fpr\": 0.6666666666666666, \"tpr\": 1.0, \"n\": 6}, {\"threshold\": 0.743, \"p\": 110, \"fpr\": 0.6666666666666666, \"tpr\": 1.0, \"n\": 6}, {\"threshold\": 0.744, \"p\": 110, \"fpr\": 0.6666666666666666, \"tpr\": 1.0, \"n\": 6}, {\"threshold\": 0.745, \"p\": 110, \"fpr\": 0.6666666666666666, \"tpr\": 1.0, \"n\": 6}, {\"threshold\": 0.746, \"p\": 110, \"fpr\": 0.6666666666666666, \"tpr\": 1.0, \"n\": 6}, {\"threshold\": 0.747, \"p\": 110, \"fpr\": 0.6666666666666666, \"tpr\": 1.0, \"n\": 6}, {\"threshold\": 0.748, \"p\": 110, \"fpr\": 0.6666666666666666, \"tpr\": 1.0, \"n\": 6}, {\"threshold\": 0.749, \"p\": 110, \"fpr\": 0.6666666666666666, \"tpr\": 1.0, \"n\": 6}, {\"threshold\": 0.75, \"p\": 110, \"fpr\": 0.6666666666666666, \"tpr\": 1.0, \"n\": 6}, {\"threshold\": 0.751, \"p\": 110, \"fpr\": 0.6666666666666666, \"tpr\": 1.0, \"n\": 6}, {\"threshold\": 0.752, \"p\": 110, \"fpr\": 0.6666666666666666, \"tpr\": 1.0, \"n\": 6}, {\"threshold\": 0.753, \"p\": 110, \"fpr\": 0.6666666666666666, \"tpr\": 1.0, \"n\": 6}, {\"threshold\": 0.754, \"p\": 110, \"fpr\": 0.6666666666666666, \"tpr\": 1.0, \"n\": 6}, {\"threshold\": 0.755, \"p\": 110, \"fpr\": 0.6666666666666666, \"tpr\": 1.0, \"n\": 6}, {\"threshold\": 0.756, \"p\": 110, \"fpr\": 0.6666666666666666, \"tpr\": 1.0, \"n\": 6}, {\"threshold\": 0.757, \"p\": 110, \"fpr\": 0.6666666666666666, \"tpr\": 1.0, \"n\": 6}, {\"threshold\": 0.758, \"p\": 110, \"fpr\": 0.6666666666666666, \"tpr\": 1.0, \"n\": 6}, {\"threshold\": 0.759, \"p\": 110, \"fpr\": 0.6666666666666666, \"tpr\": 1.0, \"n\": 6}, {\"threshold\": 0.76, \"p\": 110, \"fpr\": 0.6666666666666666, \"tpr\": 1.0, \"n\": 6}, {\"threshold\": 0.761, \"p\": 110, \"fpr\": 0.6666666666666666, \"tpr\": 1.0, \"n\": 6}, {\"threshold\": 0.762, \"p\": 110, \"fpr\": 0.6666666666666666, \"tpr\": 1.0, \"n\": 6}, {\"threshold\": 0.763, \"p\": 110, \"fpr\": 0.6666666666666666, \"tpr\": 1.0, \"n\": 6}, {\"threshold\": 0.764, \"p\": 110, \"fpr\": 0.6666666666666666, \"tpr\": 1.0, \"n\": 6}, {\"threshold\": 0.765, \"p\": 110, \"fpr\": 0.6666666666666666, \"tpr\": 1.0, \"n\": 6}, {\"threshold\": 0.766, \"p\": 110, \"fpr\": 0.6666666666666666, \"tpr\": 1.0, \"n\": 6}, {\"threshold\": 0.767, \"p\": 110, \"fpr\": 0.6666666666666666, \"tpr\": 1.0, \"n\": 6}, {\"threshold\": 0.768, \"p\": 110, \"fpr\": 0.6666666666666666, \"tpr\": 1.0, \"n\": 6}, {\"threshold\": 0.769, \"p\": 110, \"fpr\": 0.6666666666666666, \"tpr\": 1.0, \"n\": 6}, {\"threshold\": 0.77, \"p\": 110, \"fpr\": 0.6666666666666666, \"tpr\": 1.0, \"n\": 6}, {\"threshold\": 0.771, \"p\": 110, \"fpr\": 0.6666666666666666, \"tpr\": 1.0, \"n\": 6}, {\"threshold\": 0.772, \"p\": 110, \"fpr\": 0.6666666666666666, \"tpr\": 1.0, \"n\": 6}, {\"threshold\": 0.773, \"p\": 110, \"fpr\": 0.6666666666666666, \"tpr\": 1.0, \"n\": 6}, {\"threshold\": 0.774, \"p\": 110, \"fpr\": 0.6666666666666666, \"tpr\": 1.0, \"n\": 6}, {\"threshold\": 0.775, \"p\": 110, \"fpr\": 0.6666666666666666, \"tpr\": 1.0, \"n\": 6}, {\"threshold\": 0.776, \"p\": 110, \"fpr\": 0.6666666666666666, \"tpr\": 1.0, \"n\": 6}, {\"threshold\": 0.777, \"p\": 110, \"fpr\": 0.6666666666666666, \"tpr\": 1.0, \"n\": 6}, {\"threshold\": 0.778, \"p\": 110, \"fpr\": 0.6666666666666666, \"tpr\": 1.0, \"n\": 6}, {\"threshold\": 0.779, \"p\": 110, \"fpr\": 0.6666666666666666, \"tpr\": 1.0, \"n\": 6}, {\"threshold\": 0.78, \"p\": 110, \"fpr\": 0.6666666666666666, \"tpr\": 1.0, \"n\": 6}, {\"threshold\": 0.781, \"p\": 110, \"fpr\": 0.6666666666666666, \"tpr\": 1.0, \"n\": 6}, {\"threshold\": 0.782, \"p\": 110, \"fpr\": 0.6666666666666666, \"tpr\": 1.0, \"n\": 6}, {\"threshold\": 0.783, \"p\": 110, \"fpr\": 0.6666666666666666, \"tpr\": 1.0, \"n\": 6}, {\"threshold\": 0.784, \"p\": 110, \"fpr\": 0.6666666666666666, \"tpr\": 1.0, \"n\": 6}, {\"threshold\": 0.785, \"p\": 110, \"fpr\": 0.6666666666666666, \"tpr\": 1.0, \"n\": 6}, {\"threshold\": 0.786, \"p\": 110, \"fpr\": 0.6666666666666666, \"tpr\": 1.0, \"n\": 6}, {\"threshold\": 0.787, \"p\": 110, \"fpr\": 0.6666666666666666, \"tpr\": 1.0, \"n\": 6}, {\"threshold\": 0.788, \"p\": 110, \"fpr\": 0.6666666666666666, \"tpr\": 1.0, \"n\": 6}, {\"threshold\": 0.789, \"p\": 110, \"fpr\": 0.6666666666666666, \"tpr\": 1.0, \"n\": 6}, {\"threshold\": 0.79, \"p\": 110, \"fpr\": 0.6666666666666666, \"tpr\": 1.0, \"n\": 6}, {\"threshold\": 0.791, \"p\": 110, \"fpr\": 0.6666666666666666, \"tpr\": 1.0, \"n\": 6}, {\"threshold\": 0.792, \"p\": 110, \"fpr\": 0.6666666666666666, \"tpr\": 1.0, \"n\": 6}, {\"threshold\": 0.793, \"p\": 110, \"fpr\": 0.6666666666666666, \"tpr\": 1.0, \"n\": 6}, {\"threshold\": 0.794, \"p\": 110, \"fpr\": 0.6666666666666666, \"tpr\": 1.0, \"n\": 6}, {\"threshold\": 0.795, \"p\": 110, \"fpr\": 0.6666666666666666, \"tpr\": 1.0, \"n\": 6}, {\"threshold\": 0.796, \"p\": 110, \"fpr\": 0.6666666666666666, \"tpr\": 1.0, \"n\": 6}, {\"threshold\": 0.797, \"p\": 110, \"fpr\": 0.6666666666666666, \"tpr\": 1.0, \"n\": 6}, {\"threshold\": 0.798, \"p\": 110, \"fpr\": 0.6666666666666666, \"tpr\": 1.0, \"n\": 6}, {\"threshold\": 0.799, \"p\": 110, \"fpr\": 0.6666666666666666, \"tpr\": 1.0, \"n\": 6}, {\"threshold\": 0.8, \"p\": 110, \"fpr\": 0.6666666666666666, \"tpr\": 1.0, \"n\": 6}, {\"threshold\": 0.801, \"p\": 110, \"fpr\": 0.6666666666666666, \"tpr\": 1.0, \"n\": 6}, {\"threshold\": 0.802, \"p\": 110, \"fpr\": 0.6666666666666666, \"tpr\": 1.0, \"n\": 6}, {\"threshold\": 0.803, \"p\": 110, \"fpr\": 0.6666666666666666, \"tpr\": 1.0, \"n\": 6}, {\"threshold\": 0.804, \"p\": 110, \"fpr\": 0.6666666666666666, \"tpr\": 1.0, \"n\": 6}, {\"threshold\": 0.805, \"p\": 110, \"fpr\": 0.6666666666666666, \"tpr\": 1.0, \"n\": 6}, {\"threshold\": 0.806, \"p\": 110, \"fpr\": 0.6666666666666666, \"tpr\": 1.0, \"n\": 6}, {\"threshold\": 0.807, \"p\": 110, \"fpr\": 0.6666666666666666, \"tpr\": 1.0, \"n\": 6}, {\"threshold\": 0.808, \"p\": 110, \"fpr\": 0.6666666666666666, \"tpr\": 1.0, \"n\": 6}, {\"threshold\": 0.809, \"p\": 110, \"fpr\": 0.6666666666666666, \"tpr\": 1.0, \"n\": 6}, {\"threshold\": 0.81, \"p\": 110, \"fpr\": 0.6666666666666666, \"tpr\": 1.0, \"n\": 6}, {\"threshold\": 0.811, \"p\": 110, \"fpr\": 0.6666666666666666, \"tpr\": 1.0, \"n\": 6}, {\"threshold\": 0.812, \"p\": 110, \"fpr\": 0.6666666666666666, \"tpr\": 1.0, \"n\": 6}, {\"threshold\": 0.813, \"p\": 110, \"fpr\": 0.6666666666666666, \"tpr\": 1.0, \"n\": 6}, {\"threshold\": 0.814, \"p\": 110, \"fpr\": 0.6666666666666666, \"tpr\": 1.0, \"n\": 6}, {\"threshold\": 0.815, \"p\": 110, \"fpr\": 0.6666666666666666, \"tpr\": 1.0, \"n\": 6}, {\"threshold\": 0.816, \"p\": 110, \"fpr\": 0.6666666666666666, \"tpr\": 1.0, \"n\": 6}, {\"threshold\": 0.817, \"p\": 110, \"fpr\": 0.6666666666666666, \"tpr\": 1.0, \"n\": 6}, {\"threshold\": 0.818, \"p\": 110, \"fpr\": 0.6666666666666666, \"tpr\": 1.0, \"n\": 6}, {\"threshold\": 0.819, \"p\": 110, \"fpr\": 0.6666666666666666, \"tpr\": 1.0, \"n\": 6}, {\"threshold\": 0.82, \"p\": 110, \"fpr\": 0.6666666666666666, \"tpr\": 1.0, \"n\": 6}, {\"threshold\": 0.821, \"p\": 110, \"fpr\": 0.6666666666666666, \"tpr\": 1.0, \"n\": 6}, {\"threshold\": 0.822, \"p\": 110, \"fpr\": 0.6666666666666666, \"tpr\": 1.0, \"n\": 6}, {\"threshold\": 0.823, \"p\": 110, \"fpr\": 0.6666666666666666, \"tpr\": 1.0, \"n\": 6}, {\"threshold\": 0.824, \"p\": 110, \"fpr\": 0.6666666666666666, \"tpr\": 1.0, \"n\": 6}, {\"threshold\": 0.825, \"p\": 110, \"fpr\": 0.6666666666666666, \"tpr\": 1.0, \"n\": 6}, {\"threshold\": 0.826, \"p\": 110, \"fpr\": 0.6666666666666666, \"tpr\": 1.0, \"n\": 6}, {\"threshold\": 0.827, \"p\": 110, \"fpr\": 0.6666666666666666, \"tpr\": 1.0, \"n\": 6}, {\"threshold\": 0.828, \"p\": 110, \"fpr\": 0.6666666666666666, \"tpr\": 1.0, \"n\": 6}, {\"threshold\": 0.829, \"p\": 110, \"fpr\": 0.6666666666666666, \"tpr\": 1.0, \"n\": 6}, {\"threshold\": 0.83, \"p\": 110, \"fpr\": 0.6666666666666666, \"tpr\": 1.0, \"n\": 6}, {\"threshold\": 0.831, \"p\": 110, \"fpr\": 0.6666666666666666, \"tpr\": 1.0, \"n\": 6}, {\"threshold\": 0.832, \"p\": 110, \"fpr\": 0.6666666666666666, \"tpr\": 1.0, \"n\": 6}, {\"threshold\": 0.833, \"p\": 110, \"fpr\": 0.6666666666666666, \"tpr\": 1.0, \"n\": 6}, {\"threshold\": 0.834, \"p\": 110, \"fpr\": 0.6666666666666666, \"tpr\": 1.0, \"n\": 6}, {\"threshold\": 0.835, \"p\": 110, \"fpr\": 0.6666666666666666, \"tpr\": 1.0, \"n\": 6}, {\"threshold\": 0.836, \"p\": 110, \"fpr\": 0.6666666666666666, \"tpr\": 1.0, \"n\": 6}, {\"threshold\": 0.837, \"p\": 110, \"fpr\": 0.6666666666666666, \"tpr\": 1.0, \"n\": 6}, {\"threshold\": 0.838, \"p\": 110, \"fpr\": 0.6666666666666666, \"tpr\": 1.0, \"n\": 6}, {\"threshold\": 0.839, \"p\": 110, \"fpr\": 0.6666666666666666, \"tpr\": 1.0, \"n\": 6}, {\"threshold\": 0.84, \"p\": 110, \"fpr\": 0.6666666666666666, \"tpr\": 1.0, \"n\": 6}, {\"threshold\": 0.841, \"p\": 110, \"fpr\": 0.6666666666666666, \"tpr\": 1.0, \"n\": 6}, {\"threshold\": 0.842, \"p\": 110, \"fpr\": 0.6666666666666666, \"tpr\": 1.0, \"n\": 6}, {\"threshold\": 0.843, \"p\": 110, \"fpr\": 0.6666666666666666, \"tpr\": 1.0, \"n\": 6}, {\"threshold\": 0.844, \"p\": 110, \"fpr\": 0.6666666666666666, \"tpr\": 1.0, \"n\": 6}, {\"threshold\": 0.845, \"p\": 110, \"fpr\": 0.6666666666666666, \"tpr\": 1.0, \"n\": 6}, {\"threshold\": 0.846, \"p\": 110, \"fpr\": 0.6666666666666666, \"tpr\": 1.0, \"n\": 6}, {\"threshold\": 0.847, \"p\": 110, \"fpr\": 0.6666666666666666, \"tpr\": 1.0, \"n\": 6}, {\"threshold\": 0.848, \"p\": 110, \"fpr\": 0.6666666666666666, \"tpr\": 1.0, \"n\": 6}, {\"threshold\": 0.849, \"p\": 110, \"fpr\": 0.6666666666666666, \"tpr\": 1.0, \"n\": 6}, {\"threshold\": 0.85, \"p\": 110, \"fpr\": 0.6666666666666666, \"tpr\": 1.0, \"n\": 6}, {\"threshold\": 0.851, \"p\": 110, \"fpr\": 0.6666666666666666, \"tpr\": 1.0, \"n\": 6}, {\"threshold\": 0.852, \"p\": 110, \"fpr\": 0.6666666666666666, \"tpr\": 1.0, \"n\": 6}, {\"threshold\": 0.853, \"p\": 110, \"fpr\": 0.6666666666666666, \"tpr\": 1.0, \"n\": 6}, {\"threshold\": 0.854, \"p\": 110, \"fpr\": 0.6666666666666666, \"tpr\": 1.0, \"n\": 6}, {\"threshold\": 0.855, \"p\": 110, \"fpr\": 0.6666666666666666, \"tpr\": 1.0, \"n\": 6}, {\"threshold\": 0.856, \"p\": 110, \"fpr\": 0.6666666666666666, \"tpr\": 1.0, \"n\": 6}, {\"threshold\": 0.857, \"p\": 110, \"fpr\": 0.6666666666666666, \"tpr\": 1.0, \"n\": 6}, {\"threshold\": 0.858, \"p\": 110, \"fpr\": 0.6666666666666666, \"tpr\": 1.0, \"n\": 6}, {\"threshold\": 0.859, \"p\": 110, \"fpr\": 0.6666666666666666, \"tpr\": 1.0, \"n\": 6}, {\"threshold\": 0.86, \"p\": 110, \"fpr\": 0.6666666666666666, \"tpr\": 1.0, \"n\": 6}, {\"threshold\": 0.861, \"p\": 110, \"fpr\": 0.6666666666666666, \"tpr\": 1.0, \"n\": 6}, {\"threshold\": 0.862, \"p\": 110, \"fpr\": 0.6666666666666666, \"tpr\": 1.0, \"n\": 6}, {\"threshold\": 0.863, \"p\": 110, \"fpr\": 0.6666666666666666, \"tpr\": 1.0, \"n\": 6}, {\"threshold\": 0.864, \"p\": 110, \"fpr\": 0.6666666666666666, \"tpr\": 1.0, \"n\": 6}, {\"threshold\": 0.865, \"p\": 110, \"fpr\": 0.6666666666666666, \"tpr\": 1.0, \"n\": 6}, {\"threshold\": 0.866, \"p\": 110, \"fpr\": 0.6666666666666666, \"tpr\": 1.0, \"n\": 6}, {\"threshold\": 0.867, \"p\": 110, \"fpr\": 0.6666666666666666, \"tpr\": 1.0, \"n\": 6}, {\"threshold\": 0.868, \"p\": 110, \"fpr\": 0.6666666666666666, \"tpr\": 1.0, \"n\": 6}, {\"threshold\": 0.869, \"p\": 110, \"fpr\": 0.6666666666666666, \"tpr\": 1.0, \"n\": 6}, {\"threshold\": 0.87, \"p\": 110, \"fpr\": 0.6666666666666666, \"tpr\": 1.0, \"n\": 6}, {\"threshold\": 0.871, \"p\": 110, \"fpr\": 0.6666666666666666, \"tpr\": 1.0, \"n\": 6}, {\"threshold\": 0.872, \"p\": 110, \"fpr\": 0.6666666666666666, \"tpr\": 1.0, \"n\": 6}, {\"threshold\": 0.873, \"p\": 110, \"fpr\": 0.6666666666666666, \"tpr\": 1.0, \"n\": 6}, {\"threshold\": 0.874, \"p\": 110, \"fpr\": 0.6666666666666666, \"tpr\": 1.0, \"n\": 6}, {\"threshold\": 0.875, \"p\": 110, \"fpr\": 0.6666666666666666, \"tpr\": 1.0, \"n\": 6}, {\"threshold\": 0.876, \"p\": 110, \"fpr\": 0.6666666666666666, \"tpr\": 1.0, \"n\": 6}, {\"threshold\": 0.877, \"p\": 110, \"fpr\": 0.6666666666666666, \"tpr\": 1.0, \"n\": 6}, {\"threshold\": 0.878, \"p\": 110, \"fpr\": 0.6666666666666666, \"tpr\": 1.0, \"n\": 6}, {\"threshold\": 0.879, \"p\": 110, \"fpr\": 0.6666666666666666, \"tpr\": 1.0, \"n\": 6}, {\"threshold\": 0.88, \"p\": 110, \"fpr\": 0.6666666666666666, \"tpr\": 1.0, \"n\": 6}, {\"threshold\": 0.881, \"p\": 110, \"fpr\": 0.6666666666666666, \"tpr\": 1.0, \"n\": 6}, {\"threshold\": 0.882, \"p\": 110, \"fpr\": 0.6666666666666666, \"tpr\": 1.0, \"n\": 6}, {\"threshold\": 0.883, \"p\": 110, \"fpr\": 0.6666666666666666, \"tpr\": 1.0, \"n\": 6}, {\"threshold\": 0.884, \"p\": 110, \"fpr\": 0.6666666666666666, \"tpr\": 1.0, \"n\": 6}, {\"threshold\": 0.885, \"p\": 110, \"fpr\": 0.6666666666666666, \"tpr\": 1.0, \"n\": 6}, {\"threshold\": 0.886, \"p\": 110, \"fpr\": 0.6666666666666666, \"tpr\": 1.0, \"n\": 6}, {\"threshold\": 0.887, \"p\": 110, \"fpr\": 0.6666666666666666, \"tpr\": 1.0, \"n\": 6}, {\"threshold\": 0.888, \"p\": 110, \"fpr\": 0.6666666666666666, \"tpr\": 1.0, \"n\": 6}, {\"threshold\": 0.889, \"p\": 110, \"fpr\": 0.6666666666666666, \"tpr\": 1.0, \"n\": 6}, {\"threshold\": 0.89, \"p\": 110, \"fpr\": 0.6666666666666666, \"tpr\": 1.0, \"n\": 6}, {\"threshold\": 0.891, \"p\": 110, \"fpr\": 0.6666666666666666, \"tpr\": 1.0, \"n\": 6}, {\"threshold\": 0.892, \"p\": 110, \"fpr\": 0.6666666666666666, \"tpr\": 1.0, \"n\": 6}, {\"threshold\": 0.893, \"p\": 110, \"fpr\": 0.6666666666666666, \"tpr\": 1.0, \"n\": 6}, {\"threshold\": 0.894, \"p\": 110, \"fpr\": 0.6666666666666666, \"tpr\": 1.0, \"n\": 6}, {\"threshold\": 0.895, \"p\": 110, \"fpr\": 0.6666666666666666, \"tpr\": 1.0, \"n\": 6}, {\"threshold\": 0.896, \"p\": 110, \"fpr\": 0.6666666666666666, \"tpr\": 1.0, \"n\": 6}, {\"threshold\": 0.897, \"p\": 110, \"fpr\": 0.6666666666666666, \"tpr\": 1.0, \"n\": 6}, {\"threshold\": 0.898, \"p\": 110, \"fpr\": 0.6666666666666666, \"tpr\": 1.0, \"n\": 6}, {\"threshold\": 0.899, \"p\": 110, \"fpr\": 0.6666666666666666, \"tpr\": 1.0, \"n\": 6}, {\"threshold\": 0.9, \"p\": 110, \"fpr\": 0.6666666666666666, \"tpr\": 1.0, \"n\": 6}, {\"threshold\": 0.901, \"p\": 110, \"fpr\": 0.6666666666666666, \"tpr\": 1.0, \"n\": 6}, {\"threshold\": 0.902, \"p\": 110, \"fpr\": 0.6666666666666666, \"tpr\": 1.0, \"n\": 6}, {\"threshold\": 0.903, \"p\": 110, \"fpr\": 0.6666666666666666, \"tpr\": 1.0, \"n\": 6}, {\"threshold\": 0.904, \"p\": 110, \"fpr\": 0.6666666666666666, \"tpr\": 1.0, \"n\": 6}, {\"threshold\": 0.905, \"p\": 110, \"fpr\": 0.6666666666666666, \"tpr\": 1.0, \"n\": 6}, {\"threshold\": 0.906, \"p\": 110, \"fpr\": 0.6666666666666666, \"tpr\": 1.0, \"n\": 6}, {\"threshold\": 0.907, \"p\": 110, \"fpr\": 0.6666666666666666, \"tpr\": 1.0, \"n\": 6}, {\"threshold\": 0.908, \"p\": 110, \"fpr\": 0.6666666666666666, \"tpr\": 1.0, \"n\": 6}, {\"threshold\": 0.909, \"p\": 110, \"fpr\": 0.6666666666666666, \"tpr\": 1.0, \"n\": 6}, {\"threshold\": 0.91, \"p\": 110, \"fpr\": 0.6666666666666666, \"tpr\": 1.0, \"n\": 6}, {\"threshold\": 0.911, \"p\": 110, \"fpr\": 0.6666666666666666, \"tpr\": 1.0, \"n\": 6}, {\"threshold\": 0.912, \"p\": 110, \"fpr\": 0.6666666666666666, \"tpr\": 1.0, \"n\": 6}, {\"threshold\": 0.913, \"p\": 110, \"fpr\": 0.6666666666666666, \"tpr\": 1.0, \"n\": 6}, {\"threshold\": 0.914, \"p\": 110, \"fpr\": 0.6666666666666666, \"tpr\": 1.0, \"n\": 6}, {\"threshold\": 0.915, \"p\": 110, \"fpr\": 0.6666666666666666, \"tpr\": 1.0, \"n\": 6}, {\"threshold\": 0.916, \"p\": 110, \"fpr\": 0.6666666666666666, \"tpr\": 1.0, \"n\": 6}, {\"threshold\": 0.917, \"p\": 110, \"fpr\": 0.6666666666666666, \"tpr\": 1.0, \"n\": 6}, {\"threshold\": 0.918, \"p\": 110, \"fpr\": 0.6666666666666666, \"tpr\": 1.0, \"n\": 6}, {\"threshold\": 0.919, \"p\": 110, \"fpr\": 0.6666666666666666, \"tpr\": 1.0, \"n\": 6}, {\"threshold\": 0.92, \"p\": 110, \"fpr\": 0.6666666666666666, \"tpr\": 1.0, \"n\": 6}, {\"threshold\": 0.921, \"p\": 110, \"fpr\": 0.6666666666666666, \"tpr\": 1.0, \"n\": 6}, {\"threshold\": 0.922, \"p\": 110, \"fpr\": 0.6666666666666666, \"tpr\": 1.0, \"n\": 6}, {\"threshold\": 0.923, \"p\": 110, \"fpr\": 0.6666666666666666, \"tpr\": 1.0, \"n\": 6}, {\"threshold\": 0.924, \"p\": 110, \"fpr\": 0.6666666666666666, \"tpr\": 1.0, \"n\": 6}, {\"threshold\": 0.925, \"p\": 110, \"fpr\": 0.6666666666666666, \"tpr\": 1.0, \"n\": 6}, {\"threshold\": 0.926, \"p\": 110, \"fpr\": 0.6666666666666666, \"tpr\": 1.0, \"n\": 6}, {\"threshold\": 0.927, \"p\": 110, \"fpr\": 0.6666666666666666, \"tpr\": 1.0, \"n\": 6}, {\"threshold\": 0.928, \"p\": 110, \"fpr\": 0.6666666666666666, \"tpr\": 1.0, \"n\": 6}, {\"threshold\": 0.929, \"p\": 110, \"fpr\": 0.6666666666666666, \"tpr\": 1.0, \"n\": 6}, {\"threshold\": 0.93, \"p\": 110, \"fpr\": 0.6666666666666666, \"tpr\": 1.0, \"n\": 6}, {\"threshold\": 0.931, \"p\": 110, \"fpr\": 0.6666666666666666, \"tpr\": 1.0, \"n\": 6}, {\"threshold\": 0.932, \"p\": 110, \"fpr\": 0.6666666666666666, \"tpr\": 1.0, \"n\": 6}, {\"threshold\": 0.933, \"p\": 110, \"fpr\": 0.6666666666666666, \"tpr\": 1.0, \"n\": 6}, {\"threshold\": 0.934, \"p\": 110, \"fpr\": 0.6666666666666666, \"tpr\": 1.0, \"n\": 6}, {\"threshold\": 0.935, \"p\": 110, \"fpr\": 0.6666666666666666, \"tpr\": 1.0, \"n\": 6}, {\"threshold\": 0.936, \"p\": 110, \"fpr\": 0.6666666666666666, \"tpr\": 1.0, \"n\": 6}, {\"threshold\": 0.937, \"p\": 110, \"fpr\": 0.6666666666666666, \"tpr\": 1.0, \"n\": 6}, {\"threshold\": 0.938, \"p\": 110, \"fpr\": 0.6666666666666666, \"tpr\": 1.0, \"n\": 6}, {\"threshold\": 0.939, \"p\": 110, \"fpr\": 0.6666666666666666, \"tpr\": 1.0, \"n\": 6}, {\"threshold\": 0.94, \"p\": 110, \"fpr\": 0.6666666666666666, \"tpr\": 1.0, \"n\": 6}, {\"threshold\": 0.941, \"p\": 110, \"fpr\": 0.6666666666666666, \"tpr\": 1.0, \"n\": 6}, {\"threshold\": 0.942, \"p\": 110, \"fpr\": 0.6666666666666666, \"tpr\": 1.0, \"n\": 6}, {\"threshold\": 0.943, \"p\": 110, \"fpr\": 0.6666666666666666, \"tpr\": 1.0, \"n\": 6}, {\"threshold\": 0.944, \"p\": 110, \"fpr\": 0.6666666666666666, \"tpr\": 1.0, \"n\": 6}, {\"threshold\": 0.945, \"p\": 110, \"fpr\": 0.6666666666666666, \"tpr\": 1.0, \"n\": 6}, {\"threshold\": 0.946, \"p\": 110, \"fpr\": 0.6666666666666666, \"tpr\": 1.0, \"n\": 6}, {\"threshold\": 0.947, \"p\": 110, \"fpr\": 0.6666666666666666, \"tpr\": 1.0, \"n\": 6}, {\"threshold\": 0.948, \"p\": 110, \"fpr\": 0.6666666666666666, \"tpr\": 1.0, \"n\": 6}, {\"threshold\": 0.949, \"p\": 110, \"fpr\": 0.6666666666666666, \"tpr\": 1.0, \"n\": 6}, {\"threshold\": 0.95, \"p\": 110, \"fpr\": 0.6666666666666666, \"tpr\": 1.0, \"n\": 6}, {\"threshold\": 0.951, \"p\": 110, \"fpr\": 0.6666666666666666, \"tpr\": 1.0, \"n\": 6}, {\"threshold\": 0.952, \"p\": 110, \"fpr\": 0.6666666666666666, \"tpr\": 1.0, \"n\": 6}, {\"threshold\": 0.953, \"p\": 110, \"fpr\": 0.6666666666666666, \"tpr\": 1.0, \"n\": 6}, {\"threshold\": 0.954, \"p\": 110, \"fpr\": 0.6666666666666666, \"tpr\": 1.0, \"n\": 6}, {\"threshold\": 0.955, \"p\": 110, \"fpr\": 0.6666666666666666, \"tpr\": 1.0, \"n\": 6}, {\"threshold\": 0.956, \"p\": 110, \"fpr\": 0.6666666666666666, \"tpr\": 1.0, \"n\": 6}, {\"threshold\": 0.957, \"p\": 110, \"fpr\": 0.6666666666666666, \"tpr\": 1.0, \"n\": 6}, {\"threshold\": 0.958, \"p\": 110, \"fpr\": 0.6666666666666666, \"tpr\": 1.0, \"n\": 6}, {\"threshold\": 0.959, \"p\": 110, \"fpr\": 0.6666666666666666, \"tpr\": 1.0, \"n\": 6}, {\"threshold\": 0.96, \"p\": 110, \"fpr\": 0.6666666666666666, \"tpr\": 1.0, \"n\": 6}, {\"threshold\": 0.961, \"p\": 110, \"fpr\": 0.6666666666666666, \"tpr\": 1.0, \"n\": 6}, {\"threshold\": 0.962, \"p\": 110, \"fpr\": 0.6666666666666666, \"tpr\": 0.990909090909091, \"n\": 6}, {\"threshold\": 0.963, \"p\": 110, \"fpr\": 0.6666666666666666, \"tpr\": 0.990909090909091, \"n\": 6}, {\"threshold\": 0.964, \"p\": 110, \"fpr\": 0.6666666666666666, \"tpr\": 0.990909090909091, \"n\": 6}, {\"threshold\": 0.965, \"p\": 110, \"fpr\": 0.6666666666666666, \"tpr\": 0.990909090909091, \"n\": 6}, {\"threshold\": 0.966, \"p\": 110, \"fpr\": 0.6666666666666666, \"tpr\": 0.990909090909091, \"n\": 6}, {\"threshold\": 0.967, \"p\": 110, \"fpr\": 0.6666666666666666, \"tpr\": 0.990909090909091, \"n\": 6}, {\"threshold\": 0.968, \"p\": 110, \"fpr\": 0.6666666666666666, \"tpr\": 0.990909090909091, \"n\": 6}, {\"threshold\": 0.969, \"p\": 110, \"fpr\": 0.6666666666666666, \"tpr\": 0.990909090909091, \"n\": 6}, {\"threshold\": 0.97, \"p\": 110, \"fpr\": 0.6666666666666666, \"tpr\": 0.990909090909091, \"n\": 6}, {\"threshold\": 0.971, \"p\": 110, \"fpr\": 0.6666666666666666, \"tpr\": 0.990909090909091, \"n\": 6}, {\"threshold\": 0.972, \"p\": 110, \"fpr\": 0.6666666666666666, \"tpr\": 0.990909090909091, \"n\": 6}, {\"threshold\": 0.973, \"p\": 110, \"fpr\": 0.6666666666666666, \"tpr\": 0.990909090909091, \"n\": 6}, {\"threshold\": 0.974, \"p\": 110, \"fpr\": 0.6666666666666666, \"tpr\": 0.990909090909091, \"n\": 6}, {\"threshold\": 0.975, \"p\": 110, \"fpr\": 0.6666666666666666, \"tpr\": 0.990909090909091, \"n\": 6}, {\"threshold\": 0.976, \"p\": 110, \"fpr\": 0.6666666666666666, \"tpr\": 0.990909090909091, \"n\": 6}, {\"threshold\": 0.977, \"p\": 110, \"fpr\": 0.6666666666666666, \"tpr\": 0.990909090909091, \"n\": 6}, {\"threshold\": 0.978, \"p\": 110, \"fpr\": 0.6666666666666666, \"tpr\": 0.990909090909091, \"n\": 6}, {\"threshold\": 0.979, \"p\": 110, \"fpr\": 0.6666666666666666, \"tpr\": 0.990909090909091, \"n\": 6}, {\"threshold\": 0.98, \"p\": 110, \"fpr\": 0.6666666666666666, \"tpr\": 0.990909090909091, \"n\": 6}, {\"threshold\": 0.981, \"p\": 110, \"fpr\": 0.6666666666666666, \"tpr\": 0.990909090909091, \"n\": 6}, {\"threshold\": 0.982, \"p\": 110, \"fpr\": 0.6666666666666666, \"tpr\": 0.990909090909091, \"n\": 6}, {\"threshold\": 0.983, \"p\": 110, \"fpr\": 0.6666666666666666, \"tpr\": 0.990909090909091, \"n\": 6}, {\"threshold\": 0.984, \"p\": 110, \"fpr\": 0.6666666666666666, \"tpr\": 0.990909090909091, \"n\": 6}, {\"threshold\": 0.985, \"p\": 110, \"fpr\": 0.6666666666666666, \"tpr\": 0.990909090909091, \"n\": 6}, {\"threshold\": 0.986, \"p\": 110, \"fpr\": 0.6666666666666666, \"tpr\": 0.990909090909091, \"n\": 6}, {\"threshold\": 0.987, \"p\": 110, \"fpr\": 0.6666666666666666, \"tpr\": 0.990909090909091, \"n\": 6}, {\"threshold\": 0.988, \"p\": 110, \"fpr\": 0.6666666666666666, \"tpr\": 0.990909090909091, \"n\": 6}, {\"threshold\": 0.989, \"p\": 110, \"fpr\": 0.6666666666666666, \"tpr\": 0.990909090909091, \"n\": 6}, {\"threshold\": 0.99, \"p\": 110, \"fpr\": 0.6666666666666666, \"tpr\": 0.990909090909091, \"n\": 6}, {\"threshold\": 0.991, \"p\": 110, \"fpr\": 0.6666666666666666, \"tpr\": 0.9727272727272728, \"n\": 6}, {\"threshold\": 0.992, \"p\": 110, \"fpr\": 0.6666666666666666, \"tpr\": 0.9727272727272728, \"n\": 6}, {\"threshold\": 0.993, \"p\": 110, \"fpr\": 0.6666666666666666, \"tpr\": 0.9727272727272728, \"n\": 6}, {\"threshold\": 0.994, \"p\": 110, \"fpr\": 0.6666666666666666, \"tpr\": 0.9545454545454546, \"n\": 6}, {\"threshold\": 0.995, \"p\": 110, \"fpr\": 0.6666666666666666, \"tpr\": 0.9363636363636364, \"n\": 6}, {\"threshold\": 0.996, \"p\": 110, \"fpr\": 0.6666666666666666, \"tpr\": 0.9090909090909091, \"n\": 6}, {\"threshold\": 0.997, \"p\": 110, \"fpr\": 0.6666666666666666, \"tpr\": 0.9, \"n\": 6}, {\"threshold\": 0.998, \"p\": 110, \"fpr\": 0.6666666666666666, \"tpr\": 0.8727272727272727, \"n\": 6}, {\"threshold\": 0.999, \"p\": 110, \"fpr\": 0.6666666666666666, \"tpr\": 0.8454545454545455, \"n\": 6}, {\"threshold\": 1.0, \"p\": 110, \"fpr\": 0.0, \"tpr\": 0.0, \"n\": 6}]}]]}, e);\n",
       "                });\n",
       "            })();\n",
       "        "
      ]
     },
     "metadata": {},
     "output_type": "display_data"
    }
   ],
   "source": [
    "sentiment_model.show(view='Evaluation')"
   ]
  },
  {
   "cell_type": "code",
   "execution_count": 42,
   "metadata": {
    "collapsed": true
   },
   "outputs": [],
   "source": [
    "Magna_reviews['predicted_sentiment'] = sentiment_model.predict(Magna_reviews, output_type='probability')"
   ]
  },
  {
   "cell_type": "code",
   "execution_count": 43,
   "metadata": {
    "collapsed": false
   },
   "outputs": [
    {
     "data": {
      "text/html": [
       "<div style=\"max-height:1000px;max-width:1500px;overflow:auto;\"><table frame=\"box\" rules=\"cols\">\n",
       "    <tr>\n",
       "        <th style=\"padding-left: 1em; padding-right: 1em; text-align: center\">﻿productId</th>\n",
       "        <th style=\"padding-left: 1em; padding-right: 1em; text-align: center\">title</th>\n",
       "        <th style=\"padding-left: 1em; padding-right: 1em; text-align: center\">price</th>\n",
       "        <th style=\"padding-left: 1em; padding-right: 1em; text-align: center\">userId</th>\n",
       "        <th style=\"padding-left: 1em; padding-right: 1em; text-align: center\">profileName</th>\n",
       "        <th style=\"padding-left: 1em; padding-right: 1em; text-align: center\">helpfulness</th>\n",
       "        <th style=\"padding-left: 1em; padding-right: 1em; text-align: center\">score</th>\n",
       "    </tr>\n",
       "    <tr>\n",
       "        <td style=\"padding-left: 1em; padding-right: 1em; text-align: center; vertical-align: top\">B000HVVSDU</td>\n",
       "        <td style=\"padding-left: 1em; padding-right: 1em; text-align: center; vertical-align: top\">Magna Cart Personal Hand<br>Truck ...</td>\n",
       "        <td style=\"padding-left: 1em; padding-right: 1em; text-align: center; vertical-align: top\">32.98</td>\n",
       "        <td style=\"padding-left: 1em; padding-right: 1em; text-align: center; vertical-align: top\">AXAW167GEHQ6Z</td>\n",
       "        <td style=\"padding-left: 1em; padding-right: 1em; text-align: center; vertical-align: top\">Shriram Subramanian \"Ram\"</td>\n",
       "        <td style=\"padding-left: 1em; padding-right: 1em; text-align: center; vertical-align: top\">0/0</td>\n",
       "        <td style=\"padding-left: 1em; padding-right: 1em; text-align: center; vertical-align: top\">4.0</td>\n",
       "    </tr>\n",
       "    <tr>\n",
       "        <td style=\"padding-left: 1em; padding-right: 1em; text-align: center; vertical-align: top\">B000HVVSDU</td>\n",
       "        <td style=\"padding-left: 1em; padding-right: 1em; text-align: center; vertical-align: top\">Magna Cart Personal Hand<br>Truck ...</td>\n",
       "        <td style=\"padding-left: 1em; padding-right: 1em; text-align: center; vertical-align: top\">32.98</td>\n",
       "        <td style=\"padding-left: 1em; padding-right: 1em; text-align: center; vertical-align: top\">A2VPQY2WAEIKPO</td>\n",
       "        <td style=\"padding-left: 1em; padding-right: 1em; text-align: center; vertical-align: top\">G. Wurst</td>\n",
       "        <td style=\"padding-left: 1em; padding-right: 1em; text-align: center; vertical-align: top\">0/0</td>\n",
       "        <td style=\"padding-left: 1em; padding-right: 1em; text-align: center; vertical-align: top\">5.0</td>\n",
       "    </tr>\n",
       "    <tr>\n",
       "        <td style=\"padding-left: 1em; padding-right: 1em; text-align: center; vertical-align: top\">B000HVVSDU</td>\n",
       "        <td style=\"padding-left: 1em; padding-right: 1em; text-align: center; vertical-align: top\">Magna Cart Personal Hand<br>Truck ...</td>\n",
       "        <td style=\"padding-left: 1em; padding-right: 1em; text-align: center; vertical-align: top\">32.98</td>\n",
       "        <td style=\"padding-left: 1em; padding-right: 1em; text-align: center; vertical-align: top\">A2WCJVGMHC38HJ</td>\n",
       "        <td style=\"padding-left: 1em; padding-right: 1em; text-align: center; vertical-align: top\">Geoffrey Stern</td>\n",
       "        <td style=\"padding-left: 1em; padding-right: 1em; text-align: center; vertical-align: top\">0/0</td>\n",
       "        <td style=\"padding-left: 1em; padding-right: 1em; text-align: center; vertical-align: top\">4.0</td>\n",
       "    </tr>\n",
       "    <tr>\n",
       "        <td style=\"padding-left: 1em; padding-right: 1em; text-align: center; vertical-align: top\">B000HVVSDU</td>\n",
       "        <td style=\"padding-left: 1em; padding-right: 1em; text-align: center; vertical-align: top\">Magna Cart Personal Hand<br>Truck ...</td>\n",
       "        <td style=\"padding-left: 1em; padding-right: 1em; text-align: center; vertical-align: top\">32.98</td>\n",
       "        <td style=\"padding-left: 1em; padding-right: 1em; text-align: center; vertical-align: top\">A2CSB9T5OY94OQ</td>\n",
       "        <td style=\"padding-left: 1em; padding-right: 1em; text-align: center; vertical-align: top\">Angela Townson</td>\n",
       "        <td style=\"padding-left: 1em; padding-right: 1em; text-align: center; vertical-align: top\">0/0</td>\n",
       "        <td style=\"padding-left: 1em; padding-right: 1em; text-align: center; vertical-align: top\">5.0</td>\n",
       "    </tr>\n",
       "    <tr>\n",
       "        <td style=\"padding-left: 1em; padding-right: 1em; text-align: center; vertical-align: top\">B000HVVSDU</td>\n",
       "        <td style=\"padding-left: 1em; padding-right: 1em; text-align: center; vertical-align: top\">Magna Cart Personal Hand<br>Truck ...</td>\n",
       "        <td style=\"padding-left: 1em; padding-right: 1em; text-align: center; vertical-align: top\">32.98</td>\n",
       "        <td style=\"padding-left: 1em; padding-right: 1em; text-align: center; vertical-align: top\">A3VHMYI4ZHJWT5</td>\n",
       "        <td style=\"padding-left: 1em; padding-right: 1em; text-align: center; vertical-align: top\">Robert Cheng \"Big<br>Monster\" ...</td>\n",
       "        <td style=\"padding-left: 1em; padding-right: 1em; text-align: center; vertical-align: top\">0/0</td>\n",
       "        <td style=\"padding-left: 1em; padding-right: 1em; text-align: center; vertical-align: top\">4.0</td>\n",
       "    </tr>\n",
       "    <tr>\n",
       "        <td style=\"padding-left: 1em; padding-right: 1em; text-align: center; vertical-align: top\">B000HVVSDU</td>\n",
       "        <td style=\"padding-left: 1em; padding-right: 1em; text-align: center; vertical-align: top\">Magna Cart Personal Hand<br>Truck ...</td>\n",
       "        <td style=\"padding-left: 1em; padding-right: 1em; text-align: center; vertical-align: top\">32.98</td>\n",
       "        <td style=\"padding-left: 1em; padding-right: 1em; text-align: center; vertical-align: top\">A1WBPOW1SE2X4S</td>\n",
       "        <td style=\"padding-left: 1em; padding-right: 1em; text-align: center; vertical-align: top\">MM-K</td>\n",
       "        <td style=\"padding-left: 1em; padding-right: 1em; text-align: center; vertical-align: top\">0/0</td>\n",
       "        <td style=\"padding-left: 1em; padding-right: 1em; text-align: center; vertical-align: top\">5.0</td>\n",
       "    </tr>\n",
       "    <tr>\n",
       "        <td style=\"padding-left: 1em; padding-right: 1em; text-align: center; vertical-align: top\">B000HVVSDU</td>\n",
       "        <td style=\"padding-left: 1em; padding-right: 1em; text-align: center; vertical-align: top\">Magna Cart Personal Hand<br>Truck ...</td>\n",
       "        <td style=\"padding-left: 1em; padding-right: 1em; text-align: center; vertical-align: top\">32.98</td>\n",
       "        <td style=\"padding-left: 1em; padding-right: 1em; text-align: center; vertical-align: top\">A2DIV8T7LKMLGE</td>\n",
       "        <td style=\"padding-left: 1em; padding-right: 1em; text-align: center; vertical-align: top\">M. Devargas</td>\n",
       "        <td style=\"padding-left: 1em; padding-right: 1em; text-align: center; vertical-align: top\">0/0</td>\n",
       "        <td style=\"padding-left: 1em; padding-right: 1em; text-align: center; vertical-align: top\">5.0</td>\n",
       "    </tr>\n",
       "    <tr>\n",
       "        <td style=\"padding-left: 1em; padding-right: 1em; text-align: center; vertical-align: top\">B000HVVSDU</td>\n",
       "        <td style=\"padding-left: 1em; padding-right: 1em; text-align: center; vertical-align: top\">Magna Cart Personal Hand<br>Truck ...</td>\n",
       "        <td style=\"padding-left: 1em; padding-right: 1em; text-align: center; vertical-align: top\">32.98</td>\n",
       "        <td style=\"padding-left: 1em; padding-right: 1em; text-align: center; vertical-align: top\">AXPPOW676CHTW</td>\n",
       "        <td style=\"padding-left: 1em; padding-right: 1em; text-align: center; vertical-align: top\">P. Joyce<br>\"scrapbooker@heart\" ...</td>\n",
       "        <td style=\"padding-left: 1em; padding-right: 1em; text-align: center; vertical-align: top\">0/0</td>\n",
       "        <td style=\"padding-left: 1em; padding-right: 1em; text-align: center; vertical-align: top\">5.0</td>\n",
       "    </tr>\n",
       "    <tr>\n",
       "        <td style=\"padding-left: 1em; padding-right: 1em; text-align: center; vertical-align: top\">B000HVVSDU</td>\n",
       "        <td style=\"padding-left: 1em; padding-right: 1em; text-align: center; vertical-align: top\">Magna Cart Personal Hand<br>Truck ...</td>\n",
       "        <td style=\"padding-left: 1em; padding-right: 1em; text-align: center; vertical-align: top\">32.98</td>\n",
       "        <td style=\"padding-left: 1em; padding-right: 1em; text-align: center; vertical-align: top\">ACDDJ57A8MWBH</td>\n",
       "        <td style=\"padding-left: 1em; padding-right: 1em; text-align: center; vertical-align: top\">Soraya Oliveira</td>\n",
       "        <td style=\"padding-left: 1em; padding-right: 1em; text-align: center; vertical-align: top\">0/0</td>\n",
       "        <td style=\"padding-left: 1em; padding-right: 1em; text-align: center; vertical-align: top\">5.0</td>\n",
       "    </tr>\n",
       "    <tr>\n",
       "        <td style=\"padding-left: 1em; padding-right: 1em; text-align: center; vertical-align: top\">B000HVVSDU</td>\n",
       "        <td style=\"padding-left: 1em; padding-right: 1em; text-align: center; vertical-align: top\">Magna Cart Personal Hand<br>Truck ...</td>\n",
       "        <td style=\"padding-left: 1em; padding-right: 1em; text-align: center; vertical-align: top\">32.98</td>\n",
       "        <td style=\"padding-left: 1em; padding-right: 1em; text-align: center; vertical-align: top\">A29UKYVKATEUKK</td>\n",
       "        <td style=\"padding-left: 1em; padding-right: 1em; text-align: center; vertical-align: top\">M. Brady</td>\n",
       "        <td style=\"padding-left: 1em; padding-right: 1em; text-align: center; vertical-align: top\">0/0</td>\n",
       "        <td style=\"padding-left: 1em; padding-right: 1em; text-align: center; vertical-align: top\">5.0</td>\n",
       "    </tr>\n",
       "</table>\n",
       "<table frame=\"box\" rules=\"cols\">\n",
       "    <tr>\n",
       "        <th style=\"padding-left: 1em; padding-right: 1em; text-align: center\">time</th>\n",
       "        <th style=\"padding-left: 1em; padding-right: 1em; text-align: center\">summary</th>\n",
       "        <th style=\"padding-left: 1em; padding-right: 1em; text-align: center\">text</th>\n",
       "        <th style=\"padding-left: 1em; padding-right: 1em; text-align: center\">word_count</th>\n",
       "        <th style=\"padding-left: 1em; padding-right: 1em; text-align: center\">predicted_sentiment</th>\n",
       "    </tr>\n",
       "    <tr>\n",
       "        <td style=\"padding-left: 1em; padding-right: 1em; text-align: center; vertical-align: top\">1237680000</td>\n",
       "        <td style=\"padding-left: 1em; padding-right: 1em; text-align: center; vertical-align: top\">good low cost cart</td>\n",
       "        <td style=\"padding-left: 1em; padding-right: 1em; text-align: center; vertical-align: top\">good low cost cart. can<br>be used for smaller i ...</td>\n",
       "        <td style=\"padding-left: 1em; padding-right: 1em; text-align: center; vertical-align: top\">{'smaller': 1, '-150),':<br>1, 'it': 1, 'used': 1, ...</td>\n",
       "        <td style=\"padding-left: 1em; padding-right: 1em; text-align: center; vertical-align: top\">0.999970840236</td>\n",
       "    </tr>\n",
       "    <tr>\n",
       "        <td style=\"padding-left: 1em; padding-right: 1em; text-align: center; vertical-align: top\">1236038400</td>\n",
       "        <td style=\"padding-left: 1em; padding-right: 1em; text-align: center; vertical-align: top\">Handy and compact little<br>cart ...</td>\n",
       "        <td style=\"padding-left: 1em; padding-right: 1em; text-align: center; vertical-align: top\">This is an excellent<br>little cart. Well built, ...</td>\n",
       "        <td style=\"padding-left: 1em; padding-right: 1em; text-align: center; vertical-align: top\">{'and': 1, 'liked': 1,<br>'heavily': 1, 'is': 3, ...</td>\n",
       "        <td style=\"padding-left: 1em; padding-right: 1em; text-align: center; vertical-align: top\">0.999999999955</td>\n",
       "    </tr>\n",
       "    <tr>\n",
       "        <td style=\"padding-left: 1em; padding-right: 1em; text-align: center; vertical-align: top\">1233792000</td>\n",
       "        <td style=\"padding-left: 1em; padding-right: 1em; text-align: center; vertical-align: top\">Magna Cart is nifty</td>\n",
       "        <td style=\"padding-left: 1em; padding-right: 1em; text-align: center; vertical-align: top\">Pretty nifty. Opens up,<br>folds down very easil ...</td>\n",
       "        <td style=\"padding-left: 1em; padding-right: 1em; text-align: center; vertical-align: top\">{'and': 3, 'all': 1,<br>'dump': 1, 'seems': 1, ...</td>\n",
       "        <td style=\"padding-left: 1em; padding-right: 1em; text-align: center; vertical-align: top\">0.999999999568</td>\n",
       "    </tr>\n",
       "    <tr>\n",
       "        <td style=\"padding-left: 1em; padding-right: 1em; text-align: center; vertical-align: top\">1231804800</td>\n",
       "        <td style=\"padding-left: 1em; padding-right: 1em; text-align: center; vertical-align: top\">magna cart/excellent</td>\n",
       "        <td style=\"padding-left: 1em; padding-right: 1em; text-align: center; vertical-align: top\">This product is very<br>lightweight and is ...</td>\n",
       "        <td style=\"padding-left: 1em; padding-right: 1em; text-align: center; vertical-align: top\">{'and': 1, 'is': 2,<br>'recycling': 1, 'hous ...</td>\n",
       "        <td style=\"padding-left: 1em; padding-right: 1em; text-align: center; vertical-align: top\">0.999925030285</td>\n",
       "    </tr>\n",
       "    <tr>\n",
       "        <td style=\"padding-left: 1em; padding-right: 1em; text-align: center; vertical-align: top\">1231632000</td>\n",
       "        <td style=\"padding-left: 1em; padding-right: 1em; text-align: center; vertical-align: top\">check before you buy</td>\n",
       "        <td style=\"padding-left: 1em; padding-right: 1em; text-align: center; vertical-align: top\">Product arrived in a good<br>shape except one wheel ...</td>\n",
       "        <td style=\"padding-left: 1em; padding-right: 1em; text-align: center; vertical-align: top\">{'arrived': 1, 'back': 1,<br>'one': 1, 'fold': 1, ...</td>\n",
       "        <td style=\"padding-left: 1em; padding-right: 1em; text-align: center; vertical-align: top\">0.999998622314</td>\n",
       "    </tr>\n",
       "    <tr>\n",
       "        <td style=\"padding-left: 1em; padding-right: 1em; text-align: center; vertical-align: top\">1230076800</td>\n",
       "        <td style=\"padding-left: 1em; padding-right: 1em; text-align: center; vertical-align: top\">Space-saving Hand Truck</td>\n",
       "        <td style=\"padding-left: 1em; padding-right: 1em; text-align: center; vertical-align: top\">I bought this for my Dad,<br>and I am sure that he is ...</td>\n",
       "        <td style=\"padding-left: 1em; padding-right: 1em; text-align: center; vertical-align: top\">{'and': 3, 'love': 1,<br>'myself!': 1, 'am': 2, ...</td>\n",
       "        <td style=\"padding-left: 1em; padding-right: 1em; text-align: center; vertical-align: top\">0.999999890176</td>\n",
       "    </tr>\n",
       "    <tr>\n",
       "        <td style=\"padding-left: 1em; padding-right: 1em; text-align: center; vertical-align: top\">1229904000</td>\n",
       "        <td style=\"padding-left: 1em; padding-right: 1em; text-align: center; vertical-align: top\">Cart Hand Truck Review</td>\n",
       "        <td style=\"padding-left: 1em; padding-right: 1em; text-align: center; vertical-align: top\">I purchased the Magna<br>Cart Personal Hand Truck ...</td>\n",
       "        <td style=\"padding-left: 1em; padding-right: 1em; text-align: center; vertical-align: top\">{'price!': 1, 'move': 2,<br>'house.': 1, 'it': 2, ...</td>\n",
       "        <td style=\"padding-left: 1em; padding-right: 1em; text-align: center; vertical-align: top\">0.999997054507</td>\n",
       "    </tr>\n",
       "    <tr>\n",
       "        <td style=\"padding-left: 1em; padding-right: 1em; text-align: center; vertical-align: top\">1225756800</td>\n",
       "        <td style=\"padding-left: 1em; padding-right: 1em; text-align: center; vertical-align: top\">Magna is Magnificent!!</td>\n",
       "        <td style=\"padding-left: 1em; padding-right: 1em; text-align: center; vertical-align: top\">This cart is<br>outstanding!! It is easy ...</td>\n",
       "        <td style=\"padding-left: 1em; padding-right: 1em; text-align: center; vertical-align: top\">{'and': 2, 'this': 1,<br>'use,': 1, 'for': 1, ...</td>\n",
       "        <td style=\"padding-left: 1em; padding-right: 1em; text-align: center; vertical-align: top\">0.9999523522</td>\n",
       "    </tr>\n",
       "    <tr>\n",
       "        <td style=\"padding-left: 1em; padding-right: 1em; text-align: center; vertical-align: top\">1225411200</td>\n",
       "        <td style=\"padding-left: 1em; padding-right: 1em; text-align: center; vertical-align: top\">sturdy and compact</td>\n",
       "        <td style=\"padding-left: 1em; padding-right: 1em; text-align: center; vertical-align: top\">it's hevy duty, folds<br>nicely to fit anywhere. ...</td>\n",
       "        <td style=\"padding-left: 1em; padding-right: 1em; text-align: center; vertical-align: top\">{'heavy': 1, 'it.': 1,<br>'great': 1, 'shopping.': ...</td>\n",
       "        <td style=\"padding-left: 1em; padding-right: 1em; text-align: center; vertical-align: top\">0.999912078092</td>\n",
       "    </tr>\n",
       "    <tr>\n",
       "        <td style=\"padding-left: 1em; padding-right: 1em; text-align: center; vertical-align: top\">1219881600</td>\n",
       "        <td style=\"padding-left: 1em; padding-right: 1em; text-align: center; vertical-align: top\">Great buy</td>\n",
       "        <td style=\"padding-left: 1em; padding-right: 1em; text-align: center; vertical-align: top\">I bought this item to use<br>to move my daughter to ...</td>\n",
       "        <td style=\"padding-left: 1em; padding-right: 1em; text-align: center; vertical-align: top\">{'and': 1, 'load': 1,<br>'move': 1, 'it': 2, ...</td>\n",
       "        <td style=\"padding-left: 1em; padding-right: 1em; text-align: center; vertical-align: top\">0.99993354392</td>\n",
       "    </tr>\n",
       "</table>\n",
       "[10 rows x 12 columns]<br/>\n",
       "</div>"
      ],
      "text/plain": [
       "Columns:\n",
       "\t﻿productId\tstr\n",
       "\ttitle\tstr\n",
       "\tprice\tstr\n",
       "\tuserId\tstr\n",
       "\tprofileName\tstr\n",
       "\thelpfulness\tstr\n",
       "\tscore\tfloat\n",
       "\ttime\tint\n",
       "\tsummary\tstr\n",
       "\ttext\tstr\n",
       "\tword_count\tdict\n",
       "\tpredicted_sentiment\tfloat\n",
       "\n",
       "Rows: 10\n",
       "\n",
       "Data:\n",
       "+------------+--------------------------------+-------+----------------+\n",
       "| ﻿productId |             title              | price |     userId     |\n",
       "+------------+--------------------------------+-------+----------------+\n",
       "| B000HVVSDU | Magna Cart Personal Hand Truck | 32.98 | AXAW167GEHQ6Z  |\n",
       "| B000HVVSDU | Magna Cart Personal Hand Truck | 32.98 | A2VPQY2WAEIKPO |\n",
       "| B000HVVSDU | Magna Cart Personal Hand Truck | 32.98 | A2WCJVGMHC38HJ |\n",
       "| B000HVVSDU | Magna Cart Personal Hand Truck | 32.98 | A2CSB9T5OY94OQ |\n",
       "| B000HVVSDU | Magna Cart Personal Hand Truck | 32.98 | A3VHMYI4ZHJWT5 |\n",
       "| B000HVVSDU | Magna Cart Personal Hand Truck | 32.98 | A1WBPOW1SE2X4S |\n",
       "| B000HVVSDU | Magna Cart Personal Hand Truck | 32.98 | A2DIV8T7LKMLGE |\n",
       "| B000HVVSDU | Magna Cart Personal Hand Truck | 32.98 | AXPPOW676CHTW  |\n",
       "| B000HVVSDU | Magna Cart Personal Hand Truck | 32.98 | ACDDJ57A8MWBH  |\n",
       "| B000HVVSDU | Magna Cart Personal Hand Truck | 32.98 | A29UKYVKATEUKK |\n",
       "+------------+--------------------------------+-------+----------------+\n",
       "+------------------------------+-------------+-------+------------+\n",
       "|         profileName          | helpfulness | score |    time    |\n",
       "+------------------------------+-------------+-------+------------+\n",
       "|  Shriram Subramanian \"Ram\"   |     0/0     |  4.0  | 1237680000 |\n",
       "|           G. Wurst           |     0/0     |  5.0  | 1236038400 |\n",
       "|        Geoffrey Stern        |     0/0     |  4.0  | 1233792000 |\n",
       "|        Angela Townson        |     0/0     |  5.0  | 1231804800 |\n",
       "|  Robert Cheng \"Big Monster\"  |     0/0     |  4.0  | 1231632000 |\n",
       "|             MM-K             |     0/0     |  5.0  | 1230076800 |\n",
       "|         M. Devargas          |     0/0     |  5.0  | 1229904000 |\n",
       "| P. Joyce \"scrapbooker@heart\" |     0/0     |  5.0  | 1225756800 |\n",
       "|       Soraya Oliveira        |     0/0     |  5.0  | 1225411200 |\n",
       "|           M. Brady           |     0/0     |  5.0  | 1219881600 |\n",
       "+------------------------------+-------------+-------+------------+\n",
       "+-------------------------------+-------------------------------+\n",
       "|            summary            |              text             |\n",
       "+-------------------------------+-------------------------------+\n",
       "|       good low cost cart      | good low cost cart. can be... |\n",
       "| Handy and compact little cart | This is an excellent littl... |\n",
       "|      Magna Cart is nifty      | Pretty nifty. Opens up, fo... |\n",
       "|      magna cart/excellent     | This product is very light... |\n",
       "|      check before you buy     | Product arrived in a good ... |\n",
       "|    Space-saving Hand Truck    | I bought this for my Dad, ... |\n",
       "|     Cart Hand Truck Review    | I purchased the Magna Cart... |\n",
       "|     Magna is Magnificent!!    | This cart is outstanding!!... |\n",
       "|       sturdy and compact      | it's hevy duty, folds nice... |\n",
       "|           Great buy           | I bought this item to use ... |\n",
       "+-------------------------------+-------------------------------+\n",
       "+-------------------------------+---------------------+\n",
       "|           word_count          | predicted_sentiment |\n",
       "+-------------------------------+---------------------+\n",
       "| {'smaller': 1, '-150),': 1... |    0.999970840236   |\n",
       "| {'and': 1, 'liked': 1, 'he... |    0.999999999955   |\n",
       "| {'and': 3, 'all': 1, 'dump... |    0.999999999568   |\n",
       "| {'and': 1, 'is': 2, 'recyc... |    0.999925030285   |\n",
       "| {'arrived': 1, 'back': 1, ... |    0.999998622314   |\n",
       "| {'and': 3, 'love': 1, 'mys... |    0.999999890176   |\n",
       "| {'price!': 1, 'move': 2, '... |    0.999997054507   |\n",
       "| {'and': 2, 'this': 1, 'use... |     0.9999523522    |\n",
       "| {'heavy': 1, 'it.': 1, 'gr... |    0.999912078092   |\n",
       "| {'and': 1, 'load': 1, 'mov... |    0.99993354392    |\n",
       "+-------------------------------+---------------------+\n",
       "[10 rows x 12 columns]"
      ]
     },
     "execution_count": 43,
     "metadata": {},
     "output_type": "execute_result"
    }
   ],
   "source": [
    "Magna_reviews.head()"
   ]
  },
  {
   "cell_type": "code",
   "execution_count": 44,
   "metadata": {
    "collapsed": true
   },
   "outputs": [],
   "source": [
    "Magna_reviews = Magna_reviews.sort('predicted_sentiment', ascending=False)"
   ]
  },
  {
   "cell_type": "code",
   "execution_count": 45,
   "metadata": {
    "collapsed": false
   },
   "outputs": [
    {
     "data": {
      "text/html": [
       "<div style=\"max-height:1000px;max-width:1500px;overflow:auto;\"><table frame=\"box\" rules=\"cols\">\n",
       "    <tr>\n",
       "        <th style=\"padding-left: 1em; padding-right: 1em; text-align: center\">﻿productId</th>\n",
       "        <th style=\"padding-left: 1em; padding-right: 1em; text-align: center\">title</th>\n",
       "        <th style=\"padding-left: 1em; padding-right: 1em; text-align: center\">price</th>\n",
       "        <th style=\"padding-left: 1em; padding-right: 1em; text-align: center\">userId</th>\n",
       "        <th style=\"padding-left: 1em; padding-right: 1em; text-align: center\">profileName</th>\n",
       "        <th style=\"padding-left: 1em; padding-right: 1em; text-align: center\">helpfulness</th>\n",
       "        <th style=\"padding-left: 1em; padding-right: 1em; text-align: center\">score</th>\n",
       "    </tr>\n",
       "    <tr>\n",
       "        <td style=\"padding-left: 1em; padding-right: 1em; text-align: center; vertical-align: top\">B000HVVSDU</td>\n",
       "        <td style=\"padding-left: 1em; padding-right: 1em; text-align: center; vertical-align: top\">Magna Cart Personal Hand<br>Truck ...</td>\n",
       "        <td style=\"padding-left: 1em; padding-right: 1em; text-align: center; vertical-align: top\">32.98</td>\n",
       "        <td style=\"padding-left: 1em; padding-right: 1em; text-align: center; vertical-align: top\">A1QOE0DJBC4990</td>\n",
       "        <td style=\"padding-left: 1em; padding-right: 1em; text-align: center; vertical-align: top\">The Kat</td>\n",
       "        <td style=\"padding-left: 1em; padding-right: 1em; text-align: center; vertical-align: top\">1/1</td>\n",
       "        <td style=\"padding-left: 1em; padding-right: 1em; text-align: center; vertical-align: top\">5.0</td>\n",
       "    </tr>\n",
       "    <tr>\n",
       "        <td style=\"padding-left: 1em; padding-right: 1em; text-align: center; vertical-align: top\">B000HVVSDU</td>\n",
       "        <td style=\"padding-left: 1em; padding-right: 1em; text-align: center; vertical-align: top\">Magna Cart Personal Hand<br>Truck ...</td>\n",
       "        <td style=\"padding-left: 1em; padding-right: 1em; text-align: center; vertical-align: top\">32.98</td>\n",
       "        <td style=\"padding-left: 1em; padding-right: 1em; text-align: center; vertical-align: top\">A13E48YZ09FEMR</td>\n",
       "        <td style=\"padding-left: 1em; padding-right: 1em; text-align: center; vertical-align: top\">D. Abston \"Two TN Bugs\"</td>\n",
       "        <td style=\"padding-left: 1em; padding-right: 1em; text-align: center; vertical-align: top\">1/1</td>\n",
       "        <td style=\"padding-left: 1em; padding-right: 1em; text-align: center; vertical-align: top\">4.0</td>\n",
       "    </tr>\n",
       "    <tr>\n",
       "        <td style=\"padding-left: 1em; padding-right: 1em; text-align: center; vertical-align: top\">B000HVVSDU</td>\n",
       "        <td style=\"padding-left: 1em; padding-right: 1em; text-align: center; vertical-align: top\">Magna Cart Personal Hand<br>Truck ...</td>\n",
       "        <td style=\"padding-left: 1em; padding-right: 1em; text-align: center; vertical-align: top\">32.98</td>\n",
       "        <td style=\"padding-left: 1em; padding-right: 1em; text-align: center; vertical-align: top\">A2K92CAIONEFR7</td>\n",
       "        <td style=\"padding-left: 1em; padding-right: 1em; text-align: center; vertical-align: top\">S. Wolf</td>\n",
       "        <td style=\"padding-left: 1em; padding-right: 1em; text-align: center; vertical-align: top\">5/6</td>\n",
       "        <td style=\"padding-left: 1em; padding-right: 1em; text-align: center; vertical-align: top\">5.0</td>\n",
       "    </tr>\n",
       "    <tr>\n",
       "        <td style=\"padding-left: 1em; padding-right: 1em; text-align: center; vertical-align: top\">B000HVVSDU</td>\n",
       "        <td style=\"padding-left: 1em; padding-right: 1em; text-align: center; vertical-align: top\">Magna Cart Personal Hand<br>Truck ...</td>\n",
       "        <td style=\"padding-left: 1em; padding-right: 1em; text-align: center; vertical-align: top\">32.98</td>\n",
       "        <td style=\"padding-left: 1em; padding-right: 1em; text-align: center; vertical-align: top\">AMRMK86X3PKXD</td>\n",
       "        <td style=\"padding-left: 1em; padding-right: 1em; text-align: center; vertical-align: top\">R. Thomasson</td>\n",
       "        <td style=\"padding-left: 1em; padding-right: 1em; text-align: center; vertical-align: top\">2/2</td>\n",
       "        <td style=\"padding-left: 1em; padding-right: 1em; text-align: center; vertical-align: top\">5.0</td>\n",
       "    </tr>\n",
       "    <tr>\n",
       "        <td style=\"padding-left: 1em; padding-right: 1em; text-align: center; vertical-align: top\">B000HVVSDU</td>\n",
       "        <td style=\"padding-left: 1em; padding-right: 1em; text-align: center; vertical-align: top\">Magna Cart Personal Hand<br>Truck ...</td>\n",
       "        <td style=\"padding-left: 1em; padding-right: 1em; text-align: center; vertical-align: top\">32.98</td>\n",
       "        <td style=\"padding-left: 1em; padding-right: 1em; text-align: center; vertical-align: top\">A1IJRMXQEZAW78</td>\n",
       "        <td style=\"padding-left: 1em; padding-right: 1em; text-align: center; vertical-align: top\">Daniel B. Koffman</td>\n",
       "        <td style=\"padding-left: 1em; padding-right: 1em; text-align: center; vertical-align: top\">0/0</td>\n",
       "        <td style=\"padding-left: 1em; padding-right: 1em; text-align: center; vertical-align: top\">5.0</td>\n",
       "    </tr>\n",
       "    <tr>\n",
       "        <td style=\"padding-left: 1em; padding-right: 1em; text-align: center; vertical-align: top\">B000HVVSDU</td>\n",
       "        <td style=\"padding-left: 1em; padding-right: 1em; text-align: center; vertical-align: top\">Magna Cart Personal Hand<br>Truck ...</td>\n",
       "        <td style=\"padding-left: 1em; padding-right: 1em; text-align: center; vertical-align: top\">32.98</td>\n",
       "        <td style=\"padding-left: 1em; padding-right: 1em; text-align: center; vertical-align: top\">A1DBFDDT7NPGC2</td>\n",
       "        <td style=\"padding-left: 1em; padding-right: 1em; text-align: center; vertical-align: top\">PhotoGuy</td>\n",
       "        <td style=\"padding-left: 1em; padding-right: 1em; text-align: center; vertical-align: top\">0/0</td>\n",
       "        <td style=\"padding-left: 1em; padding-right: 1em; text-align: center; vertical-align: top\">5.0</td>\n",
       "    </tr>\n",
       "    <tr>\n",
       "        <td style=\"padding-left: 1em; padding-right: 1em; text-align: center; vertical-align: top\">B000HVVSDU</td>\n",
       "        <td style=\"padding-left: 1em; padding-right: 1em; text-align: center; vertical-align: top\">Magna Cart Personal Hand<br>Truck ...</td>\n",
       "        <td style=\"padding-left: 1em; padding-right: 1em; text-align: center; vertical-align: top\">32.98</td>\n",
       "        <td style=\"padding-left: 1em; padding-right: 1em; text-align: center; vertical-align: top\">A3EGN0K7QNW80K</td>\n",
       "        <td style=\"padding-left: 1em; padding-right: 1em; text-align: center; vertical-align: top\">Steve</td>\n",
       "        <td style=\"padding-left: 1em; padding-right: 1em; text-align: center; vertical-align: top\">0/0</td>\n",
       "        <td style=\"padding-left: 1em; padding-right: 1em; text-align: center; vertical-align: top\">5.0</td>\n",
       "    </tr>\n",
       "    <tr>\n",
       "        <td style=\"padding-left: 1em; padding-right: 1em; text-align: center; vertical-align: top\">B000HVVSDU</td>\n",
       "        <td style=\"padding-left: 1em; padding-right: 1em; text-align: center; vertical-align: top\">Magna Cart Personal Hand<br>Truck ...</td>\n",
       "        <td style=\"padding-left: 1em; padding-right: 1em; text-align: center; vertical-align: top\">32.98</td>\n",
       "        <td style=\"padding-left: 1em; padding-right: 1em; text-align: center; vertical-align: top\">ABQWMANK4AR63</td>\n",
       "        <td style=\"padding-left: 1em; padding-right: 1em; text-align: center; vertical-align: top\">John S. Dean \"John\"</td>\n",
       "        <td style=\"padding-left: 1em; padding-right: 1em; text-align: center; vertical-align: top\">1/1</td>\n",
       "        <td style=\"padding-left: 1em; padding-right: 1em; text-align: center; vertical-align: top\">4.0</td>\n",
       "    </tr>\n",
       "    <tr>\n",
       "        <td style=\"padding-left: 1em; padding-right: 1em; text-align: center; vertical-align: top\">B000HVVSDU</td>\n",
       "        <td style=\"padding-left: 1em; padding-right: 1em; text-align: center; vertical-align: top\">Magna Cart Personal Hand<br>Truck ...</td>\n",
       "        <td style=\"padding-left: 1em; padding-right: 1em; text-align: center; vertical-align: top\">32.98</td>\n",
       "        <td style=\"padding-left: 1em; padding-right: 1em; text-align: center; vertical-align: top\">ARHCLBR1MPGCS</td>\n",
       "        <td style=\"padding-left: 1em; padding-right: 1em; text-align: center; vertical-align: top\">Lisa</td>\n",
       "        <td style=\"padding-left: 1em; padding-right: 1em; text-align: center; vertical-align: top\">0/0</td>\n",
       "        <td style=\"padding-left: 1em; padding-right: 1em; text-align: center; vertical-align: top\">5.0</td>\n",
       "    </tr>\n",
       "    <tr>\n",
       "        <td style=\"padding-left: 1em; padding-right: 1em; text-align: center; vertical-align: top\">B000HVVSDU</td>\n",
       "        <td style=\"padding-left: 1em; padding-right: 1em; text-align: center; vertical-align: top\">Magna Cart Personal Hand<br>Truck ...</td>\n",
       "        <td style=\"padding-left: 1em; padding-right: 1em; text-align: center; vertical-align: top\">32.98</td>\n",
       "        <td style=\"padding-left: 1em; padding-right: 1em; text-align: center; vertical-align: top\">A2BT0VSRSO56G9</td>\n",
       "        <td style=\"padding-left: 1em; padding-right: 1em; text-align: center; vertical-align: top\">J. Alberts \"JA1962\"</td>\n",
       "        <td style=\"padding-left: 1em; padding-right: 1em; text-align: center; vertical-align: top\">1/1</td>\n",
       "        <td style=\"padding-left: 1em; padding-right: 1em; text-align: center; vertical-align: top\">4.0</td>\n",
       "    </tr>\n",
       "</table>\n",
       "<table frame=\"box\" rules=\"cols\">\n",
       "    <tr>\n",
       "        <th style=\"padding-left: 1em; padding-right: 1em; text-align: center\">time</th>\n",
       "        <th style=\"padding-left: 1em; padding-right: 1em; text-align: center\">summary</th>\n",
       "        <th style=\"padding-left: 1em; padding-right: 1em; text-align: center\">text</th>\n",
       "        <th style=\"padding-left: 1em; padding-right: 1em; text-align: center\">word_count</th>\n",
       "        <th style=\"padding-left: 1em; padding-right: 1em; text-align: center\">predicted_sentiment</th>\n",
       "    </tr>\n",
       "    <tr>\n",
       "        <td style=\"padding-left: 1em; padding-right: 1em; text-align: center; vertical-align: top\">1219968000</td>\n",
       "        <td style=\"padding-left: 1em; padding-right: 1em; text-align: center; vertical-align: top\">Amazing!</td>\n",
       "        <td style=\"padding-left: 1em; padding-right: 1em; text-align: center; vertical-align: top\">I was moving and<br>desperately needed a  ...</td>\n",
       "        <td style=\"padding-left: 1em; padding-right: 1em; text-align: center; vertical-align: top\">{'just': 1, 'when': 1,<br>'hand.': 1, 'move': 1, ...</td>\n",
       "        <td style=\"padding-left: 1em; padding-right: 1em; text-align: center; vertical-align: top\">1.0</td>\n",
       "    </tr>\n",
       "    <tr>\n",
       "        <td style=\"padding-left: 1em; padding-right: 1em; text-align: center; vertical-align: top\">1256169600</td>\n",
       "        <td style=\"padding-left: 1em; padding-right: 1em; text-align: center; vertical-align: top\">Good value - get some<br>bungee cords! ...</td>\n",
       "        <td style=\"padding-left: 1em; padding-right: 1em; text-align: center; vertical-align: top\">I love this little hand<br>truck for carrying boxes ...</td>\n",
       "        <td style=\"padding-left: 1em; padding-right: 1em; text-align: center; vertical-align: top\">{'office': 2, \"don't\": 1,<br>'-': 1, 'move': 1, ...</td>\n",
       "        <td style=\"padding-left: 1em; padding-right: 1em; text-align: center; vertical-align: top\">1.0</td>\n",
       "    </tr>\n",
       "    <tr>\n",
       "        <td style=\"padding-left: 1em; padding-right: 1em; text-align: center; vertical-align: top\">1172534400</td>\n",
       "        <td style=\"padding-left: 1em; padding-right: 1em; text-align: center; vertical-align: top\">Surprisingly well built</td>\n",
       "        <td style=\"padding-left: 1em; padding-right: 1em; text-align: center; vertical-align: top\">I just received this<br>cart, which was purch ...</td>\n",
       "        <td style=\"padding-left: 1em; padding-right: 1em; text-align: center; vertical-align: top\">{'taller': 1, 'office':<br>1, 'over': 2, 'move': 1, ...</td>\n",
       "        <td style=\"padding-left: 1em; padding-right: 1em; text-align: center; vertical-align: top\">1.0</td>\n",
       "    </tr>\n",
       "    <tr>\n",
       "        <td style=\"padding-left: 1em; padding-right: 1em; text-align: center; vertical-align: top\">1213833600</td>\n",
       "        <td style=\"padding-left: 1em; padding-right: 1em; text-align: center; vertical-align: top\">The Greatest Gadget Since<br>the \"Church Key\" ...</td>\n",
       "        <td style=\"padding-left: 1em; padding-right: 1em; text-align: center; vertical-align: top\">I was looking for<br>something to haul boxes, ...</td>\n",
       "        <td style=\"padding-left: 1em; padding-right: 1em; text-align: center; vertical-align: top\">{'all': 1, 'breaking': 1,<br>'seconds,': 1, 'wall.': ...</td>\n",
       "        <td style=\"padding-left: 1em; padding-right: 1em; text-align: center; vertical-align: top\">1.0</td>\n",
       "    </tr>\n",
       "    <tr>\n",
       "        <td style=\"padding-left: 1em; padding-right: 1em; text-align: center; vertical-align: top\">1314921600</td>\n",
       "        <td style=\"padding-left: 1em; padding-right: 1em; text-align: center; vertical-align: top\">Great Product made my<br>work so much easier ...</td>\n",
       "        <td style=\"padding-left: 1em; padding-right: 1em; text-align: center; vertical-align: top\">Howdy. I am a veteran<br>exhibitor of over 400 ...</td>\n",
       "        <td style=\"padding-left: 1em; padding-right: 1em; text-align: center; vertical-align: top\">{'show': 1, 'over': 1,<br>'soon': 1, 'while,': 1, ...</td>\n",
       "        <td style=\"padding-left: 1em; padding-right: 1em; text-align: center; vertical-align: top\">1.0</td>\n",
       "    </tr>\n",
       "    <tr>\n",
       "        <td style=\"padding-left: 1em; padding-right: 1em; text-align: center; vertical-align: top\">1286150400</td>\n",
       "        <td style=\"padding-left: 1em; padding-right: 1em; text-align: center; vertical-align: top\">Excellent Product</td>\n",
       "        <td style=\"padding-left: 1em; padding-right: 1em; text-align: center; vertical-align: top\">I've used mine<br>extensively for carrying ...</td>\n",
       "        <td style=\"padding-left: 1em; padding-right: 1em; text-align: center; vertical-align: top\">{'just': 2, 'show': 1,<br>'trade': 1, 'saved': 1, ...</td>\n",
       "        <td style=\"padding-left: 1em; padding-right: 1em; text-align: center; vertical-align: top\">1.0</td>\n",
       "    </tr>\n",
       "    <tr>\n",
       "        <td style=\"padding-left: 1em; padding-right: 1em; text-align: center; vertical-align: top\">1347235200</td>\n",
       "        <td style=\"padding-left: 1em; padding-right: 1em; text-align: center; vertical-align: top\">A TIME AND ENERGY<br>SAVER...STURDY AND ...</td>\n",
       "        <td style=\"padding-left: 1em; padding-right: 1em; text-align: center; vertical-align: top\">There isn't much I can<br>say with so many great ...</td>\n",
       "        <td style=\"padding-left: 1em; padding-right: 1em; text-align: center; vertical-align: top\">{'move': 1, 'held': 1,<br>'compact.': 1, 'before': ...</td>\n",
       "        <td style=\"padding-left: 1em; padding-right: 1em; text-align: center; vertical-align: top\">1.0</td>\n",
       "    </tr>\n",
       "    <tr>\n",
       "        <td style=\"padding-left: 1em; padding-right: 1em; text-align: center; vertical-align: top\">1270166400</td>\n",
       "        <td style=\"padding-left: 1em; padding-right: 1em; text-align: center; vertical-align: top\">Outstanding</td>\n",
       "        <td style=\"padding-left: 1em; padding-right: 1em; text-align: center; vertical-align: top\">Great value for such a<br>little truck, and ...</td>\n",
       "        <td style=\"padding-left: 1em; padding-right: 1em; text-align: center; vertical-align: top\">{'being': 1, 'reviewers':<br>1, 'move': 1, 'go': 1, ...</td>\n",
       "        <td style=\"padding-left: 1em; padding-right: 1em; text-align: center; vertical-align: top\">1.0</td>\n",
       "    </tr>\n",
       "    <tr>\n",
       "        <td style=\"padding-left: 1em; padding-right: 1em; text-align: center; vertical-align: top\">1358208000</td>\n",
       "        <td style=\"padding-left: 1em; padding-right: 1em; text-align: center; vertical-align: top\">Especially like this<br>brand. ...</td>\n",
       "        <td style=\"padding-left: 1em; padding-right: 1em; text-align: center; vertical-align: top\">I still have and use a<br>&amp;#34;Magna Cart&amp;#34; I ...</td>\n",
       "        <td style=\"padding-left: 1em; padding-right: 1em; text-align: center; vertical-align: top\">{'move': 1, 'years': 1,<br>'tree.': 1, 'go': 1, ...</td>\n",
       "        <td style=\"padding-left: 1em; padding-right: 1em; text-align: center; vertical-align: top\">1.0</td>\n",
       "    </tr>\n",
       "    <tr>\n",
       "        <td style=\"padding-left: 1em; padding-right: 1em; text-align: center; vertical-align: top\">1265760000</td>\n",
       "        <td style=\"padding-left: 1em; padding-right: 1em; text-align: center; vertical-align: top\">Very useful!</td>\n",
       "        <td style=\"padding-left: 1em; padding-right: 1em; text-align: center; vertical-align: top\">I bought the Magna Cart<br>(would Charlemagne be ...</td>\n",
       "        <td style=\"padding-left: 1em; padding-right: 1em; text-align: center; vertical-align: top\">{'less': 1, 'when': 2,<br>'over': 1, 'batteries': ...</td>\n",
       "        <td style=\"padding-left: 1em; padding-right: 1em; text-align: center; vertical-align: top\">1.0</td>\n",
       "    </tr>\n",
       "</table>\n",
       "[10 rows x 12 columns]<br/>\n",
       "</div>"
      ],
      "text/plain": [
       "Columns:\n",
       "\t﻿productId\tstr\n",
       "\ttitle\tstr\n",
       "\tprice\tstr\n",
       "\tuserId\tstr\n",
       "\tprofileName\tstr\n",
       "\thelpfulness\tstr\n",
       "\tscore\tfloat\n",
       "\ttime\tint\n",
       "\tsummary\tstr\n",
       "\ttext\tstr\n",
       "\tword_count\tdict\n",
       "\tpredicted_sentiment\tfloat\n",
       "\n",
       "Rows: 10\n",
       "\n",
       "Data:\n",
       "+------------+--------------------------------+-------+----------------+\n",
       "| ﻿productId |             title              | price |     userId     |\n",
       "+------------+--------------------------------+-------+----------------+\n",
       "| B000HVVSDU | Magna Cart Personal Hand Truck | 32.98 | A1QOE0DJBC4990 |\n",
       "| B000HVVSDU | Magna Cart Personal Hand Truck | 32.98 | A13E48YZ09FEMR |\n",
       "| B000HVVSDU | Magna Cart Personal Hand Truck | 32.98 | A2K92CAIONEFR7 |\n",
       "| B000HVVSDU | Magna Cart Personal Hand Truck | 32.98 | AMRMK86X3PKXD  |\n",
       "| B000HVVSDU | Magna Cart Personal Hand Truck | 32.98 | A1IJRMXQEZAW78 |\n",
       "| B000HVVSDU | Magna Cart Personal Hand Truck | 32.98 | A1DBFDDT7NPGC2 |\n",
       "| B000HVVSDU | Magna Cart Personal Hand Truck | 32.98 | A3EGN0K7QNW80K |\n",
       "| B000HVVSDU | Magna Cart Personal Hand Truck | 32.98 | ABQWMANK4AR63  |\n",
       "| B000HVVSDU | Magna Cart Personal Hand Truck | 32.98 | ARHCLBR1MPGCS  |\n",
       "| B000HVVSDU | Magna Cart Personal Hand Truck | 32.98 | A2BT0VSRSO56G9 |\n",
       "+------------+--------------------------------+-------+----------------+\n",
       "+-------------------------+-------------+-------+------------+\n",
       "|       profileName       | helpfulness | score |    time    |\n",
       "+-------------------------+-------------+-------+------------+\n",
       "|         The Kat         |     1/1     |  5.0  | 1219968000 |\n",
       "| D. Abston \"Two TN Bugs\" |     1/1     |  4.0  | 1256169600 |\n",
       "|         S. Wolf         |     5/6     |  5.0  | 1172534400 |\n",
       "|       R. Thomasson      |     2/2     |  5.0  | 1213833600 |\n",
       "|    Daniel B. Koffman    |     0/0     |  5.0  | 1314921600 |\n",
       "|         PhotoGuy        |     0/0     |  5.0  | 1286150400 |\n",
       "|          Steve          |     0/0     |  5.0  | 1347235200 |\n",
       "|   John S. Dean \"John\"   |     1/1     |  4.0  | 1270166400 |\n",
       "|           Lisa          |     0/0     |  5.0  | 1358208000 |\n",
       "|   J. Alberts \"JA1962\"   |     1/1     |  4.0  | 1265760000 |\n",
       "+-------------------------+-------------+-------+------------+\n",
       "+-------------------------------+-------------------------------+\n",
       "|            summary            |              text             |\n",
       "+-------------------------------+-------------------------------+\n",
       "|            Amazing!           | I was moving and desperate... |\n",
       "| Good value - get some bung... | I love this little hand tr... |\n",
       "|    Surprisingly well built    | I just received this cart,... |\n",
       "| The Greatest Gadget Since ... | I was looking for somethin... |\n",
       "| Great Product made my work... | Howdy. I am a veteran exhi... |\n",
       "|       Excellent Product       | I've used mine extensively... |\n",
       "| A TIME AND ENERGY SAVER...... | There isn't much I can say... |\n",
       "|          Outstanding          | Great value for such a lit... |\n",
       "|  Especially like this brand.  | I still have and use a &#3... |\n",
       "|          Very useful!         | I bought the Magna Cart (w... |\n",
       "+-------------------------------+-------------------------------+\n",
       "+-------------------------------+---------------------+\n",
       "|           word_count          | predicted_sentiment |\n",
       "+-------------------------------+---------------------+\n",
       "| {'just': 1, 'when': 1, 'ha... |         1.0         |\n",
       "| {'office': 2, \"don't\": 1, ... |         1.0         |\n",
       "| {'taller': 1, 'office': 1,... |         1.0         |\n",
       "| {'all': 1, 'breaking': 1, ... |         1.0         |\n",
       "| {'show': 1, 'over': 1, 'so... |         1.0         |\n",
       "| {'just': 2, 'show': 1, 'tr... |         1.0         |\n",
       "| {'move': 1, 'held': 1, 'co... |         1.0         |\n",
       "| {'being': 1, 'reviewers': ... |         1.0         |\n",
       "| {'move': 1, 'years': 1, 't... |         1.0         |\n",
       "| {'less': 1, 'when': 2, 'ov... |         1.0         |\n",
       "+-------------------------------+---------------------+\n",
       "[10 rows x 12 columns]"
      ]
     },
     "execution_count": 45,
     "metadata": {},
     "output_type": "execute_result"
    }
   ],
   "source": [
    "Magna_reviews.head()"
   ]
  },
  {
   "cell_type": "code",
   "execution_count": 46,
   "metadata": {
    "collapsed": false
   },
   "outputs": [
    {
     "data": {
      "text/plain": [
       "\"I was moving and desperately needed a hand cart as I had lots of boxes. This cart is light, compact but very sturdy and unbelievably well priced. I was able to move 3-4 boxes at a time and that makes a huge difference rather than carry one box at a time by hand. Initially when the cart arrived, it kind of looked flimsy and I wasnt sure it'll be able to handle the heavy boxes (books!). But it worked out really well. Its a little bit tricky to tilt the cart with the heavy boxes. But if you put your foot against the wheel and then push the box to tilt it, its easy. I just wish they had made the handle longer. I am 6ft tall and once the cart is tilted I needed to stoop while I pushed it around. Anyways, five stars without a doubt.\""
      ]
     },
     "execution_count": 46,
     "metadata": {},
     "output_type": "execute_result"
    }
   ],
   "source": [
    "Magna_reviews[0]['text']"
   ]
  },
  {
   "cell_type": "code",
   "execution_count": 47,
   "metadata": {
    "collapsed": false
   },
   "outputs": [
    {
     "data": {
      "text/plain": [
       "\"I love this little hand truck for carrying boxes and supplies into the office and from the office to the classroom. I think $30 - $35 is a great value. I did see a cheaper model at Big Lots but seems like it did not have an adjustable handle. Will probably use this to move heavier things around the house when the time comes.Lessons learned:*You'll need bungee cords to keep the boxes or items from shifting*The handle doesn't always stay put when you push it in. Don't let a child play with it! My daughter was checking it out right after I opened the box, and the handle popped out without pushing the red release bar, and the bottom smashed to the floor right onto her toes. It wasn't bad but could have been worse.\""
      ]
     },
     "execution_count": 47,
     "metadata": {},
     "output_type": "execute_result"
    }
   ],
   "source": [
    "Magna_reviews[1]['text']"
   ]
  },
  {
   "cell_type": "code",
   "execution_count": 48,
   "metadata": {
    "collapsed": false
   },
   "outputs": [
    {
     "data": {
      "text/plain": [
       "'Because I have osteoarthritis and walk with a cane, I bought this to transport items too heavy or to large to carry easily. First time I tried this cart, I had difficulty wrapping oddly-shaped, soft items with bungee cords because there was not enough places to attach the cords, plus the bottom area was hard to reach underneath a box on the cart. The worst part was trying to tip the cart back, a real struggle with the wheels positioned in back rather than under the bottom shelf. Once the cart was back far enough to roll, it kept slipping flat again. Going down stairs was a trial, and then, halfway up the block, one soft, though heavy, bag of garbage and cat litter slipped out of the cords and on to the sidewalk. I ended up dragging that bag with one hand to the garbage area, while trying to wheel the cart and hold onto my cane with the other hand. The cart and the remaining box of recycled paper tipped over sideways going down the one stair to the garbage area. Even though this did not work for me, a woman on the street stopped me to ask where I found this. Presumably, she is young and agile enough not to have the same problems as I did.'"
      ]
     },
     "execution_count": 48,
     "metadata": {},
     "output_type": "execute_result"
    }
   ],
   "source": [
    "Magna_reviews[-1]['text']"
   ]
  },
  {
   "cell_type": "code",
   "execution_count": 49,
   "metadata": {
    "collapsed": false
   },
   "outputs": [
    {
     "data": {
      "text/plain": [
       "\"While it's true that this hand truck can handle 150 lbs, it has two major flaws that made me regret buying it. First of all, the handle bar is too low for me. I'm not THAT tall (5'11''). But it's extremely inconvenient to move around if you have to either hold it with your fingertips, or bend over. Particularly if you actually reach the load limit.Second, because of its cute folding mechanism, the item is naturally pretty weak. Don't try to move a heavy load down the step in your entrance, for example. Sooner or later you are going to inflict structural damage on the hinges where it folds. Mine simply broke one day.To sum it up, this is only recommended as a backup hand truck for smaller jobs around the apartment or house.\""
      ]
     },
     "execution_count": 49,
     "metadata": {},
     "output_type": "execute_result"
    }
   ],
   "source": [
    "Magna_reviews[-2]['text']"
   ]
  }
 ],
 "metadata": {
  "celltoolbar": "Raw Cell Format",
  "kernelspec": {
   "display_name": "Python 2",
   "language": "python",
   "name": "python2"
  },
  "language_info": {
   "codemirror_mode": {
    "name": "ipython",
    "version": 2
   },
   "file_extension": ".py",
   "mimetype": "text/x-python",
   "name": "python",
   "nbconvert_exporter": "python",
   "pygments_lexer": "ipython2",
   "version": "2.7.11"
  }
 },
 "nbformat": 4,
 "nbformat_minor": 0
}
