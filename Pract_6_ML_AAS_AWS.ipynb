{
 "cells": [
  {
   "cell_type": "code",
   "execution_count": 1,
   "metadata": {
    "collapsed": false
   },
   "outputs": [
    {
     "data": {
      "text/plain": [
       "'Code'"
      ]
     },
     "execution_count": 1,
     "metadata": {},
     "output_type": "execute_result"
    }
   ],
   "source": [
    "# set product key\n",
    "import graphlab\n",
    "#graphlab.product_key.set_product_key\n",
    "\n",
    "# output active product key\n",
    "graphlab.product_key.get_product_key()"
   ]
  },
  {
   "cell_type": "code",
   "execution_count": 2,
   "metadata": {
    "collapsed": false
   },
   "outputs": [
    {
     "name": "stderr",
     "output_type": "stream",
     "text": [
      "[INFO] graphlab.cython.cy_server: GraphLab Create v2.1 started. Logging: /tmp/graphlab_server_1517755556.log\n",
      "INFO:graphlab.cython.cy_server:GraphLab Create v2.1 started. Logging: /tmp/graphlab_server_1517755556.log\n"
     ]
    },
    {
     "data": {
      "text/html": [
       "<pre>Unable to parse line \"107,Parking lot near Boys and Girls Club,\"Rochester, New York\",8/19/2015,\"Around 11:20 p.m. Wednesday on Genesee Street, a gunman shot into a crowd that gathered outside the Rochester Boys and Girls Club after a basketball game, killing three people and wo...\"</pre>"
      ],
      "text/plain": [
       "Unable to parse line \"107,Parking lot near Boys and Girls Club,\"Rochester, New York\",8/19/2015,\"Around 11:20 p.m. Wednesday on Genesee Street, a gunman shot into a crowd that gathered outside the Rochester Boys and Girls Club after a basketball game, killing three people and wo...\""
      ]
     },
     "metadata": {},
     "output_type": "display_data"
    },
    {
     "data": {
      "text/html": [
       "<pre>Unable to parse line \"Drive-by, Gang involvement\",3,4,7,Unknown,Black American or African American,Male,43.1696837,-77.614337\"</pre>"
      ],
      "text/plain": [
       "Unable to parse line \"Drive-by, Gang involvement\",3,4,7,Unknown,Black American or African American,Male,43.1696837,-77.614337\""
      ]
     },
     "metadata": {},
     "output_type": "display_data"
    },
    {
     "data": {
      "text/html": [
       "<pre>Unable to parse line \"124,Annual motorcycle event in Newark,\"Newark, New Jersey\",5/10/2015,\"The shooting occurred during an annual event marking the opening of the motorcycle season. More than 2,000 people were in attendance when gunfire erupted at South 16th Street and 19th Av...\"</pre>"
      ],
      "text/plain": [
       "Unable to parse line \"124,Annual motorcycle event in Newark,\"Newark, New Jersey\",5/10/2015,\"The shooting occurred during an annual event marking the opening of the motorcycle season. More than 2,000 people were in attendance when gunfire erupted at South 16th Street and 19th Av...\""
      ]
     },
     "metadata": {},
     "output_type": "display_data"
    },
    {
     "data": {
      "text/html": [
       "<pre>Unable to parse line \"The shooting was a result of a long-running feud between two other against the shooter and the 16-year-old.\",1,3,4,Unknown,Black American or African American,Male,40.73169648,-74.18417699\"</pre>"
      ],
      "text/plain": [
       "Unable to parse line \"The shooting was a result of a long-running feud between two other against the shooter and the 16-year-old.\",1,3,4,Unknown,Black American or African American,Male,40.73169648,-74.18417699\""
      ]
     },
     "metadata": {},
     "output_type": "display_data"
    },
    {
     "data": {
      "text/html": [
       "<pre>Unable to parse line \"159,Marysville-Pilchuck High School shooting,\"Marysville, Washington\",10/24/2014,\"Jaylen Fryberg, 15, using a .40-caliber Berretta, shot five \"</pre>"
      ],
      "text/plain": [
       "Unable to parse line \"159,Marysville-Pilchuck High School shooting,\"Marysville, Washington\",10/24/2014,\"Jaylen Fryberg, 15, using a .40-caliber Berretta, shot five \""
      ]
     },
     "metadata": {},
     "output_type": "display_data"
    },
    {
     "data": {
      "text/html": [
       "<pre>Unable to parse line \"students at Marysville High School, including two of his cousins and three friends, killing all but one. Fryberg arranged to meet them for lunch in the school cafeteria by text. Fryberg was reportedly well-liked at the school and there was not believed to ...\"</pre>"
      ],
      "text/plain": [
       "Unable to parse line \"students at Marysville High School, including two of his cousins and three friends, killing all but one. Fryberg arranged to meet them for lunch in the school cafeteria by text. Fryberg was reportedly well-liked at the school and there was not believed to ...\""
      ]
     },
     "metadata": {},
     "output_type": "display_data"
    },
    {
     "data": {
      "text/html": [
       "<pre>6 lines failed to parse correctly</pre>"
      ],
      "text/plain": [
       "6 lines failed to parse correctly"
      ]
     },
     "metadata": {},
     "output_type": "display_data"
    },
    {
     "data": {
      "text/html": [
       "<pre>Finished parsing file /home/ubuntu/coursera-notebooks/course-1/Mass-Shootings-Dataset.csv</pre>"
      ],
      "text/plain": [
       "Finished parsing file /home/ubuntu/coursera-notebooks/course-1/Mass-Shootings-Dataset.csv"
      ]
     },
     "metadata": {},
     "output_type": "display_data"
    },
    {
     "data": {
      "text/html": [
       "<pre>Parsing completed. Parsed 100 lines in 0.029524 secs.</pre>"
      ],
      "text/plain": [
       "Parsing completed. Parsed 100 lines in 0.029524 secs."
      ]
     },
     "metadata": {},
     "output_type": "display_data"
    },
    {
     "name": "stdout",
     "output_type": "stream",
     "text": [
      "This non-commercial license of GraphLab Create for academic use is assigned to shpinkovski@opu.ua and will expire on November 13, 2018.\n",
      "------------------------------------------------------"
     ]
    },
    {
     "data": {
      "text/html": [
       "<pre>Unable to parse line \"107,Parking lot near Boys and Girls Club,\"Rochester, New York\",8/19/2015,\"Around 11:20 p.m. Wednesday on Genesee Street, a gunman shot into a crowd that gathered outside the Rochester Boys and Girls Club after a basketball game, killing three people and wo...\"</pre>"
      ],
      "text/plain": [
       "Unable to parse line \"107,Parking lot near Boys and Girls Club,\"Rochester, New York\",8/19/2015,\"Around 11:20 p.m. Wednesday on Genesee Street, a gunman shot into a crowd that gathered outside the Rochester Boys and Girls Club after a basketball game, killing three people and wo...\""
      ]
     },
     "metadata": {},
     "output_type": "display_data"
    },
    {
     "data": {
      "text/html": [
       "<pre>Unable to parse line \"Drive-by, Gang involvement\",3,4,7,Unknown,Black American or African American,Male,43.1696837,-77.614337\"</pre>"
      ],
      "text/plain": [
       "Unable to parse line \"Drive-by, Gang involvement\",3,4,7,Unknown,Black American or African American,Male,43.1696837,-77.614337\""
      ]
     },
     "metadata": {},
     "output_type": "display_data"
    },
    {
     "data": {
      "text/html": [
       "<pre>Unable to parse line \"124,Annual motorcycle event in Newark,\"Newark, New Jersey\",5/10/2015,\"The shooting occurred during an annual event marking the opening of the motorcycle season. More than 2,000 people were in attendance when gunfire erupted at South 16th Street and 19th Av...\"</pre>"
      ],
      "text/plain": [
       "Unable to parse line \"124,Annual motorcycle event in Newark,\"Newark, New Jersey\",5/10/2015,\"The shooting occurred during an annual event marking the opening of the motorcycle season. More than 2,000 people were in attendance when gunfire erupted at South 16th Street and 19th Av...\""
      ]
     },
     "metadata": {},
     "output_type": "display_data"
    },
    {
     "data": {
      "text/html": [
       "<pre>Unable to parse line \"The shooting was a result of a long-running feud between two other against the shooter and the 16-year-old.\",1,3,4,Unknown,Black American or African American,Male,40.73169648,-74.18417699\"</pre>"
      ],
      "text/plain": [
       "Unable to parse line \"The shooting was a result of a long-running feud between two other against the shooter and the 16-year-old.\",1,3,4,Unknown,Black American or African American,Male,40.73169648,-74.18417699\""
      ]
     },
     "metadata": {},
     "output_type": "display_data"
    },
    {
     "data": {
      "text/html": [
       "<pre>Unable to parse line \"159,Marysville-Pilchuck High School shooting,\"Marysville, Washington\",10/24/2014,\"Jaylen Fryberg, 15, using a .40-caliber Berretta, shot five \"</pre>"
      ],
      "text/plain": [
       "Unable to parse line \"159,Marysville-Pilchuck High School shooting,\"Marysville, Washington\",10/24/2014,\"Jaylen Fryberg, 15, using a .40-caliber Berretta, shot five \""
      ]
     },
     "metadata": {},
     "output_type": "display_data"
    },
    {
     "data": {
      "text/html": [
       "<pre>Unable to parse line \"students at Marysville High School, including two of his cousins and three friends, killing all but one. Fryberg arranged to meet them for lunch in the school cafeteria by text. Fryberg was reportedly well-liked at the school and there was not believed to ...\"</pre>"
      ],
      "text/plain": [
       "Unable to parse line \"students at Marysville High School, including two of his cousins and three friends, killing all but one. Fryberg arranged to meet them for lunch in the school cafeteria by text. Fryberg was reportedly well-liked at the school and there was not believed to ...\""
      ]
     },
     "metadata": {},
     "output_type": "display_data"
    },
    {
     "data": {
      "text/html": [
       "<pre>Read 395 lines. Lines per second: 19126.5</pre>"
      ],
      "text/plain": [
       "Read 395 lines. Lines per second: 19126.5"
      ]
     },
     "metadata": {},
     "output_type": "display_data"
    },
    {
     "data": {
      "text/html": [
       "<pre>6 lines failed to parse correctly</pre>"
      ],
      "text/plain": [
       "6 lines failed to parse correctly"
      ]
     },
     "metadata": {},
     "output_type": "display_data"
    },
    {
     "data": {
      "text/html": [
       "<pre>Finished parsing file /home/ubuntu/coursera-notebooks/course-1/Mass-Shootings-Dataset.csv</pre>"
      ],
      "text/plain": [
       "Finished parsing file /home/ubuntu/coursera-notebooks/course-1/Mass-Shootings-Dataset.csv"
      ]
     },
     "metadata": {},
     "output_type": "display_data"
    },
    {
     "data": {
      "text/html": [
       "<pre>Parsing completed. Parsed 395 lines in 0.022515 secs.</pre>"
      ],
      "text/plain": [
       "Parsing completed. Parsed 395 lines in 0.022515 secs."
      ]
     },
     "metadata": {},
     "output_type": "display_data"
    },
    {
     "name": "stdout",
     "output_type": "stream",
     "text": [
      "\n",
      "Inferred types from first 100 line(s) of file as \n",
      "column_type_hints=[int,str,str,str,str,int,int,int,str,str,str,float,float]\n",
      "If parsing fails due to incorrect types, you can correct\n",
      "the inferred type list above and pass it to read_csv in\n",
      "the column_type_hints argument\n",
      "------------------------------------------------------\n"
     ]
    }
   ],
   "source": [
    "data = graphlab.SFrame('Mass-Shootings-Dataset.csv')"
   ]
  },
  {
   "cell_type": "markdown",
   "metadata": {},
   "source": [
    "1. Считать данные из набора. Создать таблицу data только с интересующими столбцами\n",
    "Title\n",
    "Summary"
   ]
  },
  {
   "cell_type": "code",
   "execution_count": 3,
   "metadata": {
    "collapsed": false
   },
   "outputs": [
    {
     "data": {
      "text/html": [
       "<div style=\"max-height:1000px;max-width:1500px;overflow:auto;\"><table frame=\"box\" rules=\"cols\">\n",
       "    <tr>\n",
       "        <th style=\"padding-left: 1em; padding-right: 1em; text-align: center\">Title</th>\n",
       "        <th style=\"padding-left: 1em; padding-right: 1em; text-align: center\">Summary</th>\n",
       "    </tr>\n",
       "    <tr>\n",
       "        <td style=\"padding-left: 1em; padding-right: 1em; text-align: center; vertical-align: top\">Las Vegas Strip mass<br>shooting ...</td>\n",
       "        <td style=\"padding-left: 1em; padding-right: 1em; text-align: center; vertical-align: top\"></td>\n",
       "    </tr>\n",
       "    <tr>\n",
       "        <td style=\"padding-left: 1em; padding-right: 1em; text-align: center; vertical-align: top\">San Francisco UPS<br>shooting ...</td>\n",
       "        <td style=\"padding-left: 1em; padding-right: 1em; text-align: center; vertical-align: top\">Jimmy Lam, 38, fatally<br>shot three coworkers and ...</td>\n",
       "    </tr>\n",
       "    <tr>\n",
       "        <td style=\"padding-left: 1em; padding-right: 1em; text-align: center; vertical-align: top\">Pennsylvania supermarket<br>shooting ...</td>\n",
       "        <td style=\"padding-left: 1em; padding-right: 1em; text-align: center; vertical-align: top\">Randy Stair, a 24-year-<br>old worker at Weis ...</td>\n",
       "    </tr>\n",
       "    <tr>\n",
       "        <td style=\"padding-left: 1em; padding-right: 1em; text-align: center; vertical-align: top\">Florida awning<br>manufacturer shooting ...</td>\n",
       "        <td style=\"padding-left: 1em; padding-right: 1em; text-align: center; vertical-align: top\">John Robert Neumann, Jr.,<br>45, a former employee of ...</td>\n",
       "    </tr>\n",
       "    <tr>\n",
       "        <td style=\"padding-left: 1em; padding-right: 1em; text-align: center; vertical-align: top\">Rural Ohio nursing home<br>shooting ...</td>\n",
       "        <td style=\"padding-left: 1em; padding-right: 1em; text-align: center; vertical-align: top\">Thomas Hartless, 43, shot<br>and killed a former ...</td>\n",
       "    </tr>\n",
       "    <tr>\n",
       "        <td style=\"padding-left: 1em; padding-right: 1em; text-align: center; vertical-align: top\">Fresno downtown shooting</td>\n",
       "        <td style=\"padding-left: 1em; padding-right: 1em; text-align: center; vertical-align: top\">Kori Ali Muhammad, 39,<br>opened fire along a ...</td>\n",
       "    </tr>\n",
       "    <tr>\n",
       "        <td style=\"padding-left: 1em; padding-right: 1em; text-align: center; vertical-align: top\">Fort Lauderdale airport<br>shooting ...</td>\n",
       "        <td style=\"padding-left: 1em; padding-right: 1em; text-align: center; vertical-align: top\">Esteban Santiago, 26,<br>flew from Alaska to Fort ...</td>\n",
       "    </tr>\n",
       "    <tr>\n",
       "        <td style=\"padding-left: 1em; padding-right: 1em; text-align: center; vertical-align: top\">Cascade Mall shooting</td>\n",
       "        <td style=\"padding-left: 1em; padding-right: 1em; text-align: center; vertical-align: top\">Arcan Cetin, 20, killed a<br>teen girl and three w ...</td>\n",
       "    </tr>\n",
       "    <tr>\n",
       "        <td style=\"padding-left: 1em; padding-right: 1em; text-align: center; vertical-align: top\">Baton Rouge police<br>shooting ...</td>\n",
       "        <td style=\"padding-left: 1em; padding-right: 1em; text-align: center; vertical-align: top\">Gavin Long, a former<br>Marine who served in ...</td>\n",
       "    </tr>\n",
       "    <tr>\n",
       "        <td style=\"padding-left: 1em; padding-right: 1em; text-align: center; vertical-align: top\">Dallas police shooting</td>\n",
       "        <td style=\"padding-left: 1em; padding-right: 1em; text-align: center; vertical-align: top\">Micah Xavier Johnson, a<br>25-year-old Army vete ...</td>\n",
       "    </tr>\n",
       "</table>\n",
       "[395 rows x 2 columns]<br/>Note: Only the head of the SFrame is printed.<br/>You can use print_rows(num_rows=m, num_columns=n) to print more rows and columns.\n",
       "</div>"
      ],
      "text/plain": [
       "Columns:\n",
       "\tTitle\tstr\n",
       "\tSummary\tstr\n",
       "\n",
       "Rows: 395\n",
       "\n",
       "Data:\n",
       "+-------------------------------+-------------------------------+\n",
       "|             Title             |            Summary            |\n",
       "+-------------------------------+-------------------------------+\n",
       "| Las Vegas Strip mass shooting |                               |\n",
       "|   San Francisco UPS shooting  | Jimmy Lam, 38, fatally sho... |\n",
       "| Pennsylvania supermarket s... | Randy Stair, a 24-year-old... |\n",
       "| Florida awning manufacture... | John Robert Neumann, Jr., ... |\n",
       "| Rural Ohio nursing home sh... | Thomas Hartless, 43, shot ... |\n",
       "|    Fresno downtown shooting   | Kori Ali Muhammad, 39, ope... |\n",
       "| Fort Lauderdale airport sh... | Esteban Santiago, 26, flew... |\n",
       "|     Cascade Mall shooting     | Arcan Cetin, 20, killed a ... |\n",
       "|  Baton Rouge police shooting  | Gavin Long, a former Marin... |\n",
       "|     Dallas police shooting    | Micah Xavier Johnson, a 25... |\n",
       "+-------------------------------+-------------------------------+\n",
       "[395 rows x 2 columns]\n",
       "Note: Only the head of the SFrame is printed.\n",
       "You can use print_rows(num_rows=m, num_columns=n) to print more rows and columns."
      ]
     },
     "execution_count": 3,
     "metadata": {},
     "output_type": "execute_result"
    }
   ],
   "source": [
    "products = graphlab.SFrame()\n",
    "products['Title'] = data['Title']\n",
    "products['Summary'] = data['Summary']\n",
    "products"
   ]
  },
  {
   "cell_type": "code",
   "execution_count": 4,
   "metadata": {
    "collapsed": false
   },
   "outputs": [
    {
     "data": {
      "text/html": [
       "<div style=\"max-height:1000px;max-width:1500px;overflow:auto;\"><table frame=\"box\" rules=\"cols\">\n",
       "    <tr>\n",
       "        <th style=\"padding-left: 1em; padding-right: 1em; text-align: center\">S#</th>\n",
       "        <th style=\"padding-left: 1em; padding-right: 1em; text-align: center\">Title</th>\n",
       "        <th style=\"padding-left: 1em; padding-right: 1em; text-align: center\">Location</th>\n",
       "        <th style=\"padding-left: 1em; padding-right: 1em; text-align: center\">Date</th>\n",
       "        <th style=\"padding-left: 1em; padding-right: 1em; text-align: center\">Summary</th>\n",
       "        <th style=\"padding-left: 1em; padding-right: 1em; text-align: center\">Fatalities</th>\n",
       "    </tr>\n",
       "    <tr>\n",
       "        <td style=\"padding-left: 1em; padding-right: 1em; text-align: center; vertical-align: top\">1</td>\n",
       "        <td style=\"padding-left: 1em; padding-right: 1em; text-align: center; vertical-align: top\">Las Vegas Strip mass<br>shooting ...</td>\n",
       "        <td style=\"padding-left: 1em; padding-right: 1em; text-align: center; vertical-align: top\">Las Vegas, NV</td>\n",
       "        <td style=\"padding-left: 1em; padding-right: 1em; text-align: center; vertical-align: top\">10/1/2017</td>\n",
       "        <td style=\"padding-left: 1em; padding-right: 1em; text-align: center; vertical-align: top\"></td>\n",
       "        <td style=\"padding-left: 1em; padding-right: 1em; text-align: center; vertical-align: top\">58</td>\n",
       "    </tr>\n",
       "    <tr>\n",
       "        <td style=\"padding-left: 1em; padding-right: 1em; text-align: center; vertical-align: top\">2</td>\n",
       "        <td style=\"padding-left: 1em; padding-right: 1em; text-align: center; vertical-align: top\">San Francisco UPS<br>shooting ...</td>\n",
       "        <td style=\"padding-left: 1em; padding-right: 1em; text-align: center; vertical-align: top\">San Francisco, CA</td>\n",
       "        <td style=\"padding-left: 1em; padding-right: 1em; text-align: center; vertical-align: top\">6/14/2017</td>\n",
       "        <td style=\"padding-left: 1em; padding-right: 1em; text-align: center; vertical-align: top\">Jimmy Lam, 38, fatally<br>shot three coworkers and ...</td>\n",
       "        <td style=\"padding-left: 1em; padding-right: 1em; text-align: center; vertical-align: top\">3</td>\n",
       "    </tr>\n",
       "    <tr>\n",
       "        <td style=\"padding-left: 1em; padding-right: 1em; text-align: center; vertical-align: top\">3</td>\n",
       "        <td style=\"padding-left: 1em; padding-right: 1em; text-align: center; vertical-align: top\">Pennsylvania supermarket<br>shooting ...</td>\n",
       "        <td style=\"padding-left: 1em; padding-right: 1em; text-align: center; vertical-align: top\">Tunkhannock, PA</td>\n",
       "        <td style=\"padding-left: 1em; padding-right: 1em; text-align: center; vertical-align: top\">6/7/2017</td>\n",
       "        <td style=\"padding-left: 1em; padding-right: 1em; text-align: center; vertical-align: top\">Randy Stair, a 24-year-<br>old worker at Weis ...</td>\n",
       "        <td style=\"padding-left: 1em; padding-right: 1em; text-align: center; vertical-align: top\">3</td>\n",
       "    </tr>\n",
       "    <tr>\n",
       "        <td style=\"padding-left: 1em; padding-right: 1em; text-align: center; vertical-align: top\">4</td>\n",
       "        <td style=\"padding-left: 1em; padding-right: 1em; text-align: center; vertical-align: top\">Florida awning<br>manufacturer shooting ...</td>\n",
       "        <td style=\"padding-left: 1em; padding-right: 1em; text-align: center; vertical-align: top\">Orlando, Florida</td>\n",
       "        <td style=\"padding-left: 1em; padding-right: 1em; text-align: center; vertical-align: top\">6/5/2017</td>\n",
       "        <td style=\"padding-left: 1em; padding-right: 1em; text-align: center; vertical-align: top\">John Robert Neumann, Jr.,<br>45, a former employee of ...</td>\n",
       "        <td style=\"padding-left: 1em; padding-right: 1em; text-align: center; vertical-align: top\">5</td>\n",
       "    </tr>\n",
       "    <tr>\n",
       "        <td style=\"padding-left: 1em; padding-right: 1em; text-align: center; vertical-align: top\">5</td>\n",
       "        <td style=\"padding-left: 1em; padding-right: 1em; text-align: center; vertical-align: top\">Rural Ohio nursing home<br>shooting ...</td>\n",
       "        <td style=\"padding-left: 1em; padding-right: 1em; text-align: center; vertical-align: top\">Kirkersville, Ohio</td>\n",
       "        <td style=\"padding-left: 1em; padding-right: 1em; text-align: center; vertical-align: top\">5/12/2017</td>\n",
       "        <td style=\"padding-left: 1em; padding-right: 1em; text-align: center; vertical-align: top\">Thomas Hartless, 43, shot<br>and killed a former ...</td>\n",
       "        <td style=\"padding-left: 1em; padding-right: 1em; text-align: center; vertical-align: top\">3</td>\n",
       "    </tr>\n",
       "    <tr>\n",
       "        <td style=\"padding-left: 1em; padding-right: 1em; text-align: center; vertical-align: top\">6</td>\n",
       "        <td style=\"padding-left: 1em; padding-right: 1em; text-align: center; vertical-align: top\">Fresno downtown shooting</td>\n",
       "        <td style=\"padding-left: 1em; padding-right: 1em; text-align: center; vertical-align: top\">Fresno, California</td>\n",
       "        <td style=\"padding-left: 1em; padding-right: 1em; text-align: center; vertical-align: top\">4/18/2017</td>\n",
       "        <td style=\"padding-left: 1em; padding-right: 1em; text-align: center; vertical-align: top\">Kori Ali Muhammad, 39,<br>opened fire along a ...</td>\n",
       "        <td style=\"padding-left: 1em; padding-right: 1em; text-align: center; vertical-align: top\">3</td>\n",
       "    </tr>\n",
       "    <tr>\n",
       "        <td style=\"padding-left: 1em; padding-right: 1em; text-align: center; vertical-align: top\">7</td>\n",
       "        <td style=\"padding-left: 1em; padding-right: 1em; text-align: center; vertical-align: top\">Fort Lauderdale airport<br>shooting ...</td>\n",
       "        <td style=\"padding-left: 1em; padding-right: 1em; text-align: center; vertical-align: top\">Fort Lauderdale, Florida</td>\n",
       "        <td style=\"padding-left: 1em; padding-right: 1em; text-align: center; vertical-align: top\">1/6/2017</td>\n",
       "        <td style=\"padding-left: 1em; padding-right: 1em; text-align: center; vertical-align: top\">Esteban Santiago, 26,<br>flew from Alaska to Fort ...</td>\n",
       "        <td style=\"padding-left: 1em; padding-right: 1em; text-align: center; vertical-align: top\">5</td>\n",
       "    </tr>\n",
       "    <tr>\n",
       "        <td style=\"padding-left: 1em; padding-right: 1em; text-align: center; vertical-align: top\">8</td>\n",
       "        <td style=\"padding-left: 1em; padding-right: 1em; text-align: center; vertical-align: top\">Cascade Mall shooting</td>\n",
       "        <td style=\"padding-left: 1em; padding-right: 1em; text-align: center; vertical-align: top\">Burlington, WA</td>\n",
       "        <td style=\"padding-left: 1em; padding-right: 1em; text-align: center; vertical-align: top\">9/23/2016</td>\n",
       "        <td style=\"padding-left: 1em; padding-right: 1em; text-align: center; vertical-align: top\">Arcan Cetin, 20, killed a<br>teen girl and three w ...</td>\n",
       "        <td style=\"padding-left: 1em; padding-right: 1em; text-align: center; vertical-align: top\">5</td>\n",
       "    </tr>\n",
       "    <tr>\n",
       "        <td style=\"padding-left: 1em; padding-right: 1em; text-align: center; vertical-align: top\">9</td>\n",
       "        <td style=\"padding-left: 1em; padding-right: 1em; text-align: center; vertical-align: top\">Baton Rouge police<br>shooting ...</td>\n",
       "        <td style=\"padding-left: 1em; padding-right: 1em; text-align: center; vertical-align: top\">Baton Rouge, LA</td>\n",
       "        <td style=\"padding-left: 1em; padding-right: 1em; text-align: center; vertical-align: top\">7/17/2016</td>\n",
       "        <td style=\"padding-left: 1em; padding-right: 1em; text-align: center; vertical-align: top\">Gavin Long, a former<br>Marine who served in ...</td>\n",
       "        <td style=\"padding-left: 1em; padding-right: 1em; text-align: center; vertical-align: top\">3</td>\n",
       "    </tr>\n",
       "    <tr>\n",
       "        <td style=\"padding-left: 1em; padding-right: 1em; text-align: center; vertical-align: top\">10</td>\n",
       "        <td style=\"padding-left: 1em; padding-right: 1em; text-align: center; vertical-align: top\">Dallas police shooting</td>\n",
       "        <td style=\"padding-left: 1em; padding-right: 1em; text-align: center; vertical-align: top\">Dallas, Texas</td>\n",
       "        <td style=\"padding-left: 1em; padding-right: 1em; text-align: center; vertical-align: top\">7/7/2016</td>\n",
       "        <td style=\"padding-left: 1em; padding-right: 1em; text-align: center; vertical-align: top\">Micah Xavier Johnson, a<br>25-year-old Army vete ...</td>\n",
       "        <td style=\"padding-left: 1em; padding-right: 1em; text-align: center; vertical-align: top\">5</td>\n",
       "    </tr>\n",
       "</table>\n",
       "<table frame=\"box\" rules=\"cols\">\n",
       "    <tr>\n",
       "        <th style=\"padding-left: 1em; padding-right: 1em; text-align: center\">Injured</th>\n",
       "        <th style=\"padding-left: 1em; padding-right: 1em; text-align: center\">Total victims</th>\n",
       "        <th style=\"padding-left: 1em; padding-right: 1em; text-align: center\">Mental Health Issues</th>\n",
       "        <th style=\"padding-left: 1em; padding-right: 1em; text-align: center\">Race</th>\n",
       "        <th style=\"padding-left: 1em; padding-right: 1em; text-align: center\">Gender</th>\n",
       "        <th style=\"padding-left: 1em; padding-right: 1em; text-align: center\">Latitude</th>\n",
       "        <th style=\"padding-left: 1em; padding-right: 1em; text-align: center\">Longitude</th>\n",
       "    </tr>\n",
       "    <tr>\n",
       "        <td style=\"padding-left: 1em; padding-right: 1em; text-align: center; vertical-align: top\">515</td>\n",
       "        <td style=\"padding-left: 1em; padding-right: 1em; text-align: center; vertical-align: top\">573</td>\n",
       "        <td style=\"padding-left: 1em; padding-right: 1em; text-align: center; vertical-align: top\">Unclear</td>\n",
       "        <td style=\"padding-left: 1em; padding-right: 1em; text-align: center; vertical-align: top\"></td>\n",
       "        <td style=\"padding-left: 1em; padding-right: 1em; text-align: center; vertical-align: top\"></td>\n",
       "        <td style=\"padding-left: 1em; padding-right: 1em; text-align: center; vertical-align: top\">None</td>\n",
       "        <td style=\"padding-left: 1em; padding-right: 1em; text-align: center; vertical-align: top\">None</td>\n",
       "    </tr>\n",
       "    <tr>\n",
       "        <td style=\"padding-left: 1em; padding-right: 1em; text-align: center; vertical-align: top\">2</td>\n",
       "        <td style=\"padding-left: 1em; padding-right: 1em; text-align: center; vertical-align: top\">5</td>\n",
       "        <td style=\"padding-left: 1em; padding-right: 1em; text-align: center; vertical-align: top\">Yes</td>\n",
       "        <td style=\"padding-left: 1em; padding-right: 1em; text-align: center; vertical-align: top\">Asian</td>\n",
       "        <td style=\"padding-left: 1em; padding-right: 1em; text-align: center; vertical-align: top\">M</td>\n",
       "        <td style=\"padding-left: 1em; padding-right: 1em; text-align: center; vertical-align: top\">None</td>\n",
       "        <td style=\"padding-left: 1em; padding-right: 1em; text-align: center; vertical-align: top\">None</td>\n",
       "    </tr>\n",
       "    <tr>\n",
       "        <td style=\"padding-left: 1em; padding-right: 1em; text-align: center; vertical-align: top\">0</td>\n",
       "        <td style=\"padding-left: 1em; padding-right: 1em; text-align: center; vertical-align: top\">3</td>\n",
       "        <td style=\"padding-left: 1em; padding-right: 1em; text-align: center; vertical-align: top\">Unclear</td>\n",
       "        <td style=\"padding-left: 1em; padding-right: 1em; text-align: center; vertical-align: top\">White</td>\n",
       "        <td style=\"padding-left: 1em; padding-right: 1em; text-align: center; vertical-align: top\">M</td>\n",
       "        <td style=\"padding-left: 1em; padding-right: 1em; text-align: center; vertical-align: top\">None</td>\n",
       "        <td style=\"padding-left: 1em; padding-right: 1em; text-align: center; vertical-align: top\">None</td>\n",
       "    </tr>\n",
       "    <tr>\n",
       "        <td style=\"padding-left: 1em; padding-right: 1em; text-align: center; vertical-align: top\">0</td>\n",
       "        <td style=\"padding-left: 1em; padding-right: 1em; text-align: center; vertical-align: top\">5</td>\n",
       "        <td style=\"padding-left: 1em; padding-right: 1em; text-align: center; vertical-align: top\">Unclear</td>\n",
       "        <td style=\"padding-left: 1em; padding-right: 1em; text-align: center; vertical-align: top\"></td>\n",
       "        <td style=\"padding-left: 1em; padding-right: 1em; text-align: center; vertical-align: top\">M</td>\n",
       "        <td style=\"padding-left: 1em; padding-right: 1em; text-align: center; vertical-align: top\">None</td>\n",
       "        <td style=\"padding-left: 1em; padding-right: 1em; text-align: center; vertical-align: top\">None</td>\n",
       "    </tr>\n",
       "    <tr>\n",
       "        <td style=\"padding-left: 1em; padding-right: 1em; text-align: center; vertical-align: top\">0</td>\n",
       "        <td style=\"padding-left: 1em; padding-right: 1em; text-align: center; vertical-align: top\">3</td>\n",
       "        <td style=\"padding-left: 1em; padding-right: 1em; text-align: center; vertical-align: top\">Yes</td>\n",
       "        <td style=\"padding-left: 1em; padding-right: 1em; text-align: center; vertical-align: top\">White</td>\n",
       "        <td style=\"padding-left: 1em; padding-right: 1em; text-align: center; vertical-align: top\">M</td>\n",
       "        <td style=\"padding-left: 1em; padding-right: 1em; text-align: center; vertical-align: top\">None</td>\n",
       "        <td style=\"padding-left: 1em; padding-right: 1em; text-align: center; vertical-align: top\">None</td>\n",
       "    </tr>\n",
       "    <tr>\n",
       "        <td style=\"padding-left: 1em; padding-right: 1em; text-align: center; vertical-align: top\">0</td>\n",
       "        <td style=\"padding-left: 1em; padding-right: 1em; text-align: center; vertical-align: top\">3</td>\n",
       "        <td style=\"padding-left: 1em; padding-right: 1em; text-align: center; vertical-align: top\">Unclear</td>\n",
       "        <td style=\"padding-left: 1em; padding-right: 1em; text-align: center; vertical-align: top\">Black</td>\n",
       "        <td style=\"padding-left: 1em; padding-right: 1em; text-align: center; vertical-align: top\">M</td>\n",
       "        <td style=\"padding-left: 1em; padding-right: 1em; text-align: center; vertical-align: top\">None</td>\n",
       "        <td style=\"padding-left: 1em; padding-right: 1em; text-align: center; vertical-align: top\">None</td>\n",
       "    </tr>\n",
       "    <tr>\n",
       "        <td style=\"padding-left: 1em; padding-right: 1em; text-align: center; vertical-align: top\">6</td>\n",
       "        <td style=\"padding-left: 1em; padding-right: 1em; text-align: center; vertical-align: top\">11</td>\n",
       "        <td style=\"padding-left: 1em; padding-right: 1em; text-align: center; vertical-align: top\">Yes</td>\n",
       "        <td style=\"padding-left: 1em; padding-right: 1em; text-align: center; vertical-align: top\">Latino</td>\n",
       "        <td style=\"padding-left: 1em; padding-right: 1em; text-align: center; vertical-align: top\">M</td>\n",
       "        <td style=\"padding-left: 1em; padding-right: 1em; text-align: center; vertical-align: top\">None</td>\n",
       "        <td style=\"padding-left: 1em; padding-right: 1em; text-align: center; vertical-align: top\">None</td>\n",
       "    </tr>\n",
       "    <tr>\n",
       "        <td style=\"padding-left: 1em; padding-right: 1em; text-align: center; vertical-align: top\">0</td>\n",
       "        <td style=\"padding-left: 1em; padding-right: 1em; text-align: center; vertical-align: top\">5</td>\n",
       "        <td style=\"padding-left: 1em; padding-right: 1em; text-align: center; vertical-align: top\">Yes</td>\n",
       "        <td style=\"padding-left: 1em; padding-right: 1em; text-align: center; vertical-align: top\"></td>\n",
       "        <td style=\"padding-left: 1em; padding-right: 1em; text-align: center; vertical-align: top\">M</td>\n",
       "        <td style=\"padding-left: 1em; padding-right: 1em; text-align: center; vertical-align: top\">None</td>\n",
       "        <td style=\"padding-left: 1em; padding-right: 1em; text-align: center; vertical-align: top\">None</td>\n",
       "    </tr>\n",
       "    <tr>\n",
       "        <td style=\"padding-left: 1em; padding-right: 1em; text-align: center; vertical-align: top\">3</td>\n",
       "        <td style=\"padding-left: 1em; padding-right: 1em; text-align: center; vertical-align: top\">6</td>\n",
       "        <td style=\"padding-left: 1em; padding-right: 1em; text-align: center; vertical-align: top\">Yes</td>\n",
       "        <td style=\"padding-left: 1em; padding-right: 1em; text-align: center; vertical-align: top\">Black</td>\n",
       "        <td style=\"padding-left: 1em; padding-right: 1em; text-align: center; vertical-align: top\">M</td>\n",
       "        <td style=\"padding-left: 1em; padding-right: 1em; text-align: center; vertical-align: top\">None</td>\n",
       "        <td style=\"padding-left: 1em; padding-right: 1em; text-align: center; vertical-align: top\">None</td>\n",
       "    </tr>\n",
       "    <tr>\n",
       "        <td style=\"padding-left: 1em; padding-right: 1em; text-align: center; vertical-align: top\">11</td>\n",
       "        <td style=\"padding-left: 1em; padding-right: 1em; text-align: center; vertical-align: top\">16</td>\n",
       "        <td style=\"padding-left: 1em; padding-right: 1em; text-align: center; vertical-align: top\">Unclear</td>\n",
       "        <td style=\"padding-left: 1em; padding-right: 1em; text-align: center; vertical-align: top\">Black</td>\n",
       "        <td style=\"padding-left: 1em; padding-right: 1em; text-align: center; vertical-align: top\">M</td>\n",
       "        <td style=\"padding-left: 1em; padding-right: 1em; text-align: center; vertical-align: top\">None</td>\n",
       "        <td style=\"padding-left: 1em; padding-right: 1em; text-align: center; vertical-align: top\">None</td>\n",
       "    </tr>\n",
       "</table>\n",
       "[10 rows x 13 columns]<br/>\n",
       "</div>"
      ],
      "text/plain": [
       "Columns:\n",
       "\tS#\tint\n",
       "\tTitle\tstr\n",
       "\tLocation\tstr\n",
       "\tDate\tstr\n",
       "\tSummary\tstr\n",
       "\tFatalities\tint\n",
       "\tInjured\tint\n",
       "\tTotal victims\tint\n",
       "\tMental Health Issues\tstr\n",
       "\tRace\tstr\n",
       "\tGender\tstr\n",
       "\tLatitude\tfloat\n",
       "\tLongitude\tfloat\n",
       "\n",
       "Rows: 10\n",
       "\n",
       "Data:\n",
       "+----+-------------------------------+--------------------------+-----------+\n",
       "| S# |             Title             |         Location         |    Date   |\n",
       "+----+-------------------------------+--------------------------+-----------+\n",
       "| 1  | Las Vegas Strip mass shooting |      Las Vegas, NV       | 10/1/2017 |\n",
       "| 2  |   San Francisco UPS shooting  |    San Francisco, CA     | 6/14/2017 |\n",
       "| 3  | Pennsylvania supermarket s... |     Tunkhannock, PA      |  6/7/2017 |\n",
       "| 4  | Florida awning manufacture... |     Orlando, Florida     |  6/5/2017 |\n",
       "| 5  | Rural Ohio nursing home sh... |    Kirkersville, Ohio    | 5/12/2017 |\n",
       "| 6  |    Fresno downtown shooting   |    Fresno, California    | 4/18/2017 |\n",
       "| 7  | Fort Lauderdale airport sh... | Fort Lauderdale, Florida |  1/6/2017 |\n",
       "| 8  |     Cascade Mall shooting     |      Burlington, WA      | 9/23/2016 |\n",
       "| 9  |  Baton Rouge police shooting  |     Baton Rouge, LA      | 7/17/2016 |\n",
       "| 10 |     Dallas police shooting    |      Dallas, Texas       |  7/7/2016 |\n",
       "+----+-------------------------------+--------------------------+-----------+\n",
       "+-------------------------------+------------+---------+---------------+----------------------+\n",
       "|            Summary            | Fatalities | Injured | Total victims | Mental Health Issues |\n",
       "+-------------------------------+------------+---------+---------------+----------------------+\n",
       "|                               |     58     |   515   |      573      |       Unclear        |\n",
       "| Jimmy Lam, 38, fatally sho... |     3      |    2    |       5       |         Yes          |\n",
       "| Randy Stair, a 24-year-old... |     3      |    0    |       3       |       Unclear        |\n",
       "| John Robert Neumann, Jr., ... |     5      |    0    |       5       |       Unclear        |\n",
       "| Thomas Hartless, 43, shot ... |     3      |    0    |       3       |         Yes          |\n",
       "| Kori Ali Muhammad, 39, ope... |     3      |    0    |       3       |       Unclear        |\n",
       "| Esteban Santiago, 26, flew... |     5      |    6    |       11      |         Yes          |\n",
       "| Arcan Cetin, 20, killed a ... |     5      |    0    |       5       |         Yes          |\n",
       "| Gavin Long, a former Marin... |     3      |    3    |       6       |         Yes          |\n",
       "| Micah Xavier Johnson, a 25... |     5      |    11   |       16      |       Unclear        |\n",
       "+-------------------------------+------------+---------+---------------+----------------------+\n",
       "+--------+--------+----------+-----------+\n",
       "|  Race  | Gender | Latitude | Longitude |\n",
       "+--------+--------+----------+-----------+\n",
       "|        |        |   None   |    None   |\n",
       "| Asian  |   M    |   None   |    None   |\n",
       "| White  |   M    |   None   |    None   |\n",
       "|        |   M    |   None   |    None   |\n",
       "| White  |   M    |   None   |    None   |\n",
       "| Black  |   M    |   None   |    None   |\n",
       "| Latino |   M    |   None   |    None   |\n",
       "|        |   M    |   None   |    None   |\n",
       "| Black  |   M    |   None   |    None   |\n",
       "| Black  |   M    |   None   |    None   |\n",
       "+--------+--------+----------+-----------+\n",
       "[10 rows x 13 columns]"
      ]
     },
     "execution_count": 4,
     "metadata": {},
     "output_type": "execute_result"
    }
   ],
   "source": [
    "data.head()"
   ]
  },
  {
   "cell_type": "markdown",
   "metadata": {},
   "source": [
    "2. Подсчитать word_count столбца Summary для всех записей таблицы data и записать данные в новый столбец этой таблицы word_count."
   ]
  },
  {
   "cell_type": "code",
   "execution_count": 3,
   "metadata": {
    "collapsed": false
   },
   "outputs": [
    {
     "data": {
      "text/html": [
       "<div style=\"max-height:1000px;max-width:1500px;overflow:auto;\"><table frame=\"box\" rules=\"cols\">\n",
       "    <tr>\n",
       "        <th style=\"padding-left: 1em; padding-right: 1em; text-align: center\">S#</th>\n",
       "        <th style=\"padding-left: 1em; padding-right: 1em; text-align: center\">Title</th>\n",
       "        <th style=\"padding-left: 1em; padding-right: 1em; text-align: center\">Location</th>\n",
       "        <th style=\"padding-left: 1em; padding-right: 1em; text-align: center\">Date</th>\n",
       "        <th style=\"padding-left: 1em; padding-right: 1em; text-align: center\">Summary</th>\n",
       "        <th style=\"padding-left: 1em; padding-right: 1em; text-align: center\">Fatalities</th>\n",
       "    </tr>\n",
       "    <tr>\n",
       "        <td style=\"padding-left: 1em; padding-right: 1em; text-align: center; vertical-align: top\">1</td>\n",
       "        <td style=\"padding-left: 1em; padding-right: 1em; text-align: center; vertical-align: top\">Las Vegas Strip mass<br>shooting ...</td>\n",
       "        <td style=\"padding-left: 1em; padding-right: 1em; text-align: center; vertical-align: top\">Las Vegas, NV</td>\n",
       "        <td style=\"padding-left: 1em; padding-right: 1em; text-align: center; vertical-align: top\">10/1/2017</td>\n",
       "        <td style=\"padding-left: 1em; padding-right: 1em; text-align: center; vertical-align: top\"></td>\n",
       "        <td style=\"padding-left: 1em; padding-right: 1em; text-align: center; vertical-align: top\">58</td>\n",
       "    </tr>\n",
       "    <tr>\n",
       "        <td style=\"padding-left: 1em; padding-right: 1em; text-align: center; vertical-align: top\">2</td>\n",
       "        <td style=\"padding-left: 1em; padding-right: 1em; text-align: center; vertical-align: top\">San Francisco UPS<br>shooting ...</td>\n",
       "        <td style=\"padding-left: 1em; padding-right: 1em; text-align: center; vertical-align: top\">San Francisco, CA</td>\n",
       "        <td style=\"padding-left: 1em; padding-right: 1em; text-align: center; vertical-align: top\">6/14/2017</td>\n",
       "        <td style=\"padding-left: 1em; padding-right: 1em; text-align: center; vertical-align: top\">Jimmy Lam, 38, fatally<br>shot three coworkers and ...</td>\n",
       "        <td style=\"padding-left: 1em; padding-right: 1em; text-align: center; vertical-align: top\">3</td>\n",
       "    </tr>\n",
       "    <tr>\n",
       "        <td style=\"padding-left: 1em; padding-right: 1em; text-align: center; vertical-align: top\">3</td>\n",
       "        <td style=\"padding-left: 1em; padding-right: 1em; text-align: center; vertical-align: top\">Pennsylvania supermarket<br>shooting ...</td>\n",
       "        <td style=\"padding-left: 1em; padding-right: 1em; text-align: center; vertical-align: top\">Tunkhannock, PA</td>\n",
       "        <td style=\"padding-left: 1em; padding-right: 1em; text-align: center; vertical-align: top\">6/7/2017</td>\n",
       "        <td style=\"padding-left: 1em; padding-right: 1em; text-align: center; vertical-align: top\">Randy Stair, a 24-year-<br>old worker at Weis ...</td>\n",
       "        <td style=\"padding-left: 1em; padding-right: 1em; text-align: center; vertical-align: top\">3</td>\n",
       "    </tr>\n",
       "    <tr>\n",
       "        <td style=\"padding-left: 1em; padding-right: 1em; text-align: center; vertical-align: top\">4</td>\n",
       "        <td style=\"padding-left: 1em; padding-right: 1em; text-align: center; vertical-align: top\">Florida awning<br>manufacturer shooting ...</td>\n",
       "        <td style=\"padding-left: 1em; padding-right: 1em; text-align: center; vertical-align: top\">Orlando, Florida</td>\n",
       "        <td style=\"padding-left: 1em; padding-right: 1em; text-align: center; vertical-align: top\">6/5/2017</td>\n",
       "        <td style=\"padding-left: 1em; padding-right: 1em; text-align: center; vertical-align: top\">John Robert Neumann, Jr.,<br>45, a former employee of ...</td>\n",
       "        <td style=\"padding-left: 1em; padding-right: 1em; text-align: center; vertical-align: top\">5</td>\n",
       "    </tr>\n",
       "    <tr>\n",
       "        <td style=\"padding-left: 1em; padding-right: 1em; text-align: center; vertical-align: top\">5</td>\n",
       "        <td style=\"padding-left: 1em; padding-right: 1em; text-align: center; vertical-align: top\">Rural Ohio nursing home<br>shooting ...</td>\n",
       "        <td style=\"padding-left: 1em; padding-right: 1em; text-align: center; vertical-align: top\">Kirkersville, Ohio</td>\n",
       "        <td style=\"padding-left: 1em; padding-right: 1em; text-align: center; vertical-align: top\">5/12/2017</td>\n",
       "        <td style=\"padding-left: 1em; padding-right: 1em; text-align: center; vertical-align: top\">Thomas Hartless, 43, shot<br>and killed a former ...</td>\n",
       "        <td style=\"padding-left: 1em; padding-right: 1em; text-align: center; vertical-align: top\">3</td>\n",
       "    </tr>\n",
       "    <tr>\n",
       "        <td style=\"padding-left: 1em; padding-right: 1em; text-align: center; vertical-align: top\">6</td>\n",
       "        <td style=\"padding-left: 1em; padding-right: 1em; text-align: center; vertical-align: top\">Fresno downtown shooting</td>\n",
       "        <td style=\"padding-left: 1em; padding-right: 1em; text-align: center; vertical-align: top\">Fresno, California</td>\n",
       "        <td style=\"padding-left: 1em; padding-right: 1em; text-align: center; vertical-align: top\">4/18/2017</td>\n",
       "        <td style=\"padding-left: 1em; padding-right: 1em; text-align: center; vertical-align: top\">Kori Ali Muhammad, 39,<br>opened fire along a ...</td>\n",
       "        <td style=\"padding-left: 1em; padding-right: 1em; text-align: center; vertical-align: top\">3</td>\n",
       "    </tr>\n",
       "    <tr>\n",
       "        <td style=\"padding-left: 1em; padding-right: 1em; text-align: center; vertical-align: top\">7</td>\n",
       "        <td style=\"padding-left: 1em; padding-right: 1em; text-align: center; vertical-align: top\">Fort Lauderdale airport<br>shooting ...</td>\n",
       "        <td style=\"padding-left: 1em; padding-right: 1em; text-align: center; vertical-align: top\">Fort Lauderdale, Florida</td>\n",
       "        <td style=\"padding-left: 1em; padding-right: 1em; text-align: center; vertical-align: top\">1/6/2017</td>\n",
       "        <td style=\"padding-left: 1em; padding-right: 1em; text-align: center; vertical-align: top\">Esteban Santiago, 26,<br>flew from Alaska to Fort ...</td>\n",
       "        <td style=\"padding-left: 1em; padding-right: 1em; text-align: center; vertical-align: top\">5</td>\n",
       "    </tr>\n",
       "    <tr>\n",
       "        <td style=\"padding-left: 1em; padding-right: 1em; text-align: center; vertical-align: top\">8</td>\n",
       "        <td style=\"padding-left: 1em; padding-right: 1em; text-align: center; vertical-align: top\">Cascade Mall shooting</td>\n",
       "        <td style=\"padding-left: 1em; padding-right: 1em; text-align: center; vertical-align: top\">Burlington, WA</td>\n",
       "        <td style=\"padding-left: 1em; padding-right: 1em; text-align: center; vertical-align: top\">9/23/2016</td>\n",
       "        <td style=\"padding-left: 1em; padding-right: 1em; text-align: center; vertical-align: top\">Arcan Cetin, 20, killed a<br>teen girl and three w ...</td>\n",
       "        <td style=\"padding-left: 1em; padding-right: 1em; text-align: center; vertical-align: top\">5</td>\n",
       "    </tr>\n",
       "    <tr>\n",
       "        <td style=\"padding-left: 1em; padding-right: 1em; text-align: center; vertical-align: top\">9</td>\n",
       "        <td style=\"padding-left: 1em; padding-right: 1em; text-align: center; vertical-align: top\">Baton Rouge police<br>shooting ...</td>\n",
       "        <td style=\"padding-left: 1em; padding-right: 1em; text-align: center; vertical-align: top\">Baton Rouge, LA</td>\n",
       "        <td style=\"padding-left: 1em; padding-right: 1em; text-align: center; vertical-align: top\">7/17/2016</td>\n",
       "        <td style=\"padding-left: 1em; padding-right: 1em; text-align: center; vertical-align: top\">Gavin Long, a former<br>Marine who served in ...</td>\n",
       "        <td style=\"padding-left: 1em; padding-right: 1em; text-align: center; vertical-align: top\">3</td>\n",
       "    </tr>\n",
       "    <tr>\n",
       "        <td style=\"padding-left: 1em; padding-right: 1em; text-align: center; vertical-align: top\">10</td>\n",
       "        <td style=\"padding-left: 1em; padding-right: 1em; text-align: center; vertical-align: top\">Dallas police shooting</td>\n",
       "        <td style=\"padding-left: 1em; padding-right: 1em; text-align: center; vertical-align: top\">Dallas, Texas</td>\n",
       "        <td style=\"padding-left: 1em; padding-right: 1em; text-align: center; vertical-align: top\">7/7/2016</td>\n",
       "        <td style=\"padding-left: 1em; padding-right: 1em; text-align: center; vertical-align: top\">Micah Xavier Johnson, a<br>25-year-old Army vete ...</td>\n",
       "        <td style=\"padding-left: 1em; padding-right: 1em; text-align: center; vertical-align: top\">5</td>\n",
       "    </tr>\n",
       "</table>\n",
       "<table frame=\"box\" rules=\"cols\">\n",
       "    <tr>\n",
       "        <th style=\"padding-left: 1em; padding-right: 1em; text-align: center\">Injured</th>\n",
       "        <th style=\"padding-left: 1em; padding-right: 1em; text-align: center\">Total victims</th>\n",
       "        <th style=\"padding-left: 1em; padding-right: 1em; text-align: center\">Mental Health Issues</th>\n",
       "        <th style=\"padding-left: 1em; padding-right: 1em; text-align: center\">Race</th>\n",
       "        <th style=\"padding-left: 1em; padding-right: 1em; text-align: center\">Gender</th>\n",
       "        <th style=\"padding-left: 1em; padding-right: 1em; text-align: center\">Latitude</th>\n",
       "        <th style=\"padding-left: 1em; padding-right: 1em; text-align: center\">Longitude</th>\n",
       "        <th style=\"padding-left: 1em; padding-right: 1em; text-align: center\">word_count</th>\n",
       "    </tr>\n",
       "    <tr>\n",
       "        <td style=\"padding-left: 1em; padding-right: 1em; text-align: center; vertical-align: top\">515</td>\n",
       "        <td style=\"padding-left: 1em; padding-right: 1em; text-align: center; vertical-align: top\">573</td>\n",
       "        <td style=\"padding-left: 1em; padding-right: 1em; text-align: center; vertical-align: top\">Unclear</td>\n",
       "        <td style=\"padding-left: 1em; padding-right: 1em; text-align: center; vertical-align: top\"></td>\n",
       "        <td style=\"padding-left: 1em; padding-right: 1em; text-align: center; vertical-align: top\"></td>\n",
       "        <td style=\"padding-left: 1em; padding-right: 1em; text-align: center; vertical-align: top\">None</td>\n",
       "        <td style=\"padding-left: 1em; padding-right: 1em; text-align: center; vertical-align: top\">None</td>\n",
       "        <td style=\"padding-left: 1em; padding-right: 1em; text-align: center; vertical-align: top\">{}</td>\n",
       "    </tr>\n",
       "    <tr>\n",
       "        <td style=\"padding-left: 1em; padding-right: 1em; text-align: center; vertical-align: top\">2</td>\n",
       "        <td style=\"padding-left: 1em; padding-right: 1em; text-align: center; vertical-align: top\">5</td>\n",
       "        <td style=\"padding-left: 1em; padding-right: 1em; text-align: center; vertical-align: top\">Yes</td>\n",
       "        <td style=\"padding-left: 1em; padding-right: 1em; text-align: center; vertical-align: top\">Asian</td>\n",
       "        <td style=\"padding-left: 1em; padding-right: 1em; text-align: center; vertical-align: top\">M</td>\n",
       "        <td style=\"padding-left: 1em; padding-right: 1em; text-align: center; vertical-align: top\">None</td>\n",
       "        <td style=\"padding-left: 1em; padding-right: 1em; text-align: center; vertical-align: top\">None</td>\n",
       "        <td style=\"padding-left: 1em; padding-right: 1em; text-align: center; vertical-align: top\">{'and': 1, 'francisco.':<br>1, 'jimmy': 1, 'shot' ...</td>\n",
       "    </tr>\n",
       "    <tr>\n",
       "        <td style=\"padding-left: 1em; padding-right: 1em; text-align: center; vertical-align: top\">0</td>\n",
       "        <td style=\"padding-left: 1em; padding-right: 1em; text-align: center; vertical-align: top\">3</td>\n",
       "        <td style=\"padding-left: 1em; padding-right: 1em; text-align: center; vertical-align: top\">Unclear</td>\n",
       "        <td style=\"padding-left: 1em; padding-right: 1em; text-align: center; vertical-align: top\">White</td>\n",
       "        <td style=\"padding-left: 1em; padding-right: 1em; text-align: center; vertical-align: top\">M</td>\n",
       "        <td style=\"padding-left: 1em; padding-right: 1em; text-align: center; vertical-align: top\">None</td>\n",
       "        <td style=\"padding-left: 1em; padding-right: 1em; text-align: center; vertical-align: top\">None</td>\n",
       "        <td style=\"padding-left: 1em; padding-right: 1em; text-align: center; vertical-align: top\">{'and': 1, 'stair,': 1,<br>'shot': 1, 'fired': 1, ...</td>\n",
       "    </tr>\n",
       "    <tr>\n",
       "        <td style=\"padding-left: 1em; padding-right: 1em; text-align: center; vertical-align: top\">0</td>\n",
       "        <td style=\"padding-left: 1em; padding-right: 1em; text-align: center; vertical-align: top\">5</td>\n",
       "        <td style=\"padding-left: 1em; padding-right: 1em; text-align: center; vertical-align: top\">Unclear</td>\n",
       "        <td style=\"padding-left: 1em; padding-right: 1em; text-align: center; vertical-align: top\"></td>\n",
       "        <td style=\"padding-left: 1em; padding-right: 1em; text-align: center; vertical-align: top\">M</td>\n",
       "        <td style=\"padding-left: 1em; padding-right: 1em; text-align: center; vertical-align: top\">None</td>\n",
       "        <td style=\"padding-left: 1em; padding-right: 1em; text-align: center; vertical-align: top\">None</td>\n",
       "        <td style=\"padding-left: 1em; padding-right: 1em; text-align: center; vertical-align: top\">{'and': 1, 'one-year': 1,<br>'company,': 1, 'shot' ...</td>\n",
       "    </tr>\n",
       "    <tr>\n",
       "        <td style=\"padding-left: 1em; padding-right: 1em; text-align: center; vertical-align: top\">0</td>\n",
       "        <td style=\"padding-left: 1em; padding-right: 1em; text-align: center; vertical-align: top\">3</td>\n",
       "        <td style=\"padding-left: 1em; padding-right: 1em; text-align: center; vertical-align: top\">Yes</td>\n",
       "        <td style=\"padding-left: 1em; padding-right: 1em; text-align: center; vertical-align: top\">White</td>\n",
       "        <td style=\"padding-left: 1em; padding-right: 1em; text-align: center; vertical-align: top\">M</td>\n",
       "        <td style=\"padding-left: 1em; padding-right: 1em; text-align: center; vertical-align: top\">None</td>\n",
       "        <td style=\"padding-left: 1em; padding-right: 1em; text-align: center; vertical-align: top\">None</td>\n",
       "        <td style=\"padding-left: 1em; padding-right: 1em; text-align: center; vertical-align: top\">{'and': 3, 'thomas': 1,<br>'shot': 2, 'nursing': 1, ...</td>\n",
       "    </tr>\n",
       "    <tr>\n",
       "        <td style=\"padding-left: 1em; padding-right: 1em; text-align: center; vertical-align: top\">0</td>\n",
       "        <td style=\"padding-left: 1em; padding-right: 1em; text-align: center; vertical-align: top\">3</td>\n",
       "        <td style=\"padding-left: 1em; padding-right: 1em; text-align: center; vertical-align: top\">Unclear</td>\n",
       "        <td style=\"padding-left: 1em; padding-right: 1em; text-align: center; vertical-align: top\">Black</td>\n",
       "        <td style=\"padding-left: 1em; padding-right: 1em; text-align: center; vertical-align: top\">M</td>\n",
       "        <td style=\"padding-left: 1em; padding-right: 1em; text-align: center; vertical-align: top\">None</td>\n",
       "        <td style=\"padding-left: 1em; padding-right: 1em; text-align: center; vertical-align: top\">None</td>\n",
       "        <td style=\"padding-left: 1em; padding-right: 1em; text-align: center; vertical-align: top\">{'and': 1, 'muhammad,':<br>2, 'links': 1, 'ali': 1, ...</td>\n",
       "    </tr>\n",
       "    <tr>\n",
       "        <td style=\"padding-left: 1em; padding-right: 1em; text-align: center; vertical-align: top\">6</td>\n",
       "        <td style=\"padding-left: 1em; padding-right: 1em; text-align: center; vertical-align: top\">11</td>\n",
       "        <td style=\"padding-left: 1em; padding-right: 1em; text-align: center; vertical-align: top\">Yes</td>\n",
       "        <td style=\"padding-left: 1em; padding-right: 1em; text-align: center; vertical-align: top\">Latino</td>\n",
       "        <td style=\"padding-left: 1em; padding-right: 1em; text-align: center; vertical-align: top\">M</td>\n",
       "        <td style=\"padding-left: 1em; padding-right: 1em; text-align: center; vertical-align: top\">None</td>\n",
       "        <td style=\"padding-left: 1em; padding-right: 1em; text-align: center; vertical-align: top\">None</td>\n",
       "        <td style=\"padding-left: 1em; padding-right: 1em; text-align: center; vertical-align: top\">{'and': 1, 'claim': 1,<br>'aprehended': 1, 'in' ...</td>\n",
       "    </tr>\n",
       "    <tr>\n",
       "        <td style=\"padding-left: 1em; padding-right: 1em; text-align: center; vertical-align: top\">0</td>\n",
       "        <td style=\"padding-left: 1em; padding-right: 1em; text-align: center; vertical-align: top\">5</td>\n",
       "        <td style=\"padding-left: 1em; padding-right: 1em; text-align: center; vertical-align: top\">Yes</td>\n",
       "        <td style=\"padding-left: 1em; padding-right: 1em; text-align: center; vertical-align: top\"></td>\n",
       "        <td style=\"padding-left: 1em; padding-right: 1em; text-align: center; vertical-align: top\">M</td>\n",
       "        <td style=\"padding-left: 1em; padding-right: 1em; text-align: center; vertical-align: top\">None</td>\n",
       "        <td style=\"padding-left: 1em; padding-right: 1em; text-align: center; vertical-align: top\">None</td>\n",
       "        <td style=\"padding-left: 1em; padding-right: 1em; text-align: center; vertical-align: top\">{'and': 2, 'residence.':<br>1, 'near': 1, 'at': 1, ...</td>\n",
       "    </tr>\n",
       "    <tr>\n",
       "        <td style=\"padding-left: 1em; padding-right: 1em; text-align: center; vertical-align: top\">3</td>\n",
       "        <td style=\"padding-left: 1em; padding-right: 1em; text-align: center; vertical-align: top\">6</td>\n",
       "        <td style=\"padding-left: 1em; padding-right: 1em; text-align: center; vertical-align: top\">Yes</td>\n",
       "        <td style=\"padding-left: 1em; padding-right: 1em; text-align: center; vertical-align: top\">Black</td>\n",
       "        <td style=\"padding-left: 1em; padding-right: 1em; text-align: center; vertical-align: top\">M</td>\n",
       "        <td style=\"padding-left: 1em; padding-right: 1em; text-align: center; vertical-align: top\">None</td>\n",
       "        <td style=\"padding-left: 1em; padding-right: 1em; text-align: center; vertical-align: top\">None</td>\n",
       "        <td style=\"padding-left: 1em; padding-right: 1em; text-align: center; vertical-align: top\">{'and': 1, 'shoot-out':<br>1, 'gavin': 1, 'three': ...</td>\n",
       "    </tr>\n",
       "    <tr>\n",
       "        <td style=\"padding-left: 1em; padding-right: 1em; text-align: center; vertical-align: top\">11</td>\n",
       "        <td style=\"padding-left: 1em; padding-right: 1em; text-align: center; vertical-align: top\">16</td>\n",
       "        <td style=\"padding-left: 1em; padding-right: 1em; text-align: center; vertical-align: top\">Unclear</td>\n",
       "        <td style=\"padding-left: 1em; padding-right: 1em; text-align: center; vertical-align: top\">Black</td>\n",
       "        <td style=\"padding-left: 1em; padding-right: 1em; text-align: center; vertical-align: top\">M</td>\n",
       "        <td style=\"padding-left: 1em; padding-right: 1em; text-align: center; vertical-align: top\">None</td>\n",
       "        <td style=\"padding-left: 1em; padding-right: 1em; text-align: center; vertical-align: top\">None</td>\n",
       "        <td style=\"padding-left: 1em; padding-right: 1em; text-align: center; vertical-align: top\">{'and': 1, 'lives': 1,<br>'two': 1, 'as': 2, ...</td>\n",
       "    </tr>\n",
       "</table>\n",
       "[10 rows x 14 columns]<br/>\n",
       "</div>"
      ],
      "text/plain": [
       "Columns:\n",
       "\tS#\tint\n",
       "\tTitle\tstr\n",
       "\tLocation\tstr\n",
       "\tDate\tstr\n",
       "\tSummary\tstr\n",
       "\tFatalities\tint\n",
       "\tInjured\tint\n",
       "\tTotal victims\tint\n",
       "\tMental Health Issues\tstr\n",
       "\tRace\tstr\n",
       "\tGender\tstr\n",
       "\tLatitude\tfloat\n",
       "\tLongitude\tfloat\n",
       "\tword_count\tdict\n",
       "\n",
       "Rows: 10\n",
       "\n",
       "Data:\n",
       "+----+-------------------------------+--------------------------+-----------+\n",
       "| S# |             Title             |         Location         |    Date   |\n",
       "+----+-------------------------------+--------------------------+-----------+\n",
       "| 1  | Las Vegas Strip mass shooting |      Las Vegas, NV       | 10/1/2017 |\n",
       "| 2  |   San Francisco UPS shooting  |    San Francisco, CA     | 6/14/2017 |\n",
       "| 3  | Pennsylvania supermarket s... |     Tunkhannock, PA      |  6/7/2017 |\n",
       "| 4  | Florida awning manufacture... |     Orlando, Florida     |  6/5/2017 |\n",
       "| 5  | Rural Ohio nursing home sh... |    Kirkersville, Ohio    | 5/12/2017 |\n",
       "| 6  |    Fresno downtown shooting   |    Fresno, California    | 4/18/2017 |\n",
       "| 7  | Fort Lauderdale airport sh... | Fort Lauderdale, Florida |  1/6/2017 |\n",
       "| 8  |     Cascade Mall shooting     |      Burlington, WA      | 9/23/2016 |\n",
       "| 9  |  Baton Rouge police shooting  |     Baton Rouge, LA      | 7/17/2016 |\n",
       "| 10 |     Dallas police shooting    |      Dallas, Texas       |  7/7/2016 |\n",
       "+----+-------------------------------+--------------------------+-----------+\n",
       "+-------------------------------+------------+---------+---------------+----------------------+\n",
       "|            Summary            | Fatalities | Injured | Total victims | Mental Health Issues |\n",
       "+-------------------------------+------------+---------+---------------+----------------------+\n",
       "|                               |     58     |   515   |      573      |       Unclear        |\n",
       "| Jimmy Lam, 38, fatally sho... |     3      |    2    |       5       |         Yes          |\n",
       "| Randy Stair, a 24-year-old... |     3      |    0    |       3       |       Unclear        |\n",
       "| John Robert Neumann, Jr., ... |     5      |    0    |       5       |       Unclear        |\n",
       "| Thomas Hartless, 43, shot ... |     3      |    0    |       3       |         Yes          |\n",
       "| Kori Ali Muhammad, 39, ope... |     3      |    0    |       3       |       Unclear        |\n",
       "| Esteban Santiago, 26, flew... |     5      |    6    |       11      |         Yes          |\n",
       "| Arcan Cetin, 20, killed a ... |     5      |    0    |       5       |         Yes          |\n",
       "| Gavin Long, a former Marin... |     3      |    3    |       6       |         Yes          |\n",
       "| Micah Xavier Johnson, a 25... |     5      |    11   |       16      |       Unclear        |\n",
       "+-------------------------------+------------+---------+---------------+----------------------+\n",
       "+--------+--------+----------+-----------+-------------------------------+\n",
       "|  Race  | Gender | Latitude | Longitude |           word_count          |\n",
       "+--------+--------+----------+-----------+-------------------------------+\n",
       "|        |        |   None   |    None   |               {}              |\n",
       "| Asian  |   M    |   None   |    None   | {'and': 1, 'francisco.': 1... |\n",
       "| White  |   M    |   None   |    None   | {'and': 1, 'stair,': 1, 's... |\n",
       "|        |   M    |   None   |    None   | {'and': 1, 'one-year': 1, ... |\n",
       "| White  |   M    |   None   |    None   | {'and': 3, 'thomas': 1, 's... |\n",
       "| Black  |   M    |   None   |    None   | {'and': 1, 'muhammad,': 2,... |\n",
       "| Latino |   M    |   None   |    None   | {'and': 1, 'claim': 1, 'ap... |\n",
       "|        |   M    |   None   |    None   | {'and': 2, 'residence.': 1... |\n",
       "| Black  |   M    |   None   |    None   | {'and': 1, 'shoot-out': 1,... |\n",
       "| Black  |   M    |   None   |    None   | {'and': 1, 'lives': 1, 'tw... |\n",
       "+--------+--------+----------+-----------+-------------------------------+\n",
       "[10 rows x 14 columns]"
      ]
     },
     "execution_count": 3,
     "metadata": {},
     "output_type": "execute_result"
    }
   ],
   "source": [
    "data['word_count'] = graphlab.text_analytics.count_words(data['Summary'])\n",
    "data.head()"
   ]
  },
  {
   "cell_type": "markdown",
   "metadata": {},
   "source": [
    "3. Используя graphlab.SFrame.stack сформировать новую таблицу words_count со столбцами  ['word','count'] на основе столбца word_count из пункта 2."
   ]
  },
  {
   "cell_type": "code",
   "execution_count": 4,
   "metadata": {
    "collapsed": false
   },
   "outputs": [
    {
     "data": {
      "text/html": [
       "<div style=\"max-height:1000px;max-width:1500px;overflow:auto;\"><table frame=\"box\" rules=\"cols\">\n",
       "    <tr>\n",
       "        <th style=\"padding-left: 1em; padding-right: 1em; text-align: center\">word</th>\n",
       "        <th style=\"padding-left: 1em; padding-right: 1em; text-align: center\">count</th>\n",
       "    </tr>\n",
       "    <tr>\n",
       "        <td style=\"padding-left: 1em; padding-right: 1em; text-align: center; vertical-align: top\">None</td>\n",
       "        <td style=\"padding-left: 1em; padding-right: 1em; text-align: center; vertical-align: top\">None</td>\n",
       "    </tr>\n",
       "    <tr>\n",
       "        <td style=\"padding-left: 1em; padding-right: 1em; text-align: center; vertical-align: top\">the</td>\n",
       "        <td style=\"padding-left: 1em; padding-right: 1em; text-align: center; vertical-align: top\">1</td>\n",
       "    </tr>\n",
       "    <tr>\n",
       "        <td style=\"padding-left: 1em; padding-right: 1em; text-align: center; vertical-align: top\">to</td>\n",
       "        <td style=\"padding-left: 1em; padding-right: 1em; text-align: center; vertical-align: top\">1</td>\n",
       "    </tr>\n",
       "    <tr>\n",
       "        <td style=\"padding-left: 1em; padding-right: 1em; text-align: center; vertical-align: top\">responded</td>\n",
       "        <td style=\"padding-left: 1em; padding-right: 1em; text-align: center; vertical-align: top\">1</td>\n",
       "    </tr>\n",
       "    <tr>\n",
       "        <td style=\"padding-left: 1em; padding-right: 1em; text-align: center; vertical-align: top\">officers</td>\n",
       "        <td style=\"padding-left: 1em; padding-right: 1em; text-align: center; vertical-align: top\">1</td>\n",
       "    </tr>\n",
       "    <tr>\n",
       "        <td style=\"padding-left: 1em; padding-right: 1em; text-align: center; vertical-align: top\">enforcement</td>\n",
       "        <td style=\"padding-left: 1em; padding-right: 1em; text-align: center; vertical-align: top\">1</td>\n",
       "    </tr>\n",
       "    <tr>\n",
       "        <td style=\"padding-left: 1em; padding-right: 1em; text-align: center; vertical-align: top\">himself</td>\n",
       "        <td style=\"padding-left: 1em; padding-right: 1em; text-align: center; vertical-align: top\">1</td>\n",
       "    </tr>\n",
       "    <tr>\n",
       "        <td style=\"padding-left: 1em; padding-right: 1em; text-align: center; vertical-align: top\">a</td>\n",
       "        <td style=\"padding-left: 1em; padding-right: 1em; text-align: center; vertical-align: top\">1</td>\n",
       "    </tr>\n",
       "    <tr>\n",
       "        <td style=\"padding-left: 1em; padding-right: 1em; text-align: center; vertical-align: top\">law</td>\n",
       "        <td style=\"padding-left: 1em; padding-right: 1em; text-align: center; vertical-align: top\">1</td>\n",
       "    </tr>\n",
       "    <tr>\n",
       "        <td style=\"padding-left: 1em; padding-right: 1em; text-align: center; vertical-align: top\">in</td>\n",
       "        <td style=\"padding-left: 1em; padding-right: 1em; text-align: center; vertical-align: top\">1</td>\n",
       "    </tr>\n",
       "</table>\n",
       "[14222 rows x 2 columns]<br/>Note: Only the head of the SFrame is printed.<br/>You can use print_rows(num_rows=m, num_columns=n) to print more rows and columns.\n",
       "</div>"
      ],
      "text/plain": [
       "Columns:\n",
       "\tword\tstr\n",
       "\tcount\tint\n",
       "\n",
       "Rows: 14222\n",
       "\n",
       "Data:\n",
       "+-------------+-------+\n",
       "|     word    | count |\n",
       "+-------------+-------+\n",
       "|     None    |  None |\n",
       "|     the     |   1   |\n",
       "|      to     |   1   |\n",
       "|  responded  |   1   |\n",
       "|   officers  |   1   |\n",
       "| enforcement |   1   |\n",
       "|   himself   |   1   |\n",
       "|      a      |   1   |\n",
       "|     law     |   1   |\n",
       "|      in     |   1   |\n",
       "+-------------+-------+\n",
       "[14222 rows x 2 columns]\n",
       "Note: Only the head of the SFrame is printed.\n",
       "You can use print_rows(num_rows=m, num_columns=n) to print more rows and columns."
      ]
     },
     "execution_count": 4,
     "metadata": {},
     "output_type": "execute_result"
    }
   ],
   "source": [
    "words_count_table = data[['word_count']].stack('word_count', new_column_name = ['word','count'])\n",
    "words_count_table"
   ]
  },
  {
   "cell_type": "markdown",
   "metadata": {},
   "source": [
    "4. Объединить данные таблицы words_count по столбцу word."
   ]
  },
  {
   "cell_type": "code",
   "execution_count": 5,
   "metadata": {
    "collapsed": false
   },
   "outputs": [],
   "source": [
    "words_count_table = words_count_table.groupby(key_columns='word', operations={'count': graphlab.aggregate.COUNT()})"
   ]
  },
  {
   "cell_type": "markdown",
   "metadata": {},
   "source": [
    "5. Отсортировать их по убыванию количества слов."
   ]
  },
  {
   "cell_type": "code",
   "execution_count": 6,
   "metadata": {
    "collapsed": false
   },
   "outputs": [
    {
     "data": {
      "text/html": [
       "<div style=\"max-height:1000px;max-width:1500px;overflow:auto;\"><table frame=\"box\" rules=\"cols\">\n",
       "    <tr>\n",
       "        <th style=\"padding-left: 1em; padding-right: 1em; text-align: center\">word</th>\n",
       "        <th style=\"padding-left: 1em; padding-right: 1em; text-align: center\">count</th>\n",
       "    </tr>\n",
       "    <tr>\n",
       "        <td style=\"padding-left: 1em; padding-right: 1em; text-align: center; vertical-align: top\">“planning</td>\n",
       "        <td style=\"padding-left: 1em; padding-right: 1em; text-align: center; vertical-align: top\">1</td>\n",
       "    </tr>\n",
       "    <tr>\n",
       "        <td style=\"padding-left: 1em; padding-right: 1em; text-align: center; vertical-align: top\">�</td>\n",
       "        <td style=\"padding-left: 1em; padding-right: 1em; text-align: center; vertical-align: top\">1</td>\n",
       "    </tr>\n",
       "    <tr>\n",
       "        <td style=\"padding-left: 1em; padding-right: 1em; text-align: center; vertical-align: top\">~50</td>\n",
       "        <td style=\"padding-left: 1em; padding-right: 1em; text-align: center; vertical-align: top\">1</td>\n",
       "    </tr>\n",
       "    <tr>\n",
       "        <td style=\"padding-left: 1em; padding-right: 1em; text-align: center; vertical-align: top\">zawahri,</td>\n",
       "        <td style=\"padding-left: 1em; padding-right: 1em; text-align: center; vertical-align: top\">1</td>\n",
       "    </tr>\n",
       "    <tr>\n",
       "        <td style=\"padding-left: 1em; padding-right: 1em; text-align: center; vertical-align: top\">ysidro,</td>\n",
       "        <td style=\"padding-left: 1em; padding-right: 1em; text-align: center; vertical-align: top\">1</td>\n",
       "    </tr>\n",
       "    <tr>\n",
       "        <td style=\"padding-left: 1em; padding-right: 1em; text-align: center; vertical-align: top\">youth</td>\n",
       "        <td style=\"padding-left: 1em; padding-right: 1em; text-align: center; vertical-align: top\">1</td>\n",
       "    </tr>\n",
       "    <tr>\n",
       "        <td style=\"padding-left: 1em; padding-right: 1em; text-align: center; vertical-align: top\">youssuf</td>\n",
       "        <td style=\"padding-left: 1em; padding-right: 1em; text-align: center; vertical-align: top\">1</td>\n",
       "    </tr>\n",
       "    <tr>\n",
       "        <td style=\"padding-left: 1em; padding-right: 1em; text-align: center; vertical-align: top\">youngstown</td>\n",
       "        <td style=\"padding-left: 1em; padding-right: 1em; text-align: center; vertical-align: top\">1</td>\n",
       "    </tr>\n",
       "    <tr>\n",
       "        <td style=\"padding-left: 1em; padding-right: 1em; text-align: center; vertical-align: top\">younger</td>\n",
       "        <td style=\"padding-left: 1em; padding-right: 1em; text-align: center; vertical-align: top\">2</td>\n",
       "    </tr>\n",
       "    <tr>\n",
       "        <td style=\"padding-left: 1em; padding-right: 1em; text-align: center; vertical-align: top\">young</td>\n",
       "        <td style=\"padding-left: 1em; padding-right: 1em; text-align: center; vertical-align: top\">15</td>\n",
       "    </tr>\n",
       "</table>\n",
       "[3239 rows x 2 columns]<br/>Note: Only the head of the SFrame is printed.<br/>You can use print_rows(num_rows=m, num_columns=n) to print more rows and columns.\n",
       "</div>"
      ],
      "text/plain": [
       "Columns:\n",
       "\tword\tstr\n",
       "\tcount\tint\n",
       "\n",
       "Rows: 3239\n",
       "\n",
       "Data:\n",
       "+------------+-------+\n",
       "|    word    | count |\n",
       "+------------+-------+\n",
       "| “planning  |   1   |\n",
       "|     �      |   1   |\n",
       "|    ~50     |   1   |\n",
       "|  zawahri,  |   1   |\n",
       "|  ysidro,   |   1   |\n",
       "|   youth    |   1   |\n",
       "|  youssuf   |   1   |\n",
       "| youngstown |   1   |\n",
       "|  younger   |   2   |\n",
       "|   young    |   15  |\n",
       "+------------+-------+\n",
       "[3239 rows x 2 columns]\n",
       "Note: Only the head of the SFrame is printed.\n",
       "You can use print_rows(num_rows=m, num_columns=n) to print more rows and columns."
      ]
     },
     "execution_count": 6,
     "metadata": {},
     "output_type": "execute_result"
    }
   ],
   "source": [
    "words_count_table.sort('word',ascending=False)"
   ]
  },
  {
   "cell_type": "markdown",
   "metadata": {},
   "source": [
    "6. Подсчитать TF-IDF столбца Summary для всех записей таблицы data и записать данные в новый столбец tfidf."
   ]
  },
  {
   "cell_type": "code",
   "execution_count": 12,
   "metadata": {
    "collapsed": false
   },
   "outputs": [
    {
     "data": {
      "text/plain": [
       "dtype: dict\n",
       "Rows: 395\n",
       "[{}, {'and': 0.1919883835344143, 'francisco.': 5.978885764901122, 'jimmy': 5.978885764901122, 'shot': 0.9682504708048661, 'san': 3.899444223221286, 'lam': 5.978885764901122, 'two': 1.0372433422918177, 'as': 2.5448985604159757, 'in': 0.3730836986051245, 'facility': 4.880273476233012, 'officers': 3.145672420844906, 'scene.': 3.088514007004957, 'to': 0.9226399595528139, 'coworkers': 3.4939791151131216, 'enforcement': 3.899444223221286, 'himself': 2.5776883832389665, '38,': 5.978885764901122, 'others': 2.107684753993231, 'law': 3.4139364074395853, 'killed': 0.9290297576515848, 'a': 0.12956098495426266, 'inside': 2.646681254725918, 'lam,': 5.978885764901122, 'responded': 5.285738584341177, 'three': 1.584436610228683, 'wounded': 1.7303905228517629, 'the': 0.21998399102384128, 'fatally': 2.72078922687964, 'ups': 5.285738584341177}, {'and': 0.1919883835344143, 'stair,': 5.978885764901122, 'shot': 0.9682504708048661, 'fired': 2.128738163191063, 'scene': 3.4139364074395853, 'fellow': 4.187126295673067, 'as': 2.5448985604159757, 'his': 0.7971022146090367, 'at': 0.5989884113606623, 'another': 2.150244368412027, 'worker': 3.088514007004957, 'rounds': 4.880273476233012, 'before': 0.7971022146090367, 'for': 2.150244368412027, 'help': 4.880273476233012, 'three': 1.584436610228683, 'shotguns': 5.978885764901122, 'randy': 5.978885764901122, 'enforcement': 3.899444223221286, 'himself': 2.5776883832389665, 'turning': 3.4939791151131216, 'reportedly': 4.880273476233012, 'weis': 5.978885764901122, 'co-worker': 5.978885764901122, 'employees.': 5.978885764901122, 'pair': 5.978885764901122, 'law': 3.4139364074395853, 'with': 1.435590982631118, 'fled': 2.934363327177699, 'he': 0.6855809401766295, 'a': 0.2591219699085253, 'on': 0.38046380590274714, 'grocery': 5.285738584341177, '59': 5.978885764901122, 'of': 1.5942044292180735, 'gun': 2.5131498621013955, '24-year-old': 4.592591403781231, 'responded.': 5.978885764901122, 'the': 0.43996798204768256, 'fatally': 2.72078922687964}, {'and': 0.1919883835344143, 'one-year': 5.978885764901122, 'company,': 5.285738584341177, 'shot': 0.9682504708048661, 'fired': 2.128738163191063, '45,': 5.285738584341177, 'at': 0.5989884113606623, 'in': 0.3730836986051245, 'before': 0.7971022146090367, \"he'd\": 4.592591403781231, 'neumann,': 5.978885764901122, 'from': 2.0470601321767963, 'workers': 4.880273476233012, 'anniversary': 5.978885764901122, 'been': 2.611589934914648, 'killed': 0.9290297576515848, 'scene.': 3.088514007004957, 'attack': 4.3694478524670215, 'employee': 2.887843311542806, 'april.': 5.978885764901122, 'john': 4.880273476233012, 'week': 4.880273476233012, 'then': 1.6094379124341003, 'himself': 2.5776883832389665, 'massacre.': 5.978885764901122, 'company': 4.187126295673067, 'took': 3.676300671907076, 'five': 2.2412161466177536, 'former': 1.9899017183368475, 'manufacturer': 5.978885764901122, 'a': 0.2591219699085253, 'on': 0.38046380590274714, 'fiamma': 5.978885764901122, 'orlando': 4.880273476233012, 'nightclub': 4.187126295673067, 'place': 4.3694478524670215, 'jr.,': 5.978885764901122, 'of': 1.5942044292180735, 'the': 1.3199039461430477, 'fatally': 2.72078922687964, 'robert': 4.3694478524670215, 'inc.': 5.978885764901122}, {'and': 0.5759651506032429, 'thomas': 5.285738584341177, 'shot': 1.9365009416097323, 'nursing': 4.187126295673067, 'scene': 3.4139364074395853, 'dead': 2.5448985604159757, '60': 5.978885764901122, 'at': 0.5989884113606623, 'another': 2.150244368412027, 'in': 0.3730836986051245, 'girlfriend': 8.065951231691617, 'home': 2.3412996051747363, 'police': 1.635080343047438, 'hartless,': 11.957771529802244, 'to': 0.9226399595528139, 'had': 2.0276420463196945, \"hartless'\": 5.978885764901122, 'former': 3.979803436673695, 'scene.': 3.088514007004957, 'also': 3.899444223221286, 'firearms': 4.880273476233012, 'employee': 2.887843311542806, 'was': 0.8489870499780484, 'home,': 3.676300671907076, 'attack.': 4.187126295673067, 'then': 1.6094379124341003, 'hartless.': 5.978885764901122, 'recently': 4.187126295673067, 'kirkersville': 5.978885764901122, 'who': 2.367967852256897, 'obtained': 5.978885764901122, 'protection': 5.285738584341177, 'court': 4.592591403781231, 'killed': 0.9290297576515848, 'than': 5.285738584341177, 'a': 0.388682954862788, '43,': 4.880273476233012, 'responding': 4.3694478524670215, 'of': 2.39130664382711, 'later': 2.008593851349, 'against': 4.880273476233012, 'chief': 5.978885764901122, 'found': 5.686783097943945, 'the': 1.0999199551192065, 'more': 3.4939791151131216, 'fatally': 2.72078922687964, 'order': 4.592591403781231, 'investigators': 5.978885764901122}, {'and': 0.1919883835344143, 'muhammad,': 11.957771529802244, 'links': 5.978885764901122, 'ali': 5.978885764901122, 'being': 4.435371298415119, 'arrested,': 5.285738584341177, 'is': 3.4939791151131216, \"'allahu\": 5.978885764901122, 'alleged': 4.880273476233012, 'randomly': 4.3694478524670215, 'as': 2.5448985604159757, 'street': 3.5809904921027513, 'at': 0.5989884113606623, 'motivated;': 5.978885764901122, 'in': 0.746167397210249, 'crime': 4.880273476233012, 'hate': 5.978885764901122, 'apprehended': 3.899444223221286, 'opened': 1.3737155789130306, 'described': 5.285738584341177, 'indicated': 5.978885764901122, 'no': 3.339828435285863, 'people': 1.479076094570857, 'three': 3.168873220457366, 'islamist': 5.285738584341177, 'by': 1.435590982631118, 'to': 1.8452799191056277, 'attack': 4.3694478524670215, 'white': 4.592591403781231, 'was': 0.8489870499780484, 'his': 0.7971022146090367, 'victims': 3.088514007004957, 'kori': 5.978885764901122, 'reportedly': 4.880273476233012, 'fire': 1.3060569304392156, 'who': 2.367967852256897, 'but': 3.088514007004957, 'police.': 2.4525252402849604, 'downtown': 4.3694478524670215, 'they': 2.72078922687964, 'black,': 5.978885764901122, 'authorities': 4.880273476233012, 'racially': 4.592591403781231, 'along': 4.592591403781231, 'killing': 1.2603868936060274, '39,': 4.592591403781231, 'killed': 0.9290297576515848, 'he': 1.371161880353259, 'a': 0.12956098495426266, 'also': 3.899444223221286, 'fresno,': 5.978885764901122, \"akbar'\": 5.978885764901122, 'later': 2.008593851349, 'prior': 4.0329756158458085, 'time': 5.978885764901122, 'an': 1.5968591302272404, 'found': 2.8433915489719723, 'the': 0.21998399102384128, 'terrorism.': 5.978885764901122, 'yelled': 5.978885764901122}, {'and': 0.1919883835344143, 'claim': 5.978885764901122, 'aprehended': 5.978885764901122, 'in': 0.3730836986051245, 'esteban': 5.978885764901122, 'before': 0.7971022146090367, 'police': 1.635080343047438, 'opened': 1.3737155789130306, 'area': 5.285738584341177, 'six': 2.5131498621013955, 'him.': 3.4939791151131216, 'to': 0.9226399595528139, 'airport,': 5.978885764901122, 'fire': 1.3060569304392156, 'flew': 5.978885764901122, 'killing': 1.2603868936060274, 'five': 2.2412161466177536, 'from': 2.0470601321767963, '26,': 3.676300671907076, 'lauderdale,': 5.285738584341177, 'he': 0.6855809401766295, 'fort': 3.899444223221286, 'of': 0.7971022146090367, 'wounding': 2.107684753993231, 'alaska': 5.285738584341177, 'baggage': 5.978885764901122, 'the': 0.43996798204768256, 'santiago,': 5.978885764901122, 'where': 2.2176856492075596}, {'and': 0.3839767670688286, 'residence.': 5.285738584341177, 'near': 3.676300671907076, 'at': 0.5989884113606623, 'in': 1.1192510958153736, 'girl': 4.187126295673067, 'shooting': 3.0030979008458307, 'apprehended': 3.899444223221286, 'police': 1.635080343047438, 'died.': 4.880273476233012, 'driving': 4.880273476233012, 'few': 4.3694478524670215, 'section': 5.978885764901122, 'three': 1.584436610228683, '20,': 3.4139364074395853, 'to': 0.9226399595528139, 'macy’s': 5.978885764901122, 'cosmetics': 5.978885764901122, 'taken': 4.187126295673067, 'women': 3.7816611875649024, 'was': 1.6979740999560968, 'store': 4.880273476233012, 'killed': 0.9290297576515848, 'teen': 5.285738584341177, 'a': 0.6478049247713134, 'his': 0.7971022146090367, 'cetin,': 5.978885764901122, 'mall.': 5.978885764901122, 'after': 1.62217693821153, 'hours': 3.145672420844906, 'department': 4.880273476233012, 'arcan': 5.978885764901122, 'by': 1.435590982631118, 'he': 0.6855809401766295, 'cetin': 5.978885764901122, 'critically': 4.187126295673067, 'center': 3.7816611875649024, 'car': 2.683048898896793, 'medical': 5.978885764901122, 'harborview': 5.978885764901122, 'seattle,': 4.592591403781231, 'cascade': 5.978885764901122, 'while': 3.4939791151131216, 'man': 1.5015489504229154, 'of': 0.7971022146090367, 'wounded': 1.7303905228517629, 'the': 0.8799359640953651, 'where': 2.2176856492075596}, {'and': 0.1919883835344143, 'shoot-out': 5.285738584341177, 'gavin': 5.978885764901122, 'three': 3.168873220457366, 'wounded': 1.7303905228517629, 'media,': 5.978885764901122, 'in': 1.1192510958153736, 'others.': 2.8008319345531763, 'prior': 4.0329756158458085, 'police': 1.635080343047438, 'for': 2.150244368412027, 'dallas': 5.285738584341177, 'marine': 5.285738584341177, 'officers': 3.145672420844906, 'long': 5.285738584341177, 'expressed': 5.978885764901122, 'scene.': 3.088514007004957, 'to': 2.7679198786584416, 'other': 2.5448985604159757, 'attack,': 5.285738584341177, 'prior.': 5.285738584341177, 'posted': 5.978885764901122, 'was': 0.8489870499780484, 'who': 2.367967852256897, 'cop': 5.978885764901122, 'killer': 5.978885764901122, 'offers': 5.978885764901122, 'former': 1.9899017183368475, 'long,': 5.978885764901122, 'on': 0.38046380590274714, 'with': 1.435590982631118, 'killed': 1.8580595153031696, 'he': 1.371161880353259, 'a': 0.388682954862788, '10': 4.592591403781231, 'admiration': 5.978885764901122, 'responding': 8.738895704934043, '911': 5.285738584341177, 'days': 4.0329756158458085, 'call,': 5.285738584341177, 'prolifically': 5.978885764901122, 'social': 4.880273476233012, 'iraq,': 5.978885764901122, 'served': 4.880273476233012, 'the': 0.6599519730715239, 'where': 2.2176856492075596}, {'and': 0.1919883835344143, 'lives': 4.3694478524670215, 'two': 1.0372433422918177, 'as': 5.0897971208319515, 'xavier': 5.978885764901122, 'at': 0.5989884113606623, 'in': 0.3730836986051245, 'building,': 4.3694478524670215, 'law': 3.4139364074395853, 'police': 1.635080343047438, 'army': 3.7816611875649024, 'bomb.': 5.978885764901122, 'officers': 3.145672420844906, 'black': 4.3694478524670215, 'peaceful': 5.978885764901122, 'civilians.': 5.978885764901122, 'enforcement': 3.899444223221286, 'johnson,': 5.285738584341177, 'targeted': 5.285738584341177, 'after': 1.62217693821153, 'killing': 1.2603868936060274, 'downtown': 4.3694478524670215, 'micah': 5.978885764901122, 'injuring': 2.5448985604159757, 'others': 2.107684753993231, 'using': 5.285738584341177, 'protest,': 5.285738584341177, '25-year-old': 4.592591403781231, 'killed': 0.9290297576515848, 'a': 0.6478049247713134, 'veteran,': 5.978885764901122, 'johnson': 5.285738584341177, 'well': 4.880273476233012, 'prolonged': 5.285738584341177, 'robot-delivered': 5.978885764901122, 'matter': 4.880273476233012, 'nine': 3.7816611875649024, 'five': 2.2412161466177536, 'standoff': 4.3694478524670215}, {'standoff.': 4.880273476233012, 'pulse': 5.978885764901122, 'in': 0.746167397210249, 'killed': 0.9290297576515848, 'was': 0.8489870499780484, 'enforcement': 3.899444223221286, 'after': 1.62217693821153, 'attacked': 5.978885764901122, 'club': 3.676300671907076, 'who': 2.367967852256897, 'june': 3.5809904921027513, 'raided': 5.978885764901122, '12.': 5.978885764901122, 'hours': 3.145672420844906, 'early': 2.9831534913471307, 'law': 3.4139364074395853, 'by': 1.435590982631118, 'nighclub': 5.978885764901122, 'he': 0.6855809401766295, 'a': 0.12956098495426266, 'mateen,': 5.978885764901122, '29,': 3.5809904921027513, 'of': 0.7971022146090367, 'orlando': 4.880273476233012, 'prolonged': 5.285738584341177, 'morning': 3.0344467857346813, 'omar': 5.285738584341177, 'the': 0.6599519730715239}, {'and': 0.1919883835344143, 'family': 2.8433915489719723, 'people': 2.958152189141714, 'motive': 5.285738584341177, 'drove': 2.9831534913471307, 'suspects': 4.3694478524670215, 'group': 3.270835563798912, 'opened': 1.3737155789130306, 'for': 4.300488736824054, 'no': 3.339828435285863, 'when': 2.4823782034346418, 'two': 1.0372433422918177, 'member': 4.592591403781231, 'to': 0.9226399595528139, 'injured.': 3.088514007004957, 'was': 0.8489870499780484, 'cars': 5.285738584341177, 'gathered': 4.880273476233012, 'memorial': 5.978885764901122, 'fire.': 4.187126295673067, '20': 4.3694478524670215, 'by': 1.435590982631118, 'a': 0.388682954862788, 'four': 1.674820671696952, '15': 4.880273476233012, 'targets.': 5.285738584341177, 'of': 0.7971022146090367, 'specific': 5.978885764901122, 'were': 1.7022196458850665, 'or': 8.374252591346133}, {'and': 0.1919883835344143, 'his': 0.7971022146090367, 'shot': 0.9682504708048661, \"don't\": 5.978885764901122, 'people': 1.479076094570857, 'street': 3.5809904921027513, 'at': 1.1979768227213246, 'shooting': 1.5015489504229154, 'standing': 4.592591403781231, 'police': 1.635080343047438, 'am.': 5.978885764901122, 'was': 1.6979740999560968, 'do': 5.285738584341177, 'target,': 4.880273476233012, 'woman': 2.887843311542806, 'who': 2.367967852256897, 'random.': 4.880273476233012, 'not': 3.7816611875649024, 'from': 2.0470601321767963, 'believe': 10.571477168682353, 'died': 3.145672420844906, 'on': 0.38046380590274714, 'car': 2.683048898896793, 'shooter': 1.425008873300581, '1:30': 5.978885764901122, 'the': 0.8799359640953651}, {'and': 0.1919883835344143, 'inured': 5.978885764901122, 'crown': 5.978885764901122, 'shooter': 2.850017746601162, 'police': 1.635080343047438, 'fired': 4.257476326382126, 'on': 0.38046380590274714, 'when': 2.4823782034346418, 'tried,': 5.978885764901122, 'deputy': 9.185182807562462, 'stop': 4.592591403781231, 'him.': 6.987958230226243, 'to': 0.9226399595528139, 'a': 0.12956098495426266, 'the': 0.43996798204768256, 'male': 4.592591403781231, 'unsuccessfully': 5.978885764901122, 'into': 2.3153241187714753}, {'and': 0.1919883835344143, 'fired': 2.128738163191063, 'over': 3.5809904921027513, 'cars.': 5.978885764901122, 'slashing': 5.978885764901122, 'four.': 4.880273476233012, 'angry': 4.880273476233012, 'had': 2.0276420463196945, 'been': 2.611589934914648, 'party': 2.934363327177699, \"other's\": 5.978885764901122, 'was': 0.8489870499780484, 'into': 2.3153241187714753, 'injured': 2.265313698196814, 'families': 5.978885764901122, 'that': 2.2176856492075596, 'a': 0.12956098495426266, 'rival': 5.978885764901122, 'shooter': 2.850017746601162, 'block': 5.978885764901122, 'each': 4.3694478524670215, 'fact': 5.285738584341177}, {'and': 0.1919883835344143, 'shot': 0.9682504708048661, 'when': 2.4823782034346418, 'is': 3.4939791151131216, 'one': 1.9715525796686508, 'four': 1.674820671696952, 'at': 0.5989884113606623, 'in': 0.746167397210249, 'group': 3.270835563798912, 'unknown.': 5.978885764901122, 'young': 3.270835563798912, '2': 5.285738584341177, 'fatality.': 5.978885764901122, 'men': 3.2062970426613404, 'park': 4.3694478524670215, 'injuries.': 4.880273476233012, 'a': 0.2591219699085253, 'of': 0.7971022146090367, 'shooter': 1.425008873300581, 'up': 3.339828435285863, 'walked': 3.899444223221286, 'morning': 3.0344467857346813, 'were': 1.7022196458850665, 'them.': 4.3694478524670215, 'the': 0.21998399102384128, 'male': 4.592591403781231}, {'and': 0.1919883835344143, 'his': 0.7971022146090367, 'committing': 2.0470601321767963, 'no': 3.339828435285863, 'young': 3.270835563798912, 'offered': 5.978885764901122, 'wife': 2.5776883832389665, 'explanation': 5.978885764901122, 'two': 1.0372433422918177, 'been': 2.611589934914648, 'children': 3.2062970426613404, 'man': 1.5015489504229154, 'has': 5.285738584341177, 'suicide.': 1.9358344970665717, 'killed': 0.9290297576515848, 'before': 0.7971022146090367}, {'fired': 2.128738163191063, \"didn't\": 5.978885764901122, 'locations': 5.285738584341177, 'four': 1.674820671696952, 'alabama.': 4.880273476233012, 'second.': 5.978885764901122, 'in': 0.3730836986051245, 'any': 4.880273476233012, 'different': 4.880273476233012, 'shootout,': 5.978885764901122, 'injure': 5.285738584341177, 'two': 1.0372433422918177, 'by': 1.435590982631118, 'was': 0.8489870499780484, 'highway': 5.978885764901122, 'injured': 2.265313698196814, 'his': 0.7971022146090367, 'but': 3.088514007004957, 'police.': 2.4525252402849604, 'from': 2.0470601321767963, 'along': 4.592591403781231, 'killed': 0.9290297576515848, 'he': 1.371161880353259, 'a': 0.12956098495426266, 'car': 2.683048898896793, 'shooter': 1.425008873300581, 'at': 1.7969652340819868, 'rural': 4.880273476233012, 'the': 0.43996798204768256, 'first': 4.3694478524670215}, {'and': 0.1919883835344143, 'fired': 2.128738163191063, 'is': 3.4939791151131216, 'one': 1.9715525796686508, 'nothing': 5.978885764901122, 'street': 3.5809904921027513, 'at': 0.5989884113606623, 'corner': 5.978885764901122, 'standing': 4.592591403781231, 'group': 3.270835563798912, 'died,': 5.978885764901122, 'when': 2.4823782034346418, '3': 4.187126295673067, 'injured.': 3.088514007004957, 'someone': 5.285738584341177, 'men': 3.2062970426613404, 'upon': 3.7816611875649024, 'shooter.': 4.592591403781231, 'known': 5.285738584341177, 'man': 1.5015489504229154, 'a': 0.12956098495426266, 'about': 2.72078922687964, 'of': 0.7971022146090367, 'up': 3.339828435285863, 'were': 1.7022196458850665, 'them.': 4.3694478524670215, 'the': 0.21998399102384128, 'came': 4.3694478524670215}, {'and': 0.1919883835344143, 'door.': 4.880273476233012, 'shot': 0.9682504708048661, 'broke': 3.5809904921027513, 'in': 0.3730836986051245, 'four': 1.674820671696952, 'guests': 5.978885764901122, 'hosted': 5.285738584341177, 'uninvited': 5.978885764901122, 'would': 5.285738584341177, 'when': 2.4823782034346418, 'party': 5.868726654355398, 'he': 0.6855809401766295, 'started': 6.8278728148791705, 'who': 2.367967852256897, 'kicking': 5.978885764901122, 'they': 2.72078922687964, 'not': 3.7816611875649024, 'by': 1.435590982631118, 'man': 1.5015489504229154, 'a': 0.12956098495426266, 'shooter.': 4.592591403781231, 'windows': 5.978885764901122, 'firing': 4.880273476233012, 'leave': 3.899444223221286, 'the': 0.6599519730715239}, {'a': 0.2591219699085253, 'altercation': 4.187126295673067, 'shot': 0.9682504708048661, 'waist': 5.978885764901122, 'people': 1.479076094570857, 'after': 1.62217693821153, 'gas': 8.065951231691617, 'an': 1.5968591302272404, 'four': 1.674820671696952, 'below': 5.978885764901122, 'station': 4.592591403781231, 'at': 1.1979768227213246, 'broke': 3.5809904921027513, 'were': 1.7022196458850665, 'the': 0.21998399102384128, 'station.': 4.880273476233012, 'out': 2.423537703411708}, {'street': 3.5809904921027513, 'at': 0.5989884113606623, 'in': 0.3730836986051245, 'protecting': 5.978885764901122, 'shooting': 1.5015489504229154, 'drove': 2.9831534913471307, 'no': 3.339828435285863, 'unknown': 4.880273476233012, 'when': 2.4823782034346418, 'goers': 5.978885764901122, 'quickly': 5.285738584341177, 'dropping': 5.978885764901122, 'party': 5.868726654355398, 'was': 0.8489870499780484, 'motivation.': 5.978885764901122, 'someone': 5.285738584341177, 'started': 3.4139364074395853, 'bus': 9.185182807562462, 'driver': 4.880273476233012, 'birthday': 4.592591403781231, 'suspects.': 5.285738584341177, 'on': 0.38046380590274714, 'off': 8.374252591346133, 'targets.': 5.285738584341177, 'chicago': 5.978885764901122, 'shore': 5.978885764901122, 'them.': 4.3694478524670215, 'the': 0.6599519730715239, 'south': 3.2062970426613404}, {'and': 0.1919883835344143, 'then': 1.6094379124341003, 'owned.': 5.978885764901122, 'his': 1.5942044292180735, 'shot': 0.9682504708048661, 'restaurant': 3.676300671907076, 'nephews': 5.978885764901122, 'himself.': 2.5776883832389665, 'shooter': 1.425008873300581, 'two': 1.0372433422918177, 'injured': 2.265313698196814, 'at': 0.5989884113606623, 'they': 2.72078922687964, 'of': 0.7971022146090367, 'brother.': 4.880273476233012, 'the': 0.43996798204768256, 'killed': 1.8580595153031696, 'he': 0.6855809401766295}, {'and': 0.3839767670688286, 'the': 3.2997598653576192, 'shooter': 2.850017746601162, 'bags.': 5.978885764901122, 'just': 4.187126295673067, 'trooper': 23.915543059604488, 'seconds,': 5.978885764901122, 'station': 13.777774211343694, 'greyhound': 5.978885764901122, 'walk': 5.285738584341177, 'talked': 5.285738584341177, 'gunman': 5.6016638691063525, 'at': 1.7969652340819868, 'in': 0.746167397210249, 'shot': 1.9365009416097323, 'after': 1.62217693821153, 'before': 0.7971022146090367, 'was': 0.8489870499780484, 'away.': 5.978885764901122, 'by': 1.435590982631118, 'from': 6.141180396530389, 'for': 2.150244368412027, 'few': 4.3694478524670215, 'away': 3.899444223221286, 'had': 4.055284092639389, 'two': 1.0372433422918177, 'been': 5.223179869829296, 'quickly': 5.285738584341177, 'to': 2.7679198786584416, 'state': 3.676300671907076, 'other': 5.0897971208319515, 'suspect': 4.187126295673067, 'bus': 13.777774211343694, 'right,': 5.978885764901122, 'dozen': 5.285738584341177, 'waistband': 5.978885764901122, 'exercise': 5.978885764901122, 'his': 2.39130664382711, 'approached': 4.0329756158458085, 'inches': 5.978885764901122, 'sitting': 5.285738584341177, 'turned': 4.0329756158458085, 'when': 2.4823782034346418, 'virginia': 4.187126295673067, 'immediate': 5.978885764901122, 'brief': 5.978885764901122, 'pulled': 3.5809904921027513, 'front': 4.0329756158458085, 'violent.': 5.978885764901122, 'with': 4.306772947893354, 'killed': 0.9290297576515848, 'encounter': 5.285738584341177, 'he': 0.6855809401766295, 'a': 1.0364878796341013, 'about': 2.72078922687964, 'troopers.': 5.978885764901122, 'shortly': 4.187126295673067, 'luggage': 5.978885764901122, 'troopers': 5.978885764901122, 'restaurant': 3.676300671907076, 'gun': 2.5131498621013955, 'participating': 5.978885764901122, 'trooper�s': 5.978885764901122, 'near': 3.676300671907076, 'man': 1.5015489504229154, 'training': 4.880273476233012, 'entrance.': 5.978885764901122, 'went': 2.3412996051747363, 'fatally': 2.72078922687964, 'began': 1.8845412026790211, 'suspect.': 5.285738584341177}, {'shooter': 1.425008873300581, 'people': 1.479076094570857, 'being': 2.2176856492075596, 'an': 1.5968591302272404, 'ago.': 5.978885764901122, 'at': 0.5989884113606623, '�': 5.978885764901122, 'in': 0.3730836986051245, 'probation': 5.978885764901122, 'shooting': 1.5015489504229154, 'before': 0.7971022146090367, 'monitored': 5.978885764901122, 'two': 1.0372433422918177, 'day': 3.5809904921027513, 'to': 0.9226399595528139, 'prison': 5.285738584341177, 'ankle': 5.978885764901122, 'weeks': 5.978885764901122, 'was': 1.6979740999560968, 'killed': 0.9290297576515848, 'his': 0.7971022146090367, 'that': 2.2176856492075596, 'friday': 3.676300671907076, 'but': 3.088514007004957, 'whereabouts,': 5.978885764901122, 'wear': 5.978885764901122, 'device': 5.978885764901122, 'from': 2.0470601321767963, 'removed': 5.978885764901122, 'shootings.': 5.285738584341177, 'after': 1.62217693821153, 'he': 0.6855809401766295, 'a': 0.2591219699085253, 'on': 0.7609276118054943, 'about': 2.72078922687964, 'released': 5.978885764901122, 'home.': 3.2062970426613404, 'required': 5.978885764901122, 'bracelet': 5.978885764901122, 'three': 1.584436610228683, 'were': 1.7022196458850665, 'the': 0.8799359640953651}, {'and': 0.1919883835344143, 'all': 3.339828435285863, 'shot': 0.9682504708048661, 'two': 1.0372433422918177, 'at': 0.5989884113606623, 'shooting': 1.5015489504229154, 'three': 1.584436610228683, 'of': 0.7971022146090367, 'home.': 3.2062970426613404, 'his': 0.7971022146090367, 'victims': 3.088514007004957, 'was': 0.8489870499780484, 'initially': 5.285738584341177, 'friday': 3.676300671907076, 'family�s': 5.978885764901122, 'sons': 4.592591403781231, 'suspected': 4.3694478524670215, 'with': 1.435590982631118, 'man': 1.5015489504229154, 'a': 0.12956098495426266, 'on': 0.38046380590274714, 'wife': 2.5776883832389665, 'residence': 4.592591403781231, 'inside': 2.646681254725918, 'shotgun.': 5.285738584341177, 'morning': 3.0344467857346813, 'were': 1.7022196458850665, 'the': 0.6599519730715239}, {'and': 0.1919883835344143, 'then': 1.6094379124341003, 'his': 1.5942044292180735, 'suicide': 3.145672420844906, 'in': 0.3730836986051245, 'wife': 2.5776883832389665, 'commits': 5.285738584341177, 'injures': 5.978885764901122, 'two': 1.0372433422918177, 'sons': 4.592591403781231, 'their': 2.1946961309828605, 'alabama,': 5.285738584341177, 'at': 0.5989884113606623, 'rural': 4.880273476233012, 'home': 2.3412996051747363, 'murders': 4.592591403781231, 'husband': 4.3694478524670215}, {'and': 0.3839767670688286, 'then': 1.6094379124341003, 'his': 0.7971022146090367, 'shot': 0.9682504708048661, 'wife': 2.5776883832389665, 'himself.': 2.5776883832389665, 'turned': 4.0329756158458085, 'gun': 2.5131498621013955, 'two': 1.0372433422918177, 'a': 0.12956098495426266, 'boys,': 4.880273476233012, 'on': 0.38046380590274714, 'the': 0.21998399102384128, 'man': 1.5015489504229154, 'killed': 0.9290297576515848, 'he': 0.6855809401766295}, {'sherman,': 5.978885764901122, 'then': 1.6094379124341003, 'and': 0.1919883835344143, 'tx,': 5.978885764901122, 'wife': 2.5776883832389665, 'his': 0.7971022146090367, 'commits': 5.285738584341177, 'young': 3.270835563798912, 'two': 1.0372433422918177, 'suicide': 3.145672420844906, 'in': 0.3730836986051245, 'murders': 4.592591403781231, 'children': 3.2062970426613404, 'husband': 4.3694478524670215}, {'and': 0.3839767670688286, 'set': 3.7816611875649024, 'shot': 0.9682504708048661, 'house': 2.646681254725918, 'two': 1.0372433422918177, 'himself': 2.5776883832389665, 'in': 0.3730836986051245, 'stint': 5.978885764901122, 'before': 0.7971022146090367, 'from': 2.0470601321767963, 'post-traumatic': 5.978885764901122, 'children': 3.2062970426613404, 'their': 2.1946961309828605, 'suffered': 5.285738584341177, 'his': 0.7971022146090367, 'that': 2.2176856492075596, 'fire': 1.3060569304392156, 'who': 2.367967852256897, 'killing': 1.2603868936060274, 'included': 5.285738584341177, 'former': 1.9899017183368475, 'a': 0.388682954862788, 'on': 0.38046380590274714, 'stress': 5.978885764901122, 'wife': 2.5776883832389665, 'career': 5.978885764901122, 'disorder': 5.978885764901122, 'soldier': 4.880273476233012, 'iraq.': 5.978885764901122, 'following': 4.187126295673067, 'military': 3.5809904921027513, 'fatally': 2.72078922687964}, {'and': 0.1919883835344143, 'his': 0.7971022146090367, 'committing': 2.0470601321767963, 'wife': 2.5776883832389665, 'two': 1.0372433422918177, 'kentucky': 4.880273476233012, 'their': 2.1946961309828605, 'suicide': 3.145672420844906, 'at': 0.5989884113606623, 'home': 2.3412996051747363, 'murders': 4.592591403781231, 'children': 3.2062970426613404, 'husband': 4.3694478524670215, 'before': 0.7971022146090367}, {'and': 0.1919883835344143, 'party': 2.934363327177699, 'in': 0.746167397210249, 'that': 2.2176856492075596, 'house': 2.646681254725918, 'spring': 4.880273476233012, 'people': 1.479076094570857, 'one': 1.9715525796686508, 'four': 1.674820671696952, 'ended': 3.899444223221286, 'a': 0.2591219699085253, 'gunfire': 4.880273476233012, '400': 5.285738584341177, 'break': 4.880273476233012, 'wounded': 1.7303905228517629, 'others.': 2.8008319345531763, 'with': 1.435590982631118, 'killed': 0.9290297576515848, 'packed': 5.978885764901122, 'man': 1.5015489504229154}, {'injured': 2.265313698196814, 'and': 0.1919883835344143, '12': 4.3694478524670215, 'critically': 4.187126295673067, 'fired': 2.128738163191063, 'drive-by': 5.285738584341177, 'wetumpka,': 5.978885764901122, 'that': 2.2176856492075596, 'two': 2.0744866845836354, 'dead': 2.5448985604159757, 'rounds': 4.880273476233012, 'alabama.': 4.880273476233012, 'shooter': 1.425008873300581, 'afternoon': 4.3694478524670215, 'a': 0.2591219699085253, 'in': 0.746167397210249, 'from': 2.0470601321767963, 'handgun': 4.3694478524670215, 'saturday': 3.7816611875649024, 'semi-automatic': 5.978885764901122, 'left': 3.339828435285863}, {'and': 0.1919883835344143, 'fired': 2.128738163191063, 'crowd': 4.592591403781231, 'house': 2.646681254725918, 'over': 3.5809904921027513, 'one,': 5.978885764901122, 'one': 1.9715525796686508, 'at': 0.5989884113606623, 'four.': 4.880273476233012, 'any': 4.880273476233012, 'information': 5.285738584341177, 'escaped.': 5.978885764901122, 'no': 3.339828435285863, '400': 5.285738584341177, 'party': 2.934363327177699, 'into': 2.3153241187714753, 'a': 0.12956098495426266, 'provided': 5.978885764901122, 'spring': 4.880273476233012, 'who': 2.367967852256897, 'killing': 1.2603868936060274, 'break': 4.880273476233012, 'injuring': 2.5448985604159757, 'with': 1.435590982631118, 'shooter,': 4.187126295673067, 'about': 2.72078922687964, 'people,': 3.676300671907076, 'shooter': 1.425008873300581, 'the': 0.21998399102384128}, {'a': 0.12956098495426266, 'club': 3.676300671907076, 'people': 2.958152189141714, 'started': 6.8278728148791705, 'of': 0.7971022146090367, 'arguing.': 5.978885764901122, 'when': 4.9647564068692835, 'two': 1.0372433422918177, 'nightclub': 4.187126295673067, 'leave': 3.899444223221286, 'to': 0.9226399595528139, 'outside': 2.887843311542806, 'injured.': 3.088514007004957, 'five': 2.2412161466177536, 'they': 8.16236768063892, 'were': 5.106658937655199, 'the': 0.21998399102384128, 'groups': 4.592591403781231, 'asked': 4.187126295673067, 'shooting.': 2.934363327177699}, {'a': 0.2591219699085253, '12': 4.3694478524670215, 'group': 3.270835563798912, 'family': 2.8433915489719723, 'was': 0.8489870499780484, 'of': 0.7971022146090367, 'shot.': 4.880273476233012, 'when': 2.4823782034346418, 'fight': 4.0329756158458085, 'four': 1.674820671696952, 'celebrating': 5.978885764901122, 'birthday': 4.592591403781231, 'broke': 3.5809904921027513, 'party': 2.934363327177699, 'out,': 5.285738584341177, 'people': 1.479076094570857, 'arrived.': 5.285738584341177}, {'and': 0.1919883835344143, 'a': 0.2591219699085253, 'his': 0.7971022146090367, 'led': 4.3694478524670215, 'help': 4.880273476233012, 'her': 2.367967852256897, 'girlfriend,': 4.3694478524670215, 'injure': 5.285738584341177, 'domestic': 4.0329756158458085, 'who': 2.367967852256897, 'bystander': 5.978885764901122, 'daughter,': 4.880273476233012, 'kill': 3.899444223221286, 'shoot': 4.0329756158458085, 'man': 1.5015489504229154, 'girlfriend': 4.0329756158458085, 'the': 0.21998399102384128, 'trying': 4.592591403781231, 'was': 0.8489870499780484, 'to': 1.8452799191056277, 'dispute': 3.4939791151131216}, {'and': 0.1919883835344143, 'shot': 0.9682504708048661, 'one': 1.9715525796686508, 'at': 0.5989884113606623, 'in': 0.3730836986051245, 'up.': 5.285738584341177, 'nj': 5.978885764901122, 'apartment': 3.5809904921027513, 'group': 3.270835563798912, 'when': 2.4823782034346418, 'two': 1.0372433422918177, 'outside': 2.887843311542806, 'complex': 4.880273476233012, 'black': 4.3694478524670215, 'trenton,': 5.978885764901122, 'got': 3.7816611875649024, 'an': 1.5968591302272404, 'arguing': 4.592591403781231, 'men': 3.2062970426613404, 'injuring': 2.5448985604159757, 'women,': 5.978885764901122, 'five.': 5.978885764901122, 'sidewalk': 5.978885764901122, 'women': 3.7816611875649024, 'a': 0.388682954862788, 'on': 0.38046380590274714, 'acura': 5.978885764901122, 'of': 1.5942044292180735, 'were': 1.7022196458850665, 'the': 0.21998399102384128, 'pulled': 3.5809904921027513, 'out.': 5.978885764901122}, {'and': 0.5759651506032429, 'three': 1.584436610228683, 'four': 1.674820671696952, 'are': 3.7816611875649024, 'in': 0.3730836986051245, 'drove': 2.9831534913471307, 'suspects': 4.3694478524670215, 'opened': 1.3737155789130306, 'no': 3.339828435285863, 'broad': 5.978885764901122, 'away': 3.899444223221286, 'there': 3.7816611875649024, 'when': 2.4823782034346418, 'two': 2.0744866845836354, 'suv': 10.571477168682353, 'injured.': 3.088514007004957, 'black': 4.3694478524670215, 'got': 3.7816611875649024, 'sitting': 5.285738584341177, 'fire': 1.3060569304392156, 'men': 6.412594085322681, 'were': 3.404439291770133, 'on': 0.38046380590274714, 'with': 1.435590982631118, 'by': 1.435590982631118, 'died': 3.145672420844906, 'a': 0.2591219699085253, 'passengers': 4.592591403781231, 'porch': 5.978885764901122, 'of': 0.7971022146090367, 'daylight.': 5.978885764901122, 'the': 0.43996798204768256}, {'and': 0.3839767670688286, 'all': 3.339828435285863, 'shot': 0.9682504708048661, 'direction.': 5.978885764901122, 'people': 1.479076094570857, 'others': 2.107684753993231, 'cookout,': 5.978885764901122, 'number': 5.285738584341177, 'one': 1.9715525796686508, 'as': 5.0897971208319515, 'woman': 2.887843311542806, 'fatalities': 4.592591403781231, 'at': 0.5989884113606623, 'in': 0.3730836986051245, 'gunmen': 4.880273476233012, 'fetus': 5.978885764901122, 'homicide': 4.880273476233012, 'high-velocity': 5.978885764901122, 'death': 3.4139364074395853, 'raised': 5.978885764901122, 'working': 5.285738584341177, '8-month-old': 5.978885764901122, 'two': 2.0744866845836354, 'including': 3.088514007004957, 'to': 1.8452799191056277, 'woman�s': 5.978885764901122, 'a': 0.6478049247713134, 'head': 4.592591403781231, 'his': 0.7971022146090367, 'victims': 3.088514007004957, 'team': 4.592591403781231, 'driven': 5.978885764901122, 'attacker': 5.285738584341177, 'six.': 5.285738584341177, 'five': 2.2412161466177536, 'they': 2.72078922687964, 'rifle': 4.187126295673067, 'authorities': 4.880273476233012, 'backyard': 5.285738584341177, 'with': 1.435590982631118, 'ruled': 5.978885764901122, 'shoot': 4.0329756158458085, 'critically': 4.187126295673067, 'using': 5.285738584341177, 'pregnant': 4.880273476233012, 'of': 1.5942044292180735, 'later': 2.008593851349, 'were': 1.7022196458850665, 'wounded': 1.7303905228517629, 'the': 1.0999199551192065, 'fatally': 2.72078922687964}, {'and': 0.3839767670688286, 'the': 0.6599519730715239, 'family': 2.8433915489719723, 'people': 1.479076094570857, 'house': 2.646681254725918, 'is': 3.4939791151131216, 'in': 0.3730836986051245, 'scene': 3.4139364074395853, 'one': 3.9431051593373017, 'including': 3.088514007004957, 'have': 4.0329756158458085, 'suspected': 4.3694478524670215, 'gunmen': 9.760546952466024, 'there': 3.7816611875649024, 'when': 2.4823782034346418, 'two': 2.0744866845836354, 'been': 2.611589934914648, 'fled': 2.934363327177699, '5': 4.880273476233012, 'was': 0.8489870499780484, 'cookout': 5.978885764901122, 'target,': 4.880273476233012, 'started': 3.4139364074395853, 'but': 3.088514007004957, 'identified.': 5.285738584341177, 'not': 3.7816611875649024, 'backyard': 5.285738584341177, 'killed,': 5.285738584341177, 'shooting.': 2.934363327177699, 'a': 0.388682954862788, 'pregnant': 4.880273476233012, 'of': 0.7971022146090367, 'were': 1.7022196458850665, 'woman.': 5.285738584341177, 'having': 4.3694478524670215, 'came': 4.3694478524670215}, {'and': 0.1919883835344143, 'neighbors': 4.0329756158458085, 'all': 3.339828435285863, 'shot': 1.9365009416097323, 'city,': 4.880273476233012, 'people': 2.958152189141714, 'house': 2.646681254725918, 'tuesday': 4.592591403781231, 'kansas.': 5.285738584341177, 'four': 3.349641343393904, 'are': 3.7816611875649024, 'in': 1.492334794420498, 'home': 4.682599210349473, 'missouri.': 5.978885764901122, 'fifth': 5.978885764901122, 'death': 3.4139364074395853, 'night': 4.187126295673067, 'next': 3.7816611875649024, 'to': 1.8452799191056277, 'was': 0.8489870499780484, 'other.': 5.978885764901122, 'door': 4.880273476233012, 'monday': 8.374252591346133, 'familiar': 5.978885764901122, 'kansas': 5.285738584341177, 'were': 3.404439291770133, 'lives': 4.3694478524670215, 'dead': 2.5448985604159757, 'with': 1.435590982631118, 'man': 1.5015489504229154, 'a': 0.388682954862788, 'shooter': 2.850017746601162, 'each': 4.3694478524670215, 'found': 5.686783097943945, 'the': 0.8799359640953651, 'where': 2.2176856492075596, 'night.': 5.285738584341177}, {'la.': 5.978885764901122, 'shot': 0.9682504708048661, 'people': 1.479076094570857, 'four': 1.674820671696952, 'lafayette,': 5.285738584341177, 'in': 0.746167397210249, 'non-life-threatening': 5.285738584341177, 'injuries': 5.285738584341177, 'boulevard': 5.285738584341177, 'no': 3.339828435285863, 'there': 3.7816611875649024, 'scene.': 3.088514007004957, 'truck,': 5.978885764901122, 'shooters': 4.0329756158458085, 'multiple': 4.880273476233012, 'ford': 5.285738584341177, 'leads.': 5.978885764901122, 'during': 2.934363327177699, 'with': 1.435590982631118, 'fled': 2.934363327177699, 'a': 0.12956098495426266, 'on': 0.38046380590274714, 'drive-by': 5.285738584341177, 'f-150': 5.978885764901122, 'mlk': 5.978885764901122, 'truck': 4.592591403781231, 'were': 1.7022196458850665, 'the': 0.43996798204768256}, {'neighbors': 4.0329756158458085, 'people': 1.479076094570857, 'is': 3.4939791151131216, 'random': 4.3694478524670215, 'house.': 4.3694478524670215, 'it': 4.187126295673067, 'four': 1.674820671696952, 'as': 2.5448985604159757, 'at': 0.5989884113606623, 'in': 0.3730836986051245, 'seen': 5.978885764901122, 'captured': 5.978885764901122, 'scene,': 4.3694478524670215, 'next': 7.563322375129805, 'day,': 4.880273476233012, 'he': 0.6855809401766295, 'was': 0.8489870499780484, 'killed': 0.9290297576515848, 'his': 0.7971022146090367, 'door': 4.880273476233012, 'but': 3.088514007004957, 'fled': 2.934363327177699, 'hiding': 5.285738584341177, 'a': 0.2591219699085253, 'shooter': 1.425008873300581, 'ditch.': 5.978885764901122, 'act.': 5.978885764901122, 'the': 0.43996798204768256}, {'and': 0.1919883835344143, 'three-room': 5.978885764901122, 'vacant': 5.978885764901122, 'people': 1.479076094570857, 'resident': 4.880273476233012, 'an': 1.5968591302272404, 'at': 0.5989884113606623, 'in': 1.1192510958153736, 'shooting': 3.0030979008458307, 'vacant,': 5.978885764901122, '22-year-old.': 5.978885764901122, 'sunday': 3.5809904921027513, 'other': 2.5448985604159757, 'party': 5.868726654355398, 'teens': 5.285738584341177, 'was': 1.6979740999560968, 'happened': 5.285738584341177, 'pened': 5.978885764901122, 'shooter': 1.425008873300581, 'that': 2.2176856492075596, 'fire': 1.3060569304392156, 'early': 2.9831534913471307, 'five': 2.2412161466177536, 'gun': 2.5131498621013955, 'during': 2.934363327177699, 'apartment.': 9.185182807562462, 'one': 1.9715525796686508, 'with': 1.435590982631118, 'killed': 0.9290297576515848, 'a': 0.777365909725576, 'about': 2.72078922687964, 'of': 0.7971022146090367, '19-year-old': 4.187126295673067, '50': 5.978885764901122, 'morning': 3.0344467857346813, 'wounded': 1.7303905228517629, 'the': 0.43996798204768256, 'chelsea': 5.285738584341177}, {'among': 4.880273476233012, 'shot': 0.9682504708048661, 'fired': 2.128738163191063, 'people': 1.479076094570857, 'an': 1.5968591302272404, 'chelsea,': 5.285738584341177, 'in': 0.3730836986051245, '~50': 5.978885764901122, 'ma.': 5.978885764901122, 'apartment': 3.5809904921027513, '1': 4.187126295673067, 'dead.': 5.285738584341177, '6': 5.285738584341177, 'party': 2.934363327177699, 'was': 0.8489870499780484, 'empty': 5.978885764901122, 'shooters': 4.0329756158458085, 'upon': 3.7816611875649024, 'step': 5.978885764901122, 'wounded.': 3.899444223221286, 'those': 4.880273476233012, 'of': 0.7971022146090367, 'shooter': 1.425008873300581, 'brother': 4.3694478524670215, 'at': 0.5989884113606623}, {'seven': 5.966306982694261, 'followed.': 5.285738584341177, 'fired': 2.128738163191063, 'people': 1.479076094570857, 'four': 1.674820671696952, 'car.': 4.187126295673067, 'in': 0.746167397210249, 'led': 4.3694478524670215, 'group': 3.270835563798912, 'when': 2.4823782034346418, 'mini-van.': 5.978885764901122, 'to': 0.9226399595528139, 'hookah': 5.285738584341177, 'altercation': 4.187126295673067, 'stopped,': 5.978885764901122, 'non-life-threatening': 5.285738584341177, 'were': 1.7022196458850665, 'upon': 3.7816611875649024, 'they': 2.72078922687964, 'injuries.': 4.880273476233012, 'sustained': 5.978885764901122, 'a': 0.388682954862788, 'bar': 4.880273476233012, 'car': 2.683048898896793, 'shooter': 1.425008873300581, 'leave': 3.899444223221286, 'of': 1.5942044292180735, 'the': 0.8799359640953651}, {'a': 0.12956098495426266, 'kicked': 4.880273476233012, 'group': 3.270835563798912, 'around': 3.899444223221286, 'getting': 5.285738584341177, 'of': 1.5942044292180735, 'people': 1.479076094570857, 'took': 3.676300671907076, 'club.': 11.957771529802244, 'four': 1.674820671696952, 'to': 0.9226399595528139, 'outside': 2.887843311542806, 'injured.': 3.088514007004957, 'place': 4.3694478524670215, 'altercation': 4.187126295673067, '1am': 5.978885764901122, 'led': 4.3694478524670215, 'the': 0.21998399102384128, 'shooting': 1.5015489504229154, 'out': 2.423537703411708}, {'and': 0.1919883835344143, 'a': 0.12956098495426266, 'stripper.': 5.978885764901122, 'shot': 0.9682504708048661, 'then': 1.6094379124341003, 'he': 1.371161880353259, 'apparently': 3.899444223221286, 'people.': 4.0329756158458085, 'inappropriately': 5.978885764901122, 'four': 1.674820671696952, 'to': 0.9226399595528139, 'other': 2.5448985604159757, 'touched': 5.978885764901122, 'man': 1.5015489504229154, 'leave.': 5.285738584341177, 'the': 0.21998399102384128, 'outside,': 4.880273476233012, 'was': 0.8489870499780484, 'asked': 4.187126295673067, 'waited': 4.592591403781231, 'stripper': 5.978885764901122}, {'a': 0.12956098495426266, 'shooter': 1.425008873300581, 'group': 3.270835563798912, 'fired': 2.128738163191063, 'restaurant': 3.676300671907076, 'of': 0.7971022146090367, 'people': 1.479076094570857, 'upon': 3.7816611875649024, 'lot': 4.0329756158458085, 'in': 0.3730836986051245, 'parking': 3.4939791151131216}, {'all': 3.339828435285863, 'fired': 2.128738163191063, 'striking': 5.285738584341177, 'domestic': 4.0329756158458085, 'house,': 4.3694478524670215, 'three': 1.584436610228683, 'bedroom.': 5.285738584341177, 'in': 0.3730836986051245, 'saturday': 3.7816611875649024, 'from': 2.0470601321767963, 'officers': 3.145672420844906, 'to': 0.9226399595528139, 'call,': 5.285738584341177, 'home,': 3.676300671907076, 'dispute': 3.4939791151131216, 'his': 1.5942044292180735, 'door': 4.880273476233012, 'three.': 4.187126295673067, 'arrived': 2.3953668264450116, 'dead': 2.5448985604159757, 'rifle': 4.187126295673067, 'front': 4.0329756158458085, 'police': 1.635080343047438, 'a': 0.388682954862788, 'on': 0.38046380590274714, 'february': 2.5448985604159757, 'wife': 2.5776883832389665, 'of': 1.5942044292180735, 'inside': 2.646681254725918, 'shooter': 1.425008873300581, '27th,': 5.978885764901122, 'investigate': 5.285738584341177, 'found': 2.8433915489719723, 'the': 0.6599519730715239}, {'and': 0.5759651506032429, 'teenage': 4.592591403781231, 'shot': 1.9365009416097323, 'fired': 2.128738163191063, 'office': 2.683048898896793, 'had': 2.0276420463196945, 'two': 1.0372433422918177, 'county': 3.7816611875649024, 'say': 4.592591403781231, 'his': 2.39130664382711, 'kill': 3.899444223221286, 'at': 0.5989884113606623, 'in': 0.746167397210249, 'mason': 5.978885764901122, 'morning,': 5.978885764901122, 'phoned': 5.978885764901122, 'out': 2.423537703411708, 'family': 2.8433915489719723, 'her': 2.367967852256897, 'swat': 4.592591403781231, 'when': 2.4823782034346418, 'officers': 3.145672420844906, 'who': 2.367967852256897, 'killed': 0.9290297576515848, 'to': 1.8452799191056277, 'outside': 2.887843311542806, 'going': 5.285738584341177, 'house': 2.646681254725918, 'he': 1.371161880353259, 'was': 1.6979740999560968, 'property.': 5.978885764901122, 'wife,': 3.899444223221286, 'himself': 5.155376766477933, 'around': 3.899444223221286, 'that': 2.2176856492075596, 'gathered': 4.880273476233012, 'team': 4.592591403781231, 'gas': 4.0329756158458085, 'sons': 4.592591403781231, 'front': 8.065951231691617, 'flushed': 5.978885764901122, 'an': 1.5968591302272404, 'with': 1.435590982631118, 'neighbor.': 5.285738584341177, 'man': 3.0030979008458307, 'a': 0.2591219699085253, 'on': 0.38046380590274714, 'friday': 3.676300671907076, 'tear': 5.285738584341177, 'of': 2.39130664382711, 'next.': 5.978885764901122, 'shooter': 1.425008873300581, 'inside.': 4.880273476233012, 'walked': 3.899444223221286, '9am': 5.978885764901122, 'officer': 3.0344467857346813, \"sheriff's\": 4.880273476233012, 'were': 1.7022196458850665, 'the': 1.3199039461430477}, {'and': 0.1919883835344143, 'company,': 5.285738584341177, 'shot': 0.9682504708048661, 'restraining': 5.285738584341177, 'being': 2.2176856492075596, 'as': 2.5448985604159757, 'at': 1.7969652340819868, 'before': 1.5942044292180735, 'police': 1.635080343047438, 'had': 2.0276420463196945, 'been': 2.611589934914648, 'by': 1.435590982631118, 'scene.': 3.088514007004957, 'ford,': 5.978885764901122, 'order.': 5.978885764901122, 'his': 1.5942044292180735, 'victims': 3.088514007004957, 'who': 2.367967852256897, 'cedric': 5.978885764901122, 'from': 2.0470601321767963, 'worked': 4.187126295673067, 'manufacturing': 5.978885764901122, 'with': 1.435590982631118, 'killed': 0.9290297576515848, 'painter': 5.978885764901122, 'he': 0.6855809401766295, 'a': 0.388682954862788, 'shortly': 4.187126295673067, 'rampage': 4.0329756158458085, 'l.': 5.285738584341177, 'car': 2.683048898896793, 'workplace': 3.4939791151131216, 'served': 4.880273476233012, 'the': 0.43996798204768256}, {'and': 0.1919883835344143, 'on': 0.38046380590274714, 'fired': 2.128738163191063, 'just': 4.187126295673067, 'people': 1.479076094570857, 'minutes': 4.3694478524670215, 'into': 2.3153241187714753, 'random': 4.3694478524670215, 'friday,': 5.285738584341177, 'three': 3.168873220457366, 'likely': 5.285738584341177, 'storming': 5.978885764901122, '90': 5.285738584341177, 'others,': 5.285738584341177, 'shooting': 3.0030979008458307, 'before': 0.7971022146090367, 'police': 1.635080343047438, 'for': 2.150244368412027, 'returning': 5.285738584341177, 'had': 2.0276420463196945, 'factory': 9.185182807562462, 'been': 2.611589934914648, 'mower': 5.978885764901122, 'to': 1.8452799191056277, 'attack.': 4.187126295673067, 'man': 4.504646851268746, 'was': 0.8489870499780484, 'over': 3.5809904921027513, 'his': 0.7971022146090367, 'returned': 3.4939791151131216, 'triggered': 5.978885764901122, 'that': 2.2176856492075596, 'domestic': 4.0329756158458085, 'kansas': 5.285738584341177, 'violence,': 5.978885764901122, 'killing': 1.2603868936060274, 'workplace.': 4.592591403781231, 'protection': 5.285738584341177, 'court': 4.592591403781231, 'they': 2.72078922687964, 'wounded': 1.7303905228517629, 'from': 2.0470601321767963, 'worked': 4.187126295673067, 'believe': 5.285738584341177, 'after': 1.62217693821153, 'he': 1.371161880353259, 'a': 0.2591219699085253, 'spree.the': 5.978885764901122, 'lawn': 5.978885764901122, 'receiving': 5.978885764901122, 'central': 4.187126295673067, '14': 4.880273476233012, 'of': 0.7971022146090367, 'who': 2.367967852256897, 'say': 4.592591403781231, 'while': 3.4939791151131216, 'abuse': 5.978885764901122, 'served': 4.880273476233012, 'the': 1.539887937166889, 'them,': 5.978885764901122, 'where': 2.2176856492075596, 'order': 9.185182807562462, 'at': 0.5989884113606623}, {'and': 0.3839767670688286, 'shot': 0.9682504708048661, 'fired': 2.128738163191063, 'something': 5.285738584341177, 'in': 0.3730836986051245, 'before': 0.7971022146090367, 'man': 1.5015489504229154, 'two': 1.0372433422918177, 'him': 2.8433915489719723, 'to': 1.8452799191056277, 'bad.': 5.978885764901122, 'out': 2.423537703411708, 'tell': 5.978885764901122, 'wife,': 3.899444223221286, 'them': 3.339828435285863, 'himself': 2.5776883832389665, 'get': 4.592591403781231, 'gas': 4.0329756158458085, 'cops': 5.285738584341177, 'they': 2.72078922687964, 'outside.': 4.592591403781231, 'kids,': 5.978885764901122, 'killed': 0.9290297576515848, 'he': 1.371161880353259, 'tear': 5.285738584341177, 'calling': 5.978885764901122, 'did': 5.978885764901122, 'neighbor': 4.592591403781231, 'head.': 4.0329756158458085, 'the': 0.43996798204768256, 'came': 4.3694478524670215}, {'and': 0.1919883835344143, 'shot': 0.9682504708048661, 'sister.': 5.978885764901122, 'family': 2.8433915489719723, 'sister,': 4.880273476233012, 'house': 2.646681254725918, 'tuesday': 4.592591403781231, 'dead': 2.5448985604159757, 'son': 4.592591403781231, 'at': 0.5989884113606623, 'morning.': 4.187126295673067, 'police': 1.635080343047438, 'opened': 1.3737155789130306, 'their': 2.1946961309828605, 'confrontation': 4.592591403781231, 'mother,': 4.0329756158458085, 'home.': 3.2062970426613404, '6-year-old': 5.978885764901122, 'his': 3.188408858436147, 'fire': 1.3060569304392156, 'after': 3.24435387642306, 'five': 2.2412161466177536, 'father,': 4.592591403781231, 'members': 3.4139364074395853, 'killed': 0.9290297576515848, 'a': 0.12956098495426266, 'on': 0.38046380590274714, 'inside': 2.646681254725918, 'shooter': 2.850017746601162, '18-year-old': 4.0329756158458085, 'the': 0.8799359640953651, 'fatally': 2.72078922687964, 'are': 3.7816611875649024}, {'and': 0.3839767670688286, 'on': 0.38046380590274714, 'shooter.': 4.592591403781231, 'because': 4.880273476233012, 'police': 3.270160686094876, 'phoenix': 5.978885764901122, 'house': 2.646681254725918, 'in': 0.3730836986051245, 'two': 1.0372433422918177, 'fire.': 4.187126295673067, 'their': 2.1946961309828605, 'his': 0.7971022146090367, 'parents': 4.0329756158458085, 'son': 4.592591403781231, 'home.': 3.2062970426613404, 'sisters': 4.592591403781231, 'shot': 1.9365009416097323, 'the': 0.43996798204768256, 'arrive': 5.285738584341177, 'was': 0.8489870499780484, 'killed': 0.9290297576515848}, {'a': 0.12956098495426266, 'on': 0.38046380590274714, 'woman': 2.887843311542806, 'from': 2.0470601321767963, 'fired': 2.128738163191063, 'car': 2.683048898896793, 'injured.': 3.088514007004957, 'upon': 3.7816611875649024, 'died.': 4.880273476233012, 'one': 1.9715525796686508, 'mo.': 5.978885764901122, '3': 4.187126295673067, 'stolen': 4.3694478524670215, 'hazelwood,': 5.978885764901122, 'in': 0.3730836986051245, 'mercedes': 5.978885764901122, 'the': 0.21998399102384128, 'was': 0.8489870499780484, 'interstate': 5.978885764901122}, {'and': 0.1919883835344143, 'fired': 2.128738163191063, 'people': 2.958152189141714, 'number': 5.285738584341177, 'an': 1.5968591302272404, 'including': 3.088514007004957, 'in': 0.3730836986051245, 'group': 3.270835563798912, 'unknown': 4.880273476233012, 'suv': 5.285738584341177, 'injured.': 3.088514007004957, 'white': 4.592591403781231, 'truck.': 5.978885764901122, 'was': 0.8489870499780484, 'baby,': 5.978885764901122, 'upon': 3.7816611875649024, 'ford': 5.285738584341177, 'dark': 5.285738584341177, 'five': 2.2412161466177536, 'by': 1.435590982631118, 'a': 0.388682954862788, 'people,': 3.676300671907076, 'of': 1.5942044292180735, 'were': 1.7022196458850665}, {'kalamazoo': 5.978885764901122, 'selected': 5.978885764901122, 'shot': 0.9682504708048661, 'people': 1.479076094570857, 'over': 3.5809904921027513, 'in': 0.746167397210249, 'randomly': 4.3694478524670215, 'as': 2.5448985604159757, 'including': 3.088514007004957, 'at': 0.5989884113606623, 'parking': 3.4939791151131216, 'jason': 5.978885764901122, 'apparently': 3.899444223221286, 'restaurant.': 4.880273476233012, 'incident\"': 5.978885764901122, 'for': 2.150244368412027, 'locations,': 5.978885764901122, 'six': 2.5131498621013955, 'three': 1.584436610228683, 'lot': 4.0329756158458085, 'several': 3.4139364074395853, 'was': 0.8489870499780484, 'b.': 5.978885764901122, 'hours': 6.291344841689812, 'his': 0.7971022146090367, 'victims': 3.088514007004957, 'after': 1.62217693821153, 'driver': 4.880273476233012, 'different': 4.880273476233012, 'downtown': 4.3694478524670215, 'five': 2.2412161466177536, 'he': 2.0567428205298883, 'barrel': 5.978885764901122, 'uber,': 5.978885764901122, 'a': 0.5182439398170506, 'on': 0.38046380590274714, 'about': 2.72078922687964, 'bar': 4.880273476233012, 'began.': 5.978885764901122, 'rampage': 8.065951231691617, 'of': 0.7971022146090367, 'went': 2.3412996051747363, 'cracker': 5.978885764901122, 'dalton,': 5.978885764901122, 'without': 5.978885764901122, 'the': 0.43996798204768256, '\"arrested': 5.978885764901122}, {'and': 0.3839767670688286, 'house': 2.646681254725918, 'hours-long': 5.285738584341177, 'stormed': 4.880273476233012, 'domestic': 4.0329756158458085, 'iuka.': 5.978885764901122, 'dead': 2.5448985604159757, 'one': 1.9715525796686508, 'gunman': 2.8008319345531763, 'at': 0.5989884113606623, 'left': 3.339828435285863, 'home': 4.682599210349473, 'inside,': 5.285738584341177, '10-year-old': 5.978885764901122, 'saturday': 3.7816611875649024, 'mississippi': 4.880273476233012, 'law': 3.4139364074395853, 'sparking': 5.978885764901122, 'to': 2.7679198786584416, 'leading': 5.978885764901122, 'that': 2.2176856492075596, 'when': 2.4823782034346418, 'three': 1.584436610228683, 'also': 3.899444223221286, 'come': 5.285738584341177, 'call': 4.880273476233012, 'man,': 4.880273476233012, 'wounded.the': 5.978885764901122, 'dispute': 3.4939791151131216, 'enforcement': 3.899444223221286, 'his': 1.5942044292180735, 'daughter,': 4.880273476233012, 'started': 3.4139364074395853, 'friday': 3.676300671907076, 'but': 3.088514007004957, 'refused': 5.285738584341177, 'others': 2.107684753993231, 'authorities': 4.880273476233012, 'suspected': 4.3694478524670215, 'officers': 9.437017262534717, 'an': 1.5968591302272404, 'with': 4.306772947893354, 'after': 1.62217693821153, 'man': 1.5015489504229154, 'a': 0.5182439398170506, 'on': 0.38046380590274714, 'shootout': 4.0329756158458085, 'in': 0.746167397210249, 'wife': 2.5776883832389665, 'was': 0.8489870499780484, 'firing': 4.880273476233012, 'up': 6.679656870571726, 'northeastern': 5.978885764901122, 'officer': 3.0344467857346813, 'near': 3.676300671907076, 'afternoon': 4.3694478524670215, 'of': 0.7971022146090367, 'killed.': 4.187126295673067, 'outside.': 4.592591403781231, 'the': 1.0999199551192065, 'holed': 9.760546952466024, 'out,': 5.285738584341177, 'responded': 5.285738584341177, 'standoff': 13.108343557401064}, {'and': 0.1919883835344143, 'county.': 5.978885764901122, 'shot': 0.9682504708048661, 'people': 1.479076094570857, 'one': 1.9715525796686508, 'down': 3.339828435285863, 'evening': 4.0329756158458085, 'gunman': 2.8008319345531763, 'at': 0.5989884113606623, 'picked': 5.978885764901122, 'in': 0.746167397210249, 'drove': 2.9831534913471307, 'apparently': 3.899444223221286, 'saturday': 3.7816611875649024, 'different': 4.880273476233012, 'from': 2.0470601321767963, 'for': 4.300488736824054, 'uber.': 5.978885764901122, 'three': 1.584436610228683, 'to': 0.9226399595528139, 'parts': 5.285738584341177, 'between': 3.899444223221286, 'shootings,': 5.978885764901122, 'eight': 3.339828435285863, 'gunning': 5.978885764901122, 'victims': 3.088514007004957, 'on': 0.38046380590274714, 'random.': 4.880273476233012, 'hours': 3.145672420844906, 'five': 2.2412161466177536, 'nearly': 4.880273476233012, 'another,': 5.978885764901122, 'saturday,': 5.285738584341177, '20,': 3.4139364074395853, 'he': 0.6855809401766295, 'passengers': 4.592591403781231, 'february': 2.5448985604159757, 'target': 4.880273476233012, 'of': 1.5942044292180735, 'shooter': 1.425008873300581, 'up': 3.339828435285863, '2016,': 5.978885764901122, 'the': 0.8799359640953651}, {'a': 0.12956098495426266, 'bar': 4.880273476233012, 'shots': 4.0329756158458085, 'of': 0.7971022146090367, 'in': 0.746167397210249, 'florida': 4.0329756158458085, 'gun': 2.5131498621013955, 'argument': 3.7816611875649024, 'to': 0.9226399595528139, 'outside': 2.887843311542806, 'hookah': 5.285738584341177, 'lot': 4.0329756158458085, 'parking': 3.4939791151131216, 'led': 4.3694478524670215, 'the': 0.21998399102384128, 'tampa,': 5.285738584341177}, {'uber': 5.978885764901122, 'about': 2.72078922687964, 'in': 0.3730836986051245, 'fired': 2.128738163191063, 'people': 1.479076094570857, 'of': 0.7971022146090367, 'over': 3.5809904921027513, '6': 5.285738584341177, 'driver': 4.880273476233012, 'locations': 5.285738584341177, 'three': 1.584436610228683, 'course': 5.978885764901122, 'hours.': 5.285738584341177, 'the': 0.21998399102384128, 'an': 1.5968591302272404, 'upon': 3.7816611875649024}, {'and': 0.3839767670688286, 'shot': 0.9682504708048661, 'one': 1.9715525796686508, 'leads': 5.978885764901122, 'second': 4.592591403781231, 'at': 0.5989884113606623, 'victim': 4.0329756158458085, 'in': 0.3730836986051245, 'outright,': 5.978885764901122, 'suspects': 4.3694478524670215, 'no': 3.339828435285863, 'two': 2.0744866845836354, 'injured.': 3.088514007004957, 'hospital.': 4.592591403781231, 'others': 2.107684753993231, 'suspects.': 5.285738584341177, 'killed': 0.9290297576515848, 'died': 3.145672420844906, 'a': 0.12956098495426266, 'on': 0.38046380590274714, 'car': 2.683048898896793, 'person': 3.7816611875649024, 'the': 0.43996798204768256}, {'and': 0.3839767670688286, 'shooter': 1.425008873300581, 'shot': 0.9682504708048661, 'fired': 2.128738163191063, 'scene': 3.4139364074395853, 'high': 2.5776883832389665, 'at': 0.5989884113606623, 'police': 3.270160686094876, 'when': 2.4823782034346418, 'fight': 4.0329756158458085, 'him.': 3.4939791151131216, 'gym.': 5.978885764901122, 'outside': 2.887843311542806, 'was': 1.6979740999560968, 'fled': 2.934363327177699, 'injured': 2.265313698196814, 'his': 0.7971022146090367, 'three.': 4.187126295673067, 'part': 5.978885764901122, 'injuring': 2.5448985604159757, 'by': 1.435590982631118, 'he': 2.0567428205298883, 'a': 0.6478049247713134, 'school': 2.008593851349, 'crowd,': 4.592591403781231, 'of': 1.5942044292180735, \"wouldn't\": 5.978885764901122, 'drop': 4.592591403781231, 'weapon,': 5.285738584341177, 'officer.': 4.187126295673067, 'officer': 3.0344467857346813, 'the': 0.43996798204768256, 'confronted': 4.880273476233012}, {'a': 0.12956098495426266, 'and': 0.1919883835344143, 'shooting': 1.5015489504229154, 'in': 0.3730836986051245, 'people': 1.479076094570857, 'inside': 2.646681254725918, 'several': 3.4139364074395853, 'orlando': 4.880273476233012, 'two': 1.0372433422918177, 'an': 1.5968591302272404, 'early': 2.9831534913471307, 'sunday': 3.5809904921027513, 'were': 3.404439291770133, 'mass': 4.880273476233012, 'others': 2.107684753993231, 'hurt': 5.978885764901122, 'nightclub': 4.187126295673067, 'killed': 0.9290297576515848, 'morning.': 4.187126295673067}, {'a': 0.12956098495426266, 'rochester,': 5.978885764901122, 'after': 1.62217693821153, 'mexican': 5.285738584341177, 'fired': 2.128738163191063, 'people': 1.479076094570857, 'of': 1.5942044292180735, 'in': 0.3730836986051245, 'two': 1.0372433422918177, 'nightclub': 4.187126295673067, 'each': 4.3694478524670215, 'ny': 5.978885764901122, 'outside': 2.887843311542806, 'other': 2.5448985604159757, 'groups': 4.592591403781231, 'at': 0.5989884113606623, 'broke': 3.5809904921027513, 'village': 5.285738584341177, 'the': 0.21998399102384128, 'fight': 4.0329756158458085, 'out': 2.423537703411708}, {'and': 0.1919883835344143, 'strip': 5.285738584341177, 'one': 3.9431051593373017, 'in': 0.3730836986051245, 'out': 2.423537703411708, 'unknown': 4.880273476233012, 'six': 2.5131498621013955, 'when': 2.4823782034346418, 'firing.': 5.285738584341177, 'scene,': 4.3694478524670215, 'injured.': 3.088514007004957, 'club': 3.676300671907076, 'broke': 3.5809904921027513, 'an': 1.5968591302272404, 'died': 6.291344841689812, 'a': 0.12956098495426266, 'on': 0.38046380590274714, 'later.': 3.7816611875649024, 'shooter': 1.425008873300581, 'fighting': 5.285738584341177, 'person': 3.7816611875649024, 'were': 1.7022196458850665, 'the': 0.21998399102384128, 'starting': 5.978885764901122}, {'and': 0.1919883835344143, 'case.': 5.285738584341177, 'lay': 5.285738584341177, 'dead': 2.5448985604159757, 'one': 1.9715525796686508, 'street': 3.5809904921027513, 'female': 4.592591403781231, 'police': 1.635080343047438, 'young': 3.270835563798912, 'to': 1.8452799191056277, 'injured.': 3.088514007004957, 'males,': 5.285738584341177, 'assault': 4.3694478524670215, 'two': 1.0372433422918177, 'street.': 5.978885764901122, 'an': 1.5968591302272404, 'man': 1.5015489504229154, 'a': 0.2591219699085253, 'on': 0.38046380590274714, 'called': 3.899444223221286, 'hispanic': 5.978885764901122, 'investigate': 5.285738584341177, 'were': 3.404439291770133, 'the': 0.21998399102384128, 'other': 2.5448985604159757, 'adult': 5.285738584341177}, {'neighbors': 4.0329756158458085, 'and': 0.1919883835344143, 'his': 0.7971022146090367, 'kills': 5.978885764901122, 'himself.': 2.5776883832389665, '19-year-old': 4.187126295673067, 'two': 1.0372433422918177, 'killing': 1.2603868936060274, 'motive': 5.285738584341177, 'mother': 3.4139364074395853, 'male': 4.592591403781231, 'unclear.': 5.978885764901122, 'is': 3.4939791151131216, 'before': 0.7971022146090367}, {'and': 0.3839767670688286, 'shot': 0.9682504708048661, 'broke': 3.5809904921027513, 'one': 1.9715525796686508, 'at': 0.5989884113606623, 'in': 0.3730836986051245, 'out': 2.423537703411708, 'when': 2.4823782034346418, '3': 4.187126295673067, 'station': 4.592591403781231, 'altercation': 4.187126295673067, 'new': 3.270835563798912, 'injured': 4.530627396393628, 'victims': 3.088514007004957, 'returned': 3.4939791151131216, 'fire': 1.3060569304392156, 'gas': 4.0329756158458085, 'orleans,': 5.285738584341177, 'a': 0.12956098495426266, 'of': 0.7971022146090367, 'people.': 4.0329756158458085, 'shooter': 1.425008873300581, 'the': 0.6599519730715239, 'instigator.': 5.978885764901122}, {'and': 0.1919883835344143, 'broke': 3.5809904921027513, 'house': 2.646681254725918, 'house.': 4.3694478524670215, 'as': 2.5448985604159757, 'at': 0.5989884113606623, 'car,': 5.285738584341177, 'in': 0.3730836986051245, 'drove': 2.9831534913471307, 'party.': 4.880273476233012, 'out': 2.423537703411708, 'away,': 5.285738584341177, 'group': 3.270835563798912, 'opened': 1.3737155789130306, 'to': 0.9226399595528139, 'altercation': 4.187126295673067, 'leave.': 5.285738584341177, 'got': 3.7816611875649024, 'fire': 1.3060569304392156, 'hispanics': 5.978885764901122, 'five': 2.2412161466177536, 'they': 5.44157845375928, 'a': 0.388682954862788, 'on': 0.38046380590274714, 'of': 0.7971022146090367, 'were': 1.7022196458850665, 'the': 0.21998399102384128, 'asked': 4.187126295673067}, {'wife,': 3.899444223221286, 'then': 1.6094379124341003, 'himself': 2.5776883832389665, 'family': 2.8433915489719723, '42-year-old': 4.592591403781231, 'in': 0.3730836986051245, 'young': 3.270835563798912, 'two': 1.0372433422918177, 'members,': 4.880273476233012, 'head.': 4.0329756158458085, 'the': 0.21998399102384128, 'murders': 4.592591403781231, 'shoots': 11.957771529802244, 'husband': 4.3694478524670215}, {'and': 0.3839767670688286, 'shot': 0.9682504708048661, 'family': 2.8433915489719723, 'sister,': 4.880273476233012, 'wednesday.': 5.978885764901122, 'house': 7.940043764177755, 'dead': 2.5448985604159757, 'brother': 8.738895704934043, 'four': 1.674820671696952, 'his': 2.39130664382711, 'in': 1.1192510958153736, 'female.': 5.978885764901122, 'before': 0.7971022146090367, 'their': 4.389392261965721, 'p.m.': 4.3694478524670215, 'grandmother': 4.880273476233012, 'to': 1.8452799191056277, 'relatives': 9.760546952466024, 'other': 2.5448985604159757, 'mother,': 4.0329756158458085, 'man': 1.5015489504229154, '?': 5.285738584341177, 'more': 3.4939791151131216, 'then': 3.2188758248682006, 'belonging': 5.285738584341177, 'himself': 2.5776883832389665, 'turning': 3.4939791151131216, 'around': 3.899444223221286, 'virginia': 4.187126295673067, 'murdered': 4.592591403781231, 'father,': 4.592591403781231, 'an': 1.5968591302272404, 'killed': 1.8580595153031696, 'he': 1.371161880353259, 'a': 0.2591219699085253, 'on': 0.38046380590274714, 'unidentified': 5.978885764901122, 'went': 2.3412996051747363, 'gun': 2.5131498621013955, 'home,': 3.676300671907076, 'the': 0.43996798204768256, '3:35': 5.978885764901122, 'nearby': 3.899444223221286}, {'and': 0.1919883835344143, '26-year-old': 4.592591403781231, 'sister': 4.880273476233012, 'himself': 2.5776883832389665, 'his': 1.5942044292180735, 'of': 0.7971022146090367, 'brother,': 5.285738584341177, 'killing': 1.2603868936060274, 'grandmother,': 5.285738584341177, 'grandmother.': 5.285738584341177, 'father,': 4.592591403781231, 'in': 0.3730836986051245, 'mother,': 4.0329756158458085, 'home': 2.3412996051747363, 'the': 0.21998399102384128, 'killed': 0.9290297576515848, 'before': 0.7971022146090367}, {'mexican': 5.285738584341177, 'case.': 5.285738584341177, 'is': 3.4939791151131216, 'dead': 2.5448985604159757, 'at': 0.5989884113606623, 'pronounced': 5.978885764901122, 'restaurant.': 4.880273476233012, '1': 4.187126295673067, 'to': 1.8452799191056277, '4': 5.978885764901122, 'taken': 4.187126295673067, 'was': 0.8489870499780484, 'scene.': 3.088514007004957, 'hospital.': 4.592591403781231, 'very': 4.880273476233012, 'little': 5.978885764901122, 'cops': 5.285738584341177, 'others': 2.107684753993231, 'known': 5.285738584341177, 'a': 0.2591219699085253, 'about': 2.72078922687964, 'person': 3.7816611875649024, 'were': 3.404439291770133, 'the': 0.43996798204768256, 'called': 3.899444223221286}, {'and': 0.1919883835344143, 'a': 0.12956098495426266, 'his': 1.5942044292180735, 'shot': 0.9682504708048661, \"ex-girlfriend's\": 4.592591403781231, 'step-father,': 5.978885764901122, 'young': 3.270835563798912, 'mother,': 4.0329756158458085, 'boyfriend': 4.592591403781231, 'man': 1.5015489504229154}, {'and': 0.3839767670688286, 'angeles.': 5.978885764901122, 'fired': 2.128738163191063, 'people': 1.479076094570857, 'ak-47,': 5.978885764901122, 'liquor': 5.285738584341177, 'an': 1.5968591302272404, 'in': 0.3730836986051245, 'drove': 2.9831534913471307, 'standing': 4.592591403781231, 'boulevard': 5.285738584341177, 'group': 3.270835563798912, 'wounding': 2.107684753993231, '1': 4.187126295673067, 'los': 4.592591403781231, 'outside': 2.887843311542806, 'was': 0.8489870499780484, 'store': 4.880273476233012, 'killing': 1.2603868936060274, 'avalon': 5.978885764901122, 'by': 1.435590982631118, 'a': 0.2591219699085253, 'on': 0.38046380590274714, 'car': 2.683048898896793, '3.': 5.978885764901122, 'of': 1.5942044292180735, 'south': 3.2062970426613404}, {'and': 0.1919883835344143, 'shot': 0.9682504708048661, 'crowded.': 5.978885764901122, 'people': 1.479076094570857, 'house': 2.646681254725918, 'is': 3.4939791151131216, 'some': 5.978885764901122, 'it': 4.187126295673067, 'rest': 5.978885764901122, 'four': 1.674820671696952, 'woman': 2.887843311542806, 'relation': 5.978885764901122, 'at': 0.5989884113606623, 'her': 2.367967852256897, 'there': 3.7816611875649024, 'young': 3.270835563798912, 'to': 0.9226399595528139, 'got': 3.7816611875649024, 'threw': 5.978885764901122, 'his': 0.7971022146090367, 'very': 4.880273476233012, 'disagreement': 5.978885764901122, 'killing': 1.2603868936060274, 'one.': 4.592591403781231, 'party': 5.868726654355398, 'a': 0.2591219699085253, 'about': 2.72078922687964, 'for': 2.150244368412027, 'people,': 3.676300671907076, 'of': 0.7971022146090367, 'shooter': 1.425008873300581, 'birthday.': 5.978885764901122, 'the': 0.8799359640953651, 'came': 4.3694478524670215}, {'and': 0.1919883835344143, 'robbers': 5.978885764901122, 'shooting': 1.5015489504229154, 'people': 2.958152189141714, 'started': 3.4139364074395853, 'of': 0.7971022146090367, 'men': 3.2062970426613404, 'one': 1.9715525796686508, 'inside.': 4.880273476233012, 'house,': 4.3694478524670215, 'forcefully': 5.285738584341177, 'four': 1.674820671696952, 'injured.': 3.088514007004957, 'a': 0.12956098495426266, 'killed.': 4.187126295673067, 'the': 0.43996798204768256, 'entered': 2.0470601321767963, 'was': 0.8489870499780484, 'other': 2.5448985604159757, 'two': 1.0372433422918177}, {'and': 0.1919883835344143, 'fired': 2.128738163191063, 'an': 1.5968591302272404, 'down': 3.339828435285863, 'at': 0.5989884113606623, 'another': 2.150244368412027, 'out': 4.847075406823416, 'suspects': 4.3694478524670215, 'her': 4.735935704513794, 'help': 4.880273476233012, 'troubles': 5.978885764901122, 'two': 1.0372433422918177, 'scene.': 3.088514007004957, 'to': 1.8452799191056277, 'got': 7.563322375129805, 'woman': 2.887843311542806, 'road.': 5.978885764901122, 'with': 1.435590982631118, 'a': 0.2591219699085253, 'on': 0.38046380590274714, 'help.': 5.978885764901122, 'of': 1.5942044292180735, 'flagged': 5.978885764901122, '18-year-old': 4.0329756158458085, 'car': 8.049146696690379, 'the': 0.8799359640953651, 'side': 5.978885764901122}, {'and': 0.3839767670688286, 'injured': 2.265313698196814, 'critically': 4.187126295673067, 'people': 1.479076094570857, 'dealer': 5.978885764901122, 'house': 2.646681254725918, 'men': 3.2062970426613404, 'three': 1.584436610228683, 'drug': 4.592591403781231, 'the': 0.21998399102384128, 'arrived': 2.3953668264450116, 'at': 0.5989884113606623, 'a': 0.12956098495426266, 'of': 0.7971022146090367, 'more.': 4.592591403781231, 'one': 1.9715525796686508, 'killed': 0.9290297576515848, 'two': 1.0372433422918177}, {'and': 0.3839767670688286, 'shot': 0.9682504708048661, 'into': 2.3153241187714753, 'turned': 4.0329756158458085, 'two': 1.0372433422918177, 'woman': 2.887843311542806, 'are': 3.7816611875649024, 'year': 5.285738584341177, 'old': 1.9899017183368475, 'still': 5.285738584341177, 'morning.': 4.187126295673067, 'police': 1.635080343047438, 'for': 2.150244368412027, 'three': 1.584436610228683, 'their': 2.1946961309828605, 'other': 2.5448985604159757, 'suspect': 4.187126295673067, 'sunday.': 5.978885764901122, 'tuesday': 4.592591403781231, 'himself': 2.5776883832389665, 'lives': 4.3694478524670215, 'killed': 0.9290297576515848, 'shooting.': 2.934363327177699, 'women': 3.7816611875649024, 'a': 0.12956098495426266, 'on': 0.38046380590274714, 'daughter': 4.3694478524670215, 'her': 2.367967852256897, 'fighting': 5.285738584341177, 'were': 1.7022196458850665, 'following': 4.187126295673067, 'the': 0.43996798204768256}, {'and': 0.3839767670688286, 'ten': 4.3694478524670215, 'an': 1.5968591302272404, 'inland': 5.285738584341177, 'held': 4.3694478524670215, 'as': 2.5448985604159757, 'at': 0.5989884113606623, 'in': 0.3730836986051245, '21,': 3.4939791151131216, 'syed': 5.978885764901122, 'farook': 5.978885764901122, 'police': 1.635080343047438, 'opened': 1.3737155789130306, 'wounding': 2.107684753993231, 'two': 2.0744866845836354, 'fled': 2.934363327177699, 'party': 2.934363327177699, 'suv.': 5.285738584341177, 'christmas': 5.978885764901122, 'killed': 0.9290297576515848, 'center,': 4.592591403781231, 'returning': 5.285738584341177, 'regional': 4.880273476233012, 'fire,': 3.899444223221286, 'killing': 1.2603868936060274, 'were': 1.7022196458850665, 'rizwan': 5.978885764901122, 'they': 2.72078922687964, 'tashfeen': 5.978885764901122, 'with': 1.435590982631118, 'by': 1.435590982631118, 'a': 0.12956098495426266, '14': 4.880273476233012, 'later': 4.017187702698, 'critically.': 5.978885764901122, 'malik': 5.285738584341177, 'the': 0.43996798204768256, 'left': 3.339828435285863}, {'and': 0.5759651506032429, 'the': 2.199839910238413, 'on': 0.7609276118054943, 'san': 3.899444223221286, 'facility': 4.880273476233012, 'december': 2.72078922687964, 'into': 2.3153241187714753, 'an': 1.5968591302272404, 'inland': 5.285738584341177, 'at': 0.5989884113606623, 'a': 0.2591219699085253, 'hosted': 5.285738584341177, 'gunmen': 4.880273476233012, 'inspector': 5.978885764901122, 'party.': 9.760546952466024, '2015,': 2.3953668264450116, 'before': 0.7971022146090367, 'rented': 5.285738584341177, '21': 5.978885764901122, 'for': 2.150244368412027, 'began': 1.8845412026790211, 'two': 1.0372433422918177, 'firing.': 5.285738584341177, 'witnesses': 4.187126295673067, 'health': 8.738895704934043, '14': 4.880273476233012, 'department': 9.760546952466024, 'party': 2.934363327177699, 'entered': 2.0470601321767963, 'he': 2.0567428205298883, 'was': 2.546961149934145, 'public': 5.978885764901122, 'told': 4.187126295673067, 'wife,': 3.899444223221286, 'conference': 5.285738584341177, 'his': 0.7971022146090367, 'returned': 3.4939791151131216, 'that': 2.2176856492075596, 'bernardino': 5.285738584341177, 'center': 3.7816611875649024, 'abruptly': 5.978885764901122, 'police.': 2.4525252402849604, '2,': 4.187126295673067, 'regional': 4.880273476233012, 'injuring': 2.5448985604159757, 'but': 3.088514007004957, 'along': 4.592591403781231, 'killing': 1.2603868936060274, 'with': 2.871181965262236, 'by': 1.435590982631118, 'shooting.': 2.934363327177699, 'man': 1.5015489504229154, 'building': 3.145672420844906, 'county': 7.563322375129805, 'holiday': 5.978885764901122, 'room': 3.7816611875649024, 'angry,': 5.978885764901122, 'seemed': 5.978885764901122, 'property,': 5.978885764901122, 'people.': 4.0329756158458085, 'shooter': 1.425008873300581, 'wednesday': 4.592591403781231, 'people,': 3.676300671907076, 'of': 1.5942044292180735, 'went': 2.3412996051747363, 'left': 3.339828435285863}, {'and': 0.3839767670688286, 'shot': 0.9682504708048661, 'colorado': 4.3694478524670215, 'lewis': 5.978885764901122, 'hours-long': 5.285738584341177, '57,': 5.978885764901122, 'an': 1.5968591302272404, 'clinic': 4.880273476233012, 'at': 0.5989884113606623, 'in': 0.3730836986051245, 'dear': 5.978885764901122, 'police': 1.635080343047438, 'opened': 1.3737155789130306, 'wounded.': 3.899444223221286, 'robert': 4.3694478524670215, 'when': 2.4823782034346418, 'two': 1.0372433422918177, 'health': 4.3694478524670215, 'was': 0.8489870499780484, 'officer': 3.0344467857346813, 'colorado.': 5.978885764901122, 'fire': 1.3060569304392156, 'after': 1.62217693821153, 'police.': 2.4525252402849604, 'parenthood': 4.880273476233012, 'others': 2.107684753993231, 'with': 1.435590982631118, 'killed': 0.9290297576515848, 'he': 0.6855809401766295, 'a': 0.2591219699085253, 'citizens': 5.978885764901122, 'arrested': 2.3953668264450116, 'nine': 3.7816611875649024, 'planned': 4.187126295673067, 'were': 1.7022196458850665, 'dear,': 5.978885764901122, 'springs,': 5.978885764901122, 'standoff': 4.3694478524670215}, {'and': 0.3839767670688286, 'shooter': 2.850017746601162, 'fired': 2.128738163191063, 'people': 2.958152189141714, 'hurt.': 5.978885764901122, '27,': 3.899444223221286, 'three': 1.584436610228683, 'randomly': 4.3694478524670215, 'clinic': 9.760546952466024, 'through': 4.0329756158458085, 'at': 0.5989884113606623, 'surrendered': 4.880273476233012, 'in': 1.1192510958153736, 'shooting': 1.5015489504229154, '2015,': 2.3953668264450116, 'colorado': 4.3694478524670215, 'opened': 1.3737155789130306, 'officers': 3.145672420844906, 'to': 0.9226399595528139, 'which': 3.339828435285863, 'assault-style': 5.978885764901122, 'halls': 5.978885764901122, 'friday': 7.352601343814152, 'fire': 1.3060569304392156, 'after': 1.62217693821153, 'roamed': 5.978885764901122, 'parenthood': 4.880273476233012, 'walls': 5.978885764901122, 'others': 2.107684753993231, 'november': 3.145672420844906, 'an': 1.5968591302272404, 'with': 1.435590982631118, 'killed': 0.9290297576515848, 'rifle.': 5.978885764901122, 'he': 0.6855809401766295, 'a': 0.2591219699085253, 'on': 0.38046380590274714, 'of': 0.7971022146090367, 'inside': 2.646681254725918, 'ordeal': 5.978885764901122, 'five-hour': 5.978885764901122, 'nine': 3.7816611875649024, 'planned': 4.187126295673067, 'were': 3.404439291770133, 'the': 0.8799359640953651, 'springs.': 5.978885764901122}, {'23,': 3.899444223221286, 'and': 0.3839767670688286, 'shot': 1.9365009416097323, 'family': 2.8433915489719723, 'being': 2.2176856492075596, 'four': 1.674820671696952, 'at': 0.5989884113606623, 'girl': 4.187126295673067, '2015,': 2.3953668264450116, 'three': 1.584436610228683, 'victims.': 4.880273476233012, 'their': 2.1946961309828605, '12-year-old': 5.978885764901122, 'of': 3.188408858436147, 'suspect': 4.187126295673067, 'home.': 3.2062970426613404, 'friendly': 5.978885764901122, 'killed': 0.9290297576515848, 'monday': 4.187126295673067, 'after': 1.62217693821153, 'police.': 2.4525252402849604, 'members': 3.4139364074395853, 'november': 3.145672420844906, 'by': 1.435590982631118, 'died': 3.145672420844906, 'a': 0.388682954862788, 'on': 0.38046380590274714, 'was': 0.8489870499780484, 'shooter': 1.425008873300581, 'neighbor': 4.592591403781231, 'were': 1.7022196458850665, 'wounded': 1.7303905228517629, 'the': 0.6599519730715239, 'once': 4.592591403781231}, {'and': 0.1919883835344143, 'area,': 5.285738584341177, 'shot': 0.9682504708048661, 'at': 0.5989884113606623, 'have': 4.0329756158458085, 'in': 0.3730836986051245, 'dozen': 5.285738584341177, 'late': 5.285738584341177, 'supremacists': 5.978885764901122, 'from': 2.0470601321767963, 'opened': 1.3737155789130306, 'camping': 5.978885764901122, 'away': 3.899444223221286, 'since': 5.978885764901122, 'when': 2.4823782034346418, 'been': 2.611589934914648, 'protesters.': 5.978885764901122, 'to': 0.9226399595528139, 'black': 4.3694478524670215, 'white': 4.592591403781231, 'out': 2.423537703411708, 'monday': 4.187126295673067, 'nov.': 5.978885764901122, 'fire': 1.3060569304392156, 'attempted': 3.7816611875649024, 'night': 4.187126295673067, 'protesters': 17.936657294703366, 'herd': 5.978885764901122, '4th': 5.978885764901122, 'lives': 4.3694478524670215, 'they': 2.72078922687964, 'front': 4.0329756158458085, 'group': 6.541671127597824, 'precinct': 5.978885764901122, 'protest,': 5.285738584341177, 'a': 0.2591219699085253, 'on': 0.38046380590274714, 'about': 2.72078922687964, '15': 4.880273476233012, 'showed': 5.285738584341177, 'of': 1.5942044292180735, 'up': 3.339828435285863, 'matter': 4.880273476233012, 'near': 3.676300671907076, 'were': 1.7022196458850665, 'five': 2.2412161466177536, 'the': 1.3199039461430477, 'encampment.': 5.978885764901122}, {\"suspect's\": 5.978885764901122, 'and': 0.1919883835344143, 'residence.': 5.285738584341177, 'people': 1.479076094570857, 'trailer.': 5.978885764901122, 'private': 5.285738584341177, 'four': 1.674820671696952, 'are': 3.7816611875649024, 'in': 0.746167397210249, '2015,': 2.3953668264450116, 'pond': 5.978885764901122, '15,': 3.899444223221286, 'homicide': 4.880273476233012, 'campsite.': 5.978885764901122, 'travel': 5.978885764901122, 'six': 2.5131498621013955, 'p.m.': 4.3694478524670215, 'sunday': 3.5809904921027513, 'recovered': 5.978885764901122, 'males,': 5.285738584341177, 'woman': 2.887843311542806, 'monday': 4.187126295673067, 'initially': 5.285738584341177, 'who': 2.367967852256897, 'dead': 2.5448985604159757, 'november': 3.145672420844906, 'weekend': 5.285738584341177, 'after': 1.62217693821153, 'man': 1.5015489504229154, 'a': 0.6478049247713134, 'on': 0.7609276118054943, 'about': 2.72078922687964, 'missing,': 5.978885764901122, 'considered': 5.285738584341177, 'of': 2.39130664382711, 'later': 2.008593851349, '1:15': 5.978885764901122, 'were': 5.106658937655199, 'found': 2.8433915489719723, 'the': 0.6599519730715239, 'bodies': 9.760546952466024, 'at': 0.5989884113606623}, {'and': 0.3839767670688286, 'shot': 0.9682504708048661, 'father': 4.0329756158458085, 'into': 2.3153241187714753, \"girlfriend's\": 5.285738584341177, '13,': 4.592591403781231, 'girlfriend,': 4.3694478524670215, 'twin': 5.978885764901122, 'home': 2.3412996051747363, 'shooting': 1.5015489504229154, 'before': 0.7971022146090367, 'florida,': 4.880273476233012, 'had': 2.0276420463196945, 'member': 4.592591403781231, 'their': 2.1946961309828605, 'babies,': 5.978885764901122, 'northside,': 5.978885764901122, 'his': 1.5942044292180735, 'domestic': 4.0329756158458085, 'friday': 3.676300671907076, 'violence.': 5.978885764901122, '2015,the': 5.978885764901122, 'november': 3.145672420844906, 'former': 1.9899017183368475, 'a': 0.12956098495426266, 'on': 0.38046380590274714, 'of': 1.5942044292180735, 'himself.': 2.5776883832389665, 'shooter': 1.425008873300581, 'walked': 3.899444223221286, 'military': 3.5809904921027513, 'the': 0.21998399102384128, 'history': 5.285738584341177}, {'the': 0.6599519730715239, 'is': 3.4939791151131216, 'one': 1.9715525796686508, 'violent': 5.285738584341177, 'in': 0.3730836986051245, 'along': 4.592591403781231, 'saturday': 7.563322375129805, 'her': 4.735935704513794, 'shot.': 4.880273476233012, 'father': 4.0329756158458085, 'two': 1.0372433422918177, '2015,a': 5.978885764901122, 'also': 3.899444223221286, 'was': 0.8489870499780484, '7,': 3.4939791151131216, 'on': 0.38046380590274714, 'mother': 3.4139364074395853, 'toddlers': 5.978885764901122, 'early': 2.9831534913471307, 'children.': 4.592591403781231, 'november': 3.145672420844906, 'with': 1.435590982631118, 'killed': 0.9290297576515848, 'child.': 5.978885764901122, 'a': 0.12956098495426266, 'both': 4.0329756158458085, 'rampage': 4.0329756158458085, 'pregnant': 4.880273476233012, 'of': 3.985511073045184, 'shooter': 1.425008873300581, 'were': 1.7022196458850665, 'small': 5.978885764901122, 'unborn': 5.978885764901122}, {'and': 0.5759651506032429, 'all': 6.679656870571726, 'shot': 0.9682504708048661, 'upstairs': 5.978885764901122, 'into': 2.3153241187714753, 'year': 5.285738584341177, \"girlfriend's\": 10.571477168682353, 'young': 3.270835563798912, 'girlfriend,': 4.3694478524670215, 'lived': 10.571477168682353, 'gunman': 5.6016638691063525, 'in': 1.1192510958153736, 'girlfriend': 4.0329756158458085, 'turning': 3.4939791151131216, 'girl': 4.187126295673067, 'maine': 5.978885764901122, 'before': 0.7971022146090367, 'boyfriend)': 5.978885764901122, 'apartment': 7.161980984205503, 'her': 4.735935704513794, 'to': 0.9226399595528139, 'downstairs': 5.978885764901122, 'divided': 5.978885764901122, 'two': 2.0744866845836354, 'building,': 4.3694478524670215, 'their': 2.1946961309828605, '3': 4.187126295673067, 'other': 2.5448985604159757, 'which': 3.339828435285863, 'shared': 5.285738584341177, '(his': 5.978885764901122, 'home,': 3.676300671907076, 'unharmed': 5.285738584341177, 'brown': 5.978885764901122, 'apartments.': 5.285738584341177, 'his': 2.39130664382711, 'victims': 6.177028014009914, 'was': 0.8489870499780484, 'floor.': 5.285738584341177, 'death': 3.4139364074395853, 'they': 2.72078922687964, 'with': 1.435590982631118, 'boyfriend': 4.592591403781231, 'a': 0.388682954862788, 'on': 1.1413914177082414, 'sister': 9.760546952466024, 'daughter.': 5.285738584341177, 'central': 4.187126295673067, 'room': 3.7816611875649024, 'of': 0.7971022146090367, 'himself.': 2.5776883832389665, 'floor': 5.978885764901122, 'old': 1.9899017183368475, 'leaving': 4.3694478524670215, 'while': 3.4939791151131216, 'three': 1.584436610228683, 'were': 1.7022196458850665, 'found': 2.8433915489719723, 'the': 1.7598719281907302, 'clapboard': 5.978885764901122, 'weapon': 5.978885764901122, 'first': 8.738895704934043}, {'a': 0.12956098495426266, 'police': 1.635080343047438, 'colorado': 4.3694478524670215, 'noah': 5.978885764901122, 'people': 1.479076094570857, 'harpham,': 5.978885764901122, 'shootout.': 5.978885764901122, 'three': 1.584436610228683, 'dead': 2.5448985604159757, 'killed': 0.9290297576515848, '33,': 5.978885764901122, 'in': 0.746167397210249, 'springs': 5.978885764901122, 'him': 2.8433915489719723, 'shot': 0.9682504708048661, 'before': 1.5942044292180735}, {'and': 0.5759651506032429, 'walking': 11.957771529802244, 'shot': 0.9682504708048661, '31,': 4.3694478524670215, 'three': 1.584436610228683, 'street': 3.5809904921027513, 'gunman': 2.8008319345531763, 'at': 0.5989884113606623, 'in': 1.1192510958153736, '2015,': 2.3953668264450116, 'witness': 4.880273476233012, 'described': 5.285738584341177, 'calmly.': 5.978885764901122, 'bicyclist': 5.978885764901122, 'sidewalks': 5.978885764901122, 'two': 2.0744866845836354, 'he': 0.6855809401766295, 'was': 0.8489870499780484, 'guns,': 5.978885764901122, 'streets': 4.880273476233012, 'victims': 3.088514007004957, 'neighborhood.the': 5.978885764901122, 'police.': 2.4525252402849604, 'location.': 5.285738584341177, 'october': 3.0344467857346813, 'with': 2.871181965262236, 'killed': 1.8580595153031696, 'died': 3.145672420844906, 'women': 3.7816611875649024, 'a': 0.5182439398170506, 'on': 0.38046380590274714, 'shootout': 4.0329756158458085, 'of': 1.5942044292180735, 'shooter': 1.425008873300581, 'morning': 3.0344467857346813, 'were': 1.7022196458850665, 'the': 1.0999199551192065, 'nearby': 3.899444223221286}, {'and': 0.1919883835344143, 'teen': 5.285738584341177, 'teenage': 4.592591403781231, 'oct.': 5.978885764901122, 'his': 0.7971022146090367, 'another': 2.150244368412027, 'in': 0.746167397210249, '21,': 3.4939791151131216, 'ohio,': 5.285738584341177, '2015.': 4.592591403781231, 'colerain': 5.978885764901122, 'two': 1.0372433422918177, 'injured': 2.265313698196814, 'tuesday,': 5.285738584341177, 'hours': 3.145672420844906, 'township,': 5.285738584341177, 'sisters': 4.592591403781231, 'killed': 0.9290297576515848, 'man': 1.5015489504229154, 'a': 0.12956098495426266, 'early': 2.9831534913471307, 'of': 0.7971022146090367, 'the': 0.21998399102384128}, {'and': 0.1919883835344143, 'university.': 5.978885764901122, 'is': 6.987958230226243, 'dead': 2.5448985604159757, 'an': 3.1937182604544807, 'arizona': 9.760546952466024, 'are': 3.7816611875649024, 'shooting': 1.5015489504229154, '2015,': 2.3953668264450116, 'northern': 10.571477168682353, \"university's\": 5.978885764901122, 'escalated': 5.285738584341177, 'students': 2.423537703411708, 'between': 3.899444223221286, 'campus.': 4.592591403781231, 'into': 2.3153241187714753, 'friday': 3.676300671907076, '9,': 4.0329756158458085, 'gunfire.': 5.978885764901122, 'after': 1.62217693821153, 'early': 2.9831534913471307, 'two': 1.0372433422918177, 'groups': 4.592591403781231, 'freshman': 4.592591403781231, 'one': 1.9715525796686508, 'a': 0.12956098495426266, 'on': 0.7609276118054943, 'october': 3.0344467857346813, 'of': 2.39130664382711, 'shooter': 1.425008873300581, 'overnight': 5.978885764901122, 'morning': 3.0344467857346813, 'person': 3.7816611875649024, 'three': 1.584436610228683, 'wounded': 1.7303905228517629, 'the': 0.21998399102384128, 'confrontation': 4.592591403781231}, {'shot': 0.9682504708048661, 'being': 2.2176856492075596, 'community': 4.3694478524670215, 'college': 3.5809904921027513, 'at': 0.5989884113606623, 'in': 0.746167397210249, 'mercer': 5.978885764901122, 'death': 3.4139364074395853, 'opened': 1.3737155789130306, 'harper': 5.978885764901122, 'to': 0.9226399595528139, 'southwest': 5.978885764901122, '26-year-old': 4.592591403781231, 'himself': 2.5776883832389665, 'fire': 1.3060569304392156, 'after': 1.62217693821153, 'police.': 2.4525252402849604, 'umpqua': 5.978885764901122, 'wounded': 1.7303905228517629, 'chris': 5.978885764901122, 'with': 1.435590982631118, 'a': 0.12956098495426266, 'shootout': 4.0329756158458085, 'oregon.': 5.285738584341177, 'gunman': 2.8008319345531763, 'the': 0.21998399102384128}, {'and': 0.7679535341376572, 'seven': 2.9831534913471307, 'on': 0.7609276118054943, 'shot': 0.9682504708048661, 'people': 4.437228283712571, 'dead': 2.5448985604159757, 'three': 1.584436610228683, 'through': 4.0329756158458085, 'at': 0.5989884113606623, 'a': 0.6478049247713134, 'in': 1.1192510958153736, 'hit': 5.978885764901122, '2015,': 2.3953668264450116, 'police.': 2.4525252402849604, 'before': 1.5942044292180735, 'class.': 5.285738584341177, 'opened': 1.3737155789130306, 'dying': 5.285738584341177, 'religion': 5.978885764901122, 'snyder': 5.978885764901122, 'state': 3.676300671907076, 'gunman': 5.6016638691063525, 'writing': 5.978885764901122, 'their': 2.1946961309828605, 'window': 4.880273476233012, '9': 5.285738584341177, 'entered': 2.0470601321767963, 'opening': 4.3694478524670215, 'told': 8.374252591346133, 'then': 1.6094379124341003, 'head': 4.592591403781231, 'first,': 5.978885764901122, 'to': 1.8452799191056277, 'monday': 4.187126295673067, 'get': 4.592591403781231, 'fire': 1.3060569304392156, 'floor.': 5.285738584341177, 'fire.': 4.187126295673067, 'community': 4.3694478524670215, 'october': 3.0344467857346813, 'oregon': 4.880273476233012, 'rural': 4.880273476233012, 'freshman': 4.592591403781231, 'critically,': 5.285738584341177, 'with': 1.435590982631118, 'teacher': 2.934363327177699, 'wounded,': 5.285738584341177, 'he': 0.6855809401766295, 'classroom': 4.880273476233012, 'hall': 4.0329756158458085, 'shootout': 4.0329756158458085, 'of': 0.7971022146090367, 'up': 3.339828435285863, 'stand': 5.285738584341177, 'were': 1.7022196458850665, 'college': 3.5809904921027513, 'the': 1.3199039461430477, '1,': 3.4939791151131216, 'came': 4.3694478524670215, 'thursday.': 5.978885764901122}, ... ]"
      ]
     },
     "execution_count": 12,
     "metadata": {},
     "output_type": "execute_result"
    }
   ],
   "source": [
    "tfidf = graphlab.text_analytics.tf_idf(data['Summary'])\n",
    "tfidf"
   ]
  },
  {
   "cell_type": "code",
   "execution_count": 11,
   "metadata": {
    "collapsed": false
   },
   "outputs": [
    {
     "data": {
      "text/html": [
       "<div style=\"max-height:1000px;max-width:1500px;overflow:auto;\"><table frame=\"box\" rules=\"cols\">\n",
       "    <tr>\n",
       "        <th style=\"padding-left: 1em; padding-right: 1em; text-align: center\">S#</th>\n",
       "        <th style=\"padding-left: 1em; padding-right: 1em; text-align: center\">Title</th>\n",
       "        <th style=\"padding-left: 1em; padding-right: 1em; text-align: center\">Location</th>\n",
       "        <th style=\"padding-left: 1em; padding-right: 1em; text-align: center\">Date</th>\n",
       "        <th style=\"padding-left: 1em; padding-right: 1em; text-align: center\">Summary</th>\n",
       "        <th style=\"padding-left: 1em; padding-right: 1em; text-align: center\">Fatalities</th>\n",
       "    </tr>\n",
       "    <tr>\n",
       "        <td style=\"padding-left: 1em; padding-right: 1em; text-align: center; vertical-align: top\">1</td>\n",
       "        <td style=\"padding-left: 1em; padding-right: 1em; text-align: center; vertical-align: top\">Las Vegas Strip mass<br>shooting ...</td>\n",
       "        <td style=\"padding-left: 1em; padding-right: 1em; text-align: center; vertical-align: top\">Las Vegas, NV</td>\n",
       "        <td style=\"padding-left: 1em; padding-right: 1em; text-align: center; vertical-align: top\">10/1/2017</td>\n",
       "        <td style=\"padding-left: 1em; padding-right: 1em; text-align: center; vertical-align: top\"></td>\n",
       "        <td style=\"padding-left: 1em; padding-right: 1em; text-align: center; vertical-align: top\">58</td>\n",
       "    </tr>\n",
       "    <tr>\n",
       "        <td style=\"padding-left: 1em; padding-right: 1em; text-align: center; vertical-align: top\">2</td>\n",
       "        <td style=\"padding-left: 1em; padding-right: 1em; text-align: center; vertical-align: top\">San Francisco UPS<br>shooting ...</td>\n",
       "        <td style=\"padding-left: 1em; padding-right: 1em; text-align: center; vertical-align: top\">San Francisco, CA</td>\n",
       "        <td style=\"padding-left: 1em; padding-right: 1em; text-align: center; vertical-align: top\">6/14/2017</td>\n",
       "        <td style=\"padding-left: 1em; padding-right: 1em; text-align: center; vertical-align: top\">Jimmy Lam, 38, fatally<br>shot three coworkers and ...</td>\n",
       "        <td style=\"padding-left: 1em; padding-right: 1em; text-align: center; vertical-align: top\">3</td>\n",
       "    </tr>\n",
       "    <tr>\n",
       "        <td style=\"padding-left: 1em; padding-right: 1em; text-align: center; vertical-align: top\">3</td>\n",
       "        <td style=\"padding-left: 1em; padding-right: 1em; text-align: center; vertical-align: top\">Pennsylvania supermarket<br>shooting ...</td>\n",
       "        <td style=\"padding-left: 1em; padding-right: 1em; text-align: center; vertical-align: top\">Tunkhannock, PA</td>\n",
       "        <td style=\"padding-left: 1em; padding-right: 1em; text-align: center; vertical-align: top\">6/7/2017</td>\n",
       "        <td style=\"padding-left: 1em; padding-right: 1em; text-align: center; vertical-align: top\">Randy Stair, a 24-year-<br>old worker at Weis ...</td>\n",
       "        <td style=\"padding-left: 1em; padding-right: 1em; text-align: center; vertical-align: top\">3</td>\n",
       "    </tr>\n",
       "    <tr>\n",
       "        <td style=\"padding-left: 1em; padding-right: 1em; text-align: center; vertical-align: top\">4</td>\n",
       "        <td style=\"padding-left: 1em; padding-right: 1em; text-align: center; vertical-align: top\">Florida awning<br>manufacturer shooting ...</td>\n",
       "        <td style=\"padding-left: 1em; padding-right: 1em; text-align: center; vertical-align: top\">Orlando, Florida</td>\n",
       "        <td style=\"padding-left: 1em; padding-right: 1em; text-align: center; vertical-align: top\">6/5/2017</td>\n",
       "        <td style=\"padding-left: 1em; padding-right: 1em; text-align: center; vertical-align: top\">John Robert Neumann, Jr.,<br>45, a former employee of ...</td>\n",
       "        <td style=\"padding-left: 1em; padding-right: 1em; text-align: center; vertical-align: top\">5</td>\n",
       "    </tr>\n",
       "    <tr>\n",
       "        <td style=\"padding-left: 1em; padding-right: 1em; text-align: center; vertical-align: top\">5</td>\n",
       "        <td style=\"padding-left: 1em; padding-right: 1em; text-align: center; vertical-align: top\">Rural Ohio nursing home<br>shooting ...</td>\n",
       "        <td style=\"padding-left: 1em; padding-right: 1em; text-align: center; vertical-align: top\">Kirkersville, Ohio</td>\n",
       "        <td style=\"padding-left: 1em; padding-right: 1em; text-align: center; vertical-align: top\">5/12/2017</td>\n",
       "        <td style=\"padding-left: 1em; padding-right: 1em; text-align: center; vertical-align: top\">Thomas Hartless, 43, shot<br>and killed a former ...</td>\n",
       "        <td style=\"padding-left: 1em; padding-right: 1em; text-align: center; vertical-align: top\">3</td>\n",
       "    </tr>\n",
       "    <tr>\n",
       "        <td style=\"padding-left: 1em; padding-right: 1em; text-align: center; vertical-align: top\">6</td>\n",
       "        <td style=\"padding-left: 1em; padding-right: 1em; text-align: center; vertical-align: top\">Fresno downtown shooting</td>\n",
       "        <td style=\"padding-left: 1em; padding-right: 1em; text-align: center; vertical-align: top\">Fresno, California</td>\n",
       "        <td style=\"padding-left: 1em; padding-right: 1em; text-align: center; vertical-align: top\">4/18/2017</td>\n",
       "        <td style=\"padding-left: 1em; padding-right: 1em; text-align: center; vertical-align: top\">Kori Ali Muhammad, 39,<br>opened fire along a ...</td>\n",
       "        <td style=\"padding-left: 1em; padding-right: 1em; text-align: center; vertical-align: top\">3</td>\n",
       "    </tr>\n",
       "    <tr>\n",
       "        <td style=\"padding-left: 1em; padding-right: 1em; text-align: center; vertical-align: top\">7</td>\n",
       "        <td style=\"padding-left: 1em; padding-right: 1em; text-align: center; vertical-align: top\">Fort Lauderdale airport<br>shooting ...</td>\n",
       "        <td style=\"padding-left: 1em; padding-right: 1em; text-align: center; vertical-align: top\">Fort Lauderdale, Florida</td>\n",
       "        <td style=\"padding-left: 1em; padding-right: 1em; text-align: center; vertical-align: top\">1/6/2017</td>\n",
       "        <td style=\"padding-left: 1em; padding-right: 1em; text-align: center; vertical-align: top\">Esteban Santiago, 26,<br>flew from Alaska to Fort ...</td>\n",
       "        <td style=\"padding-left: 1em; padding-right: 1em; text-align: center; vertical-align: top\">5</td>\n",
       "    </tr>\n",
       "    <tr>\n",
       "        <td style=\"padding-left: 1em; padding-right: 1em; text-align: center; vertical-align: top\">8</td>\n",
       "        <td style=\"padding-left: 1em; padding-right: 1em; text-align: center; vertical-align: top\">Cascade Mall shooting</td>\n",
       "        <td style=\"padding-left: 1em; padding-right: 1em; text-align: center; vertical-align: top\">Burlington, WA</td>\n",
       "        <td style=\"padding-left: 1em; padding-right: 1em; text-align: center; vertical-align: top\">9/23/2016</td>\n",
       "        <td style=\"padding-left: 1em; padding-right: 1em; text-align: center; vertical-align: top\">Arcan Cetin, 20, killed a<br>teen girl and three w ...</td>\n",
       "        <td style=\"padding-left: 1em; padding-right: 1em; text-align: center; vertical-align: top\">5</td>\n",
       "    </tr>\n",
       "    <tr>\n",
       "        <td style=\"padding-left: 1em; padding-right: 1em; text-align: center; vertical-align: top\">9</td>\n",
       "        <td style=\"padding-left: 1em; padding-right: 1em; text-align: center; vertical-align: top\">Baton Rouge police<br>shooting ...</td>\n",
       "        <td style=\"padding-left: 1em; padding-right: 1em; text-align: center; vertical-align: top\">Baton Rouge, LA</td>\n",
       "        <td style=\"padding-left: 1em; padding-right: 1em; text-align: center; vertical-align: top\">7/17/2016</td>\n",
       "        <td style=\"padding-left: 1em; padding-right: 1em; text-align: center; vertical-align: top\">Gavin Long, a former<br>Marine who served in ...</td>\n",
       "        <td style=\"padding-left: 1em; padding-right: 1em; text-align: center; vertical-align: top\">3</td>\n",
       "    </tr>\n",
       "    <tr>\n",
       "        <td style=\"padding-left: 1em; padding-right: 1em; text-align: center; vertical-align: top\">10</td>\n",
       "        <td style=\"padding-left: 1em; padding-right: 1em; text-align: center; vertical-align: top\">Dallas police shooting</td>\n",
       "        <td style=\"padding-left: 1em; padding-right: 1em; text-align: center; vertical-align: top\">Dallas, Texas</td>\n",
       "        <td style=\"padding-left: 1em; padding-right: 1em; text-align: center; vertical-align: top\">7/7/2016</td>\n",
       "        <td style=\"padding-left: 1em; padding-right: 1em; text-align: center; vertical-align: top\">Micah Xavier Johnson, a<br>25-year-old Army vete ...</td>\n",
       "        <td style=\"padding-left: 1em; padding-right: 1em; text-align: center; vertical-align: top\">5</td>\n",
       "    </tr>\n",
       "</table>\n",
       "<table frame=\"box\" rules=\"cols\">\n",
       "    <tr>\n",
       "        <th style=\"padding-left: 1em; padding-right: 1em; text-align: center\">Injured</th>\n",
       "        <th style=\"padding-left: 1em; padding-right: 1em; text-align: center\">Total victims</th>\n",
       "        <th style=\"padding-left: 1em; padding-right: 1em; text-align: center\">Mental Health Issues</th>\n",
       "        <th style=\"padding-left: 1em; padding-right: 1em; text-align: center\">Race</th>\n",
       "        <th style=\"padding-left: 1em; padding-right: 1em; text-align: center\">Gender</th>\n",
       "        <th style=\"padding-left: 1em; padding-right: 1em; text-align: center\">Latitude</th>\n",
       "        <th style=\"padding-left: 1em; padding-right: 1em; text-align: center\">Longitude</th>\n",
       "        <th style=\"padding-left: 1em; padding-right: 1em; text-align: center\">word_count</th>\n",
       "    </tr>\n",
       "    <tr>\n",
       "        <td style=\"padding-left: 1em; padding-right: 1em; text-align: center; vertical-align: top\">515</td>\n",
       "        <td style=\"padding-left: 1em; padding-right: 1em; text-align: center; vertical-align: top\">573</td>\n",
       "        <td style=\"padding-left: 1em; padding-right: 1em; text-align: center; vertical-align: top\">Unclear</td>\n",
       "        <td style=\"padding-left: 1em; padding-right: 1em; text-align: center; vertical-align: top\"></td>\n",
       "        <td style=\"padding-left: 1em; padding-right: 1em; text-align: center; vertical-align: top\"></td>\n",
       "        <td style=\"padding-left: 1em; padding-right: 1em; text-align: center; vertical-align: top\">None</td>\n",
       "        <td style=\"padding-left: 1em; padding-right: 1em; text-align: center; vertical-align: top\">None</td>\n",
       "        <td style=\"padding-left: 1em; padding-right: 1em; text-align: center; vertical-align: top\">{}</td>\n",
       "    </tr>\n",
       "    <tr>\n",
       "        <td style=\"padding-left: 1em; padding-right: 1em; text-align: center; vertical-align: top\">2</td>\n",
       "        <td style=\"padding-left: 1em; padding-right: 1em; text-align: center; vertical-align: top\">5</td>\n",
       "        <td style=\"padding-left: 1em; padding-right: 1em; text-align: center; vertical-align: top\">Yes</td>\n",
       "        <td style=\"padding-left: 1em; padding-right: 1em; text-align: center; vertical-align: top\">Asian</td>\n",
       "        <td style=\"padding-left: 1em; padding-right: 1em; text-align: center; vertical-align: top\">M</td>\n",
       "        <td style=\"padding-left: 1em; padding-right: 1em; text-align: center; vertical-align: top\">None</td>\n",
       "        <td style=\"padding-left: 1em; padding-right: 1em; text-align: center; vertical-align: top\">None</td>\n",
       "        <td style=\"padding-left: 1em; padding-right: 1em; text-align: center; vertical-align: top\">{'and': 1, 'francisco.':<br>1, 'jimmy': 1, 'shot' ...</td>\n",
       "    </tr>\n",
       "    <tr>\n",
       "        <td style=\"padding-left: 1em; padding-right: 1em; text-align: center; vertical-align: top\">0</td>\n",
       "        <td style=\"padding-left: 1em; padding-right: 1em; text-align: center; vertical-align: top\">3</td>\n",
       "        <td style=\"padding-left: 1em; padding-right: 1em; text-align: center; vertical-align: top\">Unclear</td>\n",
       "        <td style=\"padding-left: 1em; padding-right: 1em; text-align: center; vertical-align: top\">White</td>\n",
       "        <td style=\"padding-left: 1em; padding-right: 1em; text-align: center; vertical-align: top\">M</td>\n",
       "        <td style=\"padding-left: 1em; padding-right: 1em; text-align: center; vertical-align: top\">None</td>\n",
       "        <td style=\"padding-left: 1em; padding-right: 1em; text-align: center; vertical-align: top\">None</td>\n",
       "        <td style=\"padding-left: 1em; padding-right: 1em; text-align: center; vertical-align: top\">{'and': 1, 'stair,': 1,<br>'shot': 1, 'fired': 1, ...</td>\n",
       "    </tr>\n",
       "    <tr>\n",
       "        <td style=\"padding-left: 1em; padding-right: 1em; text-align: center; vertical-align: top\">0</td>\n",
       "        <td style=\"padding-left: 1em; padding-right: 1em; text-align: center; vertical-align: top\">5</td>\n",
       "        <td style=\"padding-left: 1em; padding-right: 1em; text-align: center; vertical-align: top\">Unclear</td>\n",
       "        <td style=\"padding-left: 1em; padding-right: 1em; text-align: center; vertical-align: top\"></td>\n",
       "        <td style=\"padding-left: 1em; padding-right: 1em; text-align: center; vertical-align: top\">M</td>\n",
       "        <td style=\"padding-left: 1em; padding-right: 1em; text-align: center; vertical-align: top\">None</td>\n",
       "        <td style=\"padding-left: 1em; padding-right: 1em; text-align: center; vertical-align: top\">None</td>\n",
       "        <td style=\"padding-left: 1em; padding-right: 1em; text-align: center; vertical-align: top\">{'and': 1, 'one-year': 1,<br>'company,': 1, 'shot' ...</td>\n",
       "    </tr>\n",
       "    <tr>\n",
       "        <td style=\"padding-left: 1em; padding-right: 1em; text-align: center; vertical-align: top\">0</td>\n",
       "        <td style=\"padding-left: 1em; padding-right: 1em; text-align: center; vertical-align: top\">3</td>\n",
       "        <td style=\"padding-left: 1em; padding-right: 1em; text-align: center; vertical-align: top\">Yes</td>\n",
       "        <td style=\"padding-left: 1em; padding-right: 1em; text-align: center; vertical-align: top\">White</td>\n",
       "        <td style=\"padding-left: 1em; padding-right: 1em; text-align: center; vertical-align: top\">M</td>\n",
       "        <td style=\"padding-left: 1em; padding-right: 1em; text-align: center; vertical-align: top\">None</td>\n",
       "        <td style=\"padding-left: 1em; padding-right: 1em; text-align: center; vertical-align: top\">None</td>\n",
       "        <td style=\"padding-left: 1em; padding-right: 1em; text-align: center; vertical-align: top\">{'and': 3, 'thomas': 1,<br>'shot': 2, 'nursing': 1, ...</td>\n",
       "    </tr>\n",
       "    <tr>\n",
       "        <td style=\"padding-left: 1em; padding-right: 1em; text-align: center; vertical-align: top\">0</td>\n",
       "        <td style=\"padding-left: 1em; padding-right: 1em; text-align: center; vertical-align: top\">3</td>\n",
       "        <td style=\"padding-left: 1em; padding-right: 1em; text-align: center; vertical-align: top\">Unclear</td>\n",
       "        <td style=\"padding-left: 1em; padding-right: 1em; text-align: center; vertical-align: top\">Black</td>\n",
       "        <td style=\"padding-left: 1em; padding-right: 1em; text-align: center; vertical-align: top\">M</td>\n",
       "        <td style=\"padding-left: 1em; padding-right: 1em; text-align: center; vertical-align: top\">None</td>\n",
       "        <td style=\"padding-left: 1em; padding-right: 1em; text-align: center; vertical-align: top\">None</td>\n",
       "        <td style=\"padding-left: 1em; padding-right: 1em; text-align: center; vertical-align: top\">{'and': 1, 'muhammad,':<br>2, 'links': 1, 'ali': 1, ...</td>\n",
       "    </tr>\n",
       "    <tr>\n",
       "        <td style=\"padding-left: 1em; padding-right: 1em; text-align: center; vertical-align: top\">6</td>\n",
       "        <td style=\"padding-left: 1em; padding-right: 1em; text-align: center; vertical-align: top\">11</td>\n",
       "        <td style=\"padding-left: 1em; padding-right: 1em; text-align: center; vertical-align: top\">Yes</td>\n",
       "        <td style=\"padding-left: 1em; padding-right: 1em; text-align: center; vertical-align: top\">Latino</td>\n",
       "        <td style=\"padding-left: 1em; padding-right: 1em; text-align: center; vertical-align: top\">M</td>\n",
       "        <td style=\"padding-left: 1em; padding-right: 1em; text-align: center; vertical-align: top\">None</td>\n",
       "        <td style=\"padding-left: 1em; padding-right: 1em; text-align: center; vertical-align: top\">None</td>\n",
       "        <td style=\"padding-left: 1em; padding-right: 1em; text-align: center; vertical-align: top\">{'and': 1, 'claim': 1,<br>'aprehended': 1, 'in' ...</td>\n",
       "    </tr>\n",
       "    <tr>\n",
       "        <td style=\"padding-left: 1em; padding-right: 1em; text-align: center; vertical-align: top\">0</td>\n",
       "        <td style=\"padding-left: 1em; padding-right: 1em; text-align: center; vertical-align: top\">5</td>\n",
       "        <td style=\"padding-left: 1em; padding-right: 1em; text-align: center; vertical-align: top\">Yes</td>\n",
       "        <td style=\"padding-left: 1em; padding-right: 1em; text-align: center; vertical-align: top\"></td>\n",
       "        <td style=\"padding-left: 1em; padding-right: 1em; text-align: center; vertical-align: top\">M</td>\n",
       "        <td style=\"padding-left: 1em; padding-right: 1em; text-align: center; vertical-align: top\">None</td>\n",
       "        <td style=\"padding-left: 1em; padding-right: 1em; text-align: center; vertical-align: top\">None</td>\n",
       "        <td style=\"padding-left: 1em; padding-right: 1em; text-align: center; vertical-align: top\">{'and': 2, 'residence.':<br>1, 'near': 1, 'at': 1, ...</td>\n",
       "    </tr>\n",
       "    <tr>\n",
       "        <td style=\"padding-left: 1em; padding-right: 1em; text-align: center; vertical-align: top\">3</td>\n",
       "        <td style=\"padding-left: 1em; padding-right: 1em; text-align: center; vertical-align: top\">6</td>\n",
       "        <td style=\"padding-left: 1em; padding-right: 1em; text-align: center; vertical-align: top\">Yes</td>\n",
       "        <td style=\"padding-left: 1em; padding-right: 1em; text-align: center; vertical-align: top\">Black</td>\n",
       "        <td style=\"padding-left: 1em; padding-right: 1em; text-align: center; vertical-align: top\">M</td>\n",
       "        <td style=\"padding-left: 1em; padding-right: 1em; text-align: center; vertical-align: top\">None</td>\n",
       "        <td style=\"padding-left: 1em; padding-right: 1em; text-align: center; vertical-align: top\">None</td>\n",
       "        <td style=\"padding-left: 1em; padding-right: 1em; text-align: center; vertical-align: top\">{'and': 1, 'shoot-out':<br>1, 'gavin': 1, 'three': ...</td>\n",
       "    </tr>\n",
       "    <tr>\n",
       "        <td style=\"padding-left: 1em; padding-right: 1em; text-align: center; vertical-align: top\">11</td>\n",
       "        <td style=\"padding-left: 1em; padding-right: 1em; text-align: center; vertical-align: top\">16</td>\n",
       "        <td style=\"padding-left: 1em; padding-right: 1em; text-align: center; vertical-align: top\">Unclear</td>\n",
       "        <td style=\"padding-left: 1em; padding-right: 1em; text-align: center; vertical-align: top\">Black</td>\n",
       "        <td style=\"padding-left: 1em; padding-right: 1em; text-align: center; vertical-align: top\">M</td>\n",
       "        <td style=\"padding-left: 1em; padding-right: 1em; text-align: center; vertical-align: top\">None</td>\n",
       "        <td style=\"padding-left: 1em; padding-right: 1em; text-align: center; vertical-align: top\">None</td>\n",
       "        <td style=\"padding-left: 1em; padding-right: 1em; text-align: center; vertical-align: top\">{'and': 1, 'lives': 1,<br>'two': 1, 'as': 2, ...</td>\n",
       "    </tr>\n",
       "</table>\n",
       "<table frame=\"box\" rules=\"cols\">\n",
       "    <tr>\n",
       "        <th style=\"padding-left: 1em; padding-right: 1em; text-align: center\">tfidf</th>\n",
       "    </tr>\n",
       "    <tr>\n",
       "        <td style=\"padding-left: 1em; padding-right: 1em; text-align: center; vertical-align: top\">{}</td>\n",
       "    </tr>\n",
       "    <tr>\n",
       "        <td style=\"padding-left: 1em; padding-right: 1em; text-align: center; vertical-align: top\">{'and':<br>0.1919883835344143, ...</td>\n",
       "    </tr>\n",
       "    <tr>\n",
       "        <td style=\"padding-left: 1em; padding-right: 1em; text-align: center; vertical-align: top\">{'and':<br>0.1919883835344143, ...</td>\n",
       "    </tr>\n",
       "    <tr>\n",
       "        <td style=\"padding-left: 1em; padding-right: 1em; text-align: center; vertical-align: top\">{'and':<br>0.1919883835344143, ' ...</td>\n",
       "    </tr>\n",
       "    <tr>\n",
       "        <td style=\"padding-left: 1em; padding-right: 1em; text-align: center; vertical-align: top\">{'and':<br>0.5759651506032429, ...</td>\n",
       "    </tr>\n",
       "    <tr>\n",
       "        <td style=\"padding-left: 1em; padding-right: 1em; text-align: center; vertical-align: top\">{'and':<br>0.1919883835344143, ...</td>\n",
       "    </tr>\n",
       "    <tr>\n",
       "        <td style=\"padding-left: 1em; padding-right: 1em; text-align: center; vertical-align: top\">{'and':<br>0.1919883835344143, ...</td>\n",
       "    </tr>\n",
       "    <tr>\n",
       "        <td style=\"padding-left: 1em; padding-right: 1em; text-align: center; vertical-align: top\">{'and':<br>0.3839767670688286, ...</td>\n",
       "    </tr>\n",
       "    <tr>\n",
       "        <td style=\"padding-left: 1em; padding-right: 1em; text-align: center; vertical-align: top\">{'and':<br>0.1919883835344143, ...</td>\n",
       "    </tr>\n",
       "    <tr>\n",
       "        <td style=\"padding-left: 1em; padding-right: 1em; text-align: center; vertical-align: top\">{'and':<br>0.1919883835344143, ...</td>\n",
       "    </tr>\n",
       "</table>\n",
       "[10 rows x 15 columns]<br/>\n",
       "</div>"
      ],
      "text/plain": [
       "Columns:\n",
       "\tS#\tint\n",
       "\tTitle\tstr\n",
       "\tLocation\tstr\n",
       "\tDate\tstr\n",
       "\tSummary\tstr\n",
       "\tFatalities\tint\n",
       "\tInjured\tint\n",
       "\tTotal victims\tint\n",
       "\tMental Health Issues\tstr\n",
       "\tRace\tstr\n",
       "\tGender\tstr\n",
       "\tLatitude\tfloat\n",
       "\tLongitude\tfloat\n",
       "\tword_count\tdict\n",
       "\ttfidf\tdict\n",
       "\n",
       "Rows: 10\n",
       "\n",
       "Data:\n",
       "+----+-------------------------------+--------------------------+-----------+\n",
       "| S# |             Title             |         Location         |    Date   |\n",
       "+----+-------------------------------+--------------------------+-----------+\n",
       "| 1  | Las Vegas Strip mass shooting |      Las Vegas, NV       | 10/1/2017 |\n",
       "| 2  |   San Francisco UPS shooting  |    San Francisco, CA     | 6/14/2017 |\n",
       "| 3  | Pennsylvania supermarket s... |     Tunkhannock, PA      |  6/7/2017 |\n",
       "| 4  | Florida awning manufacture... |     Orlando, Florida     |  6/5/2017 |\n",
       "| 5  | Rural Ohio nursing home sh... |    Kirkersville, Ohio    | 5/12/2017 |\n",
       "| 6  |    Fresno downtown shooting   |    Fresno, California    | 4/18/2017 |\n",
       "| 7  | Fort Lauderdale airport sh... | Fort Lauderdale, Florida |  1/6/2017 |\n",
       "| 8  |     Cascade Mall shooting     |      Burlington, WA      | 9/23/2016 |\n",
       "| 9  |  Baton Rouge police shooting  |     Baton Rouge, LA      | 7/17/2016 |\n",
       "| 10 |     Dallas police shooting    |      Dallas, Texas       |  7/7/2016 |\n",
       "+----+-------------------------------+--------------------------+-----------+\n",
       "+-------------------------------+------------+---------+---------------+----------------------+\n",
       "|            Summary            | Fatalities | Injured | Total victims | Mental Health Issues |\n",
       "+-------------------------------+------------+---------+---------------+----------------------+\n",
       "|                               |     58     |   515   |      573      |       Unclear        |\n",
       "| Jimmy Lam, 38, fatally sho... |     3      |    2    |       5       |         Yes          |\n",
       "| Randy Stair, a 24-year-old... |     3      |    0    |       3       |       Unclear        |\n",
       "| John Robert Neumann, Jr., ... |     5      |    0    |       5       |       Unclear        |\n",
       "| Thomas Hartless, 43, shot ... |     3      |    0    |       3       |         Yes          |\n",
       "| Kori Ali Muhammad, 39, ope... |     3      |    0    |       3       |       Unclear        |\n",
       "| Esteban Santiago, 26, flew... |     5      |    6    |       11      |         Yes          |\n",
       "| Arcan Cetin, 20, killed a ... |     5      |    0    |       5       |         Yes          |\n",
       "| Gavin Long, a former Marin... |     3      |    3    |       6       |         Yes          |\n",
       "| Micah Xavier Johnson, a 25... |     5      |    11   |       16      |       Unclear        |\n",
       "+-------------------------------+------------+---------+---------------+----------------------+\n",
       "+--------+--------+----------+-----------+-------------------------------+\n",
       "|  Race  | Gender | Latitude | Longitude |           word_count          |\n",
       "+--------+--------+----------+-----------+-------------------------------+\n",
       "|        |        |   None   |    None   |               {}              |\n",
       "| Asian  |   M    |   None   |    None   | {'and': 1, 'francisco.': 1... |\n",
       "| White  |   M    |   None   |    None   | {'and': 1, 'stair,': 1, 's... |\n",
       "|        |   M    |   None   |    None   | {'and': 1, 'one-year': 1, ... |\n",
       "| White  |   M    |   None   |    None   | {'and': 3, 'thomas': 1, 's... |\n",
       "| Black  |   M    |   None   |    None   | {'and': 1, 'muhammad,': 2,... |\n",
       "| Latino |   M    |   None   |    None   | {'and': 1, 'claim': 1, 'ap... |\n",
       "|        |   M    |   None   |    None   | {'and': 2, 'residence.': 1... |\n",
       "| Black  |   M    |   None   |    None   | {'and': 1, 'shoot-out': 1,... |\n",
       "| Black  |   M    |   None   |    None   | {'and': 1, 'lives': 1, 'tw... |\n",
       "+--------+--------+----------+-----------+-------------------------------+\n",
       "+-------------------------------+\n",
       "|             tfidf             |\n",
       "+-------------------------------+\n",
       "|               {}              |\n",
       "| {'and': 0.1919883835344143... |\n",
       "| {'and': 0.1919883835344143... |\n",
       "| {'and': 0.1919883835344143... |\n",
       "| {'and': 0.5759651506032429... |\n",
       "| {'and': 0.1919883835344143... |\n",
       "| {'and': 0.1919883835344143... |\n",
       "| {'and': 0.3839767670688286... |\n",
       "| {'and': 0.1919883835344143... |\n",
       "| {'and': 0.1919883835344143... |\n",
       "+-------------------------------+\n",
       "[10 rows x 15 columns]"
      ]
     },
     "execution_count": 11,
     "metadata": {},
     "output_type": "execute_result"
    }
   ],
   "source": [
    "data['tfidf'] = tfidf\n",
    "data.head()"
   ]
  },
  {
   "cell_type": "markdown",
   "metadata": {},
   "source": [
    "7. Используя graphlab.SFrame.stack сформировать новую таблицу tf_idf со столбцами  ['word','tfidf'] на основе столбца tfidf из пункта 6."
   ]
  },
  {
   "cell_type": "code",
   "execution_count": 13,
   "metadata": {
    "collapsed": false
   },
   "outputs": [
    {
     "data": {
      "text/html": [
       "<div style=\"max-height:1000px;max-width:1500px;overflow:auto;\"><table frame=\"box\" rules=\"cols\">\n",
       "    <tr>\n",
       "        <th style=\"padding-left: 1em; padding-right: 1em; text-align: center\">word</th>\n",
       "        <th style=\"padding-left: 1em; padding-right: 1em; text-align: center\">tfidf</th>\n",
       "    </tr>\n",
       "    <tr>\n",
       "        <td style=\"padding-left: 1em; padding-right: 1em; text-align: center; vertical-align: top\">None</td>\n",
       "        <td style=\"padding-left: 1em; padding-right: 1em; text-align: center; vertical-align: top\">None</td>\n",
       "    </tr>\n",
       "    <tr>\n",
       "        <td style=\"padding-left: 1em; padding-right: 1em; text-align: center; vertical-align: top\">the</td>\n",
       "        <td style=\"padding-left: 1em; padding-right: 1em; text-align: center; vertical-align: top\">0.219983991024</td>\n",
       "    </tr>\n",
       "    <tr>\n",
       "        <td style=\"padding-left: 1em; padding-right: 1em; text-align: center; vertical-align: top\">to</td>\n",
       "        <td style=\"padding-left: 1em; padding-right: 1em; text-align: center; vertical-align: top\">0.922639959553</td>\n",
       "    </tr>\n",
       "    <tr>\n",
       "        <td style=\"padding-left: 1em; padding-right: 1em; text-align: center; vertical-align: top\">responded</td>\n",
       "        <td style=\"padding-left: 1em; padding-right: 1em; text-align: center; vertical-align: top\">5.28573858434</td>\n",
       "    </tr>\n",
       "    <tr>\n",
       "        <td style=\"padding-left: 1em; padding-right: 1em; text-align: center; vertical-align: top\">officers</td>\n",
       "        <td style=\"padding-left: 1em; padding-right: 1em; text-align: center; vertical-align: top\">3.14567242084</td>\n",
       "    </tr>\n",
       "    <tr>\n",
       "        <td style=\"padding-left: 1em; padding-right: 1em; text-align: center; vertical-align: top\">enforcement</td>\n",
       "        <td style=\"padding-left: 1em; padding-right: 1em; text-align: center; vertical-align: top\">3.89944422322</td>\n",
       "    </tr>\n",
       "    <tr>\n",
       "        <td style=\"padding-left: 1em; padding-right: 1em; text-align: center; vertical-align: top\">himself</td>\n",
       "        <td style=\"padding-left: 1em; padding-right: 1em; text-align: center; vertical-align: top\">2.57768838324</td>\n",
       "    </tr>\n",
       "    <tr>\n",
       "        <td style=\"padding-left: 1em; padding-right: 1em; text-align: center; vertical-align: top\">a</td>\n",
       "        <td style=\"padding-left: 1em; padding-right: 1em; text-align: center; vertical-align: top\">0.129560984954</td>\n",
       "    </tr>\n",
       "    <tr>\n",
       "        <td style=\"padding-left: 1em; padding-right: 1em; text-align: center; vertical-align: top\">law</td>\n",
       "        <td style=\"padding-left: 1em; padding-right: 1em; text-align: center; vertical-align: top\">3.41393640744</td>\n",
       "    </tr>\n",
       "    <tr>\n",
       "        <td style=\"padding-left: 1em; padding-right: 1em; text-align: center; vertical-align: top\">in</td>\n",
       "        <td style=\"padding-left: 1em; padding-right: 1em; text-align: center; vertical-align: top\">0.373083698605</td>\n",
       "    </tr>\n",
       "</table>\n",
       "[14222 rows x 2 columns]<br/>Note: Only the head of the SFrame is printed.<br/>You can use print_rows(num_rows=m, num_columns=n) to print more rows and columns.\n",
       "</div>"
      ],
      "text/plain": [
       "Columns:\n",
       "\tword\tstr\n",
       "\ttfidf\tfloat\n",
       "\n",
       "Rows: 14222\n",
       "\n",
       "Data:\n",
       "+-------------+----------------+\n",
       "|     word    |     tfidf      |\n",
       "+-------------+----------------+\n",
       "|     None    |      None      |\n",
       "|     the     | 0.219983991024 |\n",
       "|      to     | 0.922639959553 |\n",
       "|  responded  | 5.28573858434  |\n",
       "|   officers  | 3.14567242084  |\n",
       "| enforcement | 3.89944422322  |\n",
       "|   himself   | 2.57768838324  |\n",
       "|      a      | 0.129560984954 |\n",
       "|     law     | 3.41393640744  |\n",
       "|      in     | 0.373083698605 |\n",
       "+-------------+----------------+\n",
       "[14222 rows x 2 columns]\n",
       "Note: Only the head of the SFrame is printed.\n",
       "You can use print_rows(num_rows=m, num_columns=n) to print more rows and columns."
      ]
     },
     "execution_count": 13,
     "metadata": {},
     "output_type": "execute_result"
    }
   ],
   "source": [
    "tf_idf_table = data[['tfidf']].stack('tfidf', new_column_name = ['word','tfidf'])\n",
    "tf_idf_table"
   ]
  },
  {
   "cell_type": "markdown",
   "metadata": {},
   "source": [
    "8. Отсортировать их по убыванию значения TF-IDF."
   ]
  },
  {
   "cell_type": "code",
   "execution_count": 14,
   "metadata": {
    "collapsed": false
   },
   "outputs": [
    {
     "data": {
      "text/html": [
       "<div style=\"max-height:1000px;max-width:1500px;overflow:auto;\"><table frame=\"box\" rules=\"cols\">\n",
       "    <tr>\n",
       "        <th style=\"padding-left: 1em; padding-right: 1em; text-align: center\">word</th>\n",
       "        <th style=\"padding-left: 1em; padding-right: 1em; text-align: center\">tfidf</th>\n",
       "    </tr>\n",
       "    <tr>\n",
       "        <td style=\"padding-left: 1em; padding-right: 1em; text-align: center; vertical-align: top\">trooper</td>\n",
       "        <td style=\"padding-left: 1em; padding-right: 1em; text-align: center; vertical-align: top\">23.9155430596</td>\n",
       "    </tr>\n",
       "    <tr>\n",
       "        <td style=\"padding-left: 1em; padding-right: 1em; text-align: center; vertical-align: top\">session</td>\n",
       "        <td style=\"padding-left: 1em; padding-right: 1em; text-align: center; vertical-align: top\">17.9366572947</td>\n",
       "    </tr>\n",
       "    <tr>\n",
       "        <td style=\"padding-left: 1em; padding-right: 1em; text-align: center; vertical-align: top\">protesters</td>\n",
       "        <td style=\"padding-left: 1em; padding-right: 1em; text-align: center; vertical-align: top\">17.9366572947</td>\n",
       "    </tr>\n",
       "    <tr>\n",
       "        <td style=\"padding-left: 1em; padding-right: 1em; text-align: center; vertical-align: top\">players</td>\n",
       "        <td style=\"padding-left: 1em; padding-right: 1em; text-align: center; vertical-align: top\">17.9366572947</td>\n",
       "    </tr>\n",
       "    <tr>\n",
       "        <td style=\"padding-left: 1em; padding-right: 1em; text-align: center; vertical-align: top\">isla</td>\n",
       "        <td style=\"padding-left: 1em; padding-right: 1em; text-align: center; vertical-align: top\">15.857215753</td>\n",
       "    </tr>\n",
       "    <tr>\n",
       "        <td style=\"padding-left: 1em; padding-right: 1em; text-align: center; vertical-align: top\">ex-wife's</td>\n",
       "        <td style=\"padding-left: 1em; padding-right: 1em; text-align: center; vertical-align: top\">15.857215753</td>\n",
       "    </tr>\n",
       "    <tr>\n",
       "        <td style=\"padding-left: 1em; padding-right: 1em; text-align: center; vertical-align: top\">whom</td>\n",
       "        <td style=\"padding-left: 1em; padding-right: 1em; text-align: center; vertical-align: top\">15.857215753</td>\n",
       "    </tr>\n",
       "    <tr>\n",
       "        <td style=\"padding-left: 1em; padding-right: 1em; text-align: center; vertical-align: top\">she</td>\n",
       "        <td style=\"padding-left: 1em; padding-right: 1em; text-align: center; vertical-align: top\">15.5977768929</td>\n",
       "    </tr>\n",
       "    <tr>\n",
       "        <td style=\"padding-left: 1em; padding-right: 1em; text-align: center; vertical-align: top\">bus</td>\n",
       "        <td style=\"padding-left: 1em; padding-right: 1em; text-align: center; vertical-align: top\">13.7777742113</td>\n",
       "    </tr>\n",
       "    <tr>\n",
       "        <td style=\"padding-left: 1em; padding-right: 1em; text-align: center; vertical-align: top\">station</td>\n",
       "        <td style=\"padding-left: 1em; padding-right: 1em; text-align: center; vertical-align: top\">13.7777742113</td>\n",
       "    </tr>\n",
       "</table>\n",
       "[14222 rows x 2 columns]<br/>Note: Only the head of the SFrame is printed.<br/>You can use print_rows(num_rows=m, num_columns=n) to print more rows and columns.\n",
       "</div>"
      ],
      "text/plain": [
       "Columns:\n",
       "\tword\tstr\n",
       "\ttfidf\tfloat\n",
       "\n",
       "Rows: 14222\n",
       "\n",
       "Data:\n",
       "+------------+---------------+\n",
       "|    word    |     tfidf     |\n",
       "+------------+---------------+\n",
       "|  trooper   | 23.9155430596 |\n",
       "|  session   | 17.9366572947 |\n",
       "| protesters | 17.9366572947 |\n",
       "|  players   | 17.9366572947 |\n",
       "|    isla    |  15.857215753 |\n",
       "| ex-wife's  |  15.857215753 |\n",
       "|    whom    |  15.857215753 |\n",
       "|    she     | 15.5977768929 |\n",
       "|    bus     | 13.7777742113 |\n",
       "|  station   | 13.7777742113 |\n",
       "+------------+---------------+\n",
       "[14222 rows x 2 columns]\n",
       "Note: Only the head of the SFrame is printed.\n",
       "You can use print_rows(num_rows=m, num_columns=n) to print more rows and columns."
      ]
     },
     "execution_count": 14,
     "metadata": {},
     "output_type": "execute_result"
    }
   ],
   "source": [
    "tf_idf_table.sort('tfidf',ascending=False)"
   ]
  },
  {
   "cell_type": "markdown",
   "metadata": {},
   "source": [
    "9. Выбрать 3 записи из таблицы data (вывести данные) и с помощью функции graphlab.toolkits.distances.cosine подсчитать между ними (попарно) расстояние на основе:\n",
    "word_count\n",
    "tfidf"
   ]
  },
  {
   "cell_type": "code",
   "execution_count": 15,
   "metadata": {
    "collapsed": true
   },
   "outputs": [],
   "source": [
    "dallas = data[data['Title'] == 'Dallas police shooting']\n",
    "detroit = data[data['Title'] == 'Detroit Strip Club Shootout']\n",
    "los_angeles = data[data['Title'] == 'Los Angeles Drive-by']"
   ]
  },
  {
   "cell_type": "code",
   "execution_count": 16,
   "metadata": {
    "collapsed": false
   },
   "outputs": [
    {
     "data": {
      "text/plain": [
       "0.8492443277111181"
      ]
     },
     "execution_count": 16,
     "metadata": {},
     "output_type": "execute_result"
    }
   ],
   "source": [
    "graphlab.distances.cosine(dallas['word_count'][0],detroit['word_count'][0])"
   ]
  },
  {
   "cell_type": "code",
   "execution_count": 17,
   "metadata": {
    "collapsed": false
   },
   "outputs": [
    {
     "data": {
      "text/plain": [
       "0.999728646960226"
      ]
     },
     "execution_count": 17,
     "metadata": {},
     "output_type": "execute_result"
    }
   ],
   "source": [
    "graphlab.distances.cosine(dallas['tfidf'][0],detroit['tfidf'][0])"
   ]
  },
  {
   "cell_type": "code",
   "execution_count": 18,
   "metadata": {
    "collapsed": false
   },
   "outputs": [
    {
     "data": {
      "text/plain": [
       "0.7127865210482236"
      ]
     },
     "execution_count": 18,
     "metadata": {},
     "output_type": "execute_result"
    }
   ],
   "source": [
    "graphlab.distances.cosine(dallas['word_count'][0],los_angeles['word_count'][0])"
   ]
  },
  {
   "cell_type": "code",
   "execution_count": 19,
   "metadata": {
    "collapsed": false
   },
   "outputs": [
    {
     "data": {
      "text/plain": [
       "0.996012539051244"
      ]
     },
     "execution_count": 19,
     "metadata": {},
     "output_type": "execute_result"
    }
   ],
   "source": [
    "graphlab.distances.cosine(dallas['tfidf'][0],los_angeles['tfidf'][0])"
   ]
  },
  {
   "cell_type": "code",
   "execution_count": 20,
   "metadata": {
    "collapsed": false
   },
   "outputs": [
    {
     "data": {
      "text/plain": [
       "0.8298965456400571"
      ]
     },
     "execution_count": 20,
     "metadata": {},
     "output_type": "execute_result"
    }
   ],
   "source": [
    "graphlab.distances.cosine(los_angeles['word_count'][0],detroit['word_count'][0])"
   ]
  },
  {
   "cell_type": "code",
   "execution_count": 21,
   "metadata": {
    "collapsed": false
   },
   "outputs": [
    {
     "data": {
      "text/plain": [
       "0.997367006320778"
      ]
     },
     "execution_count": 21,
     "metadata": {},
     "output_type": "execute_result"
    }
   ],
   "source": [
    "graphlab.distances.cosine(los_angeles['tfidf'][0],detroit['tfidf'][0])"
   ]
  },
  {
   "cell_type": "markdown",
   "metadata": {},
   "source": [
    "distances.cosine dallas - detroit (word_count) is largest.\n",
    "distances.cosine dallas - detroit (tfidf) is largest."
   ]
  }
 ],
 "metadata": {
  "kernelspec": {
   "display_name": "Python 2",
   "language": "python",
   "name": "python2"
  },
  "language_info": {
   "codemirror_mode": {
    "name": "ipython",
    "version": 2
   },
   "file_extension": ".py",
   "mimetype": "text/x-python",
   "name": "python",
   "nbconvert_exporter": "python",
   "pygments_lexer": "ipython2",
   "version": "2.7.11"
  }
 },
 "nbformat": 4,
 "nbformat_minor": 0
}
